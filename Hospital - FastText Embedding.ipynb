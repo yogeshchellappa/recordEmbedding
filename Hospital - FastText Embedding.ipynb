{
 "cells": [
  {
   "cell_type": "markdown",
   "metadata": {},
   "source": [
    "# Record Embedding"
   ]
  },
  {
   "cell_type": "code",
   "execution_count": 1,
   "metadata": {},
   "outputs": [],
   "source": [
    "import pandas as pd\n",
    "import numpy as np\n",
    "import os\n",
    "import calendar\n",
    "from sklearn.manifold import TSNE\n",
    "import matplotlib.pyplot as plt\n",
    "%matplotlib inline"
   ]
  },
  {
   "cell_type": "markdown",
   "metadata": {},
   "source": [
    "## Embedding using fastText\n",
    "Details here: https://fasttext.cc/"
   ]
  },
  {
   "cell_type": "code",
   "execution_count": 12,
   "metadata": {},
   "outputs": [],
   "source": [
    "import warnings\n",
    "warnings.filterwarnings('ignore')\n",
    "\n",
    "import gensim\n",
    "from gensim.models import FastText"
   ]
  },
  {
   "cell_type": "markdown",
   "metadata": {},
   "source": [
    "Convert each tuple into a row"
   ]
  },
  {
   "cell_type": "code",
   "execution_count": 13,
   "metadata": {},
   "outputs": [
    {
     "data": {
      "text/html": [
       "<div>\n",
       "<style scoped>\n",
       "    .dataframe tbody tr th:only-of-type {\n",
       "        vertical-align: middle;\n",
       "    }\n",
       "\n",
       "    .dataframe tbody tr th {\n",
       "        vertical-align: top;\n",
       "    }\n",
       "\n",
       "    .dataframe thead th {\n",
       "        text-align: right;\n",
       "    }\n",
       "</style>\n",
       "<table border=\"1\" class=\"dataframe\">\n",
       "  <thead>\n",
       "    <tr style=\"text-align: right;\">\n",
       "      <th></th>\n",
       "      <th>ProviderNumber</th>\n",
       "      <th>HospitalName</th>\n",
       "      <th>Address1</th>\n",
       "      <th>City</th>\n",
       "      <th>ZipCode</th>\n",
       "      <th>CountyName</th>\n",
       "      <th>PhoneNumber</th>\n",
       "    </tr>\n",
       "  </thead>\n",
       "  <tbody>\n",
       "    <tr>\n",
       "      <th>0</th>\n",
       "      <td>10010.0</td>\n",
       "      <td>MARSHALL MEDICAL CENTER NORTH</td>\n",
       "      <td>8000 ALABAMA HIGHWAY 69</td>\n",
       "      <td>GUNTERSVILLE</td>\n",
       "      <td>35976.0</td>\n",
       "      <td>MARSHALL</td>\n",
       "      <td>2565718000.0</td>\n",
       "    </tr>\n",
       "    <tr>\n",
       "      <th>1</th>\n",
       "      <td>10018.0</td>\n",
       "      <td>CALLAHAN EYE FOUNDATION HOSPITAL</td>\n",
       "      <td>1720 UNIVERSITY BLVD</td>\n",
       "      <td>BIRMINGHAM</td>\n",
       "      <td>35233.0</td>\n",
       "      <td>JEFFERSON</td>\n",
       "      <td>2053258100.0</td>\n",
       "    </tr>\n",
       "    <tr>\n",
       "      <th>2</th>\n",
       "      <td>10005.0</td>\n",
       "      <td>MARSHALL MEDICAL CENTER SOUTH</td>\n",
       "      <td>2505 U S HIGHWAY 431 NORTH</td>\n",
       "      <td>BOAZ</td>\n",
       "      <td>35957.0</td>\n",
       "      <td>MARSHALL</td>\n",
       "      <td>2565938310.0</td>\n",
       "    </tr>\n",
       "  </tbody>\n",
       "</table>\n",
       "</div>"
      ],
      "text/plain": [
       "  ProviderNumber                      HospitalName  \\\n",
       "0        10010.0     MARSHALL MEDICAL CENTER NORTH   \n",
       "1        10018.0  CALLAHAN EYE FOUNDATION HOSPITAL   \n",
       "2        10005.0     MARSHALL MEDICAL CENTER SOUTH   \n",
       "\n",
       "                     Address1          City  ZipCode CountyName   PhoneNumber  \n",
       "0     8000 ALABAMA HIGHWAY 69  GUNTERSVILLE  35976.0   MARSHALL  2565718000.0  \n",
       "1        1720 UNIVERSITY BLVD    BIRMINGHAM  35233.0  JEFFERSON  2053258100.0  \n",
       "2  2505 U S HIGHWAY 431 NORTH          BOAZ  35957.0   MARSHALL  2565938310.0  "
      ]
     },
     "execution_count": 13,
     "metadata": {},
     "output_type": "execute_result"
    }
   ],
   "source": [
    "\n",
    "df = pd.read_csv(\"CleanHospitalDataset.csv\",dtype=object, encoding='utf8')\n",
    "\n",
    "df.drop(columns=['HospitalType','label','State'], axis=1, inplace=True)\n",
    "\n",
    "df.head(3)"
   ]
  },
  {
   "cell_type": "code",
   "execution_count": 17,
   "metadata": {},
   "outputs": [],
   "source": [
    "#training the model with truth data.\n",
    "dfList = df.values.tolist()"
   ]
  },
  {
   "cell_type": "code",
   "execution_count": 15,
   "metadata": {},
   "outputs": [],
   "source": [
    "model_hosp = FastText(combined_hosp, min_count=1, workers=8, iter=100)"
   ]
  },
  {
   "cell_type": "code",
   "execution_count": 19,
   "metadata": {},
   "outputs": [
    {
     "name": "stdout",
     "output_type": "stream",
     "text": [
      "[ 0.20501599 -0.90637624 -0.19707617  1.3782113  -1.6136515  -0.3854171\n",
      " -0.17912316  0.4185217   0.48340234  1.9436541  -0.67605627  0.05028147\n",
      "  0.316969   -0.14625788 -1.2705694  -1.2704169  -0.705782    1.2325826\n",
      " -0.9535617   0.15358111 -0.26257908  1.4792817   1.3962702  -1.4512125\n",
      " -0.75730366 -1.3712227  -1.1575241   1.3924192  -0.24712785  0.22102624\n",
      " -0.18196511  0.34888092  1.8324493  -0.56565124 -0.01769567 -1.563671\n",
      " -0.9356701  -0.30153346 -0.5200628  -1.2506518   0.04837712  1.3793122\n",
      " -1.9816357   2.785144    0.22226502 -2.1033819   1.2067732   1.5316889\n",
      "  0.29582757  0.4462153  -0.4417848   0.522778   -0.1714915  -0.02316815\n",
      " -0.43296877 -1.093296   -0.18407932 -0.9168756  -0.13568361 -0.85137045\n",
      " -1.0593538   0.25733384  0.14758931 -0.14395222  0.41757908  0.19868973\n",
      "  0.83824533 -0.04985938 -0.12798272  0.3953727   1.1199888   2.1829023\n",
      "  0.77256435  0.1890168   1.0624968  -0.57356346  0.08849965 -0.35582712\n",
      " -0.57549155  1.6156797   0.40470976  0.8505683  -0.09950579  0.06371981\n",
      " -1.0280428  -0.1260061   0.6710757   1.2063433   0.347013   -0.76237965\n",
      " -0.65896636  0.03464969  0.8498112  -0.641293   -1.3475262   0.2965774\n",
      "  0.28650078  0.20151065  0.11073113 -1.5229161 ]\n"
     ]
    }
   ],
   "source": [
    "\n",
    "print(model_hosp['GUNTERSVILLE'])\n"
   ]
  },
  {
   "cell_type": "code",
   "execution_count": 20,
   "metadata": {},
   "outputs": [
    {
     "data": {
      "text/plain": [
       "[('HUNTSVILLE', 0.8999367952346802),\n",
       " ('THOMASVILLE', 0.8816444873809814),\n",
       " ('RUSSELLVILLE', 0.8590083122253418),\n",
       " ('PRATTVILLE', 0.8237816095352173),\n",
       " ('8000 ALABAMA HIGHWAY 69', 0.6777997016906738),\n",
       " ('MARSHALL', 0.6725011467933655),\n",
       " ('35976.0', 0.656436562538147),\n",
       " ('101 SIVLEY RD', 0.6378868222236633),\n",
       " ('MARSHALL MEDICAL CENTER NORTH', 0.5982301831245422),\n",
       " ('MADISON', 0.5791708827018738)]"
      ]
     },
     "execution_count": 20,
     "metadata": {},
     "output_type": "execute_result"
    }
   ],
   "source": [
    "model_hosp.most_similar(\"GUNTERSVILLE\")"
   ]
  },
  {
   "cell_type": "code",
   "execution_count": 22,
   "metadata": {},
   "outputs": [],
   "source": [
    "model_hosp.save(\"HospitalFastText.w2v\")"
   ]
  },
  {
   "cell_type": "code",
   "execution_count": null,
   "metadata": {},
   "outputs": [],
   "source": []
  }
 ],
 "metadata": {
  "kernelspec": {
   "display_name": "Python 3",
   "language": "python",
   "name": "python3"
  },
  "language_info": {
   "codemirror_mode": {
    "name": "ipython",
    "version": 3
   },
   "file_extension": ".py",
   "mimetype": "text/x-python",
   "name": "python",
   "nbconvert_exporter": "python",
   "pygments_lexer": "ipython3",
   "version": "3.5.4"
  },
  "toc": {
   "nav_menu": {},
   "number_sections": true,
   "sideBar": true,
   "skip_h1_title": true,
   "title_cell": "Table of Contents",
   "title_sidebar": "Contents",
   "toc_cell": false,
   "toc_position": {},
   "toc_section_display": true,
   "toc_window_display": false
  }
 },
 "nbformat": 4,
 "nbformat_minor": 2
}
