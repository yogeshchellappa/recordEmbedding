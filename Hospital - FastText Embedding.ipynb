{
 "cells": [
  {
   "cell_type": "markdown",
   "metadata": {},
   "source": [
    "# Record Embedding"
   ]
  },
  {
   "cell_type": "code",
   "execution_count": 1,
   "metadata": {},
   "outputs": [],
   "source": [
    "import pandas as pd\n",
    "import numpy as np\n",
    "import os\n",
    "import calendar\n",
    "from sklearn.manifold import TSNE\n",
    "import matplotlib.pyplot as plt\n",
    "%matplotlib inline"
   ]
  },
  {
   "cell_type": "markdown",
   "metadata": {},
   "source": [
    "## Embedding using fastText\n",
    "Details here: https://fasttext.cc/"
   ]
  },
  {
   "cell_type": "code",
   "execution_count": 2,
   "metadata": {},
   "outputs": [],
   "source": [
    "import warnings\n",
    "warnings.filterwarnings('ignore')\n",
    "\n",
    "import gensim\n",
    "from gensim.models import FastText"
   ]
  },
  {
   "cell_type": "markdown",
   "metadata": {},
   "source": [
    "Convert each tuple into a row"
   ]
  },
  {
   "cell_type": "code",
   "execution_count": 3,
   "metadata": {},
   "outputs": [
    {
     "data": {
      "text/html": [
       "<div>\n",
       "<style scoped>\n",
       "    .dataframe tbody tr th:only-of-type {\n",
       "        vertical-align: middle;\n",
       "    }\n",
       "\n",
       "    .dataframe tbody tr th {\n",
       "        vertical-align: top;\n",
       "    }\n",
       "\n",
       "    .dataframe thead th {\n",
       "        text-align: right;\n",
       "    }\n",
       "</style>\n",
       "<table border=\"1\" class=\"dataframe\">\n",
       "  <thead>\n",
       "    <tr style=\"text-align: right;\">\n",
       "      <th></th>\n",
       "      <th>ProviderNumber</th>\n",
       "      <th>HospitalName</th>\n",
       "      <th>Address1</th>\n",
       "      <th>City</th>\n",
       "      <th>ZipCode</th>\n",
       "      <th>CountyName</th>\n",
       "      <th>PhoneNumber</th>\n",
       "      <th>HospitalOwner</th>\n",
       "      <th>Condition</th>\n",
       "      <th>Sample</th>\n",
       "    </tr>\n",
       "  </thead>\n",
       "  <tbody>\n",
       "    <tr>\n",
       "      <th>0</th>\n",
       "      <td>10018</td>\n",
       "      <td>CALLAHAN EYE FOUNDATION HOSPITAL</td>\n",
       "      <td>1720 UNIVERSITY BLVD</td>\n",
       "      <td>BIRMINGHAM</td>\n",
       "      <td>35233</td>\n",
       "      <td>JEFFERSON</td>\n",
       "      <td>2053258100</td>\n",
       "      <td>Voluntary non-profit - Private</td>\n",
       "      <td>Surgical Infection Prevention</td>\n",
       "      <td>0 patients</td>\n",
       "    </tr>\n",
       "    <tr>\n",
       "      <th>1</th>\n",
       "      <td>10018</td>\n",
       "      <td>CALLAHAN EYE FOUNDATION HOSPITAL</td>\n",
       "      <td>1720 UNIVERSITY BLVD</td>\n",
       "      <td>BIRMINGHAM</td>\n",
       "      <td>35233</td>\n",
       "      <td>JEFFERSON</td>\n",
       "      <td>2053258100</td>\n",
       "      <td>Voluntary non-profit - Private</td>\n",
       "      <td>Surgical Infection Prevention</td>\n",
       "      <td>0 patients</td>\n",
       "    </tr>\n",
       "    <tr>\n",
       "      <th>2</th>\n",
       "      <td>10018</td>\n",
       "      <td>CALLAHAN EYE FOUNDATION HOSPITAL</td>\n",
       "      <td>1720 UNIVERSITY BLVD</td>\n",
       "      <td>BIRMINGHAM</td>\n",
       "      <td>35233</td>\n",
       "      <td>JEFFERSON</td>\n",
       "      <td>2053258100</td>\n",
       "      <td>Voluntary non-profit - Private</td>\n",
       "      <td>Surgical Infection Prevention</td>\n",
       "      <td>0 patients</td>\n",
       "    </tr>\n",
       "  </tbody>\n",
       "</table>\n",
       "</div>"
      ],
      "text/plain": [
       "  ProviderNumber                      HospitalName              Address1  \\\n",
       "0          10018  CALLAHAN EYE FOUNDATION HOSPITAL  1720 UNIVERSITY BLVD   \n",
       "1          10018  CALLAHAN EYE FOUNDATION HOSPITAL  1720 UNIVERSITY BLVD   \n",
       "2          10018  CALLAHAN EYE FOUNDATION HOSPITAL  1720 UNIVERSITY BLVD   \n",
       "\n",
       "         City ZipCode CountyName PhoneNumber                   HospitalOwner  \\\n",
       "0  BIRMINGHAM   35233  JEFFERSON  2053258100  Voluntary non-profit - Private   \n",
       "1  BIRMINGHAM   35233  JEFFERSON  2053258100  Voluntary non-profit - Private   \n",
       "2  BIRMINGHAM   35233  JEFFERSON  2053258100  Voluntary non-profit - Private   \n",
       "\n",
       "                       Condition      Sample  \n",
       "0  Surgical Infection Prevention  0 patients  \n",
       "1  Surgical Infection Prevention  0 patients  \n",
       "2  Surgical Infection Prevention  0 patients  "
      ]
     },
     "execution_count": 3,
     "metadata": {},
     "output_type": "execute_result"
    }
   ],
   "source": [
    "\n",
    "df = pd.read_csv('truth_values_1100_tuples.csv',dtype=object, encoding='utf8')\n",
    "\n",
    "#df.drop(columns=['HospitalType','label','State'], axis=1, inplace=True)\n",
    "\n",
    "df.head(3)"
   ]
  },
  {
   "cell_type": "code",
   "execution_count": 4,
   "metadata": {},
   "outputs": [],
   "source": [
    "#training the model with truth data.\n",
    "dfList = df.values.tolist()"
   ]
  },
  {
   "cell_type": "code",
   "execution_count": 5,
   "metadata": {},
   "outputs": [],
   "source": [
    "model_hosp = FastText(dfList, min_count=1, workers=8, iter=1000)"
   ]
  },
  {
   "cell_type": "code",
   "execution_count": 7,
   "metadata": {},
   "outputs": [
    {
     "name": "stdout",
     "output_type": "stream",
     "text": [
      "[ 0.3868617   0.69607383  5.8381414  -6.246944    2.7243836  -4.3296533\n",
      " -0.5728384   3.459748    5.289418   -2.3095605  -0.5598521   2.7876585\n",
      "  3.6267853  -1.6480197  -1.829067    1.7924259  -3.5720034  -0.3342869\n",
      " -2.849676    2.4652643   0.10078572  5.416696   -3.9656262  -2.1932619\n",
      "  0.46910343 -0.5564146   4.010844   -0.8222102   0.29251885  2.5437486\n",
      "  0.9431025  -0.1449454  -1.2305499   2.1063285  -2.3253684   2.5013084\n",
      " -4.3156176  -0.5701436   0.14411531  4.882394    2.9999092   1.9787679\n",
      " -2.2707827   2.4394617   2.7555897  -4.4766293  -1.6525804  -2.7310927\n",
      " -1.1136473  -2.6350126   6.098743    3.750144   -2.2031178  -5.141553\n",
      "  1.0855392  -4.942169   -0.72900605 -2.7966208  -0.40377283  5.2412505\n",
      " -1.9144938   3.7621644   2.1329863   0.76018816 -1.5445209  -1.0018171\n",
      "  3.2956674   2.3024921   1.5802302  -1.7315835  -4.16469    -0.11875655\n",
      " -0.7542351  -3.621624    0.26756647  0.15192151 -2.5057738   1.84575\n",
      " -1.2447925   1.8181789  -3.4177516  -0.4142646  -0.25939965  2.0119486\n",
      "  1.4116583   3.679085    4.889456   -1.7641059   1.6811829   1.4853194\n",
      " -2.4988325  -6.7357135  -1.4203225   0.41958138 -3.579966   -1.8592933\n",
      " -0.6817727   0.63339376 -0.8106085   3.4780478 ]\n"
     ]
    }
   ],
   "source": [
    "\n",
    "print(model_hosp['GUNTERSVILLE'])\n"
   ]
  },
  {
   "cell_type": "code",
   "execution_count": 8,
   "metadata": {},
   "outputs": [
    {
     "data": {
      "text/plain": [
       "[('HUNTSVILLE', 0.8059772849082947),\n",
       " ('THOMASVILLE', 0.7799249291419983),\n",
       " ('PRATTVILLE', 0.7180562615394592),\n",
       " ('RUSSELLVILLE', 0.6759928464889526),\n",
       " ('HARTSELLE', 0.4338175058364868),\n",
       " ('BOAZ', 0.34543365240097046),\n",
       " ('HUNTSVILLE HOSPITAL', 0.31186988949775696),\n",
       " ('DALE', 0.2900911867618561),\n",
       " ('2565718000', 0.2425806224346161),\n",
       " ('MOBILE', 0.2005746215581894)]"
      ]
     },
     "execution_count": 8,
     "metadata": {},
     "output_type": "execute_result"
    }
   ],
   "source": [
    "model_hosp.most_similar(\"GUNTERSVILLE\")"
   ]
  },
  {
   "cell_type": "code",
   "execution_count": 9,
   "metadata": {},
   "outputs": [],
   "source": [
    "model_hosp.save(\"HospitalFastText.w2v\")"
   ]
  },
  {
   "cell_type": "code",
   "execution_count": null,
   "metadata": {},
   "outputs": [],
   "source": []
  }
 ],
 "metadata": {
  "kernelspec": {
   "display_name": "Python 3",
   "language": "python",
   "name": "python3"
  },
  "language_info": {
   "codemirror_mode": {
    "name": "ipython",
    "version": 3
   },
   "file_extension": ".py",
   "mimetype": "text/x-python",
   "name": "python",
   "nbconvert_exporter": "python",
   "pygments_lexer": "ipython3",
   "version": "3.6.4"
  },
  "toc": {
   "nav_menu": {},
   "number_sections": true,
   "sideBar": true,
   "skip_h1_title": true,
   "title_cell": "Table of Contents",
   "title_sidebar": "Contents",
   "toc_cell": false,
   "toc_position": {},
   "toc_section_display": true,
   "toc_window_display": false
  }
 },
 "nbformat": 4,
 "nbformat_minor": 2
}
