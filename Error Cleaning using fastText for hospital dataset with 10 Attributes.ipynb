{
 "cells": [
  {
   "cell_type": "markdown",
   "metadata": {},
   "source": [
    "# Record Embedding"
   ]
  },
  {
   "cell_type": "code",
   "execution_count": 1,
   "metadata": {},
   "outputs": [
    {
     "name": "stderr",
     "output_type": "stream",
     "text": [
      "/anaconda3/lib/python3.6/site-packages/h5py/__init__.py:36: FutureWarning: Conversion of the second argument of issubdtype from `float` to `np.floating` is deprecated. In future, it will be treated as `np.float64 == np.dtype(float).type`.\n",
      "  from ._conv import register_converters as _register_converters\n",
      "Using TensorFlow backend.\n"
     ]
    }
   ],
   "source": [
    "import pandas as pd\n",
    "import numpy as np\n",
    "import os\n",
    "import calendar\n",
    "from sklearn.manifold import TSNE\n",
    "import matplotlib.pyplot as plt\n",
    "from keras.models import load_model\n",
    "import h5py\n",
    "import pickle\n",
    "from keras.preprocessing.text import Tokenizer\n",
    "from keras.preprocessing.sequence import pad_sequences\n",
    "from sklearn import metrics\n",
    "\n",
    "%matplotlib inline"
   ]
  },
  {
   "cell_type": "markdown",
   "metadata": {},
   "source": [
    "## Embedding using fastText\n",
    "Details here: https://fasttext.cc/"
   ]
  },
  {
   "cell_type": "code",
   "execution_count": 2,
   "metadata": {},
   "outputs": [],
   "source": [
    "import warnings\n",
    "warnings.filterwarnings('ignore')\n",
    "\n",
    "import gensim\n",
    "from gensim.models import FastText"
   ]
  },
  {
   "cell_type": "code",
   "execution_count": 3,
   "metadata": {},
   "outputs": [
    {
     "data": {
      "text/html": [
       "<div>\n",
       "<style scoped>\n",
       "    .dataframe tbody tr th:only-of-type {\n",
       "        vertical-align: middle;\n",
       "    }\n",
       "\n",
       "    .dataframe tbody tr th {\n",
       "        vertical-align: top;\n",
       "    }\n",
       "\n",
       "    .dataframe thead th {\n",
       "        text-align: right;\n",
       "    }\n",
       "</style>\n",
       "<table border=\"1\" class=\"dataframe\">\n",
       "  <thead>\n",
       "    <tr style=\"text-align: right;\">\n",
       "      <th></th>\n",
       "      <th>ProviderNumber</th>\n",
       "      <th>HospitalName</th>\n",
       "      <th>Address1</th>\n",
       "      <th>City</th>\n",
       "      <th>ZipCode</th>\n",
       "      <th>CountyName</th>\n",
       "      <th>PhoneNumber</th>\n",
       "      <th>HospitalOwner</th>\n",
       "      <th>Condition</th>\n",
       "      <th>Sample</th>\n",
       "    </tr>\n",
       "  </thead>\n",
       "  <tbody>\n",
       "    <tr>\n",
       "      <th>0</th>\n",
       "      <td>10018</td>\n",
       "      <td>CALLAHAN EYE FOUNDATION HOSPITAL</td>\n",
       "      <td>1720 UNIVERSITY BLVD</td>\n",
       "      <td>BIRMINGHAM</td>\n",
       "      <td>35233</td>\n",
       "      <td>JEFFERSON</td>\n",
       "      <td>2053258100</td>\n",
       "      <td>Voluntary non-profit - Private</td>\n",
       "      <td>Surgical Infection Prevention</td>\n",
       "      <td>0 patients</td>\n",
       "    </tr>\n",
       "    <tr>\n",
       "      <th>1</th>\n",
       "      <td>10018</td>\n",
       "      <td>CALLAHAN EYE FOUNDATION HOSPITAL</td>\n",
       "      <td>1720 UNIVERSITY BLVD</td>\n",
       "      <td>BIRMINGHAM</td>\n",
       "      <td>35233</td>\n",
       "      <td>JEFFERSON</td>\n",
       "      <td>2053258100</td>\n",
       "      <td>Voluntary non-profit - Private</td>\n",
       "      <td>Surgical Infection Prevention</td>\n",
       "      <td>0 patients</td>\n",
       "    </tr>\n",
       "  </tbody>\n",
       "</table>\n",
       "</div>"
      ],
      "text/plain": [
       "  ProviderNumber                      HospitalName              Address1  \\\n",
       "0          10018  CALLAHAN EYE FOUNDATION HOSPITAL  1720 UNIVERSITY BLVD   \n",
       "1          10018  CALLAHAN EYE FOUNDATION HOSPITAL  1720 UNIVERSITY BLVD   \n",
       "\n",
       "         City ZipCode CountyName PhoneNumber                   HospitalOwner  \\\n",
       "0  BIRMINGHAM   35233  JEFFERSON  2053258100  Voluntary non-profit - Private   \n",
       "1  BIRMINGHAM   35233  JEFFERSON  2053258100  Voluntary non-profit - Private   \n",
       "\n",
       "                       Condition      Sample  \n",
       "0  Surgical Infection Prevention  0 patients  \n",
       "1  Surgical Infection Prevention  0 patients  "
      ]
     },
     "execution_count": 3,
     "metadata": {},
     "output_type": "execute_result"
    }
   ],
   "source": [
    "\n",
    "df_truth = pd.read_csv('truth_values_1100_tuples.csv',dtype=object, encoding='utf8')\n",
    "\n",
    "df_dirty = pd.read_csv('HospitalErrorsWithoutNan.csv',dtype=object, encoding='utf8')\n",
    "\n",
    "providerT = df_truth['ProviderNumber'].tolist()\n",
    "hospitalT = df_truth['HospitalName'].tolist()\n",
    "addressT = df_truth['Address1'].tolist()\n",
    "cityT = df_truth['City'].tolist()\n",
    "zipcodeT = df_truth['ZipCode'].tolist()\n",
    "countyT = df_truth['CountyName'].tolist()\n",
    "phoneT = df_truth['PhoneNumber'].tolist()\n",
    "OwnerT = df_truth['HospitalOwner'].tolist()\n",
    "ConditionT = df_truth['Condition'].tolist()\n",
    "SampleT = df_truth['Sample'].tolist()\n",
    "\n",
    "combined_hosp = list(zip(providerT, hospitalT, addressT, cityT, zipcodeT, countyT, OwnerT, ConditionT, SampleT))\n",
    "df_truth.head(2)\n"
   ]
  },
  {
   "cell_type": "code",
   "execution_count": 4,
   "metadata": {},
   "outputs": [
    {
     "data": {
      "text/html": [
       "<div>\n",
       "<style scoped>\n",
       "    .dataframe tbody tr th:only-of-type {\n",
       "        vertical-align: middle;\n",
       "    }\n",
       "\n",
       "    .dataframe tbody tr th {\n",
       "        vertical-align: top;\n",
       "    }\n",
       "\n",
       "    .dataframe thead th {\n",
       "        text-align: right;\n",
       "    }\n",
       "</style>\n",
       "<table border=\"1\" class=\"dataframe\">\n",
       "  <thead>\n",
       "    <tr style=\"text-align: right;\">\n",
       "      <th></th>\n",
       "      <th>ProviderNumber</th>\n",
       "      <th>HospitalName</th>\n",
       "      <th>Address1</th>\n",
       "      <th>City</th>\n",
       "      <th>ZipCode</th>\n",
       "      <th>CountyName</th>\n",
       "      <th>PhoneNumber</th>\n",
       "      <th>HospitalOwner</th>\n",
       "      <th>Condition</th>\n",
       "      <th>Sample</th>\n",
       "      <th>label</th>\n",
       "    </tr>\n",
       "  </thead>\n",
       "  <tbody>\n",
       "    <tr>\n",
       "      <th>0</th>\n",
       "      <td>10011</td>\n",
       "      <td>ST VINCENP'S EAST</td>\n",
       "      <td>50 MEDICAL PARK EAST DRIVE</td>\n",
       "      <td>BIRMINGHAM</td>\n",
       "      <td>35235</td>\n",
       "      <td>JEFFERSON</td>\n",
       "      <td>2058383122</td>\n",
       "      <td>Voluntary non-profit - Private</td>\n",
       "      <td>Pneumonia</td>\n",
       "      <td>69 patients</td>\n",
       "      <td>0</td>\n",
       "    </tr>\n",
       "    <tr>\n",
       "      <th>1</th>\n",
       "      <td>10027</td>\n",
       "      <td>ELBA GENERAL HOSPITAL</td>\n",
       "      <td>987 DRAYTON STREET</td>\n",
       "      <td>ELBA</td>\n",
       "      <td>36323</td>\n",
       "      <td>COFFEE</td>\n",
       "      <td>3348972257</td>\n",
       "      <td>Voluntary non-profit - Other</td>\n",
       "      <td>Surgical Infection Prevention</td>\n",
       "      <td>0 patients</td>\n",
       "      <td>0</td>\n",
       "    </tr>\n",
       "    <tr>\n",
       "      <th>2</th>\n",
       "      <td>10044</td>\n",
       "      <td>MARION REGIONAL MEDICAL CENTER</td>\n",
       "      <td>1256 MILITARY STREET SOUTH</td>\n",
       "      <td>HAMILTON</td>\n",
       "      <td>35570</td>\n",
       "      <td>MARIYN</td>\n",
       "      <td>2059216200</td>\n",
       "      <td>Voluntary non-profit - Private</td>\n",
       "      <td>Pneumonia</td>\n",
       "      <td>42 patients</td>\n",
       "      <td>0</td>\n",
       "    </tr>\n",
       "    <tr>\n",
       "      <th>3</th>\n",
       "      <td>10036</td>\n",
       "      <td>ANDALUSIA REGIONAL HOSPITAL</td>\n",
       "      <td>849 SOUTH THREE NOTCH STREET</td>\n",
       "      <td>ANDTLUSIA</td>\n",
       "      <td>36420</td>\n",
       "      <td>COVINGTON</td>\n",
       "      <td>3342228466</td>\n",
       "      <td>Proprietary</td>\n",
       "      <td>Heart Attack</td>\n",
       "      <td>3 patients</td>\n",
       "      <td>0</td>\n",
       "    </tr>\n",
       "    <tr>\n",
       "      <th>4</th>\n",
       "      <td>10023</td>\n",
       "      <td>BAPTIST MEDICAL CENTER SOUTH</td>\n",
       "      <td>2105 EVST SOUTH BOULEVARD</td>\n",
       "      <td>MONTGOMERY</td>\n",
       "      <td>36116</td>\n",
       "      <td>MONTGOMERY</td>\n",
       "      <td>3342882100</td>\n",
       "      <td>Voluntary non-profit - Church</td>\n",
       "      <td>Surgical Infection Prevention</td>\n",
       "      <td>392 patients</td>\n",
       "      <td>0</td>\n",
       "    </tr>\n",
       "  </tbody>\n",
       "</table>\n",
       "</div>"
      ],
      "text/plain": [
       "  ProviderNumber                    HospitalName  \\\n",
       "0          10011               ST VINCENP'S EAST   \n",
       "1          10027           ELBA GENERAL HOSPITAL   \n",
       "2          10044  MARION REGIONAL MEDICAL CENTER   \n",
       "3          10036     ANDALUSIA REGIONAL HOSPITAL   \n",
       "4          10023    BAPTIST MEDICAL CENTER SOUTH   \n",
       "\n",
       "                       Address1        City ZipCode  CountyName PhoneNumber  \\\n",
       "0    50 MEDICAL PARK EAST DRIVE  BIRMINGHAM   35235   JEFFERSON  2058383122   \n",
       "1            987 DRAYTON STREET        ELBA   36323      COFFEE  3348972257   \n",
       "2    1256 MILITARY STREET SOUTH    HAMILTON   35570      MARIYN  2059216200   \n",
       "3  849 SOUTH THREE NOTCH STREET   ANDTLUSIA   36420   COVINGTON  3342228466   \n",
       "4     2105 EVST SOUTH BOULEVARD  MONTGOMERY   36116  MONTGOMERY  3342882100   \n",
       "\n",
       "                    HospitalOwner                      Condition  \\\n",
       "0  Voluntary non-profit - Private                      Pneumonia   \n",
       "1    Voluntary non-profit - Other  Surgical Infection Prevention   \n",
       "2  Voluntary non-profit - Private                      Pneumonia   \n",
       "3                     Proprietary                   Heart Attack   \n",
       "4   Voluntary non-profit - Church  Surgical Infection Prevention   \n",
       "\n",
       "         Sample label  \n",
       "0   69 patients     0  \n",
       "1    0 patients     0  \n",
       "2   42 patients     0  \n",
       "3    3 patients     0  \n",
       "4  392 patients     0  "
      ]
     },
     "execution_count": 4,
     "metadata": {},
     "output_type": "execute_result"
    }
   ],
   "source": [
    "df_dirty.head()"
   ]
  },
  {
   "cell_type": "code",
   "execution_count": 5,
   "metadata": {},
   "outputs": [
    {
     "data": {
      "text/plain": [
       "1100"
      ]
     },
     "execution_count": 5,
     "metadata": {},
     "output_type": "execute_result"
    }
   ],
   "source": [
    "len(df_truth)"
   ]
  },
  {
   "cell_type": "code",
   "execution_count": 6,
   "metadata": {},
   "outputs": [
    {
     "data": {
      "text/plain": [
       "9"
      ]
     },
     "execution_count": 6,
     "metadata": {},
     "output_type": "execute_result"
    }
   ],
   "source": [
    "len(combined_hosp[1])"
   ]
  },
  {
   "cell_type": "code",
   "execution_count": 107,
   "metadata": {},
   "outputs": [
    {
     "data": {
      "text/plain": [
       "'36323'"
      ]
     },
     "execution_count": 107,
     "metadata": {},
     "output_type": "execute_result"
    }
   ],
   "source": [
    "#hospital dirty dataset; maintain dirty dataset separately\n",
    "provider = df_dirty['ProviderNumber'].tolist()\n",
    "hospital = df_dirty['HospitalName'].tolist()\n",
    "address = df_dirty['Address1'].tolist()\n",
    "city = df_dirty['City'].tolist()\n",
    "zipcode = df_dirty['ZipCode'].tolist()\n",
    "county = df_dirty['CountyName'].tolist()\n",
    "phone = df_dirty['PhoneNumber'].tolist()\n",
    "Owner = df_dirty['HospitalOwner'].tolist()\n",
    "Condition = df_dirty['Condition'].tolist()\n",
    "Sample = df_dirty['Sample'].tolist()\n",
    "\n",
    "combined_dirty = list(zip(address, city, Condition, county, hospital, Owner, phone, provider, Sample, zipcode))\n",
    "combined_dirty[1][9]"
   ]
  },
  {
   "cell_type": "code",
   "execution_count": 119,
   "metadata": {},
   "outputs": [
    {
     "data": {
      "text/plain": [
       "10"
      ]
     },
     "execution_count": 119,
     "metadata": {},
     "output_type": "execute_result"
    }
   ],
   "source": [
    "uniqueTokens = []\n",
    "uniqueTokens.append(set(addressT))\n",
    "uniqueTokens.append(set(cityT))\n",
    "uniqueTokens.append(set(ConditionT))\n",
    "uniqueTokens.append(set(countyT))\n",
    "uniqueTokens.append(set(hospitalT))\n",
    "uniqueTokens.append(set(OwnerT))\n",
    "uniqueTokens.append(set(phoneT))\n",
    "uniqueTokens.append(set(providerT))\n",
    "uniqueTokens.append(set(SampleT)) \n",
    "uniqueTokens.append(set(zipcodeT))\n",
    "len(uniqueTokens)"
   ]
  },
  {
   "cell_type": "code",
   "execution_count": 120,
   "metadata": {},
   "outputs": [
    {
     "data": {
      "text/plain": [
       "10"
      ]
     },
     "execution_count": 120,
     "metadata": {},
     "output_type": "execute_result"
    }
   ],
   "source": [
    "len(combined_dirty[0])"
   ]
  },
  {
   "cell_type": "code",
   "execution_count": 121,
   "metadata": {},
   "outputs": [],
   "source": [
    "dirty_list = []\n",
    "for i in range(0, len(combined_dirty)):\n",
    "    for j in range(0, len(uniqueTokens)):\n",
    "        if combined_dirty[i][j] not in uniqueTokens[j]:\n",
    "            dirty_list.append(combined_dirty[i][j])"
   ]
  },
  {
   "cell_type": "code",
   "execution_count": 122,
   "metadata": {},
   "outputs": [
    {
     "data": {
      "text/plain": [
       "193"
      ]
     },
     "execution_count": 122,
     "metadata": {},
     "output_type": "execute_result"
    }
   ],
   "source": [
    "len(dirty_list)"
   ]
  },
  {
   "cell_type": "code",
   "execution_count": 123,
   "metadata": {},
   "outputs": [
    {
     "data": {
      "text/plain": [
       "[\"ST VINCENP'S EAST\",\n",
       " 'MARIYN',\n",
       " 'ANDTLUSIA',\n",
       " '2105 EVST SOUTH BOULEVARD',\n",
       " '1725 PSNE STREET',\n",
       " 'SYLACXUGA',\n",
       " 'PRATTVILOE',\n",
       " '209 NORTH MAIN STREZT',\n",
       " 'ZUVERNE',\n",
       " '1256 MILITARP STREET SOUTH',\n",
       " 'EFOWAH',\n",
       " 'MONTGOMEBY',\n",
       " 'SHEKBY BAPTIST MEDICAL CENTER',\n",
       " 'WEOOWEE',\n",
       " 'ALABAETER',\n",
       " 'FAYKTTE',\n",
       " '1178 ROSS CLARK CIRCLE',\n",
       " 'ANCWORAGE',\n",
       " 'MARSHALL MEDICAR CENTER SOUTH',\n",
       " 'MARSHALL MEDICAL CEMTER SOUTH',\n",
       " '315 W HICKOQY ST',\n",
       " 'QLBA',\n",
       " 'ANDAXUSIA',\n",
       " 'FLORKNCE',\n",
       " 'AUVERNE',\n",
       " 'MSRGAN',\n",
       " 'GADSDEN REUIONAL MEDICAL CENTER',\n",
       " 'COMMUNITY HOSPFTAL INC',\n",
       " 'G H LANGER MEMORIAL HOSPITAL',\n",
       " '1000 FIRST JTREET NORTH',\n",
       " 'ELOORE',\n",
       " 'DE KAMB',\n",
       " 'CHAMBERF',\n",
       " 'CARION',\n",
       " 'WEDOWEE HOSEITAL',\n",
       " '200 DED CENTER DRIVE',\n",
       " 'VAKLEY',\n",
       " '209 NORTH MAIN STREEP',\n",
       " '315 W HICKOQY ST',\n",
       " 'THYMASVILLE',\n",
       " '1000 FIRST STREET NOJTH',\n",
       " 'MORWAN',\n",
       " 'JEFFSRSON',\n",
       " 'LAUDERFALE',\n",
       " '301 EXST 18TH ST',\n",
       " '1000 FIRST STREET NOQTH',\n",
       " 'SALE',\n",
       " '406 NORTHWOOD DR',\n",
       " 'VANLEY',\n",
       " 'JJFFERSON',\n",
       " 'LUVEQNE',\n",
       " '400 N EDGARDS STREET',\n",
       " 'WEDOWEJ HOSPITAL',\n",
       " 'HARSHALL',\n",
       " 'WEDMWEE',\n",
       " 'PRATTVILLE BANTIST HOSPITAL',\n",
       " 'CRENSHAD',\n",
       " '1007 GOODYEAR AVVNUE',\n",
       " 'FAYETTE MEDICAL CENTED',\n",
       " '2105 EAST SOUTH BOULEVJRD',\n",
       " '619 SOUTH 19TH STTEET',\n",
       " 'ALASKA REGIANAL HOSPITAL',\n",
       " 'MAUSHALL MEDICAL CENTER NORTH',\n",
       " 'ALQBASTER',\n",
       " '2505 U S HIGHWAY 401 NORTH',\n",
       " '101 SIBLEY RD',\n",
       " 'DOTCAN',\n",
       " 'EORGAN',\n",
       " 'HUNTSVILLE HOSYITAL',\n",
       " 'NGRTHWEST MEDICAL CENTER',\n",
       " 'CRENSHPW',\n",
       " '805 FRIEEDSHIP ROAD',\n",
       " 'SHELBY BAPTIST ZEDICAL CENTER',\n",
       " 'UHILTON',\n",
       " 'TAVLASSEE',\n",
       " 'HOTSTON',\n",
       " '1725 PINE VTREET',\n",
       " 'MGNTGOMERY',\n",
       " 'AITAUGA',\n",
       " '101 HOSPITAL CIRMLE',\n",
       " 'SOUTHEAST ALABAMF MEDICAL CENTER',\n",
       " 'BUVLER',\n",
       " 'HUNTSVILLE HASPITAL',\n",
       " '202 MARENGO STREET',\n",
       " '209 NKRTH MAIN STREET',\n",
       " 'UPP',\n",
       " 'DOTZAN',\n",
       " 'MARSHALL MEWICAL CENTER NORTH',\n",
       " 'MARJHALL MEDICAL CENTER SOUTH',\n",
       " 'JEFFERCON',\n",
       " '8000 ALABAMA HIGYWAY 69',\n",
       " 'VALLEF',\n",
       " 'MARSHAVL MEDICAL CENTER NORTH',\n",
       " 'CALLAHAN EYE FOUNDATION HOSPITML',\n",
       " '2805 U S HIGHWAY 431 NORTH',\n",
       " 'DALJ',\n",
       " 'JEFFERAON',\n",
       " 'SHELNY',\n",
       " 'MONTGOMQRY',\n",
       " 'TALLADEEA',\n",
       " '400 NORTHWOOD DM',\n",
       " 'SHELBY BAPTIST MEDILAL CENTER',\n",
       " '50 MEOICAL PARK EAST DRIVE',\n",
       " '987 DRAYTON STYEET',\n",
       " '205 MARENGO STREKT',\n",
       " 'WEDBWEE HOSPITAL',\n",
       " 'BUTLGR',\n",
       " 'HAMULTON',\n",
       " 'ELIZA COFFEE MEMORIAL HOSPITPL',\n",
       " 'QEDOWEE HOSPITAL',\n",
       " 'ELIZA COFFEE MEMORIOL HOSPITAL',\n",
       " 'LQUDERDALE',\n",
       " '126 HOSPOTAL AVE',\n",
       " 'HUNTSVILLE HOSPIJAL',\n",
       " 'MORGAY',\n",
       " 'HAMILTOH',\n",
       " 'RIVERVIEW REYIONAL MEDICAL CENTER',\n",
       " 'FAYEUTE',\n",
       " 'HARTSELLE MEYICAL CENTER',\n",
       " 'CHAMBEIS',\n",
       " 'LEM',\n",
       " '400 NORTHWOOD DM',\n",
       " 'BRAZ',\n",
       " 'GUNTERSVILLA',\n",
       " 'MONTGOZERY',\n",
       " 'GEORGIAEA',\n",
       " 'FAMETTE',\n",
       " 'DXLE',\n",
       " 'HARTTELLE MEDICAL CENTER',\n",
       " '150 FILBREATH DRIVE',\n",
       " 'STRINGFELLOW MEMORIAL HOVPITAL',\n",
       " '1300 SWUTH MONTGOMERY AVENUE',\n",
       " 'CLARYE',\n",
       " '33700 HIGAWAY 43',\n",
       " 'JACKSON HOSPITAL & CLINIC INH',\n",
       " '400 N EDWARDS STREBT',\n",
       " '301 EAST 58TH ST',\n",
       " '1300 SOUTH MONTGOMERY AAENUE',\n",
       " 'COFFKE',\n",
       " 'VTOWAH',\n",
       " 'SHELBY BAPTJST MEDICAL CENTER',\n",
       " '6912 ALABAMA HIGHWAY 157',\n",
       " 'RANDOLBH',\n",
       " 'CUBLMAN',\n",
       " '1015 LAY DAM ROAD',\n",
       " '2505 U S HIGHWEY 431 NORTH',\n",
       " 'ELBA GENERAL HOSPITIL',\n",
       " 'BHELBY',\n",
       " 'ZPP',\n",
       " 'MFRSHALL',\n",
       " 'DE KALW',\n",
       " 'LOVERNE',\n",
       " 'MADICON',\n",
       " 'VOLLEY',\n",
       " 'MOGILE',\n",
       " 'DOBHAN',\n",
       " 'CHEROKEE MADICAL CENTER',\n",
       " 'JEFFERSOC',\n",
       " 'CUJLMAN',\n",
       " '849 SOUTH THREE NOTCH STREST',\n",
       " '600 SOUTH THIRB STREET',\n",
       " '4370 WEST MAIN STRGET',\n",
       " 'ANCHORIGE',\n",
       " 'MIZELL MEMORIAL ZOSPITAL',\n",
       " 'GEORGIAOA',\n",
       " 'CRENSCAW',\n",
       " 'TLMORE',\n",
       " 'COOSA VALLEY MEDHCAL CENTER',\n",
       " 'HUNTRVILLE HOSPITAL',\n",
       " '205 MARENGO STDEET',\n",
       " 'MORGAK',\n",
       " '1256 MILITARY STREET HOUTH',\n",
       " 'CWAMBERS',\n",
       " 'ALASKA REGIONAI HOSPITAL',\n",
       " 'CULLMUN',\n",
       " 'LHVERNE',\n",
       " 'ELBA GENERAL HOSHITAL',\n",
       " 'XARION',\n",
       " 'CHILTOG',\n",
       " 'COMMUNETY HOSPITAL INC',\n",
       " 'MOBIWE',\n",
       " 'MARSHHLL MEDICAL CENTER SOUTH',\n",
       " 'GAOSDEN',\n",
       " 'MIZELL MEMORIAL HOSPITFL',\n",
       " 'HOUSTXN',\n",
       " '205 MARENGO STRAET',\n",
       " 'CHEROKEE YEDICAL CENTER',\n",
       " 'PRATQVILLE',\n",
       " 'WINFIELH',\n",
       " 'MEDIKAL CENTER ENTERPRISE',\n",
       " 'SHEOBY',\n",
       " '123 S MEMORIAL DR',\n",
       " 'WEUOWEE']"
      ]
     },
     "execution_count": 123,
     "metadata": {},
     "output_type": "execute_result"
    }
   ],
   "source": [
    "dirty_list"
   ]
  },
  {
   "cell_type": "markdown",
   "metadata": {},
   "source": [
    "## Mapping to get column information"
   ]
  },
  {
   "cell_type": "code",
   "execution_count": 124,
   "metadata": {},
   "outputs": [],
   "source": [
    "mapping = dict(enumerate(sorted(df_truth.columns.values)))"
   ]
  },
  {
   "cell_type": "code",
   "execution_count": 125,
   "metadata": {},
   "outputs": [
    {
     "data": {
      "text/plain": [
       "{0: 'Address1',\n",
       " 1: 'City',\n",
       " 2: 'Condition',\n",
       " 3: 'CountyName',\n",
       " 4: 'HospitalName',\n",
       " 5: 'HospitalOwner',\n",
       " 6: 'PhoneNumber',\n",
       " 7: 'ProviderNumber',\n",
       " 8: 'Sample',\n",
       " 9: 'ZipCode'}"
      ]
     },
     "execution_count": 125,
     "metadata": {},
     "output_type": "execute_result"
    }
   ],
   "source": [
    "mapping"
   ]
  },
  {
   "cell_type": "markdown",
   "metadata": {},
   "source": [
    "## Error Cleaning using fastText"
   ]
  },
  {
   "cell_type": "markdown",
   "metadata": {},
   "source": [
    "Convert each tuple into a row. We load hospital dataset. The fastText model is trained using groundtruth dataset for hospital and then the dirty dataset is used for correcting spelling errors. The fastText algorithm outputs top 10 matches and loses column information. Here we use Attribute classifier to understand the column info of the erroroneous tuple and the first match with same attribute in the predicted list is assumed as the right cell value for the cell. "
   ]
  },
  {
   "cell_type": "code",
   "execution_count": 38,
   "metadata": {},
   "outputs": [],
   "source": [
    "#training the model with truth data.\n",
    "model_hosp = FastText(combined_hosp, min_count=1, workers=8, iter=1000)"
   ]
  },
  {
   "cell_type": "markdown",
   "metadata": {},
   "source": [
    "## Module to predict the top value by the model. Some values are not broken into tokens."
   ]
  },
  {
   "cell_type": "code",
   "execution_count": 126,
   "metadata": {},
   "outputs": [],
   "source": [
    "excluded_list = []\n",
    "result = []\n",
    "predictedValues = []"
   ]
  },
  {
   "cell_type": "markdown",
   "metadata": {},
   "source": [
    "## Loading attribute classifier"
   ]
  },
  {
   "cell_type": "code",
   "execution_count": 127,
   "metadata": {},
   "outputs": [],
   "source": [
    "model = load_model('HospitalMultiAttributeClassifier.h5')\n",
    "with open('HospitalMultiAttributeClassifierTokenizer.pickle', 'rb') as handle:\n",
    "    tokenizer = pickle.load(handle)"
   ]
  },
  {
   "cell_type": "markdown",
   "metadata": {},
   "source": [
    "## Error Cleaning using Attribute Classifer over FastText"
   ]
  },
  {
   "cell_type": "code",
   "execution_count": 128,
   "metadata": {},
   "outputs": [],
   "source": [
    "for i in range(len(dirty_list)):\n",
    "    testStr = [dirty_list[i]]\n",
    "    sequences = tokenizer.texts_to_sequences(testStr)\n",
    "    dirtyData = pad_sequences(sequences, maxlen=45)\n",
    "    dirtyCol = model.predict(dirtyData)\n",
    "    if isinstance(dirty_list[i], str):\n",
    "        try:\n",
    "            predictedValues = model_hosp.most_similar(dirty_list[i])\n",
    "            match = 0\n",
    "            flag = 0\n",
    "            tempAttr = \"\"\n",
    "            for j in range(0, len(predictedValues)):\n",
    "                tryStr = [predictedValues[j][0]]\n",
    "                predSequences = tokenizer.texts_to_sequences(tryStr)\n",
    "                testData = pad_sequences(predSequences, maxlen=45)\n",
    "                correctCol = model.predict(testData)\n",
    "                if flag == 0:\n",
    "                    tempAttr = correctCol\n",
    "                    flag = 1\n",
    "                if mapping[np.argmax(correctCol[0])] == mapping[np.argmax(dirtyCol[0])]:\n",
    "                    result.append((mapping[np.argmax(correctCol[0])], predictedValues[j][0]))\n",
    "                    #print(mapping[np.argmax(dirtyCol[0])], predictedValues[j][0])\n",
    "                    match = 1\n",
    "                    break\n",
    "            if match == 0:\n",
    "                predSequences0 = tokenizer.texts_to_sequences(predictedValues[0][0])\n",
    "                testData0 = pad_sequences(predSequences0, maxlen=45)\n",
    "                correctCol0 = model.predict(testData0)\n",
    "                #print(mapping[np.argmax(dirtyCol[0])], dirty_list[i])\n",
    "                result.append((mapping[np.argmax(tempAttr)], predictedValues[0][0]))\n",
    "                #print(\"No match\")\n",
    "        except KeyError:\n",
    "            excluded_list.append(dirty_list[i])\n",
    "            #print(dirty_list[i])\n",
    "            pass"
   ]
  },
  {
   "cell_type": "code",
   "execution_count": 129,
   "metadata": {},
   "outputs": [
    {
     "name": "stdout",
     "output_type": "stream",
     "text": [
      "0\n",
      "193\n",
      "193\n",
      "193\n"
     ]
    }
   ],
   "source": [
    "print (len(excluded_list))\n",
    "print (len(result))\n",
    "print (len(excluded_list) + len(result))\n",
    "print (len(dirty_list))"
   ]
  },
  {
   "cell_type": "code",
   "execution_count": 130,
   "metadata": {},
   "outputs": [],
   "source": [
    "inverseMapping = {'Address1':0,\n",
    "'City':1,\n",
    "'Condition':2,\n",
    "'CountyName':3,\n",
    "'HospitalName':4,\n",
    "'HospitalOwner':5,\n",
    "'PhoneNumber':6,\n",
    "'ProviderNumber': 7,\n",
    "'Sample': 8,\n",
    "'ZipCode':9}"
   ]
  },
  {
   "cell_type": "code",
   "execution_count": null,
   "metadata": {},
   "outputs": [],
   "source": []
  },
  {
   "cell_type": "code",
   "execution_count": 131,
   "metadata": {},
   "outputs": [
    {
     "name": "stdout",
     "output_type": "stream",
     "text": [
      "HospitalName ST VINCENT'S EAST ST VINCENP'S EAST\n",
      "CountyName MARION MARIYN\n",
      "City ANDALUSIA ANDTLUSIA\n",
      "Address1 2105 EAST SOUTH BOULEVARD 2105 EVST SOUTH BOULEVARD\n",
      "Address1 1725 PINE STREET 1725 PSNE STREET\n",
      "City SYLACAUGA SYLACXUGA\n",
      "City PRATTVILLE PRATTVILOE\n",
      "Address1 209 NORTH MAIN STREET 209 NORTH MAIN STREZT\n",
      "City LUVERNE ZUVERNE\n",
      "Address1 1256 MILITARY STREET SOUTH 1256 MILITARP STREET SOUTH\n",
      "CountyName ETOWAH EFOWAH\n",
      "City MONTGOMERY MONTGOMEBY\n",
      "HospitalName SHELBY BAPTIST MEDICAL CENTER SHEKBY BAPTIST MEDICAL CENTER\n",
      "City WEDOWEE WEOOWEE\n",
      "City ALABASTER ALABAETER\n",
      "City FAYETTE FAYKTTE\n",
      "Address1 1108 ROSS CLARK CIRCLE 1178 ROSS CLARK CIRCLE\n",
      "City ANCHORAGE ANCWORAGE\n",
      "HospitalName MARSHALL MEDICAL CENTER SOUTH MARSHALL MEDICAR CENTER SOUTH\n",
      "HospitalName MARSHALL MEDICAL CENTER SOUTH MARSHALL MEDICAL CEMTER SOUTH\n",
      "Address1 315 W HICKORY ST 315 W HICKOQY ST\n",
      "City ELBA QLBA\n",
      "City ANDALUSIA ANDAXUSIA\n",
      "City FLORENCE FLORKNCE\n",
      "City LUVERNE AUVERNE\n",
      "CountyName MORGAN MSRGAN\n",
      "HospitalName GADSDEN REGIONAL MEDICAL CENTER GADSDEN REUIONAL MEDICAL CENTER\n",
      "HospitalName COMMUNITY HOSPITAL INC COMMUNITY HOSPFTAL INC\n",
      "HospitalName G H LANIER MEMORIAL HOSPITAL G H LANGER MEMORIAL HOSPITAL\n",
      "Address1 1000 FIRST STREET NORTH 1000 FIRST JTREET NORTH\n",
      "CountyName ELMORE ELOORE\n",
      "CountyName DE KALB DE KAMB\n",
      "CountyName CHAMBERS CHAMBERF\n",
      "CountyName MARION CARION\n",
      "City WEDOWEE WEDOWEE HOSEITAL\n",
      "Address1 200 MED CENTER DRIVE 200 DED CENTER DRIVE\n",
      "City VALLEY VAKLEY\n",
      "Address1 209 NORTH MAIN STREET 209 NORTH MAIN STREEP\n",
      "Address1 315 W HICKORY ST 315 W HICKOQY ST\n",
      "City THOMASVILLE THYMASVILLE\n",
      "Address1 1000 FIRST STREET NORTH 1000 FIRST STREET NOJTH\n",
      "CountyName MORGAN MORWAN\n",
      "CountyName JEFFERSON JEFFSRSON\n",
      "CountyName LAUDERDALE LAUDERFALE\n",
      "Address1 301 EAST 18TH ST 301 EXST 18TH ST\n",
      "Address1 1000 FIRST STREET NORTH 1000 FIRST STREET NOQTH\n",
      "CountyName DALE SALE\n",
      "Address1 400 NORTHWOOD DR 406 NORTHWOOD DR\n",
      "City VALLEY VANLEY\n",
      "CountyName JEFFERSON JJFFERSON\n",
      "City LUVERNE LUVEQNE\n",
      "Address1 400 N EDWARDS STREET 400 N EDGARDS STREET\n",
      "HospitalName WEDOWEE HOSPITAL WEDOWEJ HOSPITAL\n",
      "CountyName MARSHALL HARSHALL\n",
      "City WEDOWEE WEDMWEE\n",
      "HospitalName PRATTVILLE BAPTIST HOSPITAL PRATTVILLE BANTIST HOSPITAL\n",
      "CountyName CRENSHAW CRENSHAD\n",
      "Address1 1007 GOODYEAR AVENUE 1007 GOODYEAR AVVNUE\n",
      "HospitalName FAYETTE MEDICAL CENTER FAYETTE MEDICAL CENTED\n",
      "Address1 2105 EAST SOUTH BOULEVARD 2105 EAST SOUTH BOULEVJRD\n",
      "Address1 619 SOUTH 19TH STREET 619 SOUTH 19TH STTEET\n",
      "HospitalName ALASKA REGIONAL HOSPITAL ALASKA REGIANAL HOSPITAL\n",
      "HospitalName MARSHALL MEDICAL CENTER NORTH MAUSHALL MEDICAL CENTER NORTH\n",
      "City ALABASTER ALQBASTER\n",
      "Address1 2505 U S HIGHWAY 431 NORTH 2505 U S HIGHWAY 401 NORTH\n",
      "Address1 101 SIVLEY RD 101 SIBLEY RD\n",
      "City DOTHAN DOTCAN\n",
      "CountyName MORGAN EORGAN\n",
      "City HUNTSVILLE HUNTSVILLE HOSYITAL\n",
      "HospitalName NORTHWEST MEDICAL CENTER NGRTHWEST MEDICAL CENTER\n",
      "CountyName CRENSHAW CRENSHPW\n",
      "Address1 805 FRIENDSHIP ROAD 805 FRIEEDSHIP ROAD\n",
      "HospitalName SHELBY BAPTIST MEDICAL CENTER SHELBY BAPTIST ZEDICAL CENTER\n",
      "CountyName CHILTON UHILTON\n",
      "City TALLASSEE TAVLASSEE\n",
      "CountyName HOUSTON HOTSTON\n",
      "Address1 1725 PINE STREET 1725 PINE VTREET\n",
      "City MONTGOMERY MGNTGOMERY\n",
      "CountyName AUTAUGA AITAUGA\n",
      "HospitalName CRENSHAW COMMUNITY HOSPITAL 101 HOSPITAL CIRMLE\n",
      "HospitalName SOUTHEAST ALABAMA MEDICAL CENTER SOUTHEAST ALABAMF MEDICAL CENTER\n",
      "CountyName BUTLER BUVLER\n",
      "City HUNTSVILLE HUNTSVILLE HASPITAL\n",
      "Address1 205 MARENGO STREET 202 MARENGO STREET\n",
      "Address1 209 NORTH MAIN STREET 209 NKRTH MAIN STREET\n",
      "City OPP UPP\n",
      "City DOTHAN DOTZAN\n",
      "Address1 1000 FIRST STREET NORTH MARSHALL MEWICAL CENTER NORTH\n",
      "HospitalName MARSHALL MEDICAL CENTER SOUTH MARJHALL MEDICAL CENTER SOUTH\n",
      "CountyName JEFFERSON JEFFERCON\n",
      "Address1 8000 ALABAMA HIGHWAY 69 8000 ALABAMA HIGYWAY 69\n",
      "City VALLEY VALLEF\n",
      "HospitalName MARSHALL MEDICAL CENTER NORTH MARSHAVL MEDICAL CENTER NORTH\n",
      "Address1 1720 UNIVERSITY BLVD CALLAHAN EYE FOUNDATION HOSPITML\n",
      "Address1 2505 U S HIGHWAY 431 NORTH 2805 U S HIGHWAY 431 NORTH\n",
      "CountyName DALE DALJ\n",
      "CountyName JEFFERSON JEFFERAON\n",
      "CountyName SHELBY SHELNY\n",
      "City MONTGOMERY MONTGOMQRY\n",
      "CountyName TALLADEGA TALLADEEA\n",
      "Address1 400 NORTHWOOD DR 400 NORTHWOOD DM\n",
      "HospitalName SHELBY BAPTIST MEDICAL CENTER SHELBY BAPTIST MEDILAL CENTER\n",
      "Address1 50 MEDICAL PARK EAST DRIVE 50 MEOICAL PARK EAST DRIVE\n",
      "Address1 987 DRAYTON STREET 987 DRAYTON STYEET\n",
      "Address1 205 MARENGO STREET 205 MARENGO STREKT\n",
      "HospitalName WEDOWEE HOSPITAL WEDBWEE HOSPITAL\n",
      "CountyName BUTLER BUTLGR\n",
      "City HAMILTON HAMULTON\n",
      "Address1 124 S MEMORIAL DR ELIZA COFFEE MEMORIAL HOSPITPL\n",
      "HospitalName WEDOWEE HOSPITAL QEDOWEE HOSPITAL\n",
      "HospitalName ELIZA COFFEE MEMORIAL HOSPITAL ELIZA COFFEE MEMORIOL HOSPITAL\n",
      "CountyName LAUDERDALE LQUDERDALE\n",
      "Address1 126 HOSPITAL AVE 126 HOSPOTAL AVE\n",
      "City HUNTSVILLE HUNTSVILLE HOSPIJAL\n",
      "CountyName MORGAN MORGAY\n",
      "City HAMILTON HAMILTOH\n",
      "HospitalName RIVERVIEW REGIONAL MEDICAL CENTER RIVERVIEW REYIONAL MEDICAL CENTER\n",
      "City FAYETTE FAYEUTE\n",
      "HospitalName HARTSELLE MEDICAL CENTER HARTSELLE MEYICAL CENTER\n",
      "CountyName CHAMBERS CHAMBEIS\n",
      "CountyName LEE LEM\n",
      "Address1 400 NORTHWOOD DR 400 NORTHWOOD DM\n",
      "City BOAZ BRAZ\n",
      "City GUNTERSVILLE GUNTERSVILLA\n",
      "City MONTGOMERY MONTGOZERY\n",
      "City GEORGIANA GEORGIAEA\n",
      "City FAYETTE FAMETTE\n",
      "City GUNTERSVILLE DXLE\n",
      "HospitalName HARTSELLE MEDICAL CENTER HARTTELLE MEDICAL CENTER\n",
      "Address1 150 GILBREATH DRIVE 150 FILBREATH DRIVE\n",
      "Address1 124 S MEMORIAL DR STRINGFELLOW MEMORIAL HOVPITAL\n",
      "Address1 1300 SOUTH MONTGOMERY AVENUE 1300 SWUTH MONTGOMERY AVENUE\n",
      "CountyName CLARKE CLARYE\n",
      "Address1 33700 HIGHWAY 43 33700 HIGAWAY 43\n",
      "HospitalName JACKSON HOSPITAL & CLINIC INC JACKSON HOSPITAL & CLINIC INH\n",
      "Address1 400 N EDWARDS STREET 400 N EDWARDS STREBT\n",
      "Address1 301 EAST 18TH ST 301 EAST 58TH ST\n",
      "Address1 1300 SOUTH MONTGOMERY AVENUE 1300 SOUTH MONTGOMERY AAENUE\n",
      "CountyName COFFEE COFFKE\n",
      "CountyName ETOWAH VTOWAH\n",
      "HospitalName SHELBY BAPTIST MEDICAL CENTER SHELBY BAPTJST MEDICAL CENTER\n",
      "Address1 1912 ALABAMA HIGHWAY 157 6912 ALABAMA HIGHWAY 157\n",
      "CountyName RANDOLPH RANDOLBH\n",
      "City CULLMAN CUBLMAN\n",
      "Address1 1010 LAY DAM ROAD 1015 LAY DAM ROAD\n",
      "Address1 2505 U S HIGHWAY 431 NORTH 2505 U S HIGHWEY 431 NORTH\n",
      "Address1 987 DRAYTON STREET ELBA GENERAL HOSPITIL\n",
      "CountyName SHELBY BHELBY\n",
      "City OPP ZPP\n",
      "CountyName MARSHALL MFRSHALL\n",
      "CountyName DE KALB DE KALW\n",
      "City LUVERNE LOVERNE\n",
      "CountyName MADISON MADICON\n",
      "City VALLEY VOLLEY\n",
      "City MOBILE MOGILE\n",
      "City DOTHAN DOBHAN\n",
      "HospitalName CHEROKEE MEDICAL CENTER CHEROKEE MADICAL CENTER\n",
      "CountyName JEFFERSON JEFFERSOC\n",
      "City CULLMAN CUJLMAN\n",
      "Address1 849 SOUTH THREE NOTCH STREET 849 SOUTH THREE NOTCH STREST\n",
      "Address1 600 SOUTH THIRD STREET 600 SOUTH THIRB STREET\n",
      "Address1 4370 WEST MAIN STREET 4370 WEST MAIN STRGET\n",
      "City ANCHORAGE ANCHORIGE\n",
      "Address1 124 S MEMORIAL DR MIZELL MEMORIAL ZOSPITAL\n",
      "City GEORGIANA GEORGIAOA\n",
      "CountyName CRENSHAW CRENSCAW\n",
      "CountyName ELMORE TLMORE\n",
      "HospitalName COOSA VALLEY MEDICAL CENTER COOSA VALLEY MEDHCAL CENTER\n",
      "HospitalName HUNTSVILLE HOSPITAL HUNTRVILLE HOSPITAL\n",
      "Address1 205 MARENGO STREET 205 MARENGO STDEET\n",
      "CountyName MORGAN MORGAK\n",
      "Address1 1256 MILITARY STREET SOUTH 1256 MILITARY STREET HOUTH\n",
      "CountyName CHAMBERS CWAMBERS\n",
      "HospitalName ALASKA REGIONAL HOSPITAL ALASKA REGIONAI HOSPITAL\n",
      "City CULLMAN CULLMUN\n",
      "City LUVERNE LHVERNE\n",
      "Address1 987 DRAYTON STREET ELBA GENERAL HOSHITAL\n",
      "CountyName MARION XARION\n",
      "CountyName CHILTON CHILTOG\n",
      "HospitalName COMMUNITY HOSPITAL INC COMMUNETY HOSPITAL INC\n",
      "City MOBILE MOBIWE\n",
      "HospitalName MARSHALL MEDICAL CENTER SOUTH MARSHHLL MEDICAL CENTER SOUTH\n",
      "City GADSDEN GAOSDEN\n",
      "Address1 124 S MEMORIAL DR MIZELL MEMORIAL HOSPITFL\n",
      "CountyName HOUSTON HOUSTXN\n",
      "Address1 205 MARENGO STREET 205 MARENGO STRAET\n",
      "HospitalName CHEROKEE MEDICAL CENTER CHEROKEE YEDICAL CENTER\n",
      "City PRATTVILLE PRATQVILLE\n",
      "City WINFIELD WINFIELH\n",
      "City ENTERPRISE MEDIKAL CENTER ENTERPRISE\n",
      "CountyName SHELBY SHEOBY\n",
      "Address1 124 S MEMORIAL DR 123 S MEMORIAL DR\n",
      "City WEDOWEE WEUOWEE\n"
     ]
    }
   ],
   "source": [
    "y_pred = 0\n",
    "incorrect = 0\n",
    "incorrectAttr = []\n",
    "incorrectValues = [] \n",
    "for i in range(0, len(result)):\n",
    "    #print(result[i][0],result[i][1])\n",
    "    attribute=result[i][0]\n",
    "    strng=result[i][1]\n",
    "    runQuery = \"{} == @strng\".format(attribute)\n",
    "    if df_truth.query(runQuery).shape[0] > 0:\n",
    "        print(result[i][0], result[i][1], dirty_list[i])\n",
    "        y_pred = y_pred+1\n",
    "    else:\n",
    "        incorrect = incorrect + 1\n",
    "        print(strng)\n",
    "        incorrectAttr.append(attribute)\n",
    "        incorrectValues.append(strng)"
   ]
  },
  {
   "cell_type": "code",
   "execution_count": 132,
   "metadata": {},
   "outputs": [
    {
     "name": "stdout",
     "output_type": "stream",
     "text": [
      "193\n",
      "0\n"
     ]
    }
   ],
   "source": [
    "print(y_pred)\n",
    "print(incorrect)"
   ]
  },
  {
   "cell_type": "code",
   "execution_count": 103,
   "metadata": {},
   "outputs": [],
   "source": [
    "for i in range(0, len(incorrectAttr)):\n",
    "    print(incorrectAttr[i], incorrectValues[i])"
   ]
  },
  {
   "cell_type": "markdown",
   "metadata": {},
   "source": [
    "## Precision, Recall, F1-score"
   ]
  },
  {
   "cell_type": "code",
   "execution_count": 91,
   "metadata": {},
   "outputs": [
    {
     "name": "stdout",
     "output_type": "stream",
     "text": [
      "('36067', '360x9', '36049')\n",
      "('10086', 'Voluntary non-profit - Private', '10011')\n",
      "('1007 GOODYEAR AVENUE', '60%', 'BIRMINGHAM')\n",
      "('ANCHORAGE', 'AL_SCIP-INF-4', '35235')\n",
      "('10016', '10011', 'JEFFERSON')\n",
      "('35957', '359x8', '35968')\n",
      "('36116', '1xx16', '10016')\n",
      "('10085', '100x8', '10038')\n",
      "('36801', '36x01', '36201')\n",
      "('10085', '100x6', '10086')\n",
      "('EAST ALABAMA MEDICAL CENTER AND SNF', 'xNIV OF SOxTH ALABAMA MEDICAL CENTER', 'UNIV OF SOUTH ALABAMA MEDICAL CENTER')\n",
      "('PO BOX 287', '3x0x7', '36067')\n",
      "('99508', 'x0x08', '10108')\n",
      "('FAYETTE MEDICAL CENTER', 'DALE MEDICAL CENTER', '10021')\n",
      "('CALLAHAN EYE FOUNDATION HOSPITAL', '126 HOSPITAL AVE', 'DALE MEDICAL CENTER')\n",
      "('ALASKA REGIONAL HOSPITAL', 'AL', 'OZARK')\n",
      "('LAUDERDALE', 'DALE', '36360')\n",
      "('36801', '3347742601', 'DALE')\n",
      "('35960', 'x6x60', '36360')\n",
      "('JACKSON HOSPITAL & CLINIC INC', '1xx24', '10024')\n",
      "('TALLADEGA', 'TALLAxxEE', 'TALLASSEE')\n",
      "('10085', '100x4', '10034')\n",
      "('36278', '36x78', '36078')\n",
      "('10085', '100x5', '10035')\n",
      "('35235', '1xx35', '10035')\n",
      "('2105 EAST SOUTH BOULEVARD', 'Proprietary', 'ANDALUSIA REGIONAL HOSPITAL')\n",
      "('4370 WEST MAIN STREET', '43 patients', '36420')\n",
      "('ALABASTER', 'AL_PN-4', 'COVINGTON')\n",
      "('10034', '1003x', '10039')\n",
      "('10085', '100x9', '10039')\n",
      "('35901', 'x590x', '35903')\n",
      "('35045', '1xx45', '10045')\n",
      "('1007 GOODYEAR AVENUE', '600 SOUxH xHIRD SxREEx', '600 SOUTH THIRD STREET')\n",
      "('35903', '3590x', '35901')\n",
      "('10047', '1004x', '10049')\n",
      "('ENTERPRISE', 'MEDIxAL xENTER ENTERPRISE', 'MEDICAL CENTER ENTERPRISE')\n"
     ]
    }
   ],
   "source": [
    "for i in falsely_predicted:\n",
    "    print (i)"
   ]
  },
  {
   "cell_type": "code",
   "execution_count": 83,
   "metadata": {},
   "outputs": [
    {
     "name": "stdout",
     "output_type": "stream",
     "text": [
      "('BIRMINGHAM', 'BIRMINGHxM', 'BIRMINGHAM')\n",
      "('BIRMINGHAM', 'BIRMINGxAM', 'BIRMINGHAM')\n",
      "('SHEFFIELD', 'SHEFFxELD', 'SHEFFIELD')\n",
      "('10019', '1xx19', '10019')\n",
      "('SOUTHEAST ALABAMA MEDICAL CENTER', 'SOUTHEAST ALABAMA MEDxCAL CENTER', 'SOUTHEAST ALABAMA MEDICAL CENTER')\n",
      "('35957', 'x5957', '35957')\n",
      "('10005', 'x0005', '10005')\n",
      "('BOAZ', 'BOxZ', 'BOAZ')\n",
      "('2505 U S HIGHWAY 431 NORTH', '2505xUxSxHIGHWAYx431xNORTH', '2505 U S HIGHWAY 431 NORTH')\n",
      "('35957', '3595x', '35957')\n",
      "('MARSHALL', 'MxRSHxLL', 'MARSHALL')\n",
      "('35631', '3563x', '35631')\n",
      "('LAUDERDALE', 'LAUDxRDALx', 'LAUDERDALE')\n",
      "('LAUDERDALE', 'LAUDExDALE', 'LAUDERDALE')\n",
      "('FLORENCE', 'FxORENCE', 'FLORENCE')\n",
      "('10006', '1000x', '10006')\n",
      "('FLORENCE', 'FLORxNCx', 'FLORENCE')\n",
      "('FLORENCE', 'FLxRENCE', 'FLORENCE')\n",
      "('35631', '3563x', '35631')\n",
      "('702 N MAIN ST', '702xNxMAINxST', '702 N MAIN ST')\n",
      "('702 N MAIN ST', '702 x MAIx ST', '702 N MAIN ST')\n",
      "('CRENSHAW COMMUNITY HOSPITAL', 'CRENSHAW CxMMUNITY HxSPITAL', 'CRENSHAW COMMUNITY HOSPITAL')\n",
      "('CRENSHAW', 'CRxNSHAW', 'CRENSHAW')\n",
      "('36049', '36x49', '36049')\n",
      "('35640', '3x640', '35640')\n",
      "('35640', '3x640', '35640')\n",
      "('201 PINE STREET NORTHWEST', '201 PINE SxREEx NORxHWESx', '201 PINE STREET NORTHWEST')\n",
      "('MARSHALL MEDICAL CENTER NORTH', 'MARSHALL MEDICAL CENxER NORxH', 'MARSHALL MEDICAL CENTER NORTH')\n",
      "('8000 ALABAMA HIGHWAY 69', '8000 ALABAMA xIGxWAY 69', '8000 ALABAMA HIGHWAY 69')\n",
      "('GUNTERSVILLE', 'GUNTxRSVILLx', 'GUNTERSVILLE')\n",
      "('BIRMINGHAM', 'BIRMIxGHAM', 'BIRMINGHAM')\n",
      "('BIRMINGHAM', 'BxRMxNGHAM', 'BIRMINGHAM')\n",
      "('JEFFERSON', 'JEFFERSxN', 'JEFFERSON')\n",
      "('DE KALB', 'Dx KALB', 'DE KALB')\n",
      "('DE KALB', 'xE KALB', 'DE KALB')\n",
      "('DE KALB', 'Dx KALB', 'DE KALB')\n",
      "('FORT PAYNE', 'FORT PAYxE', 'FORT PAYNE')\n",
      "('DE KALB', 'xE KALB', 'DE KALB')\n",
      "('DEKALB REGIONAL MEDICAL CENTER', 'DExALB REGIONAL MEDICAL CENTER', 'DEKALB REGIONAL MEDICAL CENTER')\n",
      "('CLARKE', 'xLARKE', 'CLARKE')\n",
      "('10015', '1xx15', '10015')\n",
      "('33700 HIGHWAY 43', '33700 HxGHWAY 43', '33700 HIGHWAY 43')\n",
      "('33700 HIGHWAY 43', '33700 HIGHWAY x3', '33700 HIGHWAY 43')\n",
      "('36784', 'x6784', '36784')\n",
      "('1000 FIRST STREET NORTH', '1000 FIxST STxEET NOxTH', '1000 FIRST STREET NORTH')\n",
      "('35007', '3x007', '35007')\n",
      "('35007', 'x5007', '35007')\n",
      "('1720 UNIVERSITY BLVD', '1720 UNIVxRSITY BLVD', '1720 UNIVERSITY BLVD')\n",
      "('ANNISTON', 'AxxISTOx', 'ANNISTON')\n",
      "('CALHOUN', 'CALHOxN', 'CALHOUN')\n",
      "('301 EAST 18TH ST', '301xEASTx18THxST', '301 EAST 18TH ST')\n",
      "('CALHOUN', 'CAxHOUN', 'CALHOUN')\n",
      "('36305', '3x305', '36305')\n",
      "('4370 WEST MAIN STREET', '4370xWESTxMAINxSTREET', '4370 WEST MAIN STREET')\n",
      "('FLOWERS HOSPITAL', 'FLOxERS HOSPITAL', 'FLOWERS HOSPITAL')\n",
      "('36305', 'x6x05', '36305')\n",
      "('HOUSTON', 'HOUSxON', 'HOUSTON')\n",
      "('810 ST VINCENTS DRIVE', '810 ST VxNCENTS DRxVE', '810 ST VINCENTS DRIVE')\n",
      "('1530 U S HIGHWAY 43', '1530xUxSxHIGHWAYx43', '1530 U S HIGHWAY 43')\n",
      "('35594', '3xx94', '35594')\n",
      "('WINFIELD', 'WINFIELx', 'WINFIELD')\n",
      "('35594', '3xx94', '35594')\n",
      "('UNIV OF SOUTH ALABAMA MEDICAL CENTER', 'UNIV Ox SOUTH ALABAMA MEDICAL CENTER', 'UNIV OF SOUTH ALABAMA MEDICAL CENTER')\n",
      "('UNIV OF SOUTH ALABAMA MEDICAL CENTER', 'xNIV OF SOxTH ALABAMA MEDICAL CENTER', 'UNIV OF SOUTH ALABAMA MEDICAL CENTER')\n",
      "('124 S MEMORIAL DR', '124xSxMEMORIALxDR', '124 S MEMORIAL DR')\n",
      "('124 S MEMORIAL DR', '124 S MxMORIAL DR', '124 S MEMORIAL DR')\n",
      "('315 W HICKORY ST', '315 W HICKxRY ST', '315 W HICKORY ST')\n",
      "('TALLADEGA', 'TALLAxEGA', 'TALLADEGA')\n",
      "('35150', 'x5150', '35150')\n",
      "('315 W HICKORY ST', '315xWxHICKORYxST', '315 W HICKORY ST')\n",
      "('ANCHORAGE', 'ANCHORAxE', 'ANCHORAGE')\n",
      "('ALASKA REGIONAL HOSPITAL', 'xLxSKx REGIONxL HOSPITxL', 'ALASKA REGIONAL HOSPITAL')\n",
      "('PO BOX 287', 'POxBOXx287', 'PO BOX 287')\n",
      "('JEFFERSON', 'JxFFxRSON', 'JEFFERSON')\n",
      "('JEFFERSON', 'xEFFERSON', 'JEFFERSON')\n",
      "('JEFFERSON', 'JExxERSON', 'JEFFERSON')\n",
      "('126 HOSPITAL AVE', '126xHOSPITALxAVE', '126 HOSPITAL AVE')\n",
      "('OZARK', 'OZARx', 'OZARK')\n",
      "('126 HOSPITAL AVE', '1x6 HOSPITAL AVE', '126 HOSPITAL AVE')\n",
      "('35960', 'x5960', '35960')\n",
      "('CHEROKEE', 'CHxROKxx', 'CHEROKEE')\n",
      "('CHEROKEE', 'CHxROKxx', 'CHEROKEE')\n",
      "('MONTGOMERY', 'MONTxOMERY', 'MONTGOMERY')\n",
      "('MONTGOMERY', 'MONxGOMERY', 'MONTGOMERY')\n",
      "('BAPTIST MEDICAL CENTER SOUTH', 'BAPTIST MEDICAL CExTER SOUTH', 'BAPTIST MEDICAL CENTER SOUTH')\n",
      "('MONTGOMERY', 'MONTGOMExY', 'MONTGOMERY')\n",
      "('MONTGOMERY', 'MONxGOMERY', 'MONTGOMERY')\n",
      "('JACKSON HOSPITAL & CLINIC INC', 'JAxKSON HOSPITAL & xLINIx INx', 'JACKSON HOSPITAL & CLINIC INC')\n",
      "('VALLEY', 'VALLEx', 'VALLEY')\n",
      "('CHAMBERS', 'xHAMBERS', 'CHAMBERS')\n",
      "('VALLEY', 'VxLLEY', 'VALLEY')\n",
      "('CHAMBERS', 'CHAxBERS', 'CHAMBERS')\n",
      "('ELBA', 'ExBA', 'ELBA')\n",
      "('COFFEE', 'COFFxx', 'COFFEE')\n",
      "('10027', 'x0027', '10027')\n",
      "('10029', 'x0029', '10029')\n",
      "('LEE', 'xEE', 'LEE')\n",
      "('10029', '1xx29', '10029')\n",
      "('10032', '1xx32', '10032')\n",
      "('209 NORTH MAIN STREET', '209 xORTH MAIx STREET', '209 NORTH MAIN STREET')\n",
      "('WEDOWEE HOSPITAL', 'WEDOWEE HOSxITAL', 'WEDOWEE HOSPITAL')\n",
      "('WEDOWEE', 'WxDOWxx', 'WEDOWEE')\n",
      "('10032', '1xx32', '10032')\n",
      "('JEFFERSON', 'JxFFxRSON', 'JEFFERSON')\n",
      "('35233', '3x233', '35233')\n",
      "('JEFFERSON', 'JExxERSON', 'JEFFERSON')\n",
      "('BIRMINGHAM', 'BIRMINxHAM', 'BIRMINGHAM')\n",
      "('ELMORE', 'ELMOxE', 'ELMORE')\n",
      "('COMMUNITY HOSPITAL INC', 'COMMUNITx HOSPITAL INC', 'COMMUNITY HOSPITAL INC')\n",
      "('ELMORE', 'ELxORE', 'ELMORE')\n",
      "('COMMUNITY HOSPITAL INC', 'COMMUNIxY HOSPIxAL INC', 'COMMUNITY HOSPITAL INC')\n",
      "('CULLMAN', 'CxLLMAN', 'CULLMAN')\n",
      "('CULLMAN REGIONAL MEDICAL CENTER', 'CULLMxN REGIONxL MEDICxL CENTER', 'CULLMAN REGIONAL MEDICAL CENTER')\n",
      "('CULLMAN', 'CxLLMAN', 'CULLMAN')\n",
      "('1912 ALABAMA HIGHWAY 157', '1912xALABAMAxHIGHWAYx157', '1912 ALABAMA HIGHWAY 157')\n",
      "('CULLMAN', 'CUxxMAN', 'CULLMAN')\n",
      "('36420', '3642x', '36420')\n",
      "('COVINGTON', 'COxINGTON', 'COVINGTON')\n",
      "('10036', '1xx36', '10036')\n",
      "('ANDALUSIA', 'ANDALUxIA', 'ANDALUSIA')\n",
      "('ANDALUSIA REGIONAL HOSPITAL', 'ANDAxUSIA REGIONAx HOSPITAx', 'ANDALUSIA REGIONAL HOSPITAL')\n",
      "('ANDALUSIA REGIONAL HOSPITAL', 'ANDALUxIA REGIONAL HOxPITAL', 'ANDALUSIA REGIONAL HOSPITAL')\n",
      "('301 EAST 18TH ST', '301 EAST 1xTH ST', '301 EAST 18TH ST')\n",
      "('ANNISTON', 'ANNxSTON', 'ANNISTON')\n",
      "('HUNTSVILLE HOSPITAL', 'HUNTSVxLLE HOSPxTAL', 'HUNTSVILLE HOSPITAL')\n",
      "('MADISON', 'MADISxN', 'MADISON')\n",
      "('MADISON', 'MADISOx', 'MADISON')\n",
      "('GADSDEN', 'GxDSDEN', 'GADSDEN')\n",
      "('1010 LAY DAM ROAD', 'x0x0 LAY DAM ROAD', '1010 LAY DAM ROAD')\n",
      "('HAMILTON', 'HAMILxON', 'HAMILTON')\n",
      "('1256 MILITARY STREET SOUTH', '1256 MILITARY STREET SxUTH', '1256 MILITARY STREET SOUTH')\n",
      "('10044', '1xx44', '10044')\n",
      "('10045', 'x0045', '10045')\n",
      "('FAYETTE', 'FAxETTE', 'FAYETTE')\n",
      "('FAYETTE', 'FAYExxE', 'FAYETTE')\n",
      "('RIVERVIEW REGIONAL MEDICAL CENTER', 'RIVxRVIxW RxGIONAL MxDICAL CxNTxR', 'RIVERVIEW REGIONAL MEDICAL CENTER')\n",
      "('ETOWAH', 'ETOWxH', 'ETOWAH')\n",
      "('RIVERVIEW REGIONAL MEDICAL CENTER', 'xIVExVIEW xEGIONAL MEDICAL CENTEx', 'RIVERVIEW REGIONAL MEDICAL CENTER')\n",
      "('RIVERVIEW REGIONAL MEDICAL CENTER', 'RIVERVIEW RExIONAL MEDICAL CENTER', 'RIVERVIEW REGIONAL MEDICAL CENTER')\n",
      "('515 MIRANDA ST', '515 MIRANDA Sx', '515 MIRANDA ST')\n",
      "('515 MIRANDA ST', '515 MIRANxA ST', '515 MIRANDA ST')\n",
      "('GEORGIANA HOSPITAL', 'GEORGIAxA HOSPITAL', 'GEORGIANA HOSPITAL')\n",
      "('BUTLER', 'BUTxER', 'BUTLER')\n",
      "('515 MIRANDA ST', '515 MIRxNDx ST', '515 MIRANDA ST')\n",
      "('GEORGIANA', 'GEOxGIANA', 'GEORGIANA')\n",
      "('400 N EDWARDS STREET', '400xNxEDWARDSxSTREET', '400 N EDWARDS STREET')\n",
      "('ENTERPRISE', 'ENTERPRxSE', 'ENTERPRISE')\n",
      "('MEDICAL CENTER ENTERPRISE', 'MEDxCAL CENTER ENTERPRxSE', 'MEDICAL CENTER ENTERPRISE')\n",
      "('COFFEE', 'CxFFEE', 'COFFEE')\n",
      "('ENTERPRISE', 'xNTxRPRISx', 'ENTERPRISE')\n",
      "('ONEONTA', 'ONxONTA', 'ONEONTA')\n",
      "('150 GILBREATH DRIVE', '150 GILxREATH DRIVE', '150 GILBREATH DRIVE')\n",
      "('ST VINCENTS BLOUNT', 'ST VINCENTS BxOUNT', 'ST VINCENTS BLOUNT')\n"
     ]
    }
   ],
   "source": [
    "for i in correctly_predicted:\n",
    "    print (i)"
   ]
  },
  {
   "cell_type": "code",
   "execution_count": 84,
   "metadata": {},
   "outputs": [
    {
     "data": {
      "text/plain": [
       "('10086', 'Voluntary non-profit - Private', '10011')"
      ]
     },
     "execution_count": 84,
     "metadata": {},
     "output_type": "execute_result"
    }
   ],
   "source": [
    "falsely_predicted[1]"
   ]
  },
  {
   "cell_type": "code",
   "execution_count": 85,
   "metadata": {},
   "outputs": [
    {
     "data": {
      "text/plain": [
       "[('35957', 0.9885784387588501),\n",
       " ('35968', 0.8877739310264587),\n",
       " ('35976', 0.885722815990448),\n",
       " ('35960', 0.8576430082321167),\n",
       " ('35903', 0.830594539642334),\n",
       " ('35901', 0.8117714524269104),\n",
       " ('35058', 0.6940221190452576),\n",
       " ('35007', 0.6867320537567139),\n",
       " ('35640', 0.627211332321167),\n",
       " ('35653', 0.6189522743225098)]"
      ]
     },
     "execution_count": 85,
     "metadata": {},
     "output_type": "execute_result"
    }
   ],
   "source": [
    "model_hosp.most_similar('3595x')"
   ]
  },
  {
   "cell_type": "code",
   "execution_count": null,
   "metadata": {},
   "outputs": [],
   "source": []
  },
  {
   "cell_type": "code",
   "execution_count": null,
   "metadata": {},
   "outputs": [],
   "source": []
  },
  {
   "cell_type": "code",
   "execution_count": null,
   "metadata": {},
   "outputs": [],
   "source": []
  }
 ],
 "metadata": {
  "kernelspec": {
   "display_name": "Python 3",
   "language": "python",
   "name": "python3"
  },
  "language_info": {
   "codemirror_mode": {
    "name": "ipython",
    "version": 3
   },
   "file_extension": ".py",
   "mimetype": "text/x-python",
   "name": "python",
   "nbconvert_exporter": "python",
   "pygments_lexer": "ipython3",
   "version": "3.6.4"
  },
  "toc": {
   "nav_menu": {},
   "number_sections": true,
   "sideBar": true,
   "skip_h1_title": true,
   "title_cell": "Table of Contents",
   "title_sidebar": "Contents",
   "toc_cell": false,
   "toc_position": {},
   "toc_section_display": true,
   "toc_window_display": false
  }
 },
 "nbformat": 4,
 "nbformat_minor": 2
}
