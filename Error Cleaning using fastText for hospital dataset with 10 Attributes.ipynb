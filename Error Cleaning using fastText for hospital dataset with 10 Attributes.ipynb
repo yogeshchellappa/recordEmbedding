{
 "cells": [
  {
   "cell_type": "markdown",
   "metadata": {},
   "source": [
    "# Record Embedding"
   ]
  },
  {
   "cell_type": "code",
   "execution_count": 1,
   "metadata": {},
   "outputs": [
    {
     "name": "stderr",
     "output_type": "stream",
     "text": [
      "Using TensorFlow backend.\n"
     ]
    }
   ],
   "source": [
    "import warnings\n",
    "warnings.filterwarnings('ignore')\n",
    "import pandas as pd\n",
    "import numpy as np\n",
    "import os\n",
    "import calendar\n",
    "from sklearn.manifold import TSNE\n",
    "import matplotlib.pyplot as plt\n",
    "from keras.models import load_model\n",
    "import h5py\n",
    "import pickle\n",
    "from keras.preprocessing.text import Tokenizer\n",
    "from keras.preprocessing.sequence import pad_sequences\n",
    "from sklearn import metrics\n",
    "from gensim.models import KeyedVectors\n",
    "\n",
    "\n",
    "import gensim\n",
    "from gensim.models import FastText\n",
    "\n",
    "%matplotlib inline"
   ]
  },
  {
   "cell_type": "markdown",
   "metadata": {},
   "source": [
    "## Read data\n",
    "Details here: https://fasttext.cc/"
   ]
  },
  {
   "cell_type": "code",
   "execution_count": 2,
   "metadata": {},
   "outputs": [],
   "source": [
    "df_truth = pd.read_csv('clean_hosp_dataset.csv',dtype=object, encoding='utf8')\n",
    "df_dirty = pd.read_csv('HospitalErrorsWithoutNan.csv',dtype=object, encoding='utf8')\n",
    "df_dirty.drop(columns=['label'], axis=1, inplace=True)"
   ]
  },
  {
   "cell_type": "code",
   "execution_count": 3,
   "metadata": {},
   "outputs": [
    {
     "data": {
      "text/html": [
       "<div>\n",
       "<style scoped>\n",
       "    .dataframe tbody tr th:only-of-type {\n",
       "        vertical-align: middle;\n",
       "    }\n",
       "\n",
       "    .dataframe tbody tr th {\n",
       "        vertical-align: top;\n",
       "    }\n",
       "\n",
       "    .dataframe thead th {\n",
       "        text-align: right;\n",
       "    }\n",
       "</style>\n",
       "<table border=\"1\" class=\"dataframe\">\n",
       "  <thead>\n",
       "    <tr style=\"text-align: right;\">\n",
       "      <th></th>\n",
       "      <th>ProviderNumber</th>\n",
       "      <th>HospitalName</th>\n",
       "      <th>Address1</th>\n",
       "      <th>City</th>\n",
       "      <th>ZipCode</th>\n",
       "      <th>CountyName</th>\n",
       "      <th>PhoneNumber</th>\n",
       "      <th>HospitalOwner</th>\n",
       "      <th>Condition</th>\n",
       "      <th>Sample</th>\n",
       "    </tr>\n",
       "  </thead>\n",
       "  <tbody>\n",
       "    <tr>\n",
       "      <th>0</th>\n",
       "      <td>10018</td>\n",
       "      <td>CALLAHAN EYE FOUNDATION HOSPITAL</td>\n",
       "      <td>1720 UNIVERSITY BLVD</td>\n",
       "      <td>BIRMINGHAM</td>\n",
       "      <td>35233</td>\n",
       "      <td>JEFFERSON</td>\n",
       "      <td>2053258100</td>\n",
       "      <td>Voluntary non-profit - Private</td>\n",
       "      <td>Surgical Infection Prevention</td>\n",
       "      <td>0 patients</td>\n",
       "    </tr>\n",
       "    <tr>\n",
       "      <th>1</th>\n",
       "      <td>10019</td>\n",
       "      <td>HELEN KELLER MEMORIAL HOSPITAL</td>\n",
       "      <td>1300 SOUTH MONTGOMERY AVENUE</td>\n",
       "      <td>SHEFFIELD</td>\n",
       "      <td>35660</td>\n",
       "      <td>JEFFERSON</td>\n",
       "      <td>2563864556</td>\n",
       "      <td>Government - Hospital District or Authority</td>\n",
       "      <td>Heart Attack</td>\n",
       "      <td>33 patients</td>\n",
       "    </tr>\n",
       "  </tbody>\n",
       "</table>\n",
       "</div>"
      ],
      "text/plain": [
       "  ProviderNumber                      HospitalName  \\\n",
       "0          10018  CALLAHAN EYE FOUNDATION HOSPITAL   \n",
       "1          10019    HELEN KELLER MEMORIAL HOSPITAL   \n",
       "\n",
       "                       Address1        City ZipCode CountyName PhoneNumber  \\\n",
       "0          1720 UNIVERSITY BLVD  BIRMINGHAM   35233  JEFFERSON  2053258100   \n",
       "1  1300 SOUTH MONTGOMERY AVENUE   SHEFFIELD   35660  JEFFERSON  2563864556   \n",
       "\n",
       "                                 HospitalOwner                      Condition  \\\n",
       "0               Voluntary non-profit - Private  Surgical Infection Prevention   \n",
       "1  Government - Hospital District or Authority                   Heart Attack   \n",
       "\n",
       "        Sample  \n",
       "0   0 patients  \n",
       "1  33 patients  "
      ]
     },
     "execution_count": 3,
     "metadata": {},
     "output_type": "execute_result"
    }
   ],
   "source": [
    "df_truth.head(2)"
   ]
  },
  {
   "cell_type": "code",
   "execution_count": 4,
   "metadata": {},
   "outputs": [
    {
     "data": {
      "text/html": [
       "<div>\n",
       "<style scoped>\n",
       "    .dataframe tbody tr th:only-of-type {\n",
       "        vertical-align: middle;\n",
       "    }\n",
       "\n",
       "    .dataframe tbody tr th {\n",
       "        vertical-align: top;\n",
       "    }\n",
       "\n",
       "    .dataframe thead th {\n",
       "        text-align: right;\n",
       "    }\n",
       "</style>\n",
       "<table border=\"1\" class=\"dataframe\">\n",
       "  <thead>\n",
       "    <tr style=\"text-align: right;\">\n",
       "      <th></th>\n",
       "      <th>ProviderNumber</th>\n",
       "      <th>HospitalName</th>\n",
       "      <th>Address1</th>\n",
       "      <th>City</th>\n",
       "      <th>ZipCode</th>\n",
       "      <th>CountyName</th>\n",
       "      <th>PhoneNumber</th>\n",
       "      <th>HospitalOwner</th>\n",
       "      <th>Condition</th>\n",
       "      <th>Sample</th>\n",
       "    </tr>\n",
       "  </thead>\n",
       "  <tbody>\n",
       "    <tr>\n",
       "      <th>0</th>\n",
       "      <td>10011</td>\n",
       "      <td>ST VINCENP'S EAST</td>\n",
       "      <td>50 MEDICAL PARK EAST DRIVE</td>\n",
       "      <td>BIRMINGHAM</td>\n",
       "      <td>35235</td>\n",
       "      <td>JEFFERSON</td>\n",
       "      <td>2058383122</td>\n",
       "      <td>Voluntary non-profit - Private</td>\n",
       "      <td>Pneumonia</td>\n",
       "      <td>69 patients</td>\n",
       "    </tr>\n",
       "    <tr>\n",
       "      <th>1</th>\n",
       "      <td>10027</td>\n",
       "      <td>ELBA GENERAL HOSPITAL</td>\n",
       "      <td>987 DRAYTON STREET</td>\n",
       "      <td>ELBA</td>\n",
       "      <td>36323</td>\n",
       "      <td>COFFEE</td>\n",
       "      <td>3348972257</td>\n",
       "      <td>Voluntary non-profit - Other</td>\n",
       "      <td>Surgical Infection Prevention</td>\n",
       "      <td>0 patients</td>\n",
       "    </tr>\n",
       "  </tbody>\n",
       "</table>\n",
       "</div>"
      ],
      "text/plain": [
       "  ProviderNumber           HospitalName                    Address1  \\\n",
       "0          10011      ST VINCENP'S EAST  50 MEDICAL PARK EAST DRIVE   \n",
       "1          10027  ELBA GENERAL HOSPITAL          987 DRAYTON STREET   \n",
       "\n",
       "         City ZipCode CountyName PhoneNumber                   HospitalOwner  \\\n",
       "0  BIRMINGHAM   35235  JEFFERSON  2058383122  Voluntary non-profit - Private   \n",
       "1        ELBA   36323     COFFEE  3348972257    Voluntary non-profit - Other   \n",
       "\n",
       "                       Condition       Sample  \n",
       "0                      Pneumonia  69 patients  \n",
       "1  Surgical Infection Prevention   0 patients  "
      ]
     },
     "execution_count": 4,
     "metadata": {},
     "output_type": "execute_result"
    }
   ],
   "source": [
    "df_dirty.head(2)"
   ]
  },
  {
   "cell_type": "markdown",
   "metadata": {},
   "source": [
    "## Preprocessing"
   ]
  },
  {
   "cell_type": "code",
   "execution_count": 5,
   "metadata": {},
   "outputs": [],
   "source": [
    "combined_hosp = df_truth.values.tolist()\n",
    "combined_dirty = df_dirty.values.tolist()"
   ]
  },
  {
   "cell_type": "code",
   "execution_count": 6,
   "metadata": {},
   "outputs": [],
   "source": [
    "columns = df_truth.columns.values"
   ]
  },
  {
   "cell_type": "code",
   "execution_count": 7,
   "metadata": {},
   "outputs": [],
   "source": [
    "ProviderNumberSet = set(df_truth['ProviderNumber'].tolist())\n",
    "HospitalNameSet = set(df_truth['HospitalName'].tolist())\n",
    "AddressSet = set(df_truth['Address1'].tolist())\n",
    "CitySet = set(df_truth['City'].tolist())\n",
    "ZipCodeSet = set(df_truth['ZipCode'].tolist())\n",
    "CountyNameSet = set(df_truth['CountyName'].tolist())\n",
    "PhoneNumberSet = set(df_truth['PhoneNumber'].tolist())\n",
    "HospitalOwnerSet = set(df_truth['HospitalOwner'].tolist())\n",
    "ConditionSet = set(df_truth['Condition'].tolist())\n",
    "SampleSet = set(df_truth['Sample'].tolist())"
   ]
  },
  {
   "cell_type": "code",
   "execution_count": 8,
   "metadata": {},
   "outputs": [],
   "source": [
    "combinedSet = [ProviderNumberSet, HospitalNameSet, AddressSet, CitySet, ZipCodeSet, CountyNameSet, PhoneNumberSet, HospitalOwnerSet, ConditionSet, SampleSet]"
   ]
  },
  {
   "cell_type": "code",
   "execution_count": 9,
   "metadata": {
    "scrolled": true
   },
   "outputs": [
    {
     "data": {
      "text/plain": [
       "array(['ProviderNumber', 'HospitalName', 'Address1', 'City', 'ZipCode',\n",
       "       'CountyName', 'PhoneNumber', 'HospitalOwner', 'Condition',\n",
       "       'Sample'], dtype=object)"
      ]
     },
     "execution_count": 9,
     "metadata": {},
     "output_type": "execute_result"
    }
   ],
   "source": [
    "columns"
   ]
  },
  {
   "cell_type": "markdown",
   "metadata": {},
   "source": [
    "## Model"
   ]
  },
  {
   "cell_type": "code",
   "execution_count": 10,
   "metadata": {},
   "outputs": [],
   "source": [
    "path = 'HospitalMultiAttributeFastText.w2v'\n",
    "fastTextModel = KeyedVectors.load(path)"
   ]
  },
  {
   "cell_type": "code",
   "execution_count": 11,
   "metadata": {},
   "outputs": [],
   "source": [
    "model = load_model('HospitalMultiAttributeClassifier.h5')\n",
    "with open('HospitalMultiAttributeClassifierTokenizer.pickle', 'rb') as handle:\n",
    "    tokenizer = pickle.load(handle)"
   ]
  },
  {
   "cell_type": "code",
   "execution_count": 12,
   "metadata": {},
   "outputs": [],
   "source": [
    "mapping = dict(enumerate(sorted(df_truth.columns.values)))"
   ]
  },
  {
   "cell_type": "code",
   "execution_count": 13,
   "metadata": {},
   "outputs": [
    {
     "data": {
      "text/plain": [
       "{0: 'Address1',\n",
       " 1: 'City',\n",
       " 2: 'Condition',\n",
       " 3: 'CountyName',\n",
       " 4: 'HospitalName',\n",
       " 5: 'HospitalOwner',\n",
       " 6: 'PhoneNumber',\n",
       " 7: 'ProviderNumber',\n",
       " 8: 'Sample',\n",
       " 9: 'ZipCode'}"
      ]
     },
     "execution_count": 13,
     "metadata": {},
     "output_type": "execute_result"
    }
   ],
   "source": [
    "mapping"
   ]
  },
  {
   "cell_type": "markdown",
   "metadata": {},
   "source": [
    "## Correction Pipeline"
   ]
  },
  {
   "cell_type": "code",
   "execution_count": 14,
   "metadata": {},
   "outputs": [],
   "source": [
    "def predictAttribute(model, tokenizer, value):\n",
    "    \"\"\"\n",
    "    Classifies value parameter as its corresponding attribute\n",
    "    \"\"\"\n",
    "    value = [value]\n",
    "    sequences = tokenizer.texts_to_sequences(value)\n",
    "    testData = pad_sequences(sequences, maxlen=45)\n",
    "    predictions = model.predict(testData)\n",
    "    return mapping[np.argmax(predictions[0])]"
   ]
  },
  {
   "cell_type": "code",
   "execution_count": 15,
   "metadata": {},
   "outputs": [],
   "source": [
    "def correctCell(fastTextModel, model, tokenizer, row, topN=10):\n",
    "    cellValues = {}\n",
    "    output = dict()\n",
    "    isMistake = False\n",
    "    for cellIndex in range(len(row)):\n",
    "        currentCellValue = row[cellIndex]\n",
    "        if not currentCellValue in combinedSet[cellIndex]:\n",
    "            isMistake = True\n",
    "            cellValues['mistakeDetected'] = currentCellValue\n",
    "            predictions = fastTextModel.most_similar(currentCellValue, topn=topN)\n",
    "            for match, confidence in predictions:\n",
    "                # Predicted type to be equal to the missing value\n",
    "                if predictAttribute(model, tokenizer, match) == columns[cellIndex]:\n",
    "                    if match in output and confidence <= output[match]:\n",
    "                        continue\n",
    "                    else:\n",
    "                        output[match] = confidence\n",
    "    \n",
    "    if isMistake:\n",
    "        results = output.items()\n",
    "        predictedValue = sorted(results, key=lambda x: x[1], reverse=True)[0] if results else None\n",
    "        cellValues['predictedValue'] = predictedValue[0] if predictedValue else None\n",
    "        return cellValues\n",
    "    else:\n",
    "        return None"
   ]
  },
  {
   "cell_type": "markdown",
   "metadata": {},
   "source": [
    "## Verification pipeline"
   ]
  },
  {
   "cell_type": "code",
   "execution_count": 16,
   "metadata": {},
   "outputs": [],
   "source": [
    "dfUnique = df_truth.drop_duplicates()"
   ]
  },
  {
   "cell_type": "code",
   "execution_count": 17,
   "metadata": {},
   "outputs": [
    {
     "data": {
      "text/plain": [
       "824"
      ]
     },
     "execution_count": 17,
     "metadata": {},
     "output_type": "execute_result"
    }
   ],
   "source": [
    "len(dfUnique)"
   ]
  },
  {
   "cell_type": "code",
   "execution_count": 18,
   "metadata": {},
   "outputs": [],
   "source": [
    "queryMapping = {\n",
    "    \"ProviderNumber\" : 'HospitalName==\"{}\" and Address1==\"{}\" and City==\"{}\" and ZipCode==\"{}\" and CountyName==\"{}\"and PhoneNumber==\"{}\" and HospitalOwner == \"{}\" and Condition == \"{}\" and Sample==\"{}\"',\n",
    "    \"HospitalName\" : 'ProviderNumber==\"{}\" and Address1==\"{}\" and City==\"{}\" and ZipCode==\"{}\" and CountyName==\"{}\"and PhoneNumber==\"{}\" and HospitalOwner == \"{}\" and Condition == \"{}\" and Sample==\"{}\"',\n",
    "    \"Address1\" : 'ProviderNumber==\"{}\" and HospitalName==\"{}\" and City==\"{}\" and ZipCode==\"{}\" and CountyName==\"{}\"and PhoneNumber==\"{}\" and HospitalOwner == \"{}\" and Condition == \"{}\" and Sample==\"{}\"',\n",
    "    \"City\" : 'ProviderNumber==\"{}\" and HospitalName==\"{}\" and Address1==\"{}\" and ZipCode==\"{}\" and CountyName==\"{}\"and PhoneNumber==\"{}\" and HospitalOwner == \"{}\" and Condition == \"{}\" and Sample==\"{}\"',\n",
    "    \"ZipCode\" : 'ProviderNumber==\"{}\" and HospitalName==\"{}\" and Address1==\"{}\" and City==\"{}\" and CountyName==\"{}\"and PhoneNumber==\"{}\" and HospitalOwner == \"{}\" and Condition == \"{}\" and Sample==\"{}\"',\n",
    "    \"CountyName\" : 'ProviderNumber==\"{}\" and HospitalName==\"{}\" and Address1==\"{}\" and City==\"{}\" and ZipCode==\"{}\" and PhoneNumber==\"{}\" and HospitalOwner == \"{}\" and Condition == \"{}\" and Sample==\"{}\"',\n",
    "    \"PhoneNumber\" : 'ProviderNumber==\"{}\" and HospitalName==\"{}\" and Address1==\"{}\" and City==\"{}\" and ZipCode==\"{}\" and CountyName==\"{}\" and HospitalOwner == \"{}\" and Condition == \"{}\" and Sample==\"{}\"',\n",
    "    \"HospitalOwner\" : 'ProviderNumber==\"{}\" and HospitalName==\"{}\" and Address1==\"{}\" and City==\"{}\" and ZipCode==\"{}\" and CountyName==\"{}\" and PhoneNumber==\"{}\" and Condition == \"{}\" and Sample==\"{}\"',\n",
    "    \"Condition\" : 'ProviderNumber==\"{}\" and HospitalName==\"{}\" and Address1==\"{}\" and City==\"{}\" and ZipCode==\"{}\" and CountyName==\"{}\"and PhoneNumber==\"{}\" and HospitalOwner == \"{}\" and Sample==\"{}\"',\n",
    "    \"Sample\" : 'ProviderNumber==\"{}\" and HospitalName==\"{}\" and Address1==\"{}\" and City==\"{}\" and ZipCode==\"{}\" and CountyName==\"{}\"and PhoneNumber==\"{}\" and HospitalOwner == \"{}\" and Condition == \"{}\"',\n",
    "}"
   ]
  },
  {
   "cell_type": "code",
   "execution_count": 19,
   "metadata": {},
   "outputs": [],
   "source": [
    "correct = 0\n",
    "inCorrect = 0\n",
    "incorrectPredictions = []"
   ]
  },
  {
   "cell_type": "code",
   "execution_count": 20,
   "metadata": {},
   "outputs": [],
   "source": [
    "for row in combined_dirty:\n",
    "    output = correctCell(fastTextModel, model, tokenizer, row, 15)\n",
    "    if output:\n",
    "        detectedError = output['mistakeDetected']\n",
    "        predictedValue = output['predictedValue']\n",
    "    \n",
    "        tempRow = row[:]\n",
    "        errorIndex = row.index(detectedError)\n",
    "        tempRow.remove(detectedError)\n",
    "\n",
    "        # Run the query\n",
    "        query = (queryMapping[columns[errorIndex]]).format(*tempRow)\n",
    "        outputDf = dfUnique.query(query)\n",
    "        actual = outputDf.head(1).values.tolist()[0][errorIndex]\n",
    "\n",
    "        if actual == predictedValue:\n",
    "            correct += 1\n",
    "        else:\n",
    "            inCorrect += 1\n",
    "            incorrectPredictions.append((actual, detectedError, predictedValue))"
   ]
  },
  {
   "cell_type": "markdown",
   "metadata": {},
   "source": [
    "## Results"
   ]
  },
  {
   "cell_type": "code",
   "execution_count": 21,
   "metadata": {},
   "outputs": [
    {
     "data": {
      "text/plain": [
       "187"
      ]
     },
     "execution_count": 21,
     "metadata": {},
     "output_type": "execute_result"
    }
   ],
   "source": [
    "correct"
   ]
  },
  {
   "cell_type": "code",
   "execution_count": 22,
   "metadata": {},
   "outputs": [
    {
     "data": {
      "text/plain": [
       "6"
      ]
     },
     "execution_count": 22,
     "metadata": {},
     "output_type": "execute_result"
    }
   ],
   "source": [
    "inCorrect"
   ]
  },
  {
   "cell_type": "code",
   "execution_count": 23,
   "metadata": {},
   "outputs": [
    {
     "data": {
      "text/plain": [
       "[('MONTGOMERY', 'MONTGOMEBY', 'BUTLER'),\n",
       " ('MONTGOMERY', 'MGNTGOMERY', 'BUTLER'),\n",
       " ('MONTGOMERY', 'MONTGOMQRY', 'BUTLER'),\n",
       " ('FAYETTE', 'FAMETTE', 'FLORENCE'),\n",
       " ('MOBILE', 'MOGILE', 'DALE'),\n",
       " ('CULLMAN', 'CULLMUN', 'FAYETTE')]"
      ]
     },
     "execution_count": 23,
     "metadata": {},
     "output_type": "execute_result"
    }
   ],
   "source": [
    "incorrectPredictions"
   ]
  },
  {
   "cell_type": "code",
   "execution_count": 24,
   "metadata": {},
   "outputs": [],
   "source": [
    "accuracy = correct / (correct + inCorrect) * 1.0"
   ]
  },
  {
   "cell_type": "code",
   "execution_count": 25,
   "metadata": {},
   "outputs": [
    {
     "data": {
      "text/plain": [
       "0.9689119170984456"
      ]
     },
     "execution_count": 25,
     "metadata": {},
     "output_type": "execute_result"
    }
   ],
   "source": [
    "accuracy"
   ]
  },
  {
   "cell_type": "code",
   "execution_count": 26,
   "metadata": {},
   "outputs": [
    {
     "data": {
      "text/plain": [
       "[('MONTGOMERY', 0.9960721731185913),\n",
       " ('1300 SOUTH MONTGOMERY AVENUE', 0.6285814046859741),\n",
       " ('2105 EAST SOUTH BOULEVARD', 0.36631783843040466),\n",
       " ('JACKSON HOSPITAL & CLINIC INC', 0.3442744016647339),\n",
       " ('35631', 0.2793944180011749),\n",
       " ('35660', 0.2650303244590759),\n",
       " ('WINFIELD', 0.24821051955223083),\n",
       " ('1720 UNIVERSITY BLVD', 0.2395210862159729),\n",
       " ('SHEFFIELD', 0.2367148995399475),\n",
       " ('ONEONTA', 0.22580210864543915)]"
      ]
     },
     "execution_count": 26,
     "metadata": {},
     "output_type": "execute_result"
    }
   ],
   "source": [
    "fastTextModel.most_similar(\"MGNTGOMERY\")"
   ]
  },
  {
   "cell_type": "code",
   "execution_count": 27,
   "metadata": {},
   "outputs": [
    {
     "data": {
      "text/plain": [
       "'CountyName'"
      ]
     },
     "execution_count": 27,
     "metadata": {},
     "output_type": "execute_result"
    }
   ],
   "source": [
    "predictAttribute(model, tokenizer, \"FAYETTE\")"
   ]
  },
  {
   "cell_type": "code",
   "execution_count": 28,
   "metadata": {
    "scrolled": true
   },
   "outputs": [
    {
     "data": {
      "text/html": [
       "<div>\n",
       "<style scoped>\n",
       "    .dataframe tbody tr th:only-of-type {\n",
       "        vertical-align: middle;\n",
       "    }\n",
       "\n",
       "    .dataframe tbody tr th {\n",
       "        vertical-align: top;\n",
       "    }\n",
       "\n",
       "    .dataframe thead th {\n",
       "        text-align: right;\n",
       "    }\n",
       "</style>\n",
       "<table border=\"1\" class=\"dataframe\">\n",
       "  <thead>\n",
       "    <tr style=\"text-align: right;\">\n",
       "      <th></th>\n",
       "      <th>ProviderNumber</th>\n",
       "      <th>HospitalName</th>\n",
       "      <th>Address1</th>\n",
       "      <th>City</th>\n",
       "      <th>ZipCode</th>\n",
       "      <th>CountyName</th>\n",
       "      <th>PhoneNumber</th>\n",
       "      <th>HospitalOwner</th>\n",
       "      <th>Condition</th>\n",
       "      <th>Sample</th>\n",
       "    </tr>\n",
       "  </thead>\n",
       "  <tbody>\n",
       "    <tr>\n",
       "      <th>729</th>\n",
       "      <td>10045</td>\n",
       "      <td>FAYETTE MEDICAL CENTER</td>\n",
       "      <td>1653 TEMPLE AVENUE NORTH</td>\n",
       "      <td>FAYETTE</td>\n",
       "      <td>35555</td>\n",
       "      <td>FAYETTE</td>\n",
       "      <td>2059325966</td>\n",
       "      <td>Voluntary non-profit - Other</td>\n",
       "      <td>Heart Attack</td>\n",
       "      <td>18 patients</td>\n",
       "    </tr>\n",
       "    <tr>\n",
       "      <th>730</th>\n",
       "      <td>10045</td>\n",
       "      <td>FAYETTE MEDICAL CENTER</td>\n",
       "      <td>1653 TEMPLE AVENUE NORTH</td>\n",
       "      <td>FAYETTE</td>\n",
       "      <td>35555</td>\n",
       "      <td>FAYETTE</td>\n",
       "      <td>2059325966</td>\n",
       "      <td>Voluntary non-profit - Other</td>\n",
       "      <td>Heart Attack</td>\n",
       "      <td>12 patients</td>\n",
       "    </tr>\n",
       "    <tr>\n",
       "      <th>731</th>\n",
       "      <td>10045</td>\n",
       "      <td>FAYETTE MEDICAL CENTER</td>\n",
       "      <td>1653 TEMPLE AVENUE NORTH</td>\n",
       "      <td>FAYETTE</td>\n",
       "      <td>35555</td>\n",
       "      <td>FAYETTE</td>\n",
       "      <td>2059325966</td>\n",
       "      <td>Voluntary non-profit - Other</td>\n",
       "      <td>Heart Attack</td>\n",
       "      <td>1 patients</td>\n",
       "    </tr>\n",
       "    <tr>\n",
       "      <th>732</th>\n",
       "      <td>10045</td>\n",
       "      <td>FAYETTE MEDICAL CENTER</td>\n",
       "      <td>1653 TEMPLE AVENUE NORTH</td>\n",
       "      <td>FAYETTE</td>\n",
       "      <td>35555</td>\n",
       "      <td>FAYETTE</td>\n",
       "      <td>2059325966</td>\n",
       "      <td>Voluntary non-profit - Other</td>\n",
       "      <td>Heart Attack</td>\n",
       "      <td>11 patients</td>\n",
       "    </tr>\n",
       "    <tr>\n",
       "      <th>733</th>\n",
       "      <td>10045</td>\n",
       "      <td>FAYETTE MEDICAL CENTER</td>\n",
       "      <td>1653 TEMPLE AVENUE NORTH</td>\n",
       "      <td>FAYETTE</td>\n",
       "      <td>35555</td>\n",
       "      <td>FAYETTE</td>\n",
       "      <td>2059325966</td>\n",
       "      <td>Voluntary non-profit - Other</td>\n",
       "      <td>Heart Attack</td>\n",
       "      <td>0 patients</td>\n",
       "    </tr>\n",
       "    <tr>\n",
       "      <th>734</th>\n",
       "      <td>10045</td>\n",
       "      <td>FAYETTE MEDICAL CENTER</td>\n",
       "      <td>1653 TEMPLE AVENUE NORTH</td>\n",
       "      <td>FAYETTE</td>\n",
       "      <td>35555</td>\n",
       "      <td>FAYETTE</td>\n",
       "      <td>2059325966</td>\n",
       "      <td>Voluntary non-profit - Other</td>\n",
       "      <td>Heart Failure</td>\n",
       "      <td>67 patients</td>\n",
       "    </tr>\n",
       "    <tr>\n",
       "      <th>735</th>\n",
       "      <td>10045</td>\n",
       "      <td>FAYETTE MEDICAL CENTER</td>\n",
       "      <td>1653 TEMPLE AVENUE NORTH</td>\n",
       "      <td>FAYETTE</td>\n",
       "      <td>35555</td>\n",
       "      <td>FAYETTE</td>\n",
       "      <td>2059325966</td>\n",
       "      <td>Voluntary non-profit - Other</td>\n",
       "      <td>Heart Failure</td>\n",
       "      <td>85 patients</td>\n",
       "    </tr>\n",
       "    <tr>\n",
       "      <th>736</th>\n",
       "      <td>10045</td>\n",
       "      <td>FAYETTE MEDICAL CENTER</td>\n",
       "      <td>1653 TEMPLE AVENUE NORTH</td>\n",
       "      <td>FAYETTE</td>\n",
       "      <td>35555</td>\n",
       "      <td>FAYETTE</td>\n",
       "      <td>2059325966</td>\n",
       "      <td>Voluntary non-profit - Other</td>\n",
       "      <td>Heart Failure</td>\n",
       "      <td>19 patients</td>\n",
       "    </tr>\n",
       "    <tr>\n",
       "      <th>737</th>\n",
       "      <td>10045</td>\n",
       "      <td>FAYETTE MEDICAL CENTER</td>\n",
       "      <td>1653 TEMPLE AVENUE NORTH</td>\n",
       "      <td>FAYETTE</td>\n",
       "      <td>35555</td>\n",
       "      <td>FAYETTE</td>\n",
       "      <td>2059325966</td>\n",
       "      <td>Voluntary non-profit - Other</td>\n",
       "      <td>Heart Failure</td>\n",
       "      <td>16 patients</td>\n",
       "    </tr>\n",
       "    <tr>\n",
       "      <th>738</th>\n",
       "      <td>10045</td>\n",
       "      <td>FAYETTE MEDICAL CENTER</td>\n",
       "      <td>1653 TEMPLE AVENUE NORTH</td>\n",
       "      <td>FAYETTE</td>\n",
       "      <td>35555</td>\n",
       "      <td>FAYETTE</td>\n",
       "      <td>2059325966</td>\n",
       "      <td>Voluntary non-profit - Other</td>\n",
       "      <td>Pneumonia</td>\n",
       "      <td>117 patients</td>\n",
       "    </tr>\n",
       "    <tr>\n",
       "      <th>739</th>\n",
       "      <td>10045</td>\n",
       "      <td>FAYETTE MEDICAL CENTER</td>\n",
       "      <td>1653 TEMPLE AVENUE NORTH</td>\n",
       "      <td>FAYETTE</td>\n",
       "      <td>35555</td>\n",
       "      <td>FAYETTE</td>\n",
       "      <td>2059325966</td>\n",
       "      <td>Voluntary non-profit - Other</td>\n",
       "      <td>Pneumonia</td>\n",
       "      <td>41 patients</td>\n",
       "    </tr>\n",
       "    <tr>\n",
       "      <th>740</th>\n",
       "      <td>10045</td>\n",
       "      <td>FAYETTE MEDICAL CENTER</td>\n",
       "      <td>1653 TEMPLE AVENUE NORTH</td>\n",
       "      <td>FAYETTE</td>\n",
       "      <td>35555</td>\n",
       "      <td>FAYETTE</td>\n",
       "      <td>2059325966</td>\n",
       "      <td>Voluntary non-profit - Other</td>\n",
       "      <td>Pneumonia</td>\n",
       "      <td>34 patients</td>\n",
       "    </tr>\n",
       "    <tr>\n",
       "      <th>741</th>\n",
       "      <td>10045</td>\n",
       "      <td>FAYETTE MEDICAL CENTER</td>\n",
       "      <td>1653 TEMPLE AVENUE NORTH</td>\n",
       "      <td>FAYETTE</td>\n",
       "      <td>35555</td>\n",
       "      <td>FAYETTE</td>\n",
       "      <td>2059325966</td>\n",
       "      <td>Voluntary non-profit - Other</td>\n",
       "      <td>Pneumonia</td>\n",
       "      <td>109 patients</td>\n",
       "    </tr>\n",
       "    <tr>\n",
       "      <th>742</th>\n",
       "      <td>10045</td>\n",
       "      <td>FAYETTE MEDICAL CENTER</td>\n",
       "      <td>1653 TEMPLE AVENUE NORTH</td>\n",
       "      <td>FAYETTE</td>\n",
       "      <td>35555</td>\n",
       "      <td>FAYETTE</td>\n",
       "      <td>2059325966</td>\n",
       "      <td>Voluntary non-profit - Other</td>\n",
       "      <td>Pneumonia</td>\n",
       "      <td>79 patients</td>\n",
       "    </tr>\n",
       "    <tr>\n",
       "      <th>743</th>\n",
       "      <td>10045</td>\n",
       "      <td>FAYETTE MEDICAL CENTER</td>\n",
       "      <td>1653 TEMPLE AVENUE NORTH</td>\n",
       "      <td>FAYETTE</td>\n",
       "      <td>35555</td>\n",
       "      <td>FAYETTE</td>\n",
       "      <td>2059325966</td>\n",
       "      <td>Voluntary non-profit - Other</td>\n",
       "      <td>Pneumonia</td>\n",
       "      <td>86 patients</td>\n",
       "    </tr>\n",
       "    <tr>\n",
       "      <th>744</th>\n",
       "      <td>10045</td>\n",
       "      <td>FAYETTE MEDICAL CENTER</td>\n",
       "      <td>1653 TEMPLE AVENUE NORTH</td>\n",
       "      <td>FAYETTE</td>\n",
       "      <td>35555</td>\n",
       "      <td>FAYETTE</td>\n",
       "      <td>2059325966</td>\n",
       "      <td>Voluntary non-profit - Other</td>\n",
       "      <td>Surgical Infection Prevention</td>\n",
       "      <td>0 patients</td>\n",
       "    </tr>\n",
       "    <tr>\n",
       "      <th>745</th>\n",
       "      <td>10045</td>\n",
       "      <td>FAYETTE MEDICAL CENTER</td>\n",
       "      <td>1653 TEMPLE AVENUE NORTH</td>\n",
       "      <td>FAYETTE</td>\n",
       "      <td>35555</td>\n",
       "      <td>FAYETTE</td>\n",
       "      <td>2059325966</td>\n",
       "      <td>Voluntary non-profit - Other</td>\n",
       "      <td>Surgical Infection Prevention</td>\n",
       "      <td>7 patients</td>\n",
       "    </tr>\n",
       "    <tr>\n",
       "      <th>746</th>\n",
       "      <td>10045</td>\n",
       "      <td>FAYETTE MEDICAL CENTER</td>\n",
       "      <td>1653 TEMPLE AVENUE NORTH</td>\n",
       "      <td>FAYETTE</td>\n",
       "      <td>35555</td>\n",
       "      <td>FAYETTE</td>\n",
       "      <td>2059325966</td>\n",
       "      <td>Voluntary non-profit - Other</td>\n",
       "      <td>Surgical Infection Prevention</td>\n",
       "      <td>3 patients</td>\n",
       "    </tr>\n",
       "  </tbody>\n",
       "</table>\n",
       "</div>"
      ],
      "text/plain": [
       "    ProviderNumber            HospitalName                  Address1     City  \\\n",
       "729          10045  FAYETTE MEDICAL CENTER  1653 TEMPLE AVENUE NORTH  FAYETTE   \n",
       "730          10045  FAYETTE MEDICAL CENTER  1653 TEMPLE AVENUE NORTH  FAYETTE   \n",
       "731          10045  FAYETTE MEDICAL CENTER  1653 TEMPLE AVENUE NORTH  FAYETTE   \n",
       "732          10045  FAYETTE MEDICAL CENTER  1653 TEMPLE AVENUE NORTH  FAYETTE   \n",
       "733          10045  FAYETTE MEDICAL CENTER  1653 TEMPLE AVENUE NORTH  FAYETTE   \n",
       "734          10045  FAYETTE MEDICAL CENTER  1653 TEMPLE AVENUE NORTH  FAYETTE   \n",
       "735          10045  FAYETTE MEDICAL CENTER  1653 TEMPLE AVENUE NORTH  FAYETTE   \n",
       "736          10045  FAYETTE MEDICAL CENTER  1653 TEMPLE AVENUE NORTH  FAYETTE   \n",
       "737          10045  FAYETTE MEDICAL CENTER  1653 TEMPLE AVENUE NORTH  FAYETTE   \n",
       "738          10045  FAYETTE MEDICAL CENTER  1653 TEMPLE AVENUE NORTH  FAYETTE   \n",
       "739          10045  FAYETTE MEDICAL CENTER  1653 TEMPLE AVENUE NORTH  FAYETTE   \n",
       "740          10045  FAYETTE MEDICAL CENTER  1653 TEMPLE AVENUE NORTH  FAYETTE   \n",
       "741          10045  FAYETTE MEDICAL CENTER  1653 TEMPLE AVENUE NORTH  FAYETTE   \n",
       "742          10045  FAYETTE MEDICAL CENTER  1653 TEMPLE AVENUE NORTH  FAYETTE   \n",
       "743          10045  FAYETTE MEDICAL CENTER  1653 TEMPLE AVENUE NORTH  FAYETTE   \n",
       "744          10045  FAYETTE MEDICAL CENTER  1653 TEMPLE AVENUE NORTH  FAYETTE   \n",
       "745          10045  FAYETTE MEDICAL CENTER  1653 TEMPLE AVENUE NORTH  FAYETTE   \n",
       "746          10045  FAYETTE MEDICAL CENTER  1653 TEMPLE AVENUE NORTH  FAYETTE   \n",
       "\n",
       "    ZipCode CountyName PhoneNumber                 HospitalOwner  \\\n",
       "729   35555    FAYETTE  2059325966  Voluntary non-profit - Other   \n",
       "730   35555    FAYETTE  2059325966  Voluntary non-profit - Other   \n",
       "731   35555    FAYETTE  2059325966  Voluntary non-profit - Other   \n",
       "732   35555    FAYETTE  2059325966  Voluntary non-profit - Other   \n",
       "733   35555    FAYETTE  2059325966  Voluntary non-profit - Other   \n",
       "734   35555    FAYETTE  2059325966  Voluntary non-profit - Other   \n",
       "735   35555    FAYETTE  2059325966  Voluntary non-profit - Other   \n",
       "736   35555    FAYETTE  2059325966  Voluntary non-profit - Other   \n",
       "737   35555    FAYETTE  2059325966  Voluntary non-profit - Other   \n",
       "738   35555    FAYETTE  2059325966  Voluntary non-profit - Other   \n",
       "739   35555    FAYETTE  2059325966  Voluntary non-profit - Other   \n",
       "740   35555    FAYETTE  2059325966  Voluntary non-profit - Other   \n",
       "741   35555    FAYETTE  2059325966  Voluntary non-profit - Other   \n",
       "742   35555    FAYETTE  2059325966  Voluntary non-profit - Other   \n",
       "743   35555    FAYETTE  2059325966  Voluntary non-profit - Other   \n",
       "744   35555    FAYETTE  2059325966  Voluntary non-profit - Other   \n",
       "745   35555    FAYETTE  2059325966  Voluntary non-profit - Other   \n",
       "746   35555    FAYETTE  2059325966  Voluntary non-profit - Other   \n",
       "\n",
       "                         Condition        Sample  \n",
       "729                   Heart Attack   18 patients  \n",
       "730                   Heart Attack   12 patients  \n",
       "731                   Heart Attack    1 patients  \n",
       "732                   Heart Attack   11 patients  \n",
       "733                   Heart Attack    0 patients  \n",
       "734                  Heart Failure   67 patients  \n",
       "735                  Heart Failure   85 patients  \n",
       "736                  Heart Failure   19 patients  \n",
       "737                  Heart Failure   16 patients  \n",
       "738                      Pneumonia  117 patients  \n",
       "739                      Pneumonia   41 patients  \n",
       "740                      Pneumonia   34 patients  \n",
       "741                      Pneumonia  109 patients  \n",
       "742                      Pneumonia   79 patients  \n",
       "743                      Pneumonia   86 patients  \n",
       "744  Surgical Infection Prevention    0 patients  \n",
       "745  Surgical Infection Prevention    7 patients  \n",
       "746  Surgical Infection Prevention    3 patients  "
      ]
     },
     "execution_count": 28,
     "metadata": {},
     "output_type": "execute_result"
    }
   ],
   "source": [
    "df_truth[df_truth['City'] == \"FAYETTE\"]"
   ]
  },
  {
   "cell_type": "code",
   "execution_count": null,
   "metadata": {},
   "outputs": [],
   "source": []
  }
 ],
 "metadata": {
  "kernelspec": {
   "display_name": "Python 3",
   "language": "python",
   "name": "python3"
  },
  "language_info": {
   "codemirror_mode": {
    "name": "ipython",
    "version": 3
   },
   "file_extension": ".py",
   "mimetype": "text/x-python",
   "name": "python",
   "nbconvert_exporter": "python",
   "pygments_lexer": "ipython3",
   "version": "3.5.4"
  },
  "toc": {
   "nav_menu": {},
   "number_sections": true,
   "sideBar": true,
   "skip_h1_title": true,
   "title_cell": "Table of Contents",
   "title_sidebar": "Contents",
   "toc_cell": false,
   "toc_position": {},
   "toc_section_display": true,
   "toc_window_display": false
  }
 },
 "nbformat": 4,
 "nbformat_minor": 2
}
