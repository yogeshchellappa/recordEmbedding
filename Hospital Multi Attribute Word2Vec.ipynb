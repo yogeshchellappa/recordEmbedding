{
 "cells": [
  {
   "cell_type": "code",
   "execution_count": 27,
   "metadata": {},
   "outputs": [],
   "source": [
    "import warnings\n",
    "warnings.filterwarnings('ignore')\n",
    "\n",
    "from gensim.models import Word2Vec\n",
    "import gensim\n",
    "import pandas as pd"
   ]
  },
  {
   "cell_type": "markdown",
   "metadata": {},
   "source": [
    "## Read Data\n"
   ]
  },
  {
   "cell_type": "code",
   "execution_count": 28,
   "metadata": {},
   "outputs": [],
   "source": [
    "df = pd.read_csv(\"clean_hosp_dataset.csv\",dtype=object, encoding='utf8')"
   ]
  },
  {
   "cell_type": "code",
   "execution_count": 29,
   "metadata": {},
   "outputs": [
    {
     "data": {
      "text/html": [
       "<div>\n",
       "<style scoped>\n",
       "    .dataframe tbody tr th:only-of-type {\n",
       "        vertical-align: middle;\n",
       "    }\n",
       "\n",
       "    .dataframe tbody tr th {\n",
       "        vertical-align: top;\n",
       "    }\n",
       "\n",
       "    .dataframe thead th {\n",
       "        text-align: right;\n",
       "    }\n",
       "</style>\n",
       "<table border=\"1\" class=\"dataframe\">\n",
       "  <thead>\n",
       "    <tr style=\"text-align: right;\">\n",
       "      <th></th>\n",
       "      <th>ProviderNumber</th>\n",
       "      <th>HospitalName</th>\n",
       "      <th>Address1</th>\n",
       "      <th>City</th>\n",
       "      <th>ZipCode</th>\n",
       "      <th>CountyName</th>\n",
       "      <th>PhoneNumber</th>\n",
       "      <th>HospitalOwner</th>\n",
       "      <th>Condition</th>\n",
       "      <th>Sample</th>\n",
       "    </tr>\n",
       "  </thead>\n",
       "  <tbody>\n",
       "    <tr>\n",
       "      <th>0</th>\n",
       "      <td>10018</td>\n",
       "      <td>CALLAHAN EYE FOUNDATION HOSPITAL</td>\n",
       "      <td>1720 UNIVERSITY BLVD</td>\n",
       "      <td>BIRMINGHAM</td>\n",
       "      <td>35233</td>\n",
       "      <td>JEFFERSON</td>\n",
       "      <td>2053258100</td>\n",
       "      <td>Voluntary non-profit - Private</td>\n",
       "      <td>Surgical Infection Prevention</td>\n",
       "      <td>0 patients</td>\n",
       "    </tr>\n",
       "    <tr>\n",
       "      <th>1</th>\n",
       "      <td>10019</td>\n",
       "      <td>HELEN KELLER MEMORIAL HOSPITAL</td>\n",
       "      <td>1300 SOUTH MONTGOMERY AVENUE</td>\n",
       "      <td>SHEFFIELD</td>\n",
       "      <td>35660</td>\n",
       "      <td>JEFFERSON</td>\n",
       "      <td>2563864556</td>\n",
       "      <td>Government - Hospital District or Authority</td>\n",
       "      <td>Heart Attack</td>\n",
       "      <td>33 patients</td>\n",
       "    </tr>\n",
       "  </tbody>\n",
       "</table>\n",
       "</div>"
      ],
      "text/plain": [
       "  ProviderNumber                      HospitalName  \\\n",
       "0          10018  CALLAHAN EYE FOUNDATION HOSPITAL   \n",
       "1          10019    HELEN KELLER MEMORIAL HOSPITAL   \n",
       "\n",
       "                       Address1        City ZipCode CountyName PhoneNumber  \\\n",
       "0          1720 UNIVERSITY BLVD  BIRMINGHAM   35233  JEFFERSON  2053258100   \n",
       "1  1300 SOUTH MONTGOMERY AVENUE   SHEFFIELD   35660  JEFFERSON  2563864556   \n",
       "\n",
       "                                 HospitalOwner                      Condition  \\\n",
       "0               Voluntary non-profit - Private  Surgical Infection Prevention   \n",
       "1  Government - Hospital District or Authority                   Heart Attack   \n",
       "\n",
       "        Sample  \n",
       "0   0 patients  \n",
       "1  33 patients  "
      ]
     },
     "execution_count": 29,
     "metadata": {},
     "output_type": "execute_result"
    }
   ],
   "source": [
    "df.head(2)"
   ]
  },
  {
   "cell_type": "code",
   "execution_count": 30,
   "metadata": {},
   "outputs": [
    {
     "data": {
      "text/plain": [
       "826"
      ]
     },
     "execution_count": 30,
     "metadata": {},
     "output_type": "execute_result"
    }
   ],
   "source": [
    "len(df)"
   ]
  },
  {
   "cell_type": "markdown",
   "metadata": {},
   "source": [
    "## Word2Vec Embedding using the Gensim library\n",
    "Details here: https://radimrehurek.com/gensim/"
   ]
  },
  {
   "cell_type": "code",
   "execution_count": 31,
   "metadata": {},
   "outputs": [],
   "source": [
    "dfList = df.values.tolist()"
   ]
  },
  {
   "cell_type": "code",
   "execution_count": 32,
   "metadata": {},
   "outputs": [
    {
     "data": {
      "text/plain": [
       "['10018',\n",
       " 'CALLAHAN EYE FOUNDATION HOSPITAL',\n",
       " '1720 UNIVERSITY BLVD',\n",
       " 'BIRMINGHAM',\n",
       " '35233',\n",
       " 'JEFFERSON',\n",
       " '2053258100',\n",
       " 'Voluntary non-profit - Private',\n",
       " 'Surgical Infection Prevention',\n",
       " '0 patients']"
      ]
     },
     "execution_count": 32,
     "metadata": {},
     "output_type": "execute_result"
    }
   ],
   "source": [
    "dfList[0]"
   ]
  },
  {
   "cell_type": "code",
   "execution_count": 33,
   "metadata": {},
   "outputs": [],
   "source": [
    "model = Word2Vec(dfList, sg=1, min_count=1, workers=8, iter=1000)"
   ]
  },
  {
   "cell_type": "code",
   "execution_count": 34,
   "metadata": {},
   "outputs": [
    {
     "name": "stdout",
     "output_type": "stream",
     "text": [
      "Word2Vec(vocab=611, size=100, alpha=0.025)\n"
     ]
    }
   ],
   "source": [
    "print(model)"
   ]
  },
  {
   "cell_type": "code",
   "execution_count": 35,
   "metadata": {},
   "outputs": [
    {
     "name": "stdout",
     "output_type": "stream",
     "text": [
      "[ 0.12397873  0.467522    0.25661522  0.6481418   1.5305265  -0.0184221\n",
      " -0.69931734  0.15531419 -0.09814052  0.71276474 -0.0052064   0.56886274\n",
      "  0.6166818   0.39811018 -0.03819288 -0.26020834 -0.00235871  0.19578333\n",
      " -0.4297174  -0.29599997 -0.46125832 -0.3438258  -0.90332144 -0.09199078\n",
      " -0.638152   -0.48704696  0.14182189  0.5758933  -0.00757049 -0.27981198\n",
      " -0.25818104  0.06118258 -0.30486095 -1.3425326  -1.141659    0.08769502\n",
      " -0.27708918  0.35546324  0.22149561 -0.20131525  0.5573836  -0.14360765\n",
      "  0.65885353 -0.60918915 -0.3792739  -0.14499752  0.35245618 -0.34615213\n",
      " -0.34692657 -0.95645666  0.7092861  -0.77408093 -0.87154573  0.07353432\n",
      " -0.05684222 -1.0745459   0.28248394 -0.17742403  0.13997453  0.4314345\n",
      "  0.52115875  0.09939901 -0.00289347  0.23779505 -0.86021656 -0.344762\n",
      "  0.4028054   0.5450389   0.16341944 -0.10701371 -0.26069203  0.16248119\n",
      " -0.37591302  0.46679732 -1.1779815   0.35161552 -0.07380098 -0.69357777\n",
      " -0.25608924 -0.5297847  -0.40420255  0.53931594  0.6578201   0.29803053\n",
      " -0.84356654 -0.28389898 -0.42838418 -0.01031322  0.3971011  -0.05207096\n",
      " -0.44720116 -0.08289427  0.24926451 -0.27703223 -0.1045074  -0.31390396\n",
      "  0.42253697 -0.3395502   0.1132463  -0.16828252]\n"
     ]
    }
   ],
   "source": [
    "print(model['CHEROKEE'])"
   ]
  },
  {
   "cell_type": "code",
   "execution_count": 36,
   "metadata": {},
   "outputs": [
    {
     "data": {
      "text/plain": [
       "[('2569275531', 0.762696385383606),\n",
       " ('35960', 0.757010817527771),\n",
       " ('CENTRE', 0.7564683556556702),\n",
       " ('400 NORTHWOOD DR', 0.7488652467727661),\n",
       " ('CHEROKEE MEDICAL CENTER', 0.6274447441101074),\n",
       " ('10022', 0.5803501605987549),\n",
       " ('20 patients', 0.5598365068435669),\n",
       " ('35 patients', 0.4954341650009155),\n",
       " ('31 patients', 0.4659847915172577),\n",
       " ('CLANTON', 0.46123188734054565)]"
      ]
     },
     "execution_count": 36,
     "metadata": {},
     "output_type": "execute_result"
    }
   ],
   "source": [
    "model.most_similar(\"CHEROKEE\")"
   ]
  },
  {
   "cell_type": "code",
   "execution_count": 37,
   "metadata": {},
   "outputs": [],
   "source": [
    "model.save(\"HospitalMultiAttributeWord2Vec.w2v\")"
   ]
  },
  {
   "cell_type": "code",
   "execution_count": null,
   "metadata": {},
   "outputs": [],
   "source": []
  }
 ],
 "metadata": {
  "kernelspec": {
   "display_name": "Python 3",
   "language": "python",
   "name": "python3"
  },
  "language_info": {
   "codemirror_mode": {
    "name": "ipython",
    "version": 3
   },
   "file_extension": ".py",
   "mimetype": "text/x-python",
   "name": "python",
   "nbconvert_exporter": "python",
   "pygments_lexer": "ipython3",
   "version": "3.5.0"
  },
  "toc": {
   "nav_menu": {},
   "number_sections": true,
   "sideBar": true,
   "skip_h1_title": false,
   "title_cell": "Table of Contents",
   "title_sidebar": "Contents",
   "toc_cell": false,
   "toc_position": {},
   "toc_section_display": true,
   "toc_window_display": false
  }
 },
 "nbformat": 4,
 "nbformat_minor": 2
}
