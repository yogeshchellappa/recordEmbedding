{
 "cells": [
  {
   "cell_type": "markdown",
   "metadata": {},
   "source": [
    "# Error Detection using LSTMs\n",
    "This notebook demonstrates how we use record embeddings to perform error detection in tuples. We are using the **Hospital** dataset which has been artificially augmented to contain the following type of errors:\n",
    "1. The cell values have been shuffled across the columnar axis.\n",
    "2. 5% of tuples has a cell value assigned to NaN.\n",
    "3. 10% of the tuples has a cell value misspelt.\n",
    "\n",
    "By converting each tuple to a space separated string and feeding it to an LSTM, we see if the network can learn to detect errors in the tuples."
   ]
  },
  {
   "cell_type": "code",
   "execution_count": 3,
   "metadata": {},
   "outputs": [
    {
     "name": "stderr",
     "output_type": "stream",
     "text": [
      "Using TensorFlow backend.\n"
     ]
    }
   ],
   "source": [
    "import warnings\n",
    "warnings.filterwarnings(\"ignore\")\n",
    "\n",
    "import pandas as pd\n",
    "import numpy as np\n",
    "import h5py\n",
    "import pickle\n",
    "from sklearn.model_selection import train_test_split\n",
    "\n",
    "from keras.preprocessing.text import Tokenizer\n",
    "from keras.preprocessing.sequence import pad_sequences\n",
    "from keras import models\n",
    "from keras import layers\n",
    "from keras import optimizers\n",
    "from keras import activations\n",
    "from keras import losses\n",
    "from keras import metrics\n",
    "from keras.utils import to_categorical\n",
    "\n",
    "import matplotlib.pyplot as plt\n",
    "%matplotlib inline"
   ]
  },
  {
   "cell_type": "markdown",
   "metadata": {},
   "source": [
    "## Read the data"
   ]
  },
  {
   "cell_type": "code",
   "execution_count": 5,
   "metadata": {},
   "outputs": [],
   "source": [
    "df = pd.read_csv('final_4k_tuples.csv', encoding='utf8')"
   ]
  },
  {
   "cell_type": "code",
   "execution_count": 6,
   "metadata": {},
   "outputs": [
    {
     "data": {
      "text/html": [
       "<div>\n",
       "<style scoped>\n",
       "    .dataframe tbody tr th:only-of-type {\n",
       "        vertical-align: middle;\n",
       "    }\n",
       "\n",
       "    .dataframe tbody tr th {\n",
       "        vertical-align: top;\n",
       "    }\n",
       "\n",
       "    .dataframe thead th {\n",
       "        text-align: right;\n",
       "    }\n",
       "</style>\n",
       "<table border=\"1\" class=\"dataframe\">\n",
       "  <thead>\n",
       "    <tr style=\"text-align: right;\">\n",
       "      <th></th>\n",
       "      <th>ProviderNumber</th>\n",
       "      <th>HospitalName</th>\n",
       "      <th>Address1</th>\n",
       "      <th>City</th>\n",
       "      <th>State</th>\n",
       "      <th>ZipCode</th>\n",
       "      <th>CountyName</th>\n",
       "      <th>PhoneNumber</th>\n",
       "      <th>label</th>\n",
       "    </tr>\n",
       "  </thead>\n",
       "  <tbody>\n",
       "    <tr>\n",
       "      <th>0</th>\n",
       "      <td>10039</td>\n",
       "      <td>HUNTSVILLE HOSPITAL</td>\n",
       "      <td>101 SIVLEY RD</td>\n",
       "      <td>HUNTSVILLE</td>\n",
       "      <td>AL</td>\n",
       "      <td>35801</td>\n",
       "      <td>MADIKON</td>\n",
       "      <td>2562651000</td>\n",
       "      <td>misspellings</td>\n",
       "    </tr>\n",
       "    <tr>\n",
       "      <th>1</th>\n",
       "      <td>10008</td>\n",
       "      <td>CRENSHAW COMMUNITY HOSPITAL</td>\n",
       "      <td>101 HOSPITAL CIRCLE</td>\n",
       "      <td>LUVERNE</td>\n",
       "      <td>AL</td>\n",
       "      <td>36049</td>\n",
       "      <td>CRENSHAW</td>\n",
       "      <td>3342228466</td>\n",
       "      <td>shuffling</td>\n",
       "    </tr>\n",
       "  </tbody>\n",
       "</table>\n",
       "</div>"
      ],
      "text/plain": [
       "   ProviderNumber                 HospitalName             Address1  \\\n",
       "0           10039          HUNTSVILLE HOSPITAL        101 SIVLEY RD   \n",
       "1           10008  CRENSHAW COMMUNITY HOSPITAL  101 HOSPITAL CIRCLE   \n",
       "\n",
       "         City State  ZipCode CountyName  PhoneNumber         label  \n",
       "0  HUNTSVILLE    AL    35801    MADIKON   2562651000  misspellings  \n",
       "1     LUVERNE    AL    36049   CRENSHAW   3342228466     shuffling  "
      ]
     },
     "execution_count": 6,
     "metadata": {},
     "output_type": "execute_result"
    }
   ],
   "source": [
    "df.head(2)"
   ]
  },
  {
   "cell_type": "code",
   "execution_count": 7,
   "metadata": {},
   "outputs": [
    {
     "data": {
      "text/plain": [
       "4000"
      ]
     },
     "execution_count": 7,
     "metadata": {},
     "output_type": "execute_result"
    }
   ],
   "source": [
    "len(df)"
   ]
  },
  {
   "cell_type": "code",
   "execution_count": 8,
   "metadata": {
    "scrolled": true
   },
   "outputs": [
    {
     "data": {
      "text/plain": [
       "misspellings    1000\n",
       "truth           1000\n",
       "shuffling       1000\n",
       "empty           1000\n",
       "Name: label, dtype: int64"
      ]
     },
     "execution_count": 8,
     "metadata": {},
     "output_type": "execute_result"
    }
   ],
   "source": [
    "df['label'].value_counts()"
   ]
  },
  {
   "cell_type": "markdown",
   "metadata": {},
   "source": [
    "### Some preprocessing to replace phoneNumber and providerNumber with a 0 instead of NaN"
   ]
  },
  {
   "cell_type": "code",
   "execution_count": 9,
   "metadata": {},
   "outputs": [],
   "source": [
    "df['PhoneNumber'].fillna(0, inplace=True)\n",
    "df['ProviderNumber'].fillna(0, inplace=True)\n",
    "df['ZipCode'].fillna(0, inplace=True)"
   ]
  },
  {
   "cell_type": "code",
   "execution_count": 10,
   "metadata": {},
   "outputs": [
    {
     "data": {
      "text/html": [
       "<div>\n",
       "<style scoped>\n",
       "    .dataframe tbody tr th:only-of-type {\n",
       "        vertical-align: middle;\n",
       "    }\n",
       "\n",
       "    .dataframe tbody tr th {\n",
       "        vertical-align: top;\n",
       "    }\n",
       "\n",
       "    .dataframe thead th {\n",
       "        text-align: right;\n",
       "    }\n",
       "</style>\n",
       "<table border=\"1\" class=\"dataframe\">\n",
       "  <thead>\n",
       "    <tr style=\"text-align: right;\">\n",
       "      <th></th>\n",
       "      <th>ProviderNumber</th>\n",
       "      <th>HospitalName</th>\n",
       "      <th>Address1</th>\n",
       "      <th>City</th>\n",
       "      <th>State</th>\n",
       "      <th>ZipCode</th>\n",
       "      <th>CountyName</th>\n",
       "      <th>PhoneNumber</th>\n",
       "      <th>label</th>\n",
       "    </tr>\n",
       "  </thead>\n",
       "  <tbody>\n",
       "    <tr>\n",
       "      <th>0</th>\n",
       "      <td>10039</td>\n",
       "      <td>HUNTSVILLE HOSPITAL</td>\n",
       "      <td>101 SIVLEY RD</td>\n",
       "      <td>HUNTSVILLE</td>\n",
       "      <td>AL</td>\n",
       "      <td>35801</td>\n",
       "      <td>MADIKON</td>\n",
       "      <td>2562651000</td>\n",
       "      <td>misspellings</td>\n",
       "    </tr>\n",
       "    <tr>\n",
       "      <th>1</th>\n",
       "      <td>10008</td>\n",
       "      <td>CRENSHAW COMMUNITY HOSPITAL</td>\n",
       "      <td>101 HOSPITAL CIRCLE</td>\n",
       "      <td>LUVERNE</td>\n",
       "      <td>AL</td>\n",
       "      <td>36049</td>\n",
       "      <td>CRENSHAW</td>\n",
       "      <td>3342228466</td>\n",
       "      <td>shuffling</td>\n",
       "    </tr>\n",
       "  </tbody>\n",
       "</table>\n",
       "</div>"
      ],
      "text/plain": [
       "   ProviderNumber                 HospitalName             Address1  \\\n",
       "0           10039          HUNTSVILLE HOSPITAL        101 SIVLEY RD   \n",
       "1           10008  CRENSHAW COMMUNITY HOSPITAL  101 HOSPITAL CIRCLE   \n",
       "\n",
       "         City State  ZipCode CountyName  PhoneNumber         label  \n",
       "0  HUNTSVILLE    AL    35801    MADIKON   2562651000  misspellings  \n",
       "1     LUVERNE    AL    36049   CRENSHAW   3342228466     shuffling  "
      ]
     },
     "execution_count": 10,
     "metadata": {},
     "output_type": "execute_result"
    }
   ],
   "source": [
    "df.head(2)"
   ]
  },
  {
   "cell_type": "markdown",
   "metadata": {},
   "source": [
    "### Separate the labels from the training data"
   ]
  },
  {
   "cell_type": "code",
   "execution_count": 11,
   "metadata": {},
   "outputs": [],
   "source": [
    "df['label'] = df['label'].astype('category')"
   ]
  },
  {
   "cell_type": "code",
   "execution_count": 12,
   "metadata": {},
   "outputs": [],
   "source": [
    "df[\"Label_Cat\"] = df[\"label\"].cat.codes"
   ]
  },
  {
   "cell_type": "code",
   "execution_count": 13,
   "metadata": {},
   "outputs": [
    {
     "data": {
      "text/html": [
       "<div>\n",
       "<style scoped>\n",
       "    .dataframe tbody tr th:only-of-type {\n",
       "        vertical-align: middle;\n",
       "    }\n",
       "\n",
       "    .dataframe tbody tr th {\n",
       "        vertical-align: top;\n",
       "    }\n",
       "\n",
       "    .dataframe thead th {\n",
       "        text-align: right;\n",
       "    }\n",
       "</style>\n",
       "<table border=\"1\" class=\"dataframe\">\n",
       "  <thead>\n",
       "    <tr style=\"text-align: right;\">\n",
       "      <th></th>\n",
       "      <th>ProviderNumber</th>\n",
       "      <th>HospitalName</th>\n",
       "      <th>Address1</th>\n",
       "      <th>City</th>\n",
       "      <th>State</th>\n",
       "      <th>ZipCode</th>\n",
       "      <th>CountyName</th>\n",
       "      <th>PhoneNumber</th>\n",
       "      <th>label</th>\n",
       "      <th>Label_Cat</th>\n",
       "    </tr>\n",
       "  </thead>\n",
       "  <tbody>\n",
       "    <tr>\n",
       "      <th>0</th>\n",
       "      <td>10039</td>\n",
       "      <td>HUNTSVILLE HOSPITAL</td>\n",
       "      <td>101 SIVLEY RD</td>\n",
       "      <td>HUNTSVILLE</td>\n",
       "      <td>AL</td>\n",
       "      <td>35801</td>\n",
       "      <td>MADIKON</td>\n",
       "      <td>2562651000</td>\n",
       "      <td>misspellings</td>\n",
       "      <td>1</td>\n",
       "    </tr>\n",
       "    <tr>\n",
       "      <th>1</th>\n",
       "      <td>10008</td>\n",
       "      <td>CRENSHAW COMMUNITY HOSPITAL</td>\n",
       "      <td>101 HOSPITAL CIRCLE</td>\n",
       "      <td>LUVERNE</td>\n",
       "      <td>AL</td>\n",
       "      <td>36049</td>\n",
       "      <td>CRENSHAW</td>\n",
       "      <td>3342228466</td>\n",
       "      <td>shuffling</td>\n",
       "      <td>2</td>\n",
       "    </tr>\n",
       "    <tr>\n",
       "      <th>2</th>\n",
       "      <td>10035</td>\n",
       "      <td>CULLMAN REGIONAL MEDICAL CENTER</td>\n",
       "      <td>1912 ALABAMA HIGHWAY 157</td>\n",
       "      <td>CULLMAN</td>\n",
       "      <td>RL</td>\n",
       "      <td>35058</td>\n",
       "      <td>CULLMAN</td>\n",
       "      <td>2567372000</td>\n",
       "      <td>misspellings</td>\n",
       "      <td>1</td>\n",
       "    </tr>\n",
       "    <tr>\n",
       "      <th>3</th>\n",
       "      <td>10029</td>\n",
       "      <td>EAST ALABAMA MEDICAL CENTER AND SNF</td>\n",
       "      <td>2000 PEPPERELL PARKWAY</td>\n",
       "      <td>OPELIKA</td>\n",
       "      <td>AL</td>\n",
       "      <td>36801</td>\n",
       "      <td>0</td>\n",
       "      <td>3347493411</td>\n",
       "      <td>empty</td>\n",
       "      <td>0</td>\n",
       "    </tr>\n",
       "    <tr>\n",
       "      <th>4</th>\n",
       "      <td>10044</td>\n",
       "      <td>MARION REGIONAL FEDICAL CENTER</td>\n",
       "      <td>1256 MILITARY STREET SOUTH</td>\n",
       "      <td>HAMILTON</td>\n",
       "      <td>AL</td>\n",
       "      <td>35570</td>\n",
       "      <td>MARION</td>\n",
       "      <td>2059216200</td>\n",
       "      <td>misspellings</td>\n",
       "      <td>1</td>\n",
       "    </tr>\n",
       "  </tbody>\n",
       "</table>\n",
       "</div>"
      ],
      "text/plain": [
       "   ProviderNumber                         HospitalName  \\\n",
       "0           10039                  HUNTSVILLE HOSPITAL   \n",
       "1           10008          CRENSHAW COMMUNITY HOSPITAL   \n",
       "2           10035      CULLMAN REGIONAL MEDICAL CENTER   \n",
       "3           10029  EAST ALABAMA MEDICAL CENTER AND SNF   \n",
       "4           10044       MARION REGIONAL FEDICAL CENTER   \n",
       "\n",
       "                     Address1        City State  ZipCode CountyName  \\\n",
       "0               101 SIVLEY RD  HUNTSVILLE    AL    35801    MADIKON   \n",
       "1         101 HOSPITAL CIRCLE     LUVERNE    AL    36049   CRENSHAW   \n",
       "2    1912 ALABAMA HIGHWAY 157     CULLMAN    RL    35058    CULLMAN   \n",
       "3      2000 PEPPERELL PARKWAY     OPELIKA    AL    36801          0   \n",
       "4  1256 MILITARY STREET SOUTH    HAMILTON    AL    35570     MARION   \n",
       "\n",
       "   PhoneNumber         label  Label_Cat  \n",
       "0   2562651000  misspellings          1  \n",
       "1   3342228466     shuffling          2  \n",
       "2   2567372000  misspellings          1  \n",
       "3   3347493411         empty          0  \n",
       "4   2059216200  misspellings          1  "
      ]
     },
     "execution_count": 13,
     "metadata": {},
     "output_type": "execute_result"
    }
   ],
   "source": [
    "df.head()"
   ]
  },
  {
   "cell_type": "code",
   "execution_count": 14,
   "metadata": {},
   "outputs": [
    {
     "data": {
      "text/plain": [
       "3    1000\n",
       "1    1000\n",
       "2    1000\n",
       "0    1000\n",
       "Name: Label_Cat, dtype: int64"
      ]
     },
     "execution_count": 14,
     "metadata": {},
     "output_type": "execute_result"
    }
   ],
   "source": [
    "df['Label_Cat'].value_counts()"
   ]
  },
  {
   "cell_type": "markdown",
   "metadata": {},
   "source": [
    "Get the mapping"
   ]
  },
  {
   "cell_type": "code",
   "execution_count": 15,
   "metadata": {},
   "outputs": [],
   "source": [
    "mapping = dict(enumerate(df['label'].cat.categories))"
   ]
  },
  {
   "cell_type": "code",
   "execution_count": 16,
   "metadata": {},
   "outputs": [
    {
     "data": {
      "text/plain": [
       "{0: 'empty', 1: 'misspellings', 2: 'shuffling', 3: 'truth'}"
      ]
     },
     "execution_count": 16,
     "metadata": {},
     "output_type": "execute_result"
    }
   ],
   "source": [
    "mapping"
   ]
  },
  {
   "cell_type": "code",
   "execution_count": 17,
   "metadata": {},
   "outputs": [],
   "source": [
    "df.drop(columns=['label'], axis=1, inplace=True)"
   ]
  },
  {
   "cell_type": "code",
   "execution_count": 18,
   "metadata": {},
   "outputs": [
    {
     "data": {
      "text/html": [
       "<div>\n",
       "<style scoped>\n",
       "    .dataframe tbody tr th:only-of-type {\n",
       "        vertical-align: middle;\n",
       "    }\n",
       "\n",
       "    .dataframe tbody tr th {\n",
       "        vertical-align: top;\n",
       "    }\n",
       "\n",
       "    .dataframe thead th {\n",
       "        text-align: right;\n",
       "    }\n",
       "</style>\n",
       "<table border=\"1\" class=\"dataframe\">\n",
       "  <thead>\n",
       "    <tr style=\"text-align: right;\">\n",
       "      <th></th>\n",
       "      <th>ProviderNumber</th>\n",
       "      <th>HospitalName</th>\n",
       "      <th>Address1</th>\n",
       "      <th>City</th>\n",
       "      <th>State</th>\n",
       "      <th>ZipCode</th>\n",
       "      <th>CountyName</th>\n",
       "      <th>PhoneNumber</th>\n",
       "      <th>Label_Cat</th>\n",
       "    </tr>\n",
       "  </thead>\n",
       "  <tbody>\n",
       "    <tr>\n",
       "      <th>0</th>\n",
       "      <td>10039</td>\n",
       "      <td>HUNTSVILLE HOSPITAL</td>\n",
       "      <td>101 SIVLEY RD</td>\n",
       "      <td>HUNTSVILLE</td>\n",
       "      <td>AL</td>\n",
       "      <td>35801</td>\n",
       "      <td>MADIKON</td>\n",
       "      <td>2562651000</td>\n",
       "      <td>1</td>\n",
       "    </tr>\n",
       "    <tr>\n",
       "      <th>1</th>\n",
       "      <td>10008</td>\n",
       "      <td>CRENSHAW COMMUNITY HOSPITAL</td>\n",
       "      <td>101 HOSPITAL CIRCLE</td>\n",
       "      <td>LUVERNE</td>\n",
       "      <td>AL</td>\n",
       "      <td>36049</td>\n",
       "      <td>CRENSHAW</td>\n",
       "      <td>3342228466</td>\n",
       "      <td>2</td>\n",
       "    </tr>\n",
       "  </tbody>\n",
       "</table>\n",
       "</div>"
      ],
      "text/plain": [
       "   ProviderNumber                 HospitalName             Address1  \\\n",
       "0           10039          HUNTSVILLE HOSPITAL        101 SIVLEY RD   \n",
       "1           10008  CRENSHAW COMMUNITY HOSPITAL  101 HOSPITAL CIRCLE   \n",
       "\n",
       "         City State  ZipCode CountyName  PhoneNumber  Label_Cat  \n",
       "0  HUNTSVILLE    AL    35801    MADIKON   2562651000          1  \n",
       "1     LUVERNE    AL    36049   CRENSHAW   3342228466          2  "
      ]
     },
     "execution_count": 18,
     "metadata": {},
     "output_type": "execute_result"
    }
   ],
   "source": [
    "df.head(2)"
   ]
  },
  {
   "cell_type": "code",
   "execution_count": 19,
   "metadata": {},
   "outputs": [],
   "source": [
    "labels = df['Label_Cat'].tolist()\n",
    "labels = np.asarray(labels)"
   ]
  },
  {
   "cell_type": "code",
   "execution_count": 20,
   "metadata": {},
   "outputs": [
    {
     "data": {
      "text/plain": [
       "(4000,)"
      ]
     },
     "execution_count": 20,
     "metadata": {},
     "output_type": "execute_result"
    }
   ],
   "source": [
    "labels.shape"
   ]
  },
  {
   "cell_type": "code",
   "execution_count": 21,
   "metadata": {},
   "outputs": [],
   "source": [
    "labels = to_categorical(labels)"
   ]
  },
  {
   "cell_type": "code",
   "execution_count": 22,
   "metadata": {},
   "outputs": [
    {
     "data": {
      "text/plain": [
       "(4000, 4)"
      ]
     },
     "execution_count": 22,
     "metadata": {},
     "output_type": "execute_result"
    }
   ],
   "source": [
    "labels.shape"
   ]
  },
  {
   "cell_type": "code",
   "execution_count": 23,
   "metadata": {},
   "outputs": [],
   "source": [
    "df.drop(columns=['Label_Cat'], axis=1, inplace=True)"
   ]
  },
  {
   "cell_type": "code",
   "execution_count": 24,
   "metadata": {},
   "outputs": [
    {
     "data": {
      "text/html": [
       "<div>\n",
       "<style scoped>\n",
       "    .dataframe tbody tr th:only-of-type {\n",
       "        vertical-align: middle;\n",
       "    }\n",
       "\n",
       "    .dataframe tbody tr th {\n",
       "        vertical-align: top;\n",
       "    }\n",
       "\n",
       "    .dataframe thead th {\n",
       "        text-align: right;\n",
       "    }\n",
       "</style>\n",
       "<table border=\"1\" class=\"dataframe\">\n",
       "  <thead>\n",
       "    <tr style=\"text-align: right;\">\n",
       "      <th></th>\n",
       "      <th>ProviderNumber</th>\n",
       "      <th>HospitalName</th>\n",
       "      <th>Address1</th>\n",
       "      <th>City</th>\n",
       "      <th>State</th>\n",
       "      <th>ZipCode</th>\n",
       "      <th>CountyName</th>\n",
       "      <th>PhoneNumber</th>\n",
       "    </tr>\n",
       "  </thead>\n",
       "  <tbody>\n",
       "    <tr>\n",
       "      <th>0</th>\n",
       "      <td>10039</td>\n",
       "      <td>HUNTSVILLE HOSPITAL</td>\n",
       "      <td>101 SIVLEY RD</td>\n",
       "      <td>HUNTSVILLE</td>\n",
       "      <td>AL</td>\n",
       "      <td>35801</td>\n",
       "      <td>MADIKON</td>\n",
       "      <td>2562651000</td>\n",
       "    </tr>\n",
       "    <tr>\n",
       "      <th>1</th>\n",
       "      <td>10008</td>\n",
       "      <td>CRENSHAW COMMUNITY HOSPITAL</td>\n",
       "      <td>101 HOSPITAL CIRCLE</td>\n",
       "      <td>LUVERNE</td>\n",
       "      <td>AL</td>\n",
       "      <td>36049</td>\n",
       "      <td>CRENSHAW</td>\n",
       "      <td>3342228466</td>\n",
       "    </tr>\n",
       "  </tbody>\n",
       "</table>\n",
       "</div>"
      ],
      "text/plain": [
       "   ProviderNumber                 HospitalName             Address1  \\\n",
       "0           10039          HUNTSVILLE HOSPITAL        101 SIVLEY RD   \n",
       "1           10008  CRENSHAW COMMUNITY HOSPITAL  101 HOSPITAL CIRCLE   \n",
       "\n",
       "         City State  ZipCode CountyName  PhoneNumber  \n",
       "0  HUNTSVILLE    AL    35801    MADIKON   2562651000  \n",
       "1     LUVERNE    AL    36049   CRENSHAW   3342228466  "
      ]
     },
     "execution_count": 24,
     "metadata": {},
     "output_type": "execute_result"
    }
   ],
   "source": [
    "df.head(2)"
   ]
  },
  {
   "cell_type": "markdown",
   "metadata": {},
   "source": [
    "### Drop the State as it does not add anything new"
   ]
  },
  {
   "cell_type": "code",
   "execution_count": 25,
   "metadata": {},
   "outputs": [],
   "source": [
    "df.drop(columns=['State'], axis=1, inplace=True)"
   ]
  },
  {
   "cell_type": "code",
   "execution_count": 26,
   "metadata": {},
   "outputs": [
    {
     "data": {
      "text/html": [
       "<div>\n",
       "<style scoped>\n",
       "    .dataframe tbody tr th:only-of-type {\n",
       "        vertical-align: middle;\n",
       "    }\n",
       "\n",
       "    .dataframe tbody tr th {\n",
       "        vertical-align: top;\n",
       "    }\n",
       "\n",
       "    .dataframe thead th {\n",
       "        text-align: right;\n",
       "    }\n",
       "</style>\n",
       "<table border=\"1\" class=\"dataframe\">\n",
       "  <thead>\n",
       "    <tr style=\"text-align: right;\">\n",
       "      <th></th>\n",
       "      <th>ProviderNumber</th>\n",
       "      <th>HospitalName</th>\n",
       "      <th>Address1</th>\n",
       "      <th>City</th>\n",
       "      <th>ZipCode</th>\n",
       "      <th>CountyName</th>\n",
       "      <th>PhoneNumber</th>\n",
       "    </tr>\n",
       "  </thead>\n",
       "  <tbody>\n",
       "    <tr>\n",
       "      <th>0</th>\n",
       "      <td>10039</td>\n",
       "      <td>HUNTSVILLE HOSPITAL</td>\n",
       "      <td>101 SIVLEY RD</td>\n",
       "      <td>HUNTSVILLE</td>\n",
       "      <td>35801</td>\n",
       "      <td>MADIKON</td>\n",
       "      <td>2562651000</td>\n",
       "    </tr>\n",
       "    <tr>\n",
       "      <th>1</th>\n",
       "      <td>10008</td>\n",
       "      <td>CRENSHAW COMMUNITY HOSPITAL</td>\n",
       "      <td>101 HOSPITAL CIRCLE</td>\n",
       "      <td>LUVERNE</td>\n",
       "      <td>36049</td>\n",
       "      <td>CRENSHAW</td>\n",
       "      <td>3342228466</td>\n",
       "    </tr>\n",
       "  </tbody>\n",
       "</table>\n",
       "</div>"
      ],
      "text/plain": [
       "   ProviderNumber                 HospitalName             Address1  \\\n",
       "0           10039          HUNTSVILLE HOSPITAL        101 SIVLEY RD   \n",
       "1           10008  CRENSHAW COMMUNITY HOSPITAL  101 HOSPITAL CIRCLE   \n",
       "\n",
       "         City  ZipCode CountyName  PhoneNumber  \n",
       "0  HUNTSVILLE    35801    MADIKON   2562651000  \n",
       "1     LUVERNE    36049   CRENSHAW   3342228466  "
      ]
     },
     "execution_count": 26,
     "metadata": {},
     "output_type": "execute_result"
    }
   ],
   "source": [
    "df.head(2)"
   ]
  },
  {
   "cell_type": "markdown",
   "metadata": {},
   "source": [
    "### Convert PhoneNumber and ProviderNumber to int"
   ]
  },
  {
   "cell_type": "code",
   "execution_count": 27,
   "metadata": {},
   "outputs": [],
   "source": [
    "df['ProviderNumber'] = df['ProviderNumber'].apply(lambda x: int(x))\n",
    "df['PhoneNumber'] = df['PhoneNumber'].apply(lambda x: int(x))\n",
    "df['ZipCode'] = df['ZipCode'].apply(lambda x: int(x))"
   ]
  },
  {
   "cell_type": "code",
   "execution_count": 28,
   "metadata": {},
   "outputs": [
    {
     "data": {
      "text/html": [
       "<div>\n",
       "<style scoped>\n",
       "    .dataframe tbody tr th:only-of-type {\n",
       "        vertical-align: middle;\n",
       "    }\n",
       "\n",
       "    .dataframe tbody tr th {\n",
       "        vertical-align: top;\n",
       "    }\n",
       "\n",
       "    .dataframe thead th {\n",
       "        text-align: right;\n",
       "    }\n",
       "</style>\n",
       "<table border=\"1\" class=\"dataframe\">\n",
       "  <thead>\n",
       "    <tr style=\"text-align: right;\">\n",
       "      <th></th>\n",
       "      <th>ProviderNumber</th>\n",
       "      <th>HospitalName</th>\n",
       "      <th>Address1</th>\n",
       "      <th>City</th>\n",
       "      <th>ZipCode</th>\n",
       "      <th>CountyName</th>\n",
       "      <th>PhoneNumber</th>\n",
       "    </tr>\n",
       "  </thead>\n",
       "  <tbody>\n",
       "    <tr>\n",
       "      <th>0</th>\n",
       "      <td>10039</td>\n",
       "      <td>HUNTSVILLE HOSPITAL</td>\n",
       "      <td>101 SIVLEY RD</td>\n",
       "      <td>HUNTSVILLE</td>\n",
       "      <td>35801</td>\n",
       "      <td>MADIKON</td>\n",
       "      <td>2562651000</td>\n",
       "    </tr>\n",
       "    <tr>\n",
       "      <th>1</th>\n",
       "      <td>10008</td>\n",
       "      <td>CRENSHAW COMMUNITY HOSPITAL</td>\n",
       "      <td>101 HOSPITAL CIRCLE</td>\n",
       "      <td>LUVERNE</td>\n",
       "      <td>36049</td>\n",
       "      <td>CRENSHAW</td>\n",
       "      <td>3342228466</td>\n",
       "    </tr>\n",
       "  </tbody>\n",
       "</table>\n",
       "</div>"
      ],
      "text/plain": [
       "   ProviderNumber                 HospitalName             Address1  \\\n",
       "0           10039          HUNTSVILLE HOSPITAL        101 SIVLEY RD   \n",
       "1           10008  CRENSHAW COMMUNITY HOSPITAL  101 HOSPITAL CIRCLE   \n",
       "\n",
       "         City  ZipCode CountyName  PhoneNumber  \n",
       "0  HUNTSVILLE    35801    MADIKON   2562651000  \n",
       "1     LUVERNE    36049   CRENSHAW   3342228466  "
      ]
     },
     "execution_count": 28,
     "metadata": {},
     "output_type": "execute_result"
    }
   ],
   "source": [
    "df.head(2)"
   ]
  },
  {
   "cell_type": "markdown",
   "metadata": {},
   "source": [
    "### Convert each row to a space separated string"
   ]
  },
  {
   "cell_type": "code",
   "execution_count": 29,
   "metadata": {},
   "outputs": [],
   "source": [
    "dfList = df.values.tolist()"
   ]
  },
  {
   "cell_type": "code",
   "execution_count": 30,
   "metadata": {},
   "outputs": [],
   "source": [
    "rows = []\n",
    "for row in dfList:\n",
    "    combined = ','.join([str(x) for x in row])\n",
    "    rows.append(combined)"
   ]
  },
  {
   "cell_type": "code",
   "execution_count": 31,
   "metadata": {},
   "outputs": [
    {
     "data": {
      "text/plain": [
       "4000"
      ]
     },
     "execution_count": 31,
     "metadata": {},
     "output_type": "execute_result"
    }
   ],
   "source": [
    "len(rows)"
   ]
  },
  {
   "cell_type": "code",
   "execution_count": 32,
   "metadata": {},
   "outputs": [
    {
     "data": {
      "text/plain": [
       "'10039,HUNTSVILLE HOSPITAL,101 SIVLEY RD,HUNTSVILLE,35801,MADIKON,2562651000'"
      ]
     },
     "execution_count": 32,
     "metadata": {},
     "output_type": "execute_result"
    }
   ],
   "source": [
    "rows[0]"
   ]
  },
  {
   "cell_type": "code",
   "execution_count": 33,
   "metadata": {},
   "outputs": [
    {
     "data": {
      "text/plain": [
       "103"
      ]
     },
     "execution_count": 33,
     "metadata": {},
     "output_type": "execute_result"
    }
   ],
   "source": [
    "max([len(r) for r in rows])"
   ]
  },
  {
   "cell_type": "markdown",
   "metadata": {},
   "source": [
    "### Save the dataset"
   ]
  },
  {
   "cell_type": "code",
   "execution_count": 34,
   "metadata": {},
   "outputs": [],
   "source": [
    "df.to_csv(\"HospitalTrainingData.csv\", encoding='utf8', index=False)"
   ]
  },
  {
   "cell_type": "markdown",
   "metadata": {},
   "source": [
    "## Tokenize the data"
   ]
  },
  {
   "cell_type": "markdown",
   "metadata": {},
   "source": [
    "Since the max length of a row is 110, we can set the maxSequenceLength as 110."
   ]
  },
  {
   "cell_type": "code",
   "execution_count": 35,
   "metadata": {},
   "outputs": [],
   "source": [
    "maxSequenceLength = 105\n",
    "maxWords = 2500"
   ]
  },
  {
   "cell_type": "code",
   "execution_count": 36,
   "metadata": {},
   "outputs": [],
   "source": [
    "tokenizer = Tokenizer(num_words=maxWords, split=',')"
   ]
  },
  {
   "cell_type": "code",
   "execution_count": 37,
   "metadata": {},
   "outputs": [],
   "source": [
    "tokenizer.fit_on_texts(rows)\n",
    "sequences = tokenizer.texts_to_sequences(rows)\n",
    "word_index = tokenizer.word_index"
   ]
  },
  {
   "cell_type": "code",
   "execution_count": 38,
   "metadata": {},
   "outputs": [
    {
     "data": {
      "text/plain": [
       "1103"
      ]
     },
     "execution_count": 38,
     "metadata": {},
     "output_type": "execute_result"
    }
   ],
   "source": [
    "len(word_index)"
   ]
  },
  {
   "cell_type": "code",
   "execution_count": 39,
   "metadata": {},
   "outputs": [],
   "source": [
    "data = pad_sequences(sequences, maxlen=maxSequenceLength)"
   ]
  },
  {
   "cell_type": "code",
   "execution_count": 40,
   "metadata": {},
   "outputs": [
    {
     "data": {
      "text/plain": [
       "(4000, 105)"
      ]
     },
     "execution_count": 40,
     "metadata": {},
     "output_type": "execute_result"
    }
   ],
   "source": [
    "data.shape"
   ]
  },
  {
   "cell_type": "code",
   "execution_count": 41,
   "metadata": {},
   "outputs": [
    {
     "data": {
      "text/plain": [
       "(4000, 4)"
      ]
     },
     "execution_count": 41,
     "metadata": {},
     "output_type": "execute_result"
    }
   ],
   "source": [
    "labels.shape"
   ]
  },
  {
   "cell_type": "markdown",
   "metadata": {},
   "source": [
    "## Train test split"
   ]
  },
  {
   "cell_type": "code",
   "execution_count": 42,
   "metadata": {},
   "outputs": [],
   "source": [
    "indices = np.arange(data.shape[0])\n",
    "np.random.shuffle(indices)"
   ]
  },
  {
   "cell_type": "code",
   "execution_count": 43,
   "metadata": {},
   "outputs": [],
   "source": [
    "data = data[indices]\n",
    "labels = labels[indices]"
   ]
  },
  {
   "cell_type": "code",
   "execution_count": 44,
   "metadata": {},
   "outputs": [],
   "source": [
    "X_train, X_test, y_train, y_test = train_test_split(data, labels, test_size=0.2, random_state=22, stratify=labels)"
   ]
  },
  {
   "cell_type": "code",
   "execution_count": 45,
   "metadata": {},
   "outputs": [
    {
     "data": {
      "text/plain": [
       "(3200, 3200)"
      ]
     },
     "execution_count": 45,
     "metadata": {},
     "output_type": "execute_result"
    }
   ],
   "source": [
    "len(X_train), len(y_train)"
   ]
  },
  {
   "cell_type": "code",
   "execution_count": 46,
   "metadata": {},
   "outputs": [
    {
     "data": {
      "text/plain": [
       "(800, 800)"
      ]
     },
     "execution_count": 46,
     "metadata": {},
     "output_type": "execute_result"
    }
   ],
   "source": [
    "len(X_test), len(y_test)"
   ]
  },
  {
   "cell_type": "markdown",
   "metadata": {},
   "source": [
    "## Model\n",
    "**Architecture**\n",
    "* 1 Embedding layer\n",
    "* 1 Bidirectional LSTM layer\n",
    "* 1 output layer, _sigmoid_ activation\n",
    "* Optimizer: Adam (learning rate = 0.01)\n",
    "* Loss function: Binary crossentropy loss"
   ]
  },
  {
   "cell_type": "code",
   "execution_count": 47,
   "metadata": {},
   "outputs": [],
   "source": [
    "embeddingDim = 110"
   ]
  },
  {
   "cell_type": "code",
   "execution_count": 49,
   "metadata": {},
   "outputs": [
    {
     "name": "stdout",
     "output_type": "stream",
     "text": [
      "Train on 2560 samples, validate on 640 samples\n",
      "Epoch 1/70\n",
      "2560/2560 [==============================] - 9s 4ms/step - loss: 1.0355 - categorical_accuracy: 0.4508 - val_loss: 0.9709 - val_categorical_accuracy: 0.4609\n",
      "Epoch 2/70\n",
      "2560/2560 [==============================] - 8s 3ms/step - loss: 0.9338 - categorical_accuracy: 0.5277 - val_loss: 0.8971 - val_categorical_accuracy: 0.5906\n",
      "Epoch 3/70\n",
      "2560/2560 [==============================] - 8s 3ms/step - loss: 0.6640 - categorical_accuracy: 0.7000 - val_loss: 0.7718 - val_categorical_accuracy: 0.6203\n",
      "Epoch 4/70\n",
      "2560/2560 [==============================] - 8s 3ms/step - loss: 0.7156 - categorical_accuracy: 0.6969 - val_loss: 0.9661 - val_categorical_accuracy: 0.5453\n",
      "Epoch 5/70\n",
      "2560/2560 [==============================] - 8s 3ms/step - loss: 0.6130 - categorical_accuracy: 0.7285 - val_loss: 1.1194 - val_categorical_accuracy: 0.4938\n",
      "Epoch 6/70\n",
      "2560/2560 [==============================] - 8s 3ms/step - loss: 0.5973 - categorical_accuracy: 0.7441 - val_loss: 1.2343 - val_categorical_accuracy: 0.5016\n",
      "Epoch 7/70\n",
      "2560/2560 [==============================] - 8s 3ms/step - loss: 0.5773 - categorical_accuracy: 0.7586 - val_loss: 1.4320 - val_categorical_accuracy: 0.4922\n",
      "Epoch 8/70\n",
      "2560/2560 [==============================] - 8s 3ms/step - loss: 0.5534 - categorical_accuracy: 0.7738 - val_loss: 1.4278 - val_categorical_accuracy: 0.5359\n",
      "Epoch 9/70\n",
      "2560/2560 [==============================] - 8s 3ms/step - loss: 0.5231 - categorical_accuracy: 0.7855 - val_loss: 1.4517 - val_categorical_accuracy: 0.5422\n",
      "Epoch 10/70\n",
      "2560/2560 [==============================] - 8s 3ms/step - loss: 0.5032 - categorical_accuracy: 0.8066 - val_loss: 1.5496 - val_categorical_accuracy: 0.5781\n",
      "Epoch 11/70\n",
      "2560/2560 [==============================] - 8s 3ms/step - loss: 0.4801 - categorical_accuracy: 0.8141 - val_loss: 1.4069 - val_categorical_accuracy: 0.5469\n",
      "Epoch 12/70\n",
      "2560/2560 [==============================] - 8s 3ms/step - loss: 0.4591 - categorical_accuracy: 0.8336 - val_loss: 1.6474 - val_categorical_accuracy: 0.5828\n",
      "Epoch 13/70\n",
      "2560/2560 [==============================] - 8s 3ms/step - loss: 0.4482 - categorical_accuracy: 0.8449 - val_loss: 1.6601 - val_categorical_accuracy: 0.5844\n",
      "Epoch 14/70\n",
      "2560/2560 [==============================] - 8s 3ms/step - loss: 0.4268 - categorical_accuracy: 0.8547 - val_loss: 1.6905 - val_categorical_accuracy: 0.5766\n",
      "Epoch 15/70\n",
      "2560/2560 [==============================] - 8s 3ms/step - loss: 0.4151 - categorical_accuracy: 0.8563 - val_loss: 1.5439 - val_categorical_accuracy: 0.6062\n",
      "Epoch 16/70\n",
      "2560/2560 [==============================] - 8s 3ms/step - loss: 0.4039 - categorical_accuracy: 0.8676 - val_loss: 1.4977 - val_categorical_accuracy: 0.5875\n",
      "Epoch 17/70\n",
      "2560/2560 [==============================] - 8s 3ms/step - loss: 0.3894 - categorical_accuracy: 0.8691 - val_loss: 1.6209 - val_categorical_accuracy: 0.5922\n",
      "Epoch 18/70\n",
      "2560/2560 [==============================] - 8s 3ms/step - loss: 0.3881 - categorical_accuracy: 0.8707 - val_loss: 1.9042 - val_categorical_accuracy: 0.5859\n",
      "Epoch 19/70\n",
      "2560/2560 [==============================] - 8s 3ms/step - loss: 0.3855 - categorical_accuracy: 0.8695 - val_loss: 1.8091 - val_categorical_accuracy: 0.6125\n",
      "Epoch 20/70\n",
      "2560/2560 [==============================] - 9s 3ms/step - loss: 0.3782 - categorical_accuracy: 0.8691 - val_loss: 1.7945 - val_categorical_accuracy: 0.6016\n",
      "Epoch 21/70\n",
      "2560/2560 [==============================] - 8s 3ms/step - loss: 0.3807 - categorical_accuracy: 0.8742 - val_loss: 1.7550 - val_categorical_accuracy: 0.5891\n",
      "Epoch 22/70\n",
      "2560/2560 [==============================] - 8s 3ms/step - loss: 0.3831 - categorical_accuracy: 0.8770 - val_loss: 1.7355 - val_categorical_accuracy: 0.5953\n",
      "Epoch 23/70\n",
      "2560/2560 [==============================] - 8s 3ms/step - loss: 0.3780 - categorical_accuracy: 0.8715 - val_loss: 1.6213 - val_categorical_accuracy: 0.5938\n",
      "Epoch 24/70\n",
      "2560/2560 [==============================] - 9s 3ms/step - loss: 0.3842 - categorical_accuracy: 0.8727 - val_loss: 1.7882 - val_categorical_accuracy: 0.6297\n",
      "Epoch 25/70\n",
      "2560/2560 [==============================] - 8s 3ms/step - loss: 0.3659 - categorical_accuracy: 0.8801 - val_loss: 1.7270 - val_categorical_accuracy: 0.6219\n",
      "Epoch 26/70\n",
      "2560/2560 [==============================] - 8s 3ms/step - loss: 0.3712 - categorical_accuracy: 0.8781 - val_loss: 1.8637 - val_categorical_accuracy: 0.5984\n",
      "Epoch 27/70\n",
      "2560/2560 [==============================] - 10s 4ms/step - loss: 0.3634 - categorical_accuracy: 0.8793 - val_loss: 1.8339 - val_categorical_accuracy: 0.6109\n",
      "Epoch 28/70\n",
      "2560/2560 [==============================] - 8s 3ms/step - loss: 0.3663 - categorical_accuracy: 0.8797 - val_loss: 1.6896 - val_categorical_accuracy: 0.6094\n",
      "Epoch 29/70\n",
      "2560/2560 [==============================] - 8s 3ms/step - loss: 0.3617 - categorical_accuracy: 0.8809 - val_loss: 1.7177 - val_categorical_accuracy: 0.6109\n",
      "Epoch 30/70\n",
      "2560/2560 [==============================] - 8s 3ms/step - loss: 0.3666 - categorical_accuracy: 0.8816 - val_loss: 1.8503 - val_categorical_accuracy: 0.6047\n",
      "Epoch 31/70\n",
      "2560/2560 [==============================] - 8s 3ms/step - loss: 0.3708 - categorical_accuracy: 0.8766 - val_loss: 1.6709 - val_categorical_accuracy: 0.5953\n",
      "Epoch 32/70\n",
      "2560/2560 [==============================] - 8s 3ms/step - loss: 0.3597 - categorical_accuracy: 0.8793 - val_loss: 1.8095 - val_categorical_accuracy: 0.5953\n",
      "Epoch 33/70\n",
      "2560/2560 [==============================] - 8s 3ms/step - loss: 0.3633 - categorical_accuracy: 0.8816 - val_loss: 1.8074 - val_categorical_accuracy: 0.5922\n",
      "Epoch 34/70\n",
      "2560/2560 [==============================] - 8s 3ms/step - loss: 0.3608 - categorical_accuracy: 0.8773 - val_loss: 1.7685 - val_categorical_accuracy: 0.6016\n",
      "Epoch 35/70\n",
      "2560/2560 [==============================] - 8s 3ms/step - loss: 0.3626 - categorical_accuracy: 0.8789 - val_loss: 1.7034 - val_categorical_accuracy: 0.6078\n",
      "Epoch 36/70\n",
      "2560/2560 [==============================] - 9s 4ms/step - loss: 0.3594 - categorical_accuracy: 0.8809 - val_loss: 1.8507 - val_categorical_accuracy: 0.5984\n",
      "Epoch 37/70\n",
      "2560/2560 [==============================] - 8s 3ms/step - loss: 0.3504 - categorical_accuracy: 0.8828 - val_loss: 1.8026 - val_categorical_accuracy: 0.6234\n",
      "Epoch 38/70\n",
      "2560/2560 [==============================] - 8s 3ms/step - loss: 0.3551 - categorical_accuracy: 0.8812 - val_loss: 1.8671 - val_categorical_accuracy: 0.6141\n",
      "Epoch 39/70\n",
      "2560/2560 [==============================] - 8s 3ms/step - loss: 0.3569 - categorical_accuracy: 0.8816 - val_loss: 1.8205 - val_categorical_accuracy: 0.6094\n",
      "Epoch 40/70\n",
      "2560/2560 [==============================] - 8s 3ms/step - loss: 0.3550 - categorical_accuracy: 0.8805 - val_loss: 1.9074 - val_categorical_accuracy: 0.6125\n",
      "Epoch 41/70\n",
      "2560/2560 [==============================] - 8s 3ms/step - loss: 0.3628 - categorical_accuracy: 0.8793 - val_loss: 1.7483 - val_categorical_accuracy: 0.6016\n",
      "Epoch 42/70\n",
      "2560/2560 [==============================] - 8s 3ms/step - loss: 0.3648 - categorical_accuracy: 0.8793 - val_loss: 1.6516 - val_categorical_accuracy: 0.5938\n",
      "Epoch 43/70\n",
      "2560/2560 [==============================] - 8s 3ms/step - loss: 0.3542 - categorical_accuracy: 0.8785 - val_loss: 1.6675 - val_categorical_accuracy: 0.5859\n",
      "Epoch 44/70\n",
      "2560/2560 [==============================] - 8s 3ms/step - loss: 0.3588 - categorical_accuracy: 0.8832 - val_loss: 1.7312 - val_categorical_accuracy: 0.6062\n",
      "Epoch 45/70\n",
      "2560/2560 [==============================] - 8s 3ms/step - loss: 0.3552 - categorical_accuracy: 0.8820 - val_loss: 1.7467 - val_categorical_accuracy: 0.5875\n",
      "Epoch 46/70\n",
      "2560/2560 [==============================] - 8s 3ms/step - loss: 0.3527 - categorical_accuracy: 0.8828 - val_loss: 1.6661 - val_categorical_accuracy: 0.5828\n",
      "Epoch 47/70\n",
      "2560/2560 [==============================] - 8s 3ms/step - loss: 0.3568 - categorical_accuracy: 0.8793 - val_loss: 1.7368 - val_categorical_accuracy: 0.5844\n",
      "Epoch 48/70\n",
      "2560/2560 [==============================] - 8s 3ms/step - loss: 0.3624 - categorical_accuracy: 0.8785 - val_loss: 1.8156 - val_categorical_accuracy: 0.6062\n",
      "Epoch 49/70\n"
     ]
    },
    {
     "name": "stdout",
     "output_type": "stream",
     "text": [
      "2560/2560 [==============================] - 8s 3ms/step - loss: 0.3544 - categorical_accuracy: 0.8840 - val_loss: 1.8360 - val_categorical_accuracy: 0.5891\n",
      "Epoch 50/70\n",
      "2560/2560 [==============================] - 8s 3ms/step - loss: 0.3621 - categorical_accuracy: 0.8793 - val_loss: 1.7419 - val_categorical_accuracy: 0.5984\n",
      "Epoch 51/70\n",
      "2560/2560 [==============================] - 8s 3ms/step - loss: 0.3560 - categorical_accuracy: 0.8828 - val_loss: 1.8270 - val_categorical_accuracy: 0.6125\n",
      "Epoch 52/70\n",
      "2560/2560 [==============================] - 8s 3ms/step - loss: 0.3577 - categorical_accuracy: 0.8816 - val_loss: 1.6868 - val_categorical_accuracy: 0.5922\n",
      "Epoch 53/70\n",
      "2560/2560 [==============================] - 8s 3ms/step - loss: 0.3558 - categorical_accuracy: 0.8816 - val_loss: 1.7549 - val_categorical_accuracy: 0.6047\n",
      "Epoch 54/70\n",
      "2560/2560 [==============================] - 8s 3ms/step - loss: 0.3601 - categorical_accuracy: 0.8789 - val_loss: 1.7309 - val_categorical_accuracy: 0.5875\n",
      "Epoch 55/70\n",
      "2560/2560 [==============================] - 8s 3ms/step - loss: 0.3543 - categorical_accuracy: 0.8812 - val_loss: 1.7366 - val_categorical_accuracy: 0.5953\n",
      "Epoch 56/70\n",
      "2560/2560 [==============================] - 8s 3ms/step - loss: 0.3539 - categorical_accuracy: 0.8797 - val_loss: 1.7879 - val_categorical_accuracy: 0.5969\n",
      "Epoch 57/70\n",
      "2560/2560 [==============================] - 8s 3ms/step - loss: 0.3574 - categorical_accuracy: 0.8828 - val_loss: 1.6403 - val_categorical_accuracy: 0.6000\n",
      "Epoch 58/70\n",
      "2560/2560 [==============================] - 8s 3ms/step - loss: 0.3474 - categorical_accuracy: 0.8832 - val_loss: 1.8224 - val_categorical_accuracy: 0.6062\n",
      "Epoch 59/70\n",
      "2560/2560 [==============================] - 8s 3ms/step - loss: 0.3525 - categorical_accuracy: 0.8812 - val_loss: 1.9423 - val_categorical_accuracy: 0.6109\n",
      "Epoch 60/70\n",
      "2560/2560 [==============================] - 8s 3ms/step - loss: 0.3606 - categorical_accuracy: 0.8844 - val_loss: 1.8228 - val_categorical_accuracy: 0.6156\n",
      "Epoch 61/70\n",
      "2560/2560 [==============================] - 8s 3ms/step - loss: 0.3629 - categorical_accuracy: 0.8777 - val_loss: 1.8721 - val_categorical_accuracy: 0.5984\n",
      "Epoch 62/70\n",
      "2560/2560 [==============================] - 8s 3ms/step - loss: 0.3581 - categorical_accuracy: 0.8789 - val_loss: 1.8748 - val_categorical_accuracy: 0.6031\n",
      "Epoch 63/70\n",
      "2560/2560 [==============================] - 8s 3ms/step - loss: 0.3551 - categorical_accuracy: 0.8820 - val_loss: 1.7578 - val_categorical_accuracy: 0.6000\n",
      "Epoch 64/70\n",
      "2560/2560 [==============================] - 8s 3ms/step - loss: 0.3553 - categorical_accuracy: 0.8820 - val_loss: 1.7487 - val_categorical_accuracy: 0.5969\n",
      "Epoch 65/70\n",
      "2560/2560 [==============================] - 8s 3ms/step - loss: 0.3606 - categorical_accuracy: 0.8805 - val_loss: 1.8744 - val_categorical_accuracy: 0.6016\n",
      "Epoch 66/70\n",
      "2560/2560 [==============================] - 8s 3ms/step - loss: 0.3631 - categorical_accuracy: 0.8820 - val_loss: 1.8160 - val_categorical_accuracy: 0.5984\n",
      "Epoch 67/70\n",
      "2560/2560 [==============================] - 8s 3ms/step - loss: 0.3584 - categorical_accuracy: 0.8805 - val_loss: 1.6297 - val_categorical_accuracy: 0.6031\n",
      "Epoch 68/70\n",
      "2560/2560 [==============================] - 8s 3ms/step - loss: 0.3523 - categorical_accuracy: 0.8805 - val_loss: 1.7651 - val_categorical_accuracy: 0.6125\n",
      "Epoch 69/70\n",
      "2560/2560 [==============================] - 8s 3ms/step - loss: 0.3551 - categorical_accuracy: 0.8824 - val_loss: 1.8065 - val_categorical_accuracy: 0.6031\n",
      "Epoch 70/70\n",
      "2560/2560 [==============================] - 8s 3ms/step - loss: 0.3522 - categorical_accuracy: 0.8832 - val_loss: 1.9541 - val_categorical_accuracy: 0.6094\n"
     ]
    }
   ],
   "source": [
    "model = models.Sequential()\n",
    "model.add(layers.Embedding(2500, embeddingDim, input_length=maxSequenceLength))\n",
    "model.add(layers.Bidirectional(layers.LSTM(32)))\n",
    "model.add(layers.Dense(4, activation=activations.softmax))\n",
    "model.compile(optimizer=optimizers.RMSprop(lr=0.01), loss=losses.categorical_crossentropy, metrics=[metrics.categorical_accuracy])\n",
    "\n",
    "history = model.fit(X_train, y_train,\n",
    "                    epochs=70,\n",
    "                    batch_size=32, \n",
    "                    validation_split=0.2)"
   ]
  },
  {
   "cell_type": "code",
   "execution_count": 50,
   "metadata": {},
   "outputs": [
    {
     "data": {
      "image/png": "[encoded data removed]",
      "text/plain": [
       "<matplotlib.figure.Figure at 0x1a28b6ef60>"
      ]
     },
     "metadata": {},
     "output_type": "display_data"
    },
    {
     "data": {
      "image/png": "[encoded data removed]",
      "text/plain": [
       "<matplotlib.figure.Figure at 0x1a297bd2e8>"
      ]
     },
     "metadata": {},
     "output_type": "display_data"
    }
   ],
   "source": [
    "acc = history.history['categorical_accuracy']\n",
    "val_acc = history.history['val_categorical_accuracy']\n",
    "\n",
    "loss = history.history['loss']\n",
    "val_loss = history.history['val_loss']\n",
    "\n",
    "epochs = range(1, len(acc) + 1)\n",
    "plt.plot(epochs, acc, 'bo', label='Training acc')\n",
    "plt.plot(epochs, val_acc, 'b', label='Validation acc')\n",
    "plt.title('Training and validation accuracy')\n",
    "plt.xlabel(\"Epochs\")\n",
    "plt.ylabel(\"Accuracy\")\n",
    "plt.legend()\n",
    "\n",
    "plt.figure()\n",
    "\n",
    "plt.plot(epochs, loss, 'bo', label='Training loss')\n",
    "plt.plot(epochs, val_loss, 'b', label='Validation loss')\n",
    "plt.title('Training and validation loss')\n",
    "plt.xlabel(\"Epochs\")\n",
    "plt.ylabel(\"Loss\")\n",
    "plt.legend()\n",
    "plt.show();"
   ]
  },
  {
   "cell_type": "markdown",
   "metadata": {},
   "source": [
    "## Evaluation on test set"
   ]
  },
  {
   "cell_type": "code",
   "execution_count": 51,
   "metadata": {},
   "outputs": [
    {
     "name": "stdout",
     "output_type": "stream",
     "text": [
      "800/800 [==============================] - 0s 623us/step\n"
     ]
    }
   ],
   "source": [
    "results = model.evaluate(X_test, y_test)"
   ]
  },
  {
   "cell_type": "code",
   "execution_count": 52,
   "metadata": {},
   "outputs": [],
   "source": [
    "loss = results[0]\n",
    "accuracy = results[1]"
   ]
  },
  {
   "cell_type": "code",
   "execution_count": 53,
   "metadata": {},
   "outputs": [
    {
     "data": {
      "text/plain": [
       "1.8546433973312377"
      ]
     },
     "execution_count": 53,
     "metadata": {},
     "output_type": "execute_result"
    }
   ],
   "source": [
    "loss"
   ]
  },
  {
   "cell_type": "code",
   "execution_count": 54,
   "metadata": {},
   "outputs": [
    {
     "data": {
      "text/plain": [
       "0.6175"
      ]
     },
     "execution_count": 54,
     "metadata": {},
     "output_type": "execute_result"
    }
   ],
   "source": [
    "accuracy"
   ]
  },
  {
   "cell_type": "markdown",
   "metadata": {},
   "source": [
    "## Save the model and tokenizer"
   ]
  },
  {
   "cell_type": "code",
   "execution_count": 55,
   "metadata": {},
   "outputs": [],
   "source": [
    "model.save(\"HospitalErrorDetectionMultiClassifier.h5\")"
   ]
  },
  {
   "cell_type": "code",
   "execution_count": 56,
   "metadata": {},
   "outputs": [],
   "source": [
    "with open('HospitalErrorDetectionMultiTokenizer.pickle', 'wb') as handle:\n",
    "    pickle.dump(tokenizer, handle, protocol=pickle.HIGHEST_PROTOCOL, fix_imports=True)"
   ]
  },
  {
   "cell_type": "code",
   "execution_count": null,
   "metadata": {},
   "outputs": [],
   "source": []
  }
 ],
 "metadata": {
  "kernelspec": {
   "display_name": "Python 3",
   "language": "python",
   "name": "python3"
  },
  "language_info": {
   "codemirror_mode": {
    "name": "ipython",
    "version": 3
   },
   "file_extension": ".py",
   "mimetype": "text/x-python",
   "name": "python",
   "nbconvert_exporter": "python",
   "pygments_lexer": "ipython3",
   "version": "3.6.4"
  },
  "toc": {
   "nav_menu": {},
   "number_sections": true,
   "sideBar": true,
   "skip_h1_title": true,
   "title_cell": "Table of Contents",
   "title_sidebar": "Contents",
   "toc_cell": false,
   "toc_position": {},
   "toc_section_display": true,
   "toc_window_display": false
  }
 },
 "nbformat": 4,
 "nbformat_minor": 2
}
