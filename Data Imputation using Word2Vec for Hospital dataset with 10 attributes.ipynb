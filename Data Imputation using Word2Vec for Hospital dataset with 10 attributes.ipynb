{
 "cells": [
  {
   "cell_type": "code",
   "execution_count": 79,
   "metadata": {},
   "outputs": [],
   "source": [
    "import warnings\n",
    "warnings.filterwarnings('ignore')\n",
    "\n",
    "from gensim.models.wrappers import FastText\n",
    "from gensim.models import Word2Vec\n",
    "from gensim.models import KeyedVectors\n",
    "from keras.models import load_model\n",
    "from keras.preprocessing.text import Tokenizer\n",
    "from keras.preprocessing.sequence import pad_sequences\n",
    "import pickle\n",
    "\n",
    "import pandas as pd\n",
    "import numpy as np\n",
    "from enum import Enum\n",
    "import itertools\n",
    "from collections import defaultdict\n",
    "import matplotlib.pyplot as plt\n",
    "\n",
    "from pylab import rcParams\n",
    "rcParams['figure.figsize'] = 20, 7"
   ]
  },
  {
   "cell_type": "markdown",
   "metadata": {},
   "source": [
    "## Load the clean and the dirty dataset"
   ]
  },
  {
   "cell_type": "code",
   "execution_count": 2,
   "metadata": {},
   "outputs": [],
   "source": [
    "df = pd.read_csv('HospitalErrors.csv', encoding='utf8', dtype=object)"
   ]
  },
  {
   "cell_type": "code",
   "execution_count": 3,
   "metadata": {},
   "outputs": [
    {
     "data": {
      "text/html": [
       "<div>\n",
       "<style scoped>\n",
       "    .dataframe tbody tr th:only-of-type {\n",
       "        vertical-align: middle;\n",
       "    }\n",
       "\n",
       "    .dataframe tbody tr th {\n",
       "        vertical-align: top;\n",
       "    }\n",
       "\n",
       "    .dataframe thead th {\n",
       "        text-align: right;\n",
       "    }\n",
       "</style>\n",
       "<table border=\"1\" class=\"dataframe\">\n",
       "  <thead>\n",
       "    <tr style=\"text-align: right;\">\n",
       "      <th></th>\n",
       "      <th>ProviderNumber</th>\n",
       "      <th>HospitalName</th>\n",
       "      <th>Address1</th>\n",
       "      <th>City</th>\n",
       "      <th>ZipCode</th>\n",
       "      <th>CountyName</th>\n",
       "      <th>PhoneNumber</th>\n",
       "      <th>HospitalOwner</th>\n",
       "      <th>Condition</th>\n",
       "      <th>Sample</th>\n",
       "      <th>label</th>\n",
       "    </tr>\n",
       "  </thead>\n",
       "  <tbody>\n",
       "    <tr>\n",
       "      <th>0</th>\n",
       "      <td>10011</td>\n",
       "      <td>ST VINCENT'S EAST</td>\n",
       "      <td>50 MEDICAL PARK EAST DRIVE</td>\n",
       "      <td>BIRMINGHAM</td>\n",
       "      <td>35235</td>\n",
       "      <td>JEFFERSON</td>\n",
       "      <td>2058383122</td>\n",
       "      <td>Voluntary non-profit - Private</td>\n",
       "      <td>Pneumonia</td>\n",
       "      <td>112 patients</td>\n",
       "      <td>0</td>\n",
       "    </tr>\n",
       "    <tr>\n",
       "      <th>1</th>\n",
       "      <td>10016</td>\n",
       "      <td>SHELBY BAPTIST MEDICAL CENTER</td>\n",
       "      <td>1000 FIRST STREET NORTH</td>\n",
       "      <td>ALABASTER</td>\n",
       "      <td>35007</td>\n",
       "      <td>SHELBY</td>\n",
       "      <td>2056208100</td>\n",
       "      <td>Voluntary non-profit - Church</td>\n",
       "      <td>Surgical Infection Prevention</td>\n",
       "      <td>368 patients</td>\n",
       "      <td>0</td>\n",
       "    </tr>\n",
       "  </tbody>\n",
       "</table>\n",
       "</div>"
      ],
      "text/plain": [
       "  ProviderNumber                   HospitalName                    Address1  \\\n",
       "0          10011              ST VINCENT'S EAST  50 MEDICAL PARK EAST DRIVE   \n",
       "1          10016  SHELBY BAPTIST MEDICAL CENTER     1000 FIRST STREET NORTH   \n",
       "\n",
       "         City ZipCode CountyName PhoneNumber                   HospitalOwner  \\\n",
       "0  BIRMINGHAM   35235  JEFFERSON  2058383122  Voluntary non-profit - Private   \n",
       "1   ALABASTER   35007     SHELBY  2056208100   Voluntary non-profit - Church   \n",
       "\n",
       "                       Condition        Sample label  \n",
       "0                      Pneumonia  112 patients     0  \n",
       "1  Surgical Infection Prevention  368 patients     0  "
      ]
     },
     "execution_count": 3,
     "metadata": {},
     "output_type": "execute_result"
    }
   ],
   "source": [
    "df.head(2)"
   ]
  },
  {
   "cell_type": "code",
   "execution_count": 4,
   "metadata": {},
   "outputs": [
    {
     "data": {
      "text/plain": [
       "748"
      ]
     },
     "execution_count": 4,
     "metadata": {},
     "output_type": "execute_result"
    }
   ],
   "source": [
    "len(df)"
   ]
  },
  {
   "cell_type": "code",
   "execution_count": 5,
   "metadata": {},
   "outputs": [
    {
     "data": {
      "text/plain": [
       "275"
      ]
     },
     "execution_count": 5,
     "metadata": {},
     "output_type": "execute_result"
    }
   ],
   "source": [
    "sum(df.isnull().values.ravel())"
   ]
  },
  {
   "cell_type": "code",
   "execution_count": 6,
   "metadata": {},
   "outputs": [],
   "source": [
    "dfEmpty = df[df.isnull().any(axis=1)]"
   ]
  },
  {
   "cell_type": "code",
   "execution_count": 11,
   "metadata": {},
   "outputs": [
    {
     "data": {
      "text/plain": [
       "275"
      ]
     },
     "execution_count": 11,
     "metadata": {},
     "output_type": "execute_result"
    }
   ],
   "source": [
    "len(dfEmpty)"
   ]
  },
  {
   "cell_type": "code",
   "execution_count": 12,
   "metadata": {},
   "outputs": [],
   "source": [
    "dfEmpty.drop(columns=['label'], axis=1, inplace=True)"
   ]
  },
  {
   "cell_type": "code",
   "execution_count": 13,
   "metadata": {},
   "outputs": [
    {
     "data": {
      "text/html": [
       "<div>\n",
       "<style scoped>\n",
       "    .dataframe tbody tr th:only-of-type {\n",
       "        vertical-align: middle;\n",
       "    }\n",
       "\n",
       "    .dataframe tbody tr th {\n",
       "        vertical-align: top;\n",
       "    }\n",
       "\n",
       "    .dataframe thead th {\n",
       "        text-align: right;\n",
       "    }\n",
       "</style>\n",
       "<table border=\"1\" class=\"dataframe\">\n",
       "  <thead>\n",
       "    <tr style=\"text-align: right;\">\n",
       "      <th></th>\n",
       "      <th>ProviderNumber</th>\n",
       "      <th>HospitalName</th>\n",
       "      <th>Address1</th>\n",
       "      <th>City</th>\n",
       "      <th>ZipCode</th>\n",
       "      <th>CountyName</th>\n",
       "      <th>PhoneNumber</th>\n",
       "      <th>HospitalOwner</th>\n",
       "      <th>Condition</th>\n",
       "      <th>Sample</th>\n",
       "    </tr>\n",
       "  </thead>\n",
       "  <tbody>\n",
       "    <tr>\n",
       "      <th>232</th>\n",
       "      <td>10007</td>\n",
       "      <td>MIZELL MEMORIAL HOSPITAL</td>\n",
       "      <td>702 N MAIN ST</td>\n",
       "      <td>OPP</td>\n",
       "      <td>36467</td>\n",
       "      <td>COVINGTON</td>\n",
       "      <td>3344933541</td>\n",
       "      <td>Voluntary non-profit - Private</td>\n",
       "      <td>Surgical Infection Prevention</td>\n",
       "      <td>NaN</td>\n",
       "    </tr>\n",
       "    <tr>\n",
       "      <th>233</th>\n",
       "      <td>20017</td>\n",
       "      <td>ALASKA REGIONAL HOSPITAL</td>\n",
       "      <td>2801 DEBARR ROAD</td>\n",
       "      <td>ANCHORAGE</td>\n",
       "      <td>99508</td>\n",
       "      <td>ANCHORAGE</td>\n",
       "      <td>9072761131</td>\n",
       "      <td>Proprietary</td>\n",
       "      <td>Pneumonia</td>\n",
       "      <td>NaN</td>\n",
       "    </tr>\n",
       "  </tbody>\n",
       "</table>\n",
       "</div>"
      ],
      "text/plain": [
       "    ProviderNumber              HospitalName          Address1       City  \\\n",
       "232          10007  MIZELL MEMORIAL HOSPITAL     702 N MAIN ST        OPP   \n",
       "233          20017  ALASKA REGIONAL HOSPITAL  2801 DEBARR ROAD  ANCHORAGE   \n",
       "\n",
       "    ZipCode CountyName PhoneNumber                   HospitalOwner  \\\n",
       "232   36467  COVINGTON  3344933541  Voluntary non-profit - Private   \n",
       "233   99508  ANCHORAGE  9072761131                     Proprietary   \n",
       "\n",
       "                         Condition Sample  \n",
       "232  Surgical Infection Prevention    NaN  \n",
       "233                      Pneumonia    NaN  "
      ]
     },
     "execution_count": 13,
     "metadata": {},
     "output_type": "execute_result"
    }
   ],
   "source": [
    "dfEmpty.head(2)"
   ]
  },
  {
   "cell_type": "markdown",
   "metadata": {},
   "source": [
    "## Word2Vec Model"
   ]
  },
  {
   "cell_type": "code",
   "execution_count": 14,
   "metadata": {},
   "outputs": [],
   "source": [
    "path = 'HospitalMultiAttributeWord2Vec.w2v'\n",
    "word2vecModel = KeyedVectors.load(path)"
   ]
  },
  {
   "cell_type": "code",
   "execution_count": 15,
   "metadata": {},
   "outputs": [],
   "source": [
    "class Attributes(Enum):\n",
    "    ProviderNumber = 1\n",
    "    HospitalName = 2\n",
    "    Address1 = 3\n",
    "    City = 4\n",
    "    ZipCode = 5\n",
    "    CountyName = 6\n",
    "    PhoneNumber = 7\n",
    "    HospitalOwner = 8\n",
    "    Condition = 9\n",
    "    Sample = 10"
   ]
  },
  {
   "cell_type": "code",
   "execution_count": 16,
   "metadata": {},
   "outputs": [],
   "source": [
    "attributeMapping = {}\n",
    "attributeMapping[\"ProviderNumber\"] = Attributes.ProviderNumber\n",
    "attributeMapping[\"HospitalName\"] = Attributes.HospitalName\n",
    "attributeMapping[\"Address1\"] = Attributes.Address1\n",
    "attributeMapping[\"City\"] = Attributes.City\n",
    "attributeMapping[\"ZipCode\"] = Attributes.ZipCode\n",
    "attributeMapping[\"CountyName\"] = Attributes.CountyName\n",
    "attributeMapping[\"PhoneNumber\"] = Attributes.PhoneNumber\n",
    "attributeMapping[\"HospitalOwner\"] = Attributes.HospitalOwner\n",
    "attributeMapping[\"Condition\"] = Attributes.Condition\n",
    "attributeMapping[\"Sample\"] = Attributes.Sample"
   ]
  },
  {
   "cell_type": "code",
   "execution_count": 17,
   "metadata": {},
   "outputs": [
    {
     "data": {
      "text/plain": [
       "{'Address1': <Attributes.Address1: 3>,\n",
       " 'City': <Attributes.City: 4>,\n",
       " 'Condition': <Attributes.Condition: 9>,\n",
       " 'CountyName': <Attributes.CountyName: 6>,\n",
       " 'HospitalName': <Attributes.HospitalName: 2>,\n",
       " 'HospitalOwner': <Attributes.HospitalOwner: 8>,\n",
       " 'PhoneNumber': <Attributes.PhoneNumber: 7>,\n",
       " 'ProviderNumber': <Attributes.ProviderNumber: 1>,\n",
       " 'Sample': <Attributes.Sample: 10>,\n",
       " 'ZipCode': <Attributes.ZipCode: 5>}"
      ]
     },
     "execution_count": 17,
     "metadata": {},
     "output_type": "execute_result"
    }
   ],
   "source": [
    "attributeMapping"
   ]
  },
  {
   "cell_type": "code",
   "execution_count": 18,
   "metadata": {},
   "outputs": [],
   "source": [
    "inverseMapping = {y:x for x,y in attributeMapping.items()}"
   ]
  },
  {
   "cell_type": "code",
   "execution_count": 19,
   "metadata": {},
   "outputs": [
    {
     "data": {
      "text/plain": [
       "{<Attributes.Address1: 3>: 'Address1',\n",
       " <Attributes.City: 4>: 'City',\n",
       " <Attributes.Condition: 9>: 'Condition',\n",
       " <Attributes.CountyName: 6>: 'CountyName',\n",
       " <Attributes.HospitalName: 2>: 'HospitalName',\n",
       " <Attributes.HospitalOwner: 8>: 'HospitalOwner',\n",
       " <Attributes.PhoneNumber: 7>: 'PhoneNumber',\n",
       " <Attributes.ProviderNumber: 1>: 'ProviderNumber',\n",
       " <Attributes.Sample: 10>: 'Sample',\n",
       " <Attributes.ZipCode: 5>: 'ZipCode'}"
      ]
     },
     "execution_count": 19,
     "metadata": {},
     "output_type": "execute_result"
    }
   ],
   "source": [
    "inverseMapping"
   ]
  },
  {
   "cell_type": "markdown",
   "metadata": {},
   "source": [
    "Load Model"
   ]
  },
  {
   "cell_type": "code",
   "execution_count": 20,
   "metadata": {},
   "outputs": [],
   "source": [
    "model = load_model('HospitalMultiAttributeClassifier.h5')"
   ]
  },
  {
   "cell_type": "markdown",
   "metadata": {},
   "source": [
    "Load tokenizer"
   ]
  },
  {
   "cell_type": "code",
   "execution_count": 21,
   "metadata": {},
   "outputs": [],
   "source": [
    "with open('HospitalMultiAttributeClassifierTokenizer.pickle', 'rb') as handle:\n",
    "    tokenizer = pickle.load(handle)"
   ]
  },
  {
   "cell_type": "code",
   "execution_count": 22,
   "metadata": {},
   "outputs": [],
   "source": [
    "mapping = {0: 'Address1',\n",
    " 1: 'City',\n",
    " 2: 'Condition',\n",
    " 3: 'CountyName',\n",
    " 4: 'HospitalName',\n",
    " 5: 'HospitalOwner',\n",
    " 6: 'PhoneNumber',\n",
    " 7: 'ProviderNumber',\n",
    " 8: 'Sample',\n",
    " 9: 'ZipCode'}"
   ]
  },
  {
   "cell_type": "markdown",
   "metadata": {},
   "source": [
    "## Prediction pipeline"
   ]
  },
  {
   "cell_type": "code",
   "execution_count": 23,
   "metadata": {},
   "outputs": [],
   "source": [
    "def impute(word2vecModel, model, tokenizer, rowWithMissingValue, missingType, topN=10):\n",
    "    \"\"\"\n",
    "    Returns the closest match for the missing attribute value\n",
    "    \"\"\"\n",
    "    output = dict()\n",
    "    for value in rowWithMissingValue:\n",
    "        try:\n",
    "            results = word2vecModel.wv.most_similar(value, topn=topN)\n",
    "            for match, confidence in results:\n",
    "                # Predicted type to be equal to the missing value\n",
    "                if predictAttribute(model, tokenizer, match) == missingType:\n",
    "                    if match in output and confidence <= output[match]:\n",
    "                        continue\n",
    "                    else:\n",
    "                        output[match] = confidence            \n",
    "        except KeyError:\n",
    "            continue\n",
    "    return output.items()"
   ]
  },
  {
   "cell_type": "code",
   "execution_count": 24,
   "metadata": {},
   "outputs": [],
   "source": [
    "def predictAttribute(model, tokenizer, value):\n",
    "    \"\"\"\n",
    "    Classifies value parameter as its corresponding attribute\n",
    "    \"\"\"\n",
    "    value = [value]\n",
    "    sequences = tokenizer.texts_to_sequences(value)\n",
    "    testData = pad_sequences(sequences, maxlen=45)\n",
    "    predictions = model.predict(testData)\n",
    "    return attributeMapping[mapping[np.argmax(predictions[0])]]"
   ]
  },
  {
   "cell_type": "markdown",
   "metadata": {},
   "source": [
    "Convert each row to a list"
   ]
  },
  {
   "cell_type": "code",
   "execution_count": 25,
   "metadata": {},
   "outputs": [],
   "source": [
    "nullRows = dfEmpty.values.tolist()"
   ]
  },
  {
   "cell_type": "markdown",
   "metadata": {},
   "source": [
    "Create a mapping of the form **row: missingAttribute**"
   ]
  },
  {
   "cell_type": "code",
   "execution_count": 26,
   "metadata": {},
   "outputs": [],
   "source": [
    "rows = []\n",
    "columnNames = ['ProviderNumber', 'HospitalName', 'Address1', 'City', 'ZipCode', 'CountyName', 'PhoneNumber','HospitalOwner','Condition','Sample']\n",
    "for row in nullRows:\n",
    "    missingAttribute = None\n",
    "    removedNan = []\n",
    "    for i in range(len(row)):\n",
    "        if str(row[i]) != 'nan' and str(row[i]) != '0':\n",
    "            removedNan.append(row[i])\n",
    "        else:\n",
    "            missingAttribute = attributeMapping[columnNames[i]]\n",
    "    if missingAttribute is not None:\n",
    "        rows.append({tuple(removedNan):missingAttribute})\n",
    "    else:\n",
    "        print(row)"
   ]
  },
  {
   "cell_type": "markdown",
   "metadata": {},
   "source": [
    "## Perform imputation"
   ]
  },
  {
   "cell_type": "code",
   "execution_count": 27,
   "metadata": {},
   "outputs": [],
   "source": [
    "def getImputedValue(missingRow, attributeType):\n",
    "    results = impute(word2vecModel, model, tokenizer, missingRow, attributeType, 25)\n",
    "    return sorted(results, key=lambda x: x[1], reverse=True)[0] if results else None"
   ]
  },
  {
   "cell_type": "markdown",
   "metadata": {},
   "source": [
    "### Build the verfication pipeline"
   ]
  },
  {
   "cell_type": "code",
   "execution_count": 28,
   "metadata": {},
   "outputs": [],
   "source": [
    "dfClean = pd.read_csv('clean_hosp_dataset.csv', encoding='utf8', dtype='object')"
   ]
  },
  {
   "cell_type": "code",
   "execution_count": 29,
   "metadata": {},
   "outputs": [
    {
     "data": {
      "text/plain": [
       "826"
      ]
     },
     "execution_count": 29,
     "metadata": {},
     "output_type": "execute_result"
    }
   ],
   "source": [
    "len(dfClean)"
   ]
  },
  {
   "cell_type": "code",
   "execution_count": 30,
   "metadata": {},
   "outputs": [],
   "source": [
    "dfUnique = dfClean.drop_duplicates()"
   ]
  },
  {
   "cell_type": "code",
   "execution_count": 31,
   "metadata": {},
   "outputs": [
    {
     "data": {
      "text/plain": [
       "824"
      ]
     },
     "execution_count": 31,
     "metadata": {},
     "output_type": "execute_result"
    }
   ],
   "source": [
    "len(dfUnique)"
   ]
  },
  {
   "cell_type": "code",
   "execution_count": 32,
   "metadata": {
    "scrolled": false
   },
   "outputs": [
    {
     "data": {
      "text/html": [
       "<div>\n",
       "<style scoped>\n",
       "    .dataframe tbody tr th:only-of-type {\n",
       "        vertical-align: middle;\n",
       "    }\n",
       "\n",
       "    .dataframe tbody tr th {\n",
       "        vertical-align: top;\n",
       "    }\n",
       "\n",
       "    .dataframe thead th {\n",
       "        text-align: right;\n",
       "    }\n",
       "</style>\n",
       "<table border=\"1\" class=\"dataframe\">\n",
       "  <thead>\n",
       "    <tr style=\"text-align: right;\">\n",
       "      <th></th>\n",
       "      <th>ProviderNumber</th>\n",
       "      <th>HospitalName</th>\n",
       "      <th>Address1</th>\n",
       "      <th>City</th>\n",
       "      <th>ZipCode</th>\n",
       "      <th>CountyName</th>\n",
       "      <th>PhoneNumber</th>\n",
       "      <th>HospitalOwner</th>\n",
       "      <th>Condition</th>\n",
       "      <th>Sample</th>\n",
       "    </tr>\n",
       "  </thead>\n",
       "  <tbody>\n",
       "    <tr>\n",
       "      <th>0</th>\n",
       "      <td>10018</td>\n",
       "      <td>CALLAHAN EYE FOUNDATION HOSPITAL</td>\n",
       "      <td>1720 UNIVERSITY BLVD</td>\n",
       "      <td>BIRMINGHAM</td>\n",
       "      <td>35233</td>\n",
       "      <td>JEFFERSON</td>\n",
       "      <td>2053258100</td>\n",
       "      <td>Voluntary non-profit - Private</td>\n",
       "      <td>Surgical Infection Prevention</td>\n",
       "      <td>0 patients</td>\n",
       "    </tr>\n",
       "    <tr>\n",
       "      <th>1</th>\n",
       "      <td>10019</td>\n",
       "      <td>HELEN KELLER MEMORIAL HOSPITAL</td>\n",
       "      <td>1300 SOUTH MONTGOMERY AVENUE</td>\n",
       "      <td>SHEFFIELD</td>\n",
       "      <td>35660</td>\n",
       "      <td>JEFFERSON</td>\n",
       "      <td>2563864556</td>\n",
       "      <td>Government - Hospital District or Authority</td>\n",
       "      <td>Heart Attack</td>\n",
       "      <td>33 patients</td>\n",
       "    </tr>\n",
       "  </tbody>\n",
       "</table>\n",
       "</div>"
      ],
      "text/plain": [
       "  ProviderNumber                      HospitalName  \\\n",
       "0          10018  CALLAHAN EYE FOUNDATION HOSPITAL   \n",
       "1          10019    HELEN KELLER MEMORIAL HOSPITAL   \n",
       "\n",
       "                       Address1        City ZipCode CountyName PhoneNumber  \\\n",
       "0          1720 UNIVERSITY BLVD  BIRMINGHAM   35233  JEFFERSON  2053258100   \n",
       "1  1300 SOUTH MONTGOMERY AVENUE   SHEFFIELD   35660  JEFFERSON  2563864556   \n",
       "\n",
       "                                 HospitalOwner                      Condition  \\\n",
       "0               Voluntary non-profit - Private  Surgical Infection Prevention   \n",
       "1  Government - Hospital District or Authority                   Heart Attack   \n",
       "\n",
       "        Sample  \n",
       "0   0 patients  \n",
       "1  33 patients  "
      ]
     },
     "execution_count": 32,
     "metadata": {},
     "output_type": "execute_result"
    }
   ],
   "source": [
    "dfUnique.head(2)"
   ]
  },
  {
   "cell_type": "code",
   "execution_count": 33,
   "metadata": {},
   "outputs": [],
   "source": [
    "queryMapping = {\n",
    "    Attributes.ProviderNumber : 'HospitalName==\"{}\" and Address1==\"{}\" and City==\"{}\" and ZipCode==\"{}\" and CountyName==\"{}\"and PhoneNumber==\"{}\" and HospitalOwner == \"{}\" and Condition == \"{}\" and Sample==\"{}\"',\n",
    "    Attributes.HospitalName : 'ProviderNumber==\"{}\" and Address1==\"{}\" and City==\"{}\" and ZipCode==\"{}\" and CountyName==\"{}\"and PhoneNumber==\"{}\" and HospitalOwner == \"{}\" and Condition == \"{}\" and Sample==\"{}\"',\n",
    "    Attributes.Address1 : 'ProviderNumber==\"{}\" and HospitalName==\"{}\" and City==\"{}\" and ZipCode==\"{}\" and CountyName==\"{}\"and PhoneNumber==\"{}\" and HospitalOwner == \"{}\" and Condition == \"{}\" and Sample==\"{}\"',\n",
    "    Attributes.City : 'ProviderNumber==\"{}\" and HospitalName==\"{}\" and Address1==\"{}\" and ZipCode==\"{}\" and CountyName==\"{}\"and PhoneNumber==\"{}\" and HospitalOwner == \"{}\" and Condition == \"{}\" and Sample==\"{}\"',\n",
    "    Attributes.ZipCode : 'ProviderNumber==\"{}\" and HospitalName==\"{}\" and Address1==\"{}\" and City==\"{}\" and CountyName==\"{}\"and PhoneNumber==\"{}\" and HospitalOwner == \"{}\" and Condition == \"{}\" and Sample==\"{}\"',\n",
    "    Attributes.CountyName : 'ProviderNumber==\"{}\" and HospitalName==\"{}\" and Address1==\"{}\" and City==\"{}\" and ZipCode==\"{}\" and PhoneNumber==\"{}\" and HospitalOwner == \"{}\" and Condition == \"{}\" and Sample==\"{}\"',\n",
    "    Attributes.PhoneNumber : 'ProviderNumber==\"{}\" and HospitalName==\"{}\" and Address1==\"{}\" and City==\"{}\" and ZipCode==\"{}\" and CountyName==\"{}\" and HospitalOwner == \"{}\" and Condition == \"{}\" and Sample==\"{}\"',\n",
    "    Attributes.HospitalOwner : 'ProviderNumber==\"{}\" and HospitalName==\"{}\" and Address1==\"{}\" and City==\"{}\" and ZipCode==\"{}\" and CountyName==\"{}\" and PhoneNumber==\"{}\" and Condition == \"{}\" and Sample==\"{}\"',\n",
    "    Attributes.Condition : 'ProviderNumber==\"{}\" and HospitalName==\"{}\" and Address1==\"{}\" and City==\"{}\" and ZipCode==\"{}\" and CountyName==\"{}\"and PhoneNumber==\"{}\" and HospitalOwner == \"{}\" and Sample==\"{}\"',\n",
    "    Attributes.Sample : 'ProviderNumber==\"{}\" and HospitalName==\"{}\" and Address1==\"{}\" and City==\"{}\" and ZipCode==\"{}\" and CountyName==\"{}\"and PhoneNumber==\"{}\" and HospitalOwner == \"{}\" and Condition == \"{}\"',\n",
    "}\n"
   ]
  },
  {
   "cell_type": "code",
   "execution_count": 34,
   "metadata": {},
   "outputs": [],
   "source": [
    "correct = 0\n",
    "inCorrect = 0\n",
    "incorrectPredictions = []"
   ]
  },
  {
   "cell_type": "code",
   "execution_count": 35,
   "metadata": {},
   "outputs": [],
   "source": [
    "for row in rows:\n",
    "    missingRow = list(row.keys())[0]\n",
    "    attribute = list(row.values())[0]\n",
    "\n",
    "    missingRow = [i.strip() for i in missingRow]\n",
    "    # Run the query\n",
    "    query = (queryMapping[attribute]).format(*missingRow)\n",
    "    outputDf = dfClean.query(query)\n",
    "    actual = outputDf.head(1)[inverseMapping[attribute]].to_string(index=False)\n",
    "    \n",
    "    predicted = getImputedValue(missingRow, attribute)       \n",
    "    if predicted and actual == predicted[0]:\n",
    "        correct += 1\n",
    "    else:\n",
    "        inCorrect += 1\n",
    "        incorrectPredictions.append((actual, predicted[0] if predicted else None))       \n",
    "        "
   ]
  },
  {
   "cell_type": "code",
   "execution_count": 36,
   "metadata": {},
   "outputs": [
    {
     "data": {
      "text/plain": [
       "190"
      ]
     },
     "execution_count": 36,
     "metadata": {},
     "output_type": "execute_result"
    }
   ],
   "source": [
    "correct"
   ]
  },
  {
   "cell_type": "code",
   "execution_count": 37,
   "metadata": {},
   "outputs": [
    {
     "data": {
      "text/plain": [
       "85"
      ]
     },
     "execution_count": 37,
     "metadata": {},
     "output_type": "execute_result"
    }
   ],
   "source": [
    "inCorrect"
   ]
  },
  {
   "cell_type": "code",
   "execution_count": 38,
   "metadata": {},
   "outputs": [
    {
     "data": {
      "text/plain": [
       "[('11 patients', '100 patients'),\n",
       " ('37 patients', '223 patients'),\n",
       " ('509 patients', '561 patients'),\n",
       " ('Heart Failure', None),\n",
       " ('Heart Failure', None),\n",
       " ('BIRMINGHAM', 'FRANKLIN'),\n",
       " ('Heart Failure', None),\n",
       " ('Heart Attack', None),\n",
       " ('54 patients', '144 patients'),\n",
       " ('172 patients', '167 patients'),\n",
       " ('Proprietary', None),\n",
       " ('Pneumonia', None),\n",
       " ('23 patients', '195 patients'),\n",
       " ('Voluntary non-profit - Private', None),\n",
       " ('Government - Hospital District or Authority', None),\n",
       " ('Voluntary non-profit - Other', None),\n",
       " ('Voluntary non-profit - Private', 'Government - Local'),\n",
       " ('10 patients', '78 patients'),\n",
       " ('MONTGOMERY', None),\n",
       " ('Pneumonia', None),\n",
       " ('Proprietary', None),\n",
       " ('Voluntary non-profit - Other', None),\n",
       " ('Surgical Infection Prevention', None),\n",
       " ('Government - Hospital District or Authority', None),\n",
       " ('1 patients', '21 patients'),\n",
       " ('Surgical Infection Prevention', None),\n",
       " ('Government - Hospital District or Authority', None),\n",
       " ('114 patients', '1016 patients'),\n",
       " ('Voluntary non-profit - Other', None),\n",
       " ('Voluntary non-profit - Private', None),\n",
       " ('10 patients', '58 patients'),\n",
       " ('107 patients', '607 patients'),\n",
       " ('Pneumonia', None),\n",
       " ('Surgical Infection Prevention', None),\n",
       " ('94 patients', '585 patients'),\n",
       " ('1 patients', '93 patients'),\n",
       " ('1 patients', '21 patients'),\n",
       " ('Voluntary non-profit - Private', 'Government - Local'),\n",
       " ('Pneumonia', None),\n",
       " ('Surgical Infection Prevention', None),\n",
       " ('Pneumonia', None),\n",
       " ('Voluntary non-profit - Private', None),\n",
       " ('Proprietary', None),\n",
       " ('Government - Hospital District or Authority', None),\n",
       " ('Surgical Infection Prevention', None),\n",
       " ('Pneumonia', None),\n",
       " ('Voluntary non-profit - Private', 'Government - Local'),\n",
       " ('Heart Failure', None),\n",
       " ('Voluntary non-profit - Private', None),\n",
       " ('Surgical Infection Prevention', None),\n",
       " ('54 patients', '144 patients'),\n",
       " ('Government - Hospital District or Authority', None),\n",
       " ('255 patients', '564 patients'),\n",
       " ('Pneumonia', None),\n",
       " ('11 patients', '32 patients'),\n",
       " ('0 patients', '31 patients'),\n",
       " ('Government - Hospital District or Authority', None),\n",
       " ('Pneumonia', None),\n",
       " ('Voluntary non-profit - Private', 'Government - Local'),\n",
       " ('Voluntary non-profit - Private', None),\n",
       " ('Government - Hospital District or Authority', None),\n",
       " ('Proprietary', None),\n",
       " ('3 patients', '205 patients'),\n",
       " ('Surgical Infection Prevention', None),\n",
       " ('Voluntary non-profit - Other', None),\n",
       " ('ANCHORAGE', None),\n",
       " ('Pneumonia', None),\n",
       " ('76 patients', '179 patients'),\n",
       " ('Pneumonia', None),\n",
       " ('Voluntary non-profit - Other', None),\n",
       " ('6 patients', '205 patients'),\n",
       " ('Voluntary non-profit - Private', None),\n",
       " ('Heart Attack', None),\n",
       " ('Voluntary non-profit - Private', None),\n",
       " ('Voluntary non-profit - Church', None),\n",
       " ('85 patients', '100 patients'),\n",
       " ('Pneumonia', None),\n",
       " ('68 patients', '598 patients'),\n",
       " ('Surgical Infection Prevention', None),\n",
       " ('14 patients', '167 patients'),\n",
       " ('Surgical Infection Prevention', None),\n",
       " ('128 patients', '133 patients'),\n",
       " ('54 patients', '144 patients'),\n",
       " ('FAYETTE', 'MOBILE'),\n",
       " ('270 patients', '441 patients')]"
      ]
     },
     "execution_count": 38,
     "metadata": {},
     "output_type": "execute_result"
    }
   ],
   "source": [
    "incorrectPredictions"
   ]
  },
  {
   "cell_type": "code",
   "execution_count": 39,
   "metadata": {},
   "outputs": [],
   "source": [
    "accuracy = correct / (correct + inCorrect) * 1.0"
   ]
  },
  {
   "cell_type": "code",
   "execution_count": 40,
   "metadata": {},
   "outputs": [
    {
     "data": {
      "text/plain": [
       "0.6909090909090909"
      ]
     },
     "execution_count": 40,
     "metadata": {},
     "output_type": "execute_result"
    }
   ],
   "source": [
    "accuracy"
   ]
  },
  {
   "cell_type": "code",
   "execution_count": 59,
   "metadata": {},
   "outputs": [],
   "source": [
    "errorAnalysis = defaultdict(int)\n",
    "for actual, predicted in incorrectPredictions:\n",
    "    errorAnalysis[predictAttribute(model, tokenizer, actual)] += 1"
   ]
  },
  {
   "cell_type": "code",
   "execution_count": 80,
   "metadata": {},
   "outputs": [
    {
     "data": {
      "text/plain": [
       "defaultdict(int,\n",
       "            {<Attributes.City: 4>: 3,\n",
       "             <Attributes.Condition: 9>: 26,\n",
       "             <Attributes.CountyName: 6>: 1,\n",
       "             <Attributes.HospitalOwner: 8>: 28,\n",
       "             <Attributes.Sample: 10>: 27})"
      ]
     },
     "execution_count": 80,
     "metadata": {},
     "output_type": "execute_result"
    }
   ],
   "source": [
    "errorAnalysis"
   ]
  },
  {
   "cell_type": "code",
   "execution_count": 81,
   "metadata": {},
   "outputs": [
    {
     "data": {
      "image/png": "[encoded data removed]",
      "text/plain": [
       "<matplotlib.figure.Figure at 0x1560637c940>"
      ]
     },
     "metadata": {},
     "output_type": "display_data"
    }
   ],
   "source": [
    "plt.bar(range(len(errorAnalysis)), list(errorAnalysis.values()), align='center')\n",
    "plt.xticks(range(len(errorAnalysis)), list(errorAnalysis.keys()))\n",
    "plt.show()"
   ]
  }
 ],
 "metadata": {
  "kernelspec": {
   "display_name": "Python 3",
   "language": "python",
   "name": "python3"
  },
  "language_info": {
   "codemirror_mode": {
    "name": "ipython",
    "version": 3
   },
   "file_extension": ".py",
   "mimetype": "text/x-python",
   "name": "python",
   "nbconvert_exporter": "python",
   "pygments_lexer": "ipython3",
   "version": "3.5.0"
  },
  "toc": {
   "nav_menu": {},
   "number_sections": true,
   "sideBar": true,
   "skip_h1_title": false,
   "title_cell": "Table of Contents",
   "title_sidebar": "Contents",
   "toc_cell": false,
   "toc_position": {},
   "toc_section_display": true,
   "toc_window_display": false
  }
 },
 "nbformat": 4,
 "nbformat_minor": 2
}
