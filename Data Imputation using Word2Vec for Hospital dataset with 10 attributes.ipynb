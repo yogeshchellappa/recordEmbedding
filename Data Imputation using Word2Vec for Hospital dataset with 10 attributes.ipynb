{
 "cells": [
  {
   "cell_type": "code",
   "execution_count": 1,
   "metadata": {},
   "outputs": [
    {
     "name": "stderr",
     "output_type": "stream",
     "text": [
      "Using TensorFlow backend.\n"
     ]
    }
   ],
   "source": [
    "import warnings\n",
    "warnings.filterwarnings('ignore')\n",
    "\n",
    "from gensim.models.wrappers import FastText\n",
    "from gensim.models import Word2Vec\n",
    "from gensim.models import KeyedVectors\n",
    "from keras.models import load_model\n",
    "from keras.preprocessing.text import Tokenizer\n",
    "from keras.preprocessing.sequence import pad_sequences\n",
    "import pickle\n",
    "\n",
    "import pandas as pd\n",
    "import numpy as np\n",
    "from enum import Enum\n",
    "import itertools"
   ]
  },
  {
   "cell_type": "markdown",
   "metadata": {},
   "source": [
    "## Load the clean and the dirty dataset"
   ]
  },
  {
   "cell_type": "code",
   "execution_count": 2,
   "metadata": {},
   "outputs": [],
   "source": [
    "df = pd.read_csv('HospitalErrors.csv', encoding='utf8', dtype=object)"
   ]
  },
  {
   "cell_type": "code",
   "execution_count": 3,
   "metadata": {},
   "outputs": [
    {
     "data": {
      "text/html": [
       "<div>\n",
       "<style scoped>\n",
       "    .dataframe tbody tr th:only-of-type {\n",
       "        vertical-align: middle;\n",
       "    }\n",
       "\n",
       "    .dataframe tbody tr th {\n",
       "        vertical-align: top;\n",
       "    }\n",
       "\n",
       "    .dataframe thead th {\n",
       "        text-align: right;\n",
       "    }\n",
       "</style>\n",
       "<table border=\"1\" class=\"dataframe\">\n",
       "  <thead>\n",
       "    <tr style=\"text-align: right;\">\n",
       "      <th></th>\n",
       "      <th>ProviderNumber</th>\n",
       "      <th>HospitalName</th>\n",
       "      <th>Address1</th>\n",
       "      <th>City</th>\n",
       "      <th>ZipCode</th>\n",
       "      <th>CountyName</th>\n",
       "      <th>PhoneNumber</th>\n",
       "      <th>HospitalOwner</th>\n",
       "      <th>Condition</th>\n",
       "      <th>Sample</th>\n",
       "      <th>label</th>\n",
       "    </tr>\n",
       "  </thead>\n",
       "  <tbody>\n",
       "    <tr>\n",
       "      <th>0</th>\n",
       "      <td>10046</td>\n",
       "      <td>RIVERVIEW REGIONAL MEDICAL CENTER</td>\n",
       "      <td>600 SOUTH THIRD STREET</td>\n",
       "      <td>GADSDEN</td>\n",
       "      <td>35901</td>\n",
       "      <td>ETOWAH</td>\n",
       "      <td>2565435200</td>\n",
       "      <td>NaN</td>\n",
       "      <td>Heart Failure</td>\n",
       "      <td>268 patients</td>\n",
       "      <td>0</td>\n",
       "    </tr>\n",
       "    <tr>\n",
       "      <th>1</th>\n",
       "      <td>10008</td>\n",
       "      <td>CRENSHAW COMMUNITY HOSPITAL</td>\n",
       "      <td>101 HOSPITAL CIRCLE</td>\n",
       "      <td>LUVERNE</td>\n",
       "      <td>36049</td>\n",
       "      <td>CRENSHAW</td>\n",
       "      <td>3343353374</td>\n",
       "      <td>NaN</td>\n",
       "      <td>Heart Failure</td>\n",
       "      <td>8 patients</td>\n",
       "      <td>0</td>\n",
       "    </tr>\n",
       "  </tbody>\n",
       "</table>\n",
       "</div>"
      ],
      "text/plain": [
       "  ProviderNumber                       HospitalName                Address1  \\\n",
       "0          10046  RIVERVIEW REGIONAL MEDICAL CENTER  600 SOUTH THIRD STREET   \n",
       "1          10008        CRENSHAW COMMUNITY HOSPITAL     101 HOSPITAL CIRCLE   \n",
       "\n",
       "      City ZipCode CountyName PhoneNumber HospitalOwner      Condition  \\\n",
       "0  GADSDEN   35901     ETOWAH  2565435200           NaN  Heart Failure   \n",
       "1  LUVERNE   36049   CRENSHAW  3343353374           NaN  Heart Failure   \n",
       "\n",
       "         Sample label  \n",
       "0  268 patients     0  \n",
       "1    8 patients     0  "
      ]
     },
     "execution_count": 3,
     "metadata": {},
     "output_type": "execute_result"
    }
   ],
   "source": [
    "df.head(2)"
   ]
  },
  {
   "cell_type": "code",
   "execution_count": 4,
   "metadata": {},
   "outputs": [
    {
     "data": {
      "text/plain": [
       "742"
      ]
     },
     "execution_count": 4,
     "metadata": {},
     "output_type": "execute_result"
    }
   ],
   "source": [
    "len(df)"
   ]
  },
  {
   "cell_type": "code",
   "execution_count": 5,
   "metadata": {},
   "outputs": [
    {
     "data": {
      "text/plain": [
       "206"
      ]
     },
     "execution_count": 5,
     "metadata": {},
     "output_type": "execute_result"
    }
   ],
   "source": [
    "sum(df.isnull().values.ravel())"
   ]
  },
  {
   "cell_type": "code",
   "execution_count": 12,
   "metadata": {},
   "outputs": [],
   "source": [
    "dfEmpty = df[df.isnull().any(axis=1)]"
   ]
  },
  {
   "cell_type": "code",
   "execution_count": 13,
   "metadata": {},
   "outputs": [],
   "source": [
    "dfNone = df.query('ZipCode == \"0\" or PhoneNumber == \"0\" or ProviderNumber == \"0\"')"
   ]
  },
  {
   "cell_type": "code",
   "execution_count": 14,
   "metadata": {},
   "outputs": [],
   "source": [
    "dfEmpty = pd.concat([dfEmpty, dfNone])"
   ]
  },
  {
   "cell_type": "code",
   "execution_count": 15,
   "metadata": {},
   "outputs": [
    {
     "data": {
      "text/plain": [
       "287"
      ]
     },
     "execution_count": 15,
     "metadata": {},
     "output_type": "execute_result"
    }
   ],
   "source": [
    "len(dfEmpty)"
   ]
  },
  {
   "cell_type": "code",
   "execution_count": 16,
   "metadata": {},
   "outputs": [],
   "source": [
    "dfEmpty.drop(columns=['label'], axis=1, inplace=True)"
   ]
  },
  {
   "cell_type": "code",
   "execution_count": 17,
   "metadata": {},
   "outputs": [
    {
     "data": {
      "text/html": [
       "<div>\n",
       "<style scoped>\n",
       "    .dataframe tbody tr th:only-of-type {\n",
       "        vertical-align: middle;\n",
       "    }\n",
       "\n",
       "    .dataframe tbody tr th {\n",
       "        vertical-align: top;\n",
       "    }\n",
       "\n",
       "    .dataframe thead th {\n",
       "        text-align: right;\n",
       "    }\n",
       "</style>\n",
       "<table border=\"1\" class=\"dataframe\">\n",
       "  <thead>\n",
       "    <tr style=\"text-align: right;\">\n",
       "      <th></th>\n",
       "      <th>ProviderNumber</th>\n",
       "      <th>HospitalName</th>\n",
       "      <th>Address1</th>\n",
       "      <th>City</th>\n",
       "      <th>ZipCode</th>\n",
       "      <th>CountyName</th>\n",
       "      <th>PhoneNumber</th>\n",
       "      <th>HospitalOwner</th>\n",
       "      <th>Condition</th>\n",
       "      <th>Sample</th>\n",
       "    </tr>\n",
       "  </thead>\n",
       "  <tbody>\n",
       "    <tr>\n",
       "      <th>0</th>\n",
       "      <td>10046</td>\n",
       "      <td>RIVERVIEW REGIONAL MEDICAL CENTER</td>\n",
       "      <td>600 SOUTH THIRD STREET</td>\n",
       "      <td>GADSDEN</td>\n",
       "      <td>35901</td>\n",
       "      <td>ETOWAH</td>\n",
       "      <td>2565435200</td>\n",
       "      <td>NaN</td>\n",
       "      <td>Heart Failure</td>\n",
       "      <td>268 patients</td>\n",
       "    </tr>\n",
       "    <tr>\n",
       "      <th>1</th>\n",
       "      <td>10008</td>\n",
       "      <td>CRENSHAW COMMUNITY HOSPITAL</td>\n",
       "      <td>101 HOSPITAL CIRCLE</td>\n",
       "      <td>LUVERNE</td>\n",
       "      <td>36049</td>\n",
       "      <td>CRENSHAW</td>\n",
       "      <td>3343353374</td>\n",
       "      <td>NaN</td>\n",
       "      <td>Heart Failure</td>\n",
       "      <td>8 patients</td>\n",
       "    </tr>\n",
       "  </tbody>\n",
       "</table>\n",
       "</div>"
      ],
      "text/plain": [
       "  ProviderNumber                       HospitalName                Address1  \\\n",
       "0          10046  RIVERVIEW REGIONAL MEDICAL CENTER  600 SOUTH THIRD STREET   \n",
       "1          10008        CRENSHAW COMMUNITY HOSPITAL     101 HOSPITAL CIRCLE   \n",
       "\n",
       "      City ZipCode CountyName PhoneNumber HospitalOwner      Condition  \\\n",
       "0  GADSDEN   35901     ETOWAH  2565435200           NaN  Heart Failure   \n",
       "1  LUVERNE   36049   CRENSHAW  3343353374           NaN  Heart Failure   \n",
       "\n",
       "         Sample  \n",
       "0  268 patients  \n",
       "1    8 patients  "
      ]
     },
     "execution_count": 17,
     "metadata": {},
     "output_type": "execute_result"
    }
   ],
   "source": [
    "dfEmpty.head(2)"
   ]
  },
  {
   "cell_type": "markdown",
   "metadata": {},
   "source": [
    "## Word2Vec Model"
   ]
  },
  {
   "cell_type": "code",
   "execution_count": 18,
   "metadata": {},
   "outputs": [],
   "source": [
    "path = 'HospitalMultiAttributeWord2Vec.w2v'\n",
    "word2vecModel = KeyedVectors.load(path)"
   ]
  },
  {
   "cell_type": "code",
   "execution_count": 19,
   "metadata": {},
   "outputs": [],
   "source": [
    "class Attributes(Enum):\n",
    "    ProviderNumber = 1\n",
    "    HospitalName = 2\n",
    "    Address1 = 3\n",
    "    City = 4\n",
    "    ZipCode = 5\n",
    "    CountyName = 6\n",
    "    PhoneNumber = 7\n",
    "    HospitalOwner = 8\n",
    "    Condition = 9\n",
    "    Sample = 10"
   ]
  },
  {
   "cell_type": "code",
   "execution_count": 20,
   "metadata": {},
   "outputs": [],
   "source": [
    "attributeMapping = {}\n",
    "attributeMapping[\"ProviderNumber\"] = Attributes.ProviderNumber\n",
    "attributeMapping[\"HospitalName\"] = Attributes.HospitalName\n",
    "attributeMapping[\"Address1\"] = Attributes.Address1\n",
    "attributeMapping[\"City\"] = Attributes.City\n",
    "attributeMapping[\"ZipCode\"] = Attributes.ZipCode\n",
    "attributeMapping[\"CountyName\"] = Attributes.CountyName\n",
    "attributeMapping[\"PhoneNumber\"] = Attributes.PhoneNumber\n",
    "attributeMapping[\"HospitalOwner\"] = Attributes.HospitalOwner\n",
    "attributeMapping[\"Condition\"] = Attributes.Condition\n",
    "attributeMapping[\"Sample\"] = Attributes.Sample"
   ]
  },
  {
   "cell_type": "code",
   "execution_count": 21,
   "metadata": {},
   "outputs": [
    {
     "data": {
      "text/plain": [
       "{'Address1': <Attributes.Address1: 3>,\n",
       " 'City': <Attributes.City: 4>,\n",
       " 'Condition': <Attributes.Condition: 9>,\n",
       " 'CountyName': <Attributes.CountyName: 6>,\n",
       " 'HospitalName': <Attributes.HospitalName: 2>,\n",
       " 'HospitalOwner': <Attributes.HospitalOwner: 8>,\n",
       " 'PhoneNumber': <Attributes.PhoneNumber: 7>,\n",
       " 'ProviderNumber': <Attributes.ProviderNumber: 1>,\n",
       " 'Sample': <Attributes.Sample: 10>,\n",
       " 'ZipCode': <Attributes.ZipCode: 5>}"
      ]
     },
     "execution_count": 21,
     "metadata": {},
     "output_type": "execute_result"
    }
   ],
   "source": [
    "attributeMapping"
   ]
  },
  {
   "cell_type": "markdown",
   "metadata": {},
   "source": [
    "Load Model"
   ]
  },
  {
   "cell_type": "code",
   "execution_count": 22,
   "metadata": {},
   "outputs": [],
   "source": [
    "model = load_model('HospitalMultiAttributeClassifier.h5')"
   ]
  },
  {
   "cell_type": "markdown",
   "metadata": {},
   "source": [
    "Load tokenizer"
   ]
  },
  {
   "cell_type": "code",
   "execution_count": 23,
   "metadata": {},
   "outputs": [],
   "source": [
    "with open('HospitalMultiAttributeClassifierTokenizer.pickle', 'rb') as handle:\n",
    "    tokenizer = pickle.load(handle)"
   ]
  },
  {
   "cell_type": "code",
   "execution_count": 24,
   "metadata": {},
   "outputs": [],
   "source": [
    "mapping = {0: 'Address1',\n",
    " 1: 'City',\n",
    " 2: 'Condition',\n",
    " 3: 'CountyName',\n",
    " 4: 'HospitalName',\n",
    " 5: 'HospitalOwner',\n",
    " 6: 'PhoneNumber',\n",
    " 7: 'ProviderNumber',\n",
    " 8: 'Sample',\n",
    " 9: 'ZipCode'}"
   ]
  },
  {
   "cell_type": "markdown",
   "metadata": {},
   "source": [
    "## Prediction pipeline"
   ]
  },
  {
   "cell_type": "code",
   "execution_count": 25,
   "metadata": {},
   "outputs": [],
   "source": [
    "def impute(word2vecModel, model, tokenizer, rowWithMissingValue, missingType, topN=10):\n",
    "    \"\"\"\n",
    "    Returns the closest match for the missing attribute value\n",
    "    \"\"\"\n",
    "    output = dict()\n",
    "    for value in rowWithMissingValue:\n",
    "        try:\n",
    "            results = word2vecModel.wv.most_similar(value, topn=topN)\n",
    "            for match, confidence in results:\n",
    "                # Predicted type to be equal to the missing value\n",
    "                if predictAttribute(model, tokenizer, match) == missingType:\n",
    "                    if match in output and confidence <= output[match]:\n",
    "                        continue\n",
    "                    else:\n",
    "                        output[match] = confidence            \n",
    "        except KeyError:\n",
    "            continue\n",
    "    return output.items()"
   ]
  },
  {
   "cell_type": "code",
   "execution_count": 26,
   "metadata": {},
   "outputs": [],
   "source": [
    "def predictAttribute(model, tokenizer, value):\n",
    "    \"\"\"\n",
    "    Classifies value parameter as its corresponding attribute\n",
    "    \"\"\"\n",
    "    value = [value]\n",
    "    sequences = tokenizer.texts_to_sequences(value)\n",
    "    testData = pad_sequences(sequences, maxlen=200)\n",
    "    predictions = model.predict(testData)\n",
    "    return attributeMapping[mapping[np.argmax(predictions[0])]]"
   ]
  },
  {
   "cell_type": "markdown",
   "metadata": {},
   "source": [
    "Convert each row to a list"
   ]
  },
  {
   "cell_type": "code",
   "execution_count": 27,
   "metadata": {},
   "outputs": [],
   "source": [
    "nullRows = dfEmpty.values.tolist()"
   ]
  },
  {
   "cell_type": "markdown",
   "metadata": {},
   "source": [
    "Create a mapping of the form **row: missingAttribute**"
   ]
  },
  {
   "cell_type": "code",
   "execution_count": 28,
   "metadata": {},
   "outputs": [],
   "source": [
    "rows = []\n",
    "columnNames = ['ProviderNumber', 'HospitalName', 'Address1', 'City', 'ZipCode', 'CountyName', 'PhoneNumber','HospitalOwner','Condition','Sample']\n",
    "for row in nullRows:\n",
    "    missingAttribute = None\n",
    "    removedNan = []\n",
    "    for i in range(len(row)):\n",
    "        if str(row[i]) != 'nan':\n",
    "            removedNan.append(row[i])\n",
    "        else:\n",
    "            missingAttribute = attributeMapping[columnNames[i]]\n",
    "    rows.append({tuple(removedNan):missingAttribute})"
   ]
  },
  {
   "cell_type": "code",
   "execution_count": 29,
   "metadata": {},
   "outputs": [
    {
     "data": {
      "text/plain": [
       "{('10033',\n",
       "  'UNIVERSITY OF ALABAMA HOSPITAL',\n",
       "  '619 SOUTH 19TH STREET',\n",
       "  'BIRMINGHAM',\n",
       "  '35233',\n",
       "  'JEFFERSON',\n",
       "  '2059344011',\n",
       "  'Government - State',\n",
       "  'Heart Attack'): <Attributes.Sample: 10>}"
      ]
     },
     "execution_count": 29,
     "metadata": {},
     "output_type": "execute_result"
    }
   ],
   "source": [
    "rows[2]"
   ]
  },
  {
   "cell_type": "markdown",
   "metadata": {},
   "source": [
    "## Perform imputation"
   ]
  },
  {
   "cell_type": "code",
   "execution_count": 36,
   "metadata": {},
   "outputs": [],
   "source": [
    "def getImputedValue(missingRow, attributeType):\n",
    "    results = impute(word2vecModel, model, tokenizer, missingRow, attributeType, 25)\n",
    "    return sorted(results, key=lambda x: x[1], reverse=True)[0] if results else None"
   ]
  },
  {
   "cell_type": "code",
   "execution_count": 37,
   "metadata": {},
   "outputs": [
    {
     "name": "stdout",
     "output_type": "stream",
     "text": [
      "None\n",
      "('Government - Federal', 0.5728280544281006)\n",
      "('357 patients', 0.7957759499549866)\n",
      "None\n",
      "('GADSDEN', 0.7519332766532898)\n",
      "('PRATTVILLE BAPTIST HOSPITAL', 0.7754225134849548)\n",
      "('101 SIVLEY RD', 0.721992015838623)\n",
      "('UNIV OF SOUTH ALABAMA MEDICAL CENTER', 0.7747100591659546)\n",
      "None\n",
      "('UNIV OF SOUTH ALABAMA MEDICAL CENTER', 0.7747100591659546)\n",
      "('126 HOSPITAL AVE', 0.7268096208572388)\n",
      "('38 patients', 0.5959551334381104)\n",
      "('MARION REGIONAL MEDICAL CENTER', 0.7534360885620117)\n",
      "None\n",
      "None\n",
      "None\n",
      "('COFFEE', 0.6083629727363586)\n",
      "('MARSHALL MEDICAL CENTER NORTH', 0.7338075637817383)\n",
      "('FRANKLIN', 0.45614656805992126)\n",
      "('OPELIKA', 0.7578517198562622)\n"
     ]
    }
   ],
   "source": [
    "for row in rows[:20]:\n",
    "    missingRow = list(row.keys())[0]\n",
    "    attribute = list(row.values())[0]\n",
    "    \n",
    "    predicted = getImputedValue(missingRow, attribute)\n",
    "    print(predicted)"
   ]
  },
  {
   "cell_type": "code",
   "execution_count": 54,
   "metadata": {
    "scrolled": true
   },
   "outputs": [
    {
     "data": {
      "text/plain": [
       "{('10008',\n",
       "  'CRENSHAW COMMUNITY HOSPITAL',\n",
       "  '101 HOSPITAL CIRCLE',\n",
       "  'LUVERNE',\n",
       "  '36049',\n",
       "  'CRENSHAW',\n",
       "  '3343353374',\n",
       "  'Heart Failure',\n",
       "  '8 patients'): <Attributes.HospitalOwner: 8>}"
      ]
     },
     "execution_count": 54,
     "metadata": {},
     "output_type": "execute_result"
    }
   ],
   "source": [
    "rows[1]"
   ]
  },
  {
   "cell_type": "code",
   "execution_count": 83,
   "metadata": {},
   "outputs": [],
   "source": [
    "dfClean = pd.read_csv('truth_values_1100_tuples.csv', encoding='utf8', dtype='object')"
   ]
  },
  {
   "cell_type": "code",
   "execution_count": 84,
   "metadata": {},
   "outputs": [],
   "source": [
    "dfClean.drop(columns=['label'], axis=1, inplace=True)"
   ]
  },
  {
   "cell_type": "code",
   "execution_count": 85,
   "metadata": {},
   "outputs": [
    {
     "data": {
      "text/plain": [
       "1100"
      ]
     },
     "execution_count": 85,
     "metadata": {},
     "output_type": "execute_result"
    }
   ],
   "source": [
    "len(dfClean)"
   ]
  },
  {
   "cell_type": "code",
   "execution_count": 86,
   "metadata": {
    "scrolled": true
   },
   "outputs": [
    {
     "data": {
      "text/html": [
       "<div>\n",
       "<style scoped>\n",
       "    .dataframe tbody tr th:only-of-type {\n",
       "        vertical-align: middle;\n",
       "    }\n",
       "\n",
       "    .dataframe tbody tr th {\n",
       "        vertical-align: top;\n",
       "    }\n",
       "\n",
       "    .dataframe thead th {\n",
       "        text-align: right;\n",
       "    }\n",
       "</style>\n",
       "<table border=\"1\" class=\"dataframe\">\n",
       "  <thead>\n",
       "    <tr style=\"text-align: right;\">\n",
       "      <th></th>\n",
       "      <th>ProviderNumber</th>\n",
       "      <th>HospitalName</th>\n",
       "      <th>Address1</th>\n",
       "      <th>City</th>\n",
       "      <th>ZipCode</th>\n",
       "      <th>CountyName</th>\n",
       "      <th>PhoneNumber</th>\n",
       "      <th>HospitalOwner</th>\n",
       "      <th>Condition</th>\n",
       "      <th>Sample</th>\n",
       "    </tr>\n",
       "  </thead>\n",
       "  <tbody>\n",
       "    <tr>\n",
       "      <th>0</th>\n",
       "      <td>10018</td>\n",
       "      <td>CALLAHAN EYE FOUNDATION HOSPITAL</td>\n",
       "      <td>1720 UNIVERSITY BLVD</td>\n",
       "      <td>BIRMINGHAM</td>\n",
       "      <td>35233</td>\n",
       "      <td>JEFFERSON</td>\n",
       "      <td>2053258100</td>\n",
       "      <td>Voluntary non-profit - Private</td>\n",
       "      <td>Surgical Infection Prevention</td>\n",
       "      <td>Empty</td>\n",
       "    </tr>\n",
       "    <tr>\n",
       "      <th>1</th>\n",
       "      <td>10018</td>\n",
       "      <td>CALLAHAN EYE FOUNDATION HOSPITAL</td>\n",
       "      <td>1720 UNIVERSITY BLVD</td>\n",
       "      <td>BIRMINGHAM</td>\n",
       "      <td>35233</td>\n",
       "      <td>JEFFERSON</td>\n",
       "      <td>2053258100</td>\n",
       "      <td>Voluntary non-profit - Private</td>\n",
       "      <td>Surgical Infection Prevention</td>\n",
       "      <td>Empty</td>\n",
       "    </tr>\n",
       "  </tbody>\n",
       "</table>\n",
       "</div>"
      ],
      "text/plain": [
       "  ProviderNumber                      HospitalName              Address1  \\\n",
       "0          10018  CALLAHAN EYE FOUNDATION HOSPITAL  1720 UNIVERSITY BLVD   \n",
       "1          10018  CALLAHAN EYE FOUNDATION HOSPITAL  1720 UNIVERSITY BLVD   \n",
       "\n",
       "         City ZipCode CountyName PhoneNumber                   HospitalOwner  \\\n",
       "0  BIRMINGHAM   35233  JEFFERSON  2053258100  Voluntary non-profit - Private   \n",
       "1  BIRMINGHAM   35233  JEFFERSON  2053258100  Voluntary non-profit - Private   \n",
       "\n",
       "                       Condition Sample  \n",
       "0  Surgical Infection Prevention  Empty  \n",
       "1  Surgical Infection Prevention  Empty  "
      ]
     },
     "execution_count": 86,
     "metadata": {},
     "output_type": "execute_result"
    }
   ],
   "source": [
    "dfClean.head(2)"
   ]
  },
  {
   "cell_type": "code",
   "execution_count": 87,
   "metadata": {
    "scrolled": true
   },
   "outputs": [
    {
     "data": {
      "text/html": [
       "<div>\n",
       "<style scoped>\n",
       "    .dataframe tbody tr th:only-of-type {\n",
       "        vertical-align: middle;\n",
       "    }\n",
       "\n",
       "    .dataframe tbody tr th {\n",
       "        vertical-align: top;\n",
       "    }\n",
       "\n",
       "    .dataframe thead th {\n",
       "        text-align: right;\n",
       "    }\n",
       "</style>\n",
       "<table border=\"1\" class=\"dataframe\">\n",
       "  <thead>\n",
       "    <tr style=\"text-align: right;\">\n",
       "      <th></th>\n",
       "      <th>ProviderNumber</th>\n",
       "      <th>HospitalName</th>\n",
       "      <th>Address1</th>\n",
       "      <th>City</th>\n",
       "      <th>ZipCode</th>\n",
       "      <th>CountyName</th>\n",
       "      <th>PhoneNumber</th>\n",
       "      <th>HospitalOwner</th>\n",
       "      <th>Condition</th>\n",
       "      <th>Sample</th>\n",
       "    </tr>\n",
       "  </thead>\n",
       "  <tbody>\n",
       "    <tr>\n",
       "      <th>128</th>\n",
       "      <td>10008</td>\n",
       "      <td>CRENSHAW COMMUNITY HOSPITAL</td>\n",
       "      <td>101 HOSPITAL CIRCLE</td>\n",
       "      <td>LUVERNE</td>\n",
       "      <td>36049</td>\n",
       "      <td>CRENSHAW</td>\n",
       "      <td>3343353374</td>\n",
       "      <td>Government - Federal</td>\n",
       "      <td>Heart Failure</td>\n",
       "      <td>8 patients</td>\n",
       "    </tr>\n",
       "  </tbody>\n",
       "</table>\n",
       "</div>"
      ],
      "text/plain": [
       "    ProviderNumber                 HospitalName             Address1     City  \\\n",
       "128          10008  CRENSHAW COMMUNITY HOSPITAL  101 HOSPITAL CIRCLE  LUVERNE   \n",
       "\n",
       "    ZipCode CountyName PhoneNumber         HospitalOwner      Condition  \\\n",
       "128   36049   CRENSHAW  3343353374  Government - Federal  Heart Failure   \n",
       "\n",
       "         Sample  \n",
       "128  8 patients  "
      ]
     },
     "execution_count": 87,
     "metadata": {},
     "output_type": "execute_result"
    }
   ],
   "source": [
    "dfClean.query('ProviderNumber == \"10008\" and HospitalName == \"CRENSHAW COMMUNITY HOSPITAL\"  and Address1 == \"101 HOSPITAL CIRCLE\"  and City == \"LUVERNE\"  and ZipCode == \"36049\"  and CountyName == \"CRENSHAW\"  and PhoneNumber == \"3343353374\"  and Condition == \"Heart Failure\"  and Sample == \"8 patients\"')"
   ]
  },
  {
   "cell_type": "code",
   "execution_count": 77,
   "metadata": {},
   "outputs": [
    {
     "data": {
      "text/plain": [
       "{('10040',\n",
       "  'GADSDEN REGIONAL MEDICAL CENTER',\n",
       "  '1007 GOODYEAR AVENUE',\n",
       "  '35903',\n",
       "  'ETOWAH',\n",
       "  '2564944000',\n",
       "  'Proprietary',\n",
       "  'Surgical Infection Prevention',\n",
       "  '564 patients'): <Attributes.City: 4>}"
      ]
     },
     "execution_count": 77,
     "metadata": {},
     "output_type": "execute_result"
    }
   ],
   "source": [
    "rows[4]"
   ]
  },
  {
   "cell_type": "code",
   "execution_count": 89,
   "metadata": {},
   "outputs": [
    {
     "data": {
      "text/html": [
       "<div>\n",
       "<style scoped>\n",
       "    .dataframe tbody tr th:only-of-type {\n",
       "        vertical-align: middle;\n",
       "    }\n",
       "\n",
       "    .dataframe tbody tr th {\n",
       "        vertical-align: top;\n",
       "    }\n",
       "\n",
       "    .dataframe thead th {\n",
       "        text-align: right;\n",
       "    }\n",
       "</style>\n",
       "<table border=\"1\" class=\"dataframe\">\n",
       "  <thead>\n",
       "    <tr style=\"text-align: right;\">\n",
       "      <th></th>\n",
       "      <th>ProviderNumber</th>\n",
       "      <th>HospitalName</th>\n",
       "      <th>Address1</th>\n",
       "      <th>City</th>\n",
       "      <th>ZipCode</th>\n",
       "      <th>CountyName</th>\n",
       "      <th>PhoneNumber</th>\n",
       "      <th>HospitalOwner</th>\n",
       "      <th>Condition</th>\n",
       "      <th>Sample</th>\n",
       "    </tr>\n",
       "  </thead>\n",
       "  <tbody>\n",
       "    <tr>\n",
       "      <th>821</th>\n",
       "      <td>10040</td>\n",
       "      <td>GADSDEN REGIONAL MEDICAL CENTER</td>\n",
       "      <td>1007 GOODYEAR AVENUE</td>\n",
       "      <td>GADSDEN</td>\n",
       "      <td>35903</td>\n",
       "      <td>ETOWAH</td>\n",
       "      <td>2564944000</td>\n",
       "      <td>Proprietary</td>\n",
       "      <td>Surgical Infection Prevention</td>\n",
       "      <td>564 patients</td>\n",
       "    </tr>\n",
       "  </tbody>\n",
       "</table>\n",
       "</div>"
      ],
      "text/plain": [
       "    ProviderNumber                     HospitalName              Address1  \\\n",
       "821          10040  GADSDEN REGIONAL MEDICAL CENTER  1007 GOODYEAR AVENUE   \n",
       "\n",
       "        City ZipCode CountyName PhoneNumber HospitalOwner  \\\n",
       "821  GADSDEN   35903     ETOWAH  2564944000   Proprietary   \n",
       "\n",
       "                         Condition        Sample  \n",
       "821  Surgical Infection Prevention  564 patients  "
      ]
     },
     "execution_count": 89,
     "metadata": {},
     "output_type": "execute_result"
    }
   ],
   "source": [
    "dfClean.query('ProviderNumber == \"10040\" and HospitalName == \"GADSDEN REGIONAL MEDICAL CENTER\"  and Address1 == \"1007 GOODYEAR AVENUE\" and ZipCode == \"35903\"  and CountyName == \"ETOWAH\" and HospitalOwner==\"Proprietary\"  and PhoneNumber == \"2564944000\"  and Condition == \"Surgical Infection Prevention\"  and Sample == \"564 patients\"')"
   ]
  },
  {
   "cell_type": "code",
   "execution_count": null,
   "metadata": {},
   "outputs": [],
   "source": []
  }
 ],
 "metadata": {
  "kernelspec": {
   "display_name": "Python 3",
   "language": "python",
   "name": "python3"
  },
  "language_info": {
   "codemirror_mode": {
    "name": "ipython",
    "version": 3
   },
   "file_extension": ".py",
   "mimetype": "text/x-python",
   "name": "python",
   "nbconvert_exporter": "python",
   "pygments_lexer": "ipython3",
   "version": "3.5.0"
  },
  "toc": {
   "nav_menu": {},
   "number_sections": true,
   "sideBar": true,
   "skip_h1_title": false,
   "title_cell": "Table of Contents",
   "title_sidebar": "Contents",
   "toc_cell": false,
   "toc_position": {},
   "toc_section_display": true,
   "toc_window_display": false
  }
 },
 "nbformat": 4,
 "nbformat_minor": 2
}
