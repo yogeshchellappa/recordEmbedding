{
 "cells": [
  {
   "cell_type": "markdown",
   "metadata": {},
   "source": [
    "# Record Embedding"
   ]
  },
  {
   "cell_type": "code",
   "execution_count": 34,
   "metadata": {},
   "outputs": [],
   "source": [
    "import pandas as pd\n",
    "import numpy as np\n",
    "import os\n",
    "import calendar\n",
    "from sklearn.manifold import TSNE\n",
    "import matplotlib.pyplot as plt\n",
    "from keras.models import load_model\n",
    "import h5py\n",
    "import pickle\n",
    "from keras.preprocessing.text import Tokenizer\n",
    "from keras.preprocessing.sequence import pad_sequences\n",
    "\n",
    "%matplotlib inline"
   ]
  },
  {
   "cell_type": "markdown",
   "metadata": {},
   "source": [
    "## Embedding using fastText\n",
    "Details here: https://fasttext.cc/"
   ]
  },
  {
   "cell_type": "code",
   "execution_count": 20,
   "metadata": {},
   "outputs": [],
   "source": [
    "import warnings\n",
    "warnings.filterwarnings('ignore')\n",
    "\n",
    "import gensim\n",
    "from gensim.models import FastText"
   ]
  },
  {
   "cell_type": "code",
   "execution_count": 21,
   "metadata": {},
   "outputs": [
    {
     "data": {
      "text/html": [
       "<div>\n",
       "<style scoped>\n",
       "    .dataframe tbody tr th:only-of-type {\n",
       "        vertical-align: middle;\n",
       "    }\n",
       "\n",
       "    .dataframe tbody tr th {\n",
       "        vertical-align: top;\n",
       "    }\n",
       "\n",
       "    .dataframe thead th {\n",
       "        text-align: right;\n",
       "    }\n",
       "</style>\n",
       "<table border=\"1\" class=\"dataframe\">\n",
       "  <thead>\n",
       "    <tr style=\"text-align: right;\">\n",
       "      <th></th>\n",
       "      <th>ProviderNumber</th>\n",
       "      <th>HospitalName</th>\n",
       "      <th>Address1</th>\n",
       "      <th>City.1</th>\n",
       "      <th>ZipCode</th>\n",
       "      <th>CountyName</th>\n",
       "      <th>PhoneNumber</th>\n",
       "    </tr>\n",
       "  </thead>\n",
       "  <tbody>\n",
       "    <tr>\n",
       "      <th>0</th>\n",
       "      <td>10018</td>\n",
       "      <td>CALLAHAN EYE FOUNDATION HOSPITAL</td>\n",
       "      <td>1720 UNIVERSITY BLVD</td>\n",
       "      <td>BIRMINGHAM</td>\n",
       "      <td>35233</td>\n",
       "      <td>JEFFERSON</td>\n",
       "      <td>2053258100</td>\n",
       "    </tr>\n",
       "    <tr>\n",
       "      <th>1</th>\n",
       "      <td>10018</td>\n",
       "      <td>CALLAHAN EYE FOUNDATION HOSPITAL</td>\n",
       "      <td>1720 UNIVERSITY BLVD</td>\n",
       "      <td>BIRMINGHAM</td>\n",
       "      <td>35233</td>\n",
       "      <td>JEFFERSON</td>\n",
       "      <td>2053258100</td>\n",
       "    </tr>\n",
       "    <tr>\n",
       "      <th>2</th>\n",
       "      <td>10018</td>\n",
       "      <td>CALLAHAN EYE FOUNDATION HOSPITAL</td>\n",
       "      <td>1720 UNIVERSITY BLVD</td>\n",
       "      <td>BIRMINGHAM</td>\n",
       "      <td>35233</td>\n",
       "      <td>JEFFERSON</td>\n",
       "      <td>2053258100</td>\n",
       "    </tr>\n",
       "    <tr>\n",
       "      <th>3</th>\n",
       "      <td>10018</td>\n",
       "      <td>CALLAHAN EYE FOUNDATION HOSPITAL</td>\n",
       "      <td>1720 UNIVERSITY BLVD</td>\n",
       "      <td>BIRMINGHAM</td>\n",
       "      <td>35233</td>\n",
       "      <td>JEFFERSON</td>\n",
       "      <td>2053258100</td>\n",
       "    </tr>\n",
       "    <tr>\n",
       "      <th>4</th>\n",
       "      <td>10018</td>\n",
       "      <td>CALLAHAN EYE FOUNDATION HOSPITAL</td>\n",
       "      <td>1720 UNIVERSITY BLVD</td>\n",
       "      <td>BIRMINGHAM</td>\n",
       "      <td>35233</td>\n",
       "      <td>JEFFERSON</td>\n",
       "      <td>2053258100</td>\n",
       "    </tr>\n",
       "  </tbody>\n",
       "</table>\n",
       "</div>"
      ],
      "text/plain": [
       "  ProviderNumber                      HospitalName              Address1  \\\n",
       "0          10018  CALLAHAN EYE FOUNDATION HOSPITAL  1720 UNIVERSITY BLVD   \n",
       "1          10018  CALLAHAN EYE FOUNDATION HOSPITAL  1720 UNIVERSITY BLVD   \n",
       "2          10018  CALLAHAN EYE FOUNDATION HOSPITAL  1720 UNIVERSITY BLVD   \n",
       "3          10018  CALLAHAN EYE FOUNDATION HOSPITAL  1720 UNIVERSITY BLVD   \n",
       "4          10018  CALLAHAN EYE FOUNDATION HOSPITAL  1720 UNIVERSITY BLVD   \n",
       "\n",
       "       City.1 ZipCode CountyName PhoneNumber  \n",
       "0  BIRMINGHAM   35233  JEFFERSON  2053258100  \n",
       "1  BIRMINGHAM   35233  JEFFERSON  2053258100  \n",
       "2  BIRMINGHAM   35233  JEFFERSON  2053258100  \n",
       "3  BIRMINGHAM   35233  JEFFERSON  2053258100  \n",
       "4  BIRMINGHAM   35233  JEFFERSON  2053258100  "
      ]
     },
     "execution_count": 21,
     "metadata": {},
     "output_type": "execute_result"
    }
   ],
   "source": [
    "\n",
    "df_truth = pd.read_csv(\"truthvalue.csv\",dtype=object, encoding='utf8')\n",
    "df_truth.drop(columns=['City', 'State','HospitalType','HospitalOwner','EmergencyService','Condition','MeasureCode', 'MeasureName' ,'Score' ,'Sample' ,'Stateavg'], axis=1, inplace=True)\n",
    "\n",
    "df_dirty = pd.read_csv(\"dirty_data_transformed.csv\",dtype=object, encoding='utf8')\n",
    "df_dirty.drop(columns=['State', 'Address2', 'Address3', 'HospitalType','HospitalOwner','EmergencyService','Condition','MeasureCode', 'MeasureName' ,'Score' ,'Sample' ,'Stateavg'], axis=1, inplace=True)\n",
    "\n",
    "provider = df_truth['ProviderNumber'].tolist()\n",
    "hospital = df_truth['HospitalName'].tolist()\n",
    "address = df_truth['Address1'].tolist()\n",
    "city = df_truth['City.1'].tolist()\n",
    "zipcode = df_truth['ZipCode'].tolist()\n",
    "county = df_truth['CountyName'].tolist()\n",
    "phone = df_truth['PhoneNumber'].tolist()\n",
    "\n",
    "combined_hosp = list(zip(provider, hospital, address, city, zipcode, county))\n",
    "df_truth.head()\n"
   ]
  },
  {
   "cell_type": "code",
   "execution_count": 22,
   "metadata": {},
   "outputs": [
    {
     "data": {
      "text/html": [
       "<div>\n",
       "<style scoped>\n",
       "    .dataframe tbody tr th:only-of-type {\n",
       "        vertical-align: middle;\n",
       "    }\n",
       "\n",
       "    .dataframe tbody tr th {\n",
       "        vertical-align: top;\n",
       "    }\n",
       "\n",
       "    .dataframe thead th {\n",
       "        text-align: right;\n",
       "    }\n",
       "</style>\n",
       "<table border=\"1\" class=\"dataframe\">\n",
       "  <thead>\n",
       "    <tr style=\"text-align: right;\">\n",
       "      <th></th>\n",
       "      <th>ProviderNumber</th>\n",
       "      <th>HospitalName</th>\n",
       "      <th>Address1</th>\n",
       "      <th>City</th>\n",
       "      <th>ZipCode</th>\n",
       "      <th>CountyName</th>\n",
       "      <th>PhoneNumber</th>\n",
       "    </tr>\n",
       "  </thead>\n",
       "  <tbody>\n",
       "    <tr>\n",
       "      <th>0</th>\n",
       "      <td>10018</td>\n",
       "      <td>CALLAHAN EYE FOUNDATION HOSPITAL</td>\n",
       "      <td>1720 UNIVERSITY BLVD</td>\n",
       "      <td>BIRMINGHAM</td>\n",
       "      <td>35233</td>\n",
       "      <td>JEFFERSON</td>\n",
       "      <td>2053258100</td>\n",
       "    </tr>\n",
       "    <tr>\n",
       "      <th>1</th>\n",
       "      <td>10018</td>\n",
       "      <td>CALLAHAN EYE FOUNDATION HOSPITAL</td>\n",
       "      <td>1720 UNIVERSITY BLVD</td>\n",
       "      <td>BIRMINGHAM</td>\n",
       "      <td>35233</td>\n",
       "      <td>JEFFERSON</td>\n",
       "      <td>2053258100</td>\n",
       "    </tr>\n",
       "    <tr>\n",
       "      <th>2</th>\n",
       "      <td>10018</td>\n",
       "      <td>CALLAHAN EYE FOUNDATION HOSPITAL</td>\n",
       "      <td>1720 UNIVERSITY BLVD</td>\n",
       "      <td>BIRMINGHAM</td>\n",
       "      <td>35233</td>\n",
       "      <td>JEFFERSON</td>\n",
       "      <td>2053258100</td>\n",
       "    </tr>\n",
       "    <tr>\n",
       "      <th>3</th>\n",
       "      <td>10018</td>\n",
       "      <td>CALLAHAN EYE FOUNDATION HOSPITAL</td>\n",
       "      <td>1720 UNIVERSITY BLVD</td>\n",
       "      <td>BIRMINGHxM</td>\n",
       "      <td>35233</td>\n",
       "      <td>JEFFERSON</td>\n",
       "      <td>2053258100</td>\n",
       "    </tr>\n",
       "    <tr>\n",
       "      <th>4</th>\n",
       "      <td>10018</td>\n",
       "      <td>CALLAHAN EYE FOUNDATION HOSPITAL</td>\n",
       "      <td>1720 UNIVERSITY BLVD</td>\n",
       "      <td>BIRMINGHAM</td>\n",
       "      <td>35233</td>\n",
       "      <td>JEFFERSON</td>\n",
       "      <td>2053258100</td>\n",
       "    </tr>\n",
       "  </tbody>\n",
       "</table>\n",
       "</div>"
      ],
      "text/plain": [
       "  ProviderNumber                      HospitalName              Address1  \\\n",
       "0          10018  CALLAHAN EYE FOUNDATION HOSPITAL  1720 UNIVERSITY BLVD   \n",
       "1          10018  CALLAHAN EYE FOUNDATION HOSPITAL  1720 UNIVERSITY BLVD   \n",
       "2          10018  CALLAHAN EYE FOUNDATION HOSPITAL  1720 UNIVERSITY BLVD   \n",
       "3          10018  CALLAHAN EYE FOUNDATION HOSPITAL  1720 UNIVERSITY BLVD   \n",
       "4          10018  CALLAHAN EYE FOUNDATION HOSPITAL  1720 UNIVERSITY BLVD   \n",
       "\n",
       "         City ZipCode CountyName PhoneNumber  \n",
       "0  BIRMINGHAM   35233  JEFFERSON  2053258100  \n",
       "1  BIRMINGHAM   35233  JEFFERSON  2053258100  \n",
       "2  BIRMINGHAM   35233  JEFFERSON  2053258100  \n",
       "3  BIRMINGHxM   35233  JEFFERSON  2053258100  \n",
       "4  BIRMINGHAM   35233  JEFFERSON  2053258100  "
      ]
     },
     "execution_count": 22,
     "metadata": {},
     "output_type": "execute_result"
    }
   ],
   "source": [
    "df_dirty.head()"
   ]
  },
  {
   "cell_type": "code",
   "execution_count": 23,
   "metadata": {},
   "outputs": [
    {
     "data": {
      "text/plain": [
       "1000"
      ]
     },
     "execution_count": 23,
     "metadata": {},
     "output_type": "execute_result"
    }
   ],
   "source": [
    "len(df_truth)"
   ]
  },
  {
   "cell_type": "code",
   "execution_count": 24,
   "metadata": {},
   "outputs": [
    {
     "data": {
      "text/plain": [
       "6"
      ]
     },
     "execution_count": 24,
     "metadata": {},
     "output_type": "execute_result"
    }
   ],
   "source": [
    "len(combined_hosp[1])"
   ]
  },
  {
   "cell_type": "code",
   "execution_count": 25,
   "metadata": {},
   "outputs": [
    {
     "data": {
      "text/plain": [
       "6"
      ]
     },
     "execution_count": 25,
     "metadata": {},
     "output_type": "execute_result"
    }
   ],
   "source": [
    "#hospital dirty dataset; maintain dirty dataset separately\n",
    "provider = df_dirty['ProviderNumber'].tolist()\n",
    "hospital = df_dirty['HospitalName'].tolist()\n",
    "address = df_dirty['Address1'].tolist()\n",
    "city = df_dirty['City'].tolist()\n",
    "zipcode = df_dirty['ZipCode'].tolist()\n",
    "county = df_dirty['CountyName'].tolist()\n",
    "phone = df_dirty['PhoneNumber'].tolist()\n",
    "\n",
    "combined_dirty = list(zip(provider, hospital, address, city, zipcode, county))\n",
    "len(combined_dirty[1])"
   ]
  },
  {
   "cell_type": "code",
   "execution_count": 26,
   "metadata": {},
   "outputs": [],
   "source": [
    "#Calculating error or dirty cells\n",
    "dirty_list = []\n",
    "truth_list = []\n",
    "for i in range(len(combined_dirty)):\n",
    "    for j in range(len(combined_dirty[0])):\n",
    "        if combined_dirty[i][j] != combined_hosp[i][j]:\n",
    "            dirty_list.append(combined_dirty[i][j])\n",
    "            truth_list.append(combined_hosp[i][j])"
   ]
  },
  {
   "cell_type": "code",
   "execution_count": 49,
   "metadata": {},
   "outputs": [
    {
     "data": {
      "text/plain": [
       "202"
      ]
     },
     "execution_count": 49,
     "metadata": {},
     "output_type": "execute_result"
    }
   ],
   "source": [
    "len(dirty_list)"
   ]
  },
  {
   "cell_type": "markdown",
   "metadata": {},
   "source": [
    "## Mapping to get column information"
   ]
  },
  {
   "cell_type": "code",
   "execution_count": 68,
   "metadata": {},
   "outputs": [],
   "source": [
    "mapping = dict(enumerate(df_truth.columns.values))"
   ]
  },
  {
   "cell_type": "code",
   "execution_count": 69,
   "metadata": {},
   "outputs": [
    {
     "data": {
      "text/plain": [
       "{0: 'ProviderNumber',\n",
       " 1: 'HospitalName',\n",
       " 2: 'Address1',\n",
       " 3: 'City.1',\n",
       " 4: 'ZipCode',\n",
       " 5: 'CountyName',\n",
       " 6: 'PhoneNumber'}"
      ]
     },
     "execution_count": 69,
     "metadata": {},
     "output_type": "execute_result"
    }
   ],
   "source": [
    "mapping"
   ]
  },
  {
   "cell_type": "markdown",
   "metadata": {},
   "source": [
    "## Error Cleaning using fastText"
   ]
  },
  {
   "cell_type": "markdown",
   "metadata": {},
   "source": [
    "Convert each tuple into a row. We load hospital dataset. The fastText model is trained using groundtruth dataset for hospital and then the dirty dataset is used for correcting spelling errors. The fastText algorithm outputs top 10 matches and loses column information. Here we use Attribute classifier to understand the column info of the erroroneous tuple and the first match with same attribute in the predicted list is assumed as the right cell value for the cell. "
   ]
  },
  {
   "cell_type": "code",
   "execution_count": 70,
   "metadata": {},
   "outputs": [],
   "source": [
    "#training the model with truth data.\n",
    "model_hosp = FastText(combined_hosp, min_count=1, workers=8, iter=1000)"
   ]
  },
  {
   "cell_type": "markdown",
   "metadata": {},
   "source": [
    "## Module to predict the top value by the model. Some values are not broken into tokens."
   ]
  },
  {
   "cell_type": "code",
   "execution_count": null,
   "metadata": {},
   "outputs": [],
   "source": [
    "excluded_list = []\n",
    "result = []\n",
    "predictedValues = []"
   ]
  },
  {
   "cell_type": "markdown",
   "metadata": {},
   "source": [
    "## Loading attribute classifier"
   ]
  },
  {
   "cell_type": "code",
   "execution_count": 90,
   "metadata": {},
   "outputs": [],
   "source": [
    "model = load_model('HospitalClassifier.h5')\n",
    "with open('HospitalAttributeClassifierTokenizer.pickle', 'rb') as handle:\n",
    "    tokenizer = pickle.load(handle)"
   ]
  },
  {
   "cell_type": "markdown",
   "metadata": {},
   "source": [
    "## Error Cleaning using Attribute Classifer over FastText"
   ]
  },
  {
   "cell_type": "code",
   "execution_count": 86,
   "metadata": {},
   "outputs": [],
   "source": [
    "for i in range(len(dirty_list)):\n",
    "    sequences = tokenizer.texts_to_sequences(dirty_list[i])\n",
    "    dirtyData = pad_sequences(sequences, maxlen=40)\n",
    "    dirtyCol = model.predict(dirtyData)\n",
    "    if isinstance(dirty_list[i], str):\n",
    "        try:\n",
    "            predictedValues = model_hosp.most_similar(dirty_list[i])\n",
    "            match = 0\n",
    "            for j in range(len(predictedValues)):\n",
    "                predSequences = tokenizer.texts_to_sequences(predictedValues[j][0])\n",
    "                testData = pad_sequences(predSequences, maxlen=40)\n",
    "                correctCol = model.predict(testData)\n",
    "                if mapping[np.argmax(correctCol[0])] == mapping[np.argmax(dirtyCol[0])]:\n",
    "                    result.append((predictedValues[j][0],dirty_list[i],truth_list[i]))\n",
    "                    match = 1\n",
    "                    break\n",
    "            if match == 0:\n",
    "                result.append((predictedValues[0][0],dirty_list[i],truth_list[i]))\n",
    "                print(\"No match\")\n",
    "        except KeyError:\n",
    "            excluded_list.append(dirty_list[i])\n",
    "            #print(dirty_list[i])\n",
    "            pass"
   ]
  },
  {
   "cell_type": "code",
   "execution_count": 87,
   "metadata": {},
   "outputs": [
    {
     "name": "stdout",
     "output_type": "stream",
     "text": [
      "12\n",
      "190\n",
      "202\n",
      "202\n"
     ]
    },
    {
     "data": {
      "text/plain": [
       "'3x23x'"
      ]
     },
     "execution_count": 87,
     "metadata": {},
     "output_type": "execute_result"
    }
   ],
   "source": [
    "print (len(excluded_list))\n",
    "print (len(result))\n",
    "print (len(excluded_list) + len(result))\n",
    "print (len(dirty_list))\n",
    "excluded_list[0]\n"
   ]
  },
  {
   "cell_type": "code",
   "execution_count": 88,
   "metadata": {},
   "outputs": [],
   "source": [
    "#identify the true positives and false positives. Store them in the seperate list for further analysis.\n",
    "true_pos = 0\n",
    "false_pos = 0\n",
    "correctly_predicted = []\n",
    "falsely_predicted = []\n",
    "for i in range(len(result)):\n",
    "    if result[i][0] == result[i][2]:\n",
    "        true_pos = true_pos + 1\n",
    "        correctly_predicted.append(result[i])\n",
    "    else:\n",
    "        false_pos = false_pos + 1\n",
    "        falsely_predicted.append(result[i])"
   ]
  },
  {
   "cell_type": "code",
   "execution_count": 89,
   "metadata": {},
   "outputs": [
    {
     "name": "stdout",
     "output_type": "stream",
     "text": [
      "190\n",
      "154\n",
      "36\n"
     ]
    }
   ],
   "source": [
    "print(len(result))\n",
    "print(len(correctly_predicted))\n",
    "print(len(falsely_predicted))"
   ]
  },
  {
   "cell_type": "code",
   "execution_count": 91,
   "metadata": {},
   "outputs": [
    {
     "name": "stdout",
     "output_type": "stream",
     "text": [
      "('36067', '360x9', '36049')\n",
      "('10086', 'Voluntary non-profit - Private', '10011')\n",
      "('1007 GOODYEAR AVENUE', '60%', 'BIRMINGHAM')\n",
      "('ANCHORAGE', 'AL_SCIP-INF-4', '35235')\n",
      "('10016', '10011', 'JEFFERSON')\n",
      "('35957', '359x8', '35968')\n",
      "('36116', '1xx16', '10016')\n",
      "('10085', '100x8', '10038')\n",
      "('36801', '36x01', '36201')\n",
      "('10085', '100x6', '10086')\n",
      "('EAST ALABAMA MEDICAL CENTER AND SNF', 'xNIV OF SOxTH ALABAMA MEDICAL CENTER', 'UNIV OF SOUTH ALABAMA MEDICAL CENTER')\n",
      "('PO BOX 287', '3x0x7', '36067')\n",
      "('99508', 'x0x08', '10108')\n",
      "('FAYETTE MEDICAL CENTER', 'DALE MEDICAL CENTER', '10021')\n",
      "('CALLAHAN EYE FOUNDATION HOSPITAL', '126 HOSPITAL AVE', 'DALE MEDICAL CENTER')\n",
      "('ALASKA REGIONAL HOSPITAL', 'AL', 'OZARK')\n",
      "('LAUDERDALE', 'DALE', '36360')\n",
      "('36801', '3347742601', 'DALE')\n",
      "('35960', 'x6x60', '36360')\n",
      "('JACKSON HOSPITAL & CLINIC INC', '1xx24', '10024')\n",
      "('TALLADEGA', 'TALLAxxEE', 'TALLASSEE')\n",
      "('10085', '100x4', '10034')\n",
      "('36278', '36x78', '36078')\n",
      "('10085', '100x5', '10035')\n",
      "('35235', '1xx35', '10035')\n",
      "('2105 EAST SOUTH BOULEVARD', 'Proprietary', 'ANDALUSIA REGIONAL HOSPITAL')\n",
      "('4370 WEST MAIN STREET', '43 patients', '36420')\n",
      "('ALABASTER', 'AL_PN-4', 'COVINGTON')\n",
      "('10034', '1003x', '10039')\n",
      "('10085', '100x9', '10039')\n",
      "('35901', 'x590x', '35903')\n",
      "('35045', '1xx45', '10045')\n",
      "('1007 GOODYEAR AVENUE', '600 SOUxH xHIRD SxREEx', '600 SOUTH THIRD STREET')\n",
      "('35903', '3590x', '35901')\n",
      "('10047', '1004x', '10049')\n",
      "('ENTERPRISE', 'MEDIxAL xENTER ENTERPRISE', 'MEDICAL CENTER ENTERPRISE')\n"
     ]
    }
   ],
   "source": [
    "for i in falsely_predicted:\n",
    "    print (i)"
   ]
  },
  {
   "cell_type": "code",
   "execution_count": 83,
   "metadata": {},
   "outputs": [
    {
     "name": "stdout",
     "output_type": "stream",
     "text": [
      "('BIRMINGHAM', 'BIRMINGHxM', 'BIRMINGHAM')\n",
      "('BIRMINGHAM', 'BIRMINGxAM', 'BIRMINGHAM')\n",
      "('SHEFFIELD', 'SHEFFxELD', 'SHEFFIELD')\n",
      "('10019', '1xx19', '10019')\n",
      "('SOUTHEAST ALABAMA MEDICAL CENTER', 'SOUTHEAST ALABAMA MEDxCAL CENTER', 'SOUTHEAST ALABAMA MEDICAL CENTER')\n",
      "('35957', 'x5957', '35957')\n",
      "('10005', 'x0005', '10005')\n",
      "('BOAZ', 'BOxZ', 'BOAZ')\n",
      "('2505 U S HIGHWAY 431 NORTH', '2505xUxSxHIGHWAYx431xNORTH', '2505 U S HIGHWAY 431 NORTH')\n",
      "('35957', '3595x', '35957')\n",
      "('MARSHALL', 'MxRSHxLL', 'MARSHALL')\n",
      "('35631', '3563x', '35631')\n",
      "('LAUDERDALE', 'LAUDxRDALx', 'LAUDERDALE')\n",
      "('LAUDERDALE', 'LAUDExDALE', 'LAUDERDALE')\n",
      "('FLORENCE', 'FxORENCE', 'FLORENCE')\n",
      "('10006', '1000x', '10006')\n",
      "('FLORENCE', 'FLORxNCx', 'FLORENCE')\n",
      "('FLORENCE', 'FLxRENCE', 'FLORENCE')\n",
      "('35631', '3563x', '35631')\n",
      "('702 N MAIN ST', '702xNxMAINxST', '702 N MAIN ST')\n",
      "('702 N MAIN ST', '702 x MAIx ST', '702 N MAIN ST')\n",
      "('CRENSHAW COMMUNITY HOSPITAL', 'CRENSHAW CxMMUNITY HxSPITAL', 'CRENSHAW COMMUNITY HOSPITAL')\n",
      "('CRENSHAW', 'CRxNSHAW', 'CRENSHAW')\n",
      "('36049', '36x49', '36049')\n",
      "('35640', '3x640', '35640')\n",
      "('35640', '3x640', '35640')\n",
      "('201 PINE STREET NORTHWEST', '201 PINE SxREEx NORxHWESx', '201 PINE STREET NORTHWEST')\n",
      "('MARSHALL MEDICAL CENTER NORTH', 'MARSHALL MEDICAL CENxER NORxH', 'MARSHALL MEDICAL CENTER NORTH')\n",
      "('8000 ALABAMA HIGHWAY 69', '8000 ALABAMA xIGxWAY 69', '8000 ALABAMA HIGHWAY 69')\n",
      "('GUNTERSVILLE', 'GUNTxRSVILLx', 'GUNTERSVILLE')\n",
      "('BIRMINGHAM', 'BIRMIxGHAM', 'BIRMINGHAM')\n",
      "('BIRMINGHAM', 'BxRMxNGHAM', 'BIRMINGHAM')\n",
      "('JEFFERSON', 'JEFFERSxN', 'JEFFERSON')\n",
      "('DE KALB', 'Dx KALB', 'DE KALB')\n",
      "('DE KALB', 'xE KALB', 'DE KALB')\n",
      "('DE KALB', 'Dx KALB', 'DE KALB')\n",
      "('FORT PAYNE', 'FORT PAYxE', 'FORT PAYNE')\n",
      "('DE KALB', 'xE KALB', 'DE KALB')\n",
      "('DEKALB REGIONAL MEDICAL CENTER', 'DExALB REGIONAL MEDICAL CENTER', 'DEKALB REGIONAL MEDICAL CENTER')\n",
      "('CLARKE', 'xLARKE', 'CLARKE')\n",
      "('10015', '1xx15', '10015')\n",
      "('33700 HIGHWAY 43', '33700 HxGHWAY 43', '33700 HIGHWAY 43')\n",
      "('33700 HIGHWAY 43', '33700 HIGHWAY x3', '33700 HIGHWAY 43')\n",
      "('36784', 'x6784', '36784')\n",
      "('1000 FIRST STREET NORTH', '1000 FIxST STxEET NOxTH', '1000 FIRST STREET NORTH')\n",
      "('35007', '3x007', '35007')\n",
      "('35007', 'x5007', '35007')\n",
      "('1720 UNIVERSITY BLVD', '1720 UNIVxRSITY BLVD', '1720 UNIVERSITY BLVD')\n",
      "('ANNISTON', 'AxxISTOx', 'ANNISTON')\n",
      "('CALHOUN', 'CALHOxN', 'CALHOUN')\n",
      "('301 EAST 18TH ST', '301xEASTx18THxST', '301 EAST 18TH ST')\n",
      "('CALHOUN', 'CAxHOUN', 'CALHOUN')\n",
      "('36305', '3x305', '36305')\n",
      "('4370 WEST MAIN STREET', '4370xWESTxMAINxSTREET', '4370 WEST MAIN STREET')\n",
      "('FLOWERS HOSPITAL', 'FLOxERS HOSPITAL', 'FLOWERS HOSPITAL')\n",
      "('36305', 'x6x05', '36305')\n",
      "('HOUSTON', 'HOUSxON', 'HOUSTON')\n",
      "('810 ST VINCENTS DRIVE', '810 ST VxNCENTS DRxVE', '810 ST VINCENTS DRIVE')\n",
      "('1530 U S HIGHWAY 43', '1530xUxSxHIGHWAYx43', '1530 U S HIGHWAY 43')\n",
      "('35594', '3xx94', '35594')\n",
      "('WINFIELD', 'WINFIELx', 'WINFIELD')\n",
      "('35594', '3xx94', '35594')\n",
      "('UNIV OF SOUTH ALABAMA MEDICAL CENTER', 'UNIV Ox SOUTH ALABAMA MEDICAL CENTER', 'UNIV OF SOUTH ALABAMA MEDICAL CENTER')\n",
      "('UNIV OF SOUTH ALABAMA MEDICAL CENTER', 'xNIV OF SOxTH ALABAMA MEDICAL CENTER', 'UNIV OF SOUTH ALABAMA MEDICAL CENTER')\n",
      "('124 S MEMORIAL DR', '124xSxMEMORIALxDR', '124 S MEMORIAL DR')\n",
      "('124 S MEMORIAL DR', '124 S MxMORIAL DR', '124 S MEMORIAL DR')\n",
      "('315 W HICKORY ST', '315 W HICKxRY ST', '315 W HICKORY ST')\n",
      "('TALLADEGA', 'TALLAxEGA', 'TALLADEGA')\n",
      "('35150', 'x5150', '35150')\n",
      "('315 W HICKORY ST', '315xWxHICKORYxST', '315 W HICKORY ST')\n",
      "('ANCHORAGE', 'ANCHORAxE', 'ANCHORAGE')\n",
      "('ALASKA REGIONAL HOSPITAL', 'xLxSKx REGIONxL HOSPITxL', 'ALASKA REGIONAL HOSPITAL')\n",
      "('PO BOX 287', 'POxBOXx287', 'PO BOX 287')\n",
      "('JEFFERSON', 'JxFFxRSON', 'JEFFERSON')\n",
      "('JEFFERSON', 'xEFFERSON', 'JEFFERSON')\n",
      "('JEFFERSON', 'JExxERSON', 'JEFFERSON')\n",
      "('126 HOSPITAL AVE', '126xHOSPITALxAVE', '126 HOSPITAL AVE')\n",
      "('OZARK', 'OZARx', 'OZARK')\n",
      "('126 HOSPITAL AVE', '1x6 HOSPITAL AVE', '126 HOSPITAL AVE')\n",
      "('35960', 'x5960', '35960')\n",
      "('CHEROKEE', 'CHxROKxx', 'CHEROKEE')\n",
      "('CHEROKEE', 'CHxROKxx', 'CHEROKEE')\n",
      "('MONTGOMERY', 'MONTxOMERY', 'MONTGOMERY')\n",
      "('MONTGOMERY', 'MONxGOMERY', 'MONTGOMERY')\n",
      "('BAPTIST MEDICAL CENTER SOUTH', 'BAPTIST MEDICAL CExTER SOUTH', 'BAPTIST MEDICAL CENTER SOUTH')\n",
      "('MONTGOMERY', 'MONTGOMExY', 'MONTGOMERY')\n",
      "('MONTGOMERY', 'MONxGOMERY', 'MONTGOMERY')\n",
      "('JACKSON HOSPITAL & CLINIC INC', 'JAxKSON HOSPITAL & xLINIx INx', 'JACKSON HOSPITAL & CLINIC INC')\n",
      "('VALLEY', 'VALLEx', 'VALLEY')\n",
      "('CHAMBERS', 'xHAMBERS', 'CHAMBERS')\n",
      "('VALLEY', 'VxLLEY', 'VALLEY')\n",
      "('CHAMBERS', 'CHAxBERS', 'CHAMBERS')\n",
      "('ELBA', 'ExBA', 'ELBA')\n",
      "('COFFEE', 'COFFxx', 'COFFEE')\n",
      "('10027', 'x0027', '10027')\n",
      "('10029', 'x0029', '10029')\n",
      "('LEE', 'xEE', 'LEE')\n",
      "('10029', '1xx29', '10029')\n",
      "('10032', '1xx32', '10032')\n",
      "('209 NORTH MAIN STREET', '209 xORTH MAIx STREET', '209 NORTH MAIN STREET')\n",
      "('WEDOWEE HOSPITAL', 'WEDOWEE HOSxITAL', 'WEDOWEE HOSPITAL')\n",
      "('WEDOWEE', 'WxDOWxx', 'WEDOWEE')\n",
      "('10032', '1xx32', '10032')\n",
      "('JEFFERSON', 'JxFFxRSON', 'JEFFERSON')\n",
      "('35233', '3x233', '35233')\n",
      "('JEFFERSON', 'JExxERSON', 'JEFFERSON')\n",
      "('BIRMINGHAM', 'BIRMINxHAM', 'BIRMINGHAM')\n",
      "('ELMORE', 'ELMOxE', 'ELMORE')\n",
      "('COMMUNITY HOSPITAL INC', 'COMMUNITx HOSPITAL INC', 'COMMUNITY HOSPITAL INC')\n",
      "('ELMORE', 'ELxORE', 'ELMORE')\n",
      "('COMMUNITY HOSPITAL INC', 'COMMUNIxY HOSPIxAL INC', 'COMMUNITY HOSPITAL INC')\n",
      "('CULLMAN', 'CxLLMAN', 'CULLMAN')\n",
      "('CULLMAN REGIONAL MEDICAL CENTER', 'CULLMxN REGIONxL MEDICxL CENTER', 'CULLMAN REGIONAL MEDICAL CENTER')\n",
      "('CULLMAN', 'CxLLMAN', 'CULLMAN')\n",
      "('1912 ALABAMA HIGHWAY 157', '1912xALABAMAxHIGHWAYx157', '1912 ALABAMA HIGHWAY 157')\n",
      "('CULLMAN', 'CUxxMAN', 'CULLMAN')\n",
      "('36420', '3642x', '36420')\n",
      "('COVINGTON', 'COxINGTON', 'COVINGTON')\n",
      "('10036', '1xx36', '10036')\n",
      "('ANDALUSIA', 'ANDALUxIA', 'ANDALUSIA')\n",
      "('ANDALUSIA REGIONAL HOSPITAL', 'ANDAxUSIA REGIONAx HOSPITAx', 'ANDALUSIA REGIONAL HOSPITAL')\n",
      "('ANDALUSIA REGIONAL HOSPITAL', 'ANDALUxIA REGIONAL HOxPITAL', 'ANDALUSIA REGIONAL HOSPITAL')\n",
      "('301 EAST 18TH ST', '301 EAST 1xTH ST', '301 EAST 18TH ST')\n",
      "('ANNISTON', 'ANNxSTON', 'ANNISTON')\n",
      "('HUNTSVILLE HOSPITAL', 'HUNTSVxLLE HOSPxTAL', 'HUNTSVILLE HOSPITAL')\n",
      "('MADISON', 'MADISxN', 'MADISON')\n",
      "('MADISON', 'MADISOx', 'MADISON')\n",
      "('GADSDEN', 'GxDSDEN', 'GADSDEN')\n",
      "('1010 LAY DAM ROAD', 'x0x0 LAY DAM ROAD', '1010 LAY DAM ROAD')\n",
      "('HAMILTON', 'HAMILxON', 'HAMILTON')\n",
      "('1256 MILITARY STREET SOUTH', '1256 MILITARY STREET SxUTH', '1256 MILITARY STREET SOUTH')\n",
      "('10044', '1xx44', '10044')\n",
      "('10045', 'x0045', '10045')\n",
      "('FAYETTE', 'FAxETTE', 'FAYETTE')\n",
      "('FAYETTE', 'FAYExxE', 'FAYETTE')\n",
      "('RIVERVIEW REGIONAL MEDICAL CENTER', 'RIVxRVIxW RxGIONAL MxDICAL CxNTxR', 'RIVERVIEW REGIONAL MEDICAL CENTER')\n",
      "('ETOWAH', 'ETOWxH', 'ETOWAH')\n",
      "('RIVERVIEW REGIONAL MEDICAL CENTER', 'xIVExVIEW xEGIONAL MEDICAL CENTEx', 'RIVERVIEW REGIONAL MEDICAL CENTER')\n",
      "('RIVERVIEW REGIONAL MEDICAL CENTER', 'RIVERVIEW RExIONAL MEDICAL CENTER', 'RIVERVIEW REGIONAL MEDICAL CENTER')\n",
      "('515 MIRANDA ST', '515 MIRANDA Sx', '515 MIRANDA ST')\n",
      "('515 MIRANDA ST', '515 MIRANxA ST', '515 MIRANDA ST')\n",
      "('GEORGIANA HOSPITAL', 'GEORGIAxA HOSPITAL', 'GEORGIANA HOSPITAL')\n",
      "('BUTLER', 'BUTxER', 'BUTLER')\n",
      "('515 MIRANDA ST', '515 MIRxNDx ST', '515 MIRANDA ST')\n",
      "('GEORGIANA', 'GEOxGIANA', 'GEORGIANA')\n",
      "('400 N EDWARDS STREET', '400xNxEDWARDSxSTREET', '400 N EDWARDS STREET')\n",
      "('ENTERPRISE', 'ENTERPRxSE', 'ENTERPRISE')\n",
      "('MEDICAL CENTER ENTERPRISE', 'MEDxCAL CENTER ENTERPRxSE', 'MEDICAL CENTER ENTERPRISE')\n",
      "('COFFEE', 'CxFFEE', 'COFFEE')\n",
      "('ENTERPRISE', 'xNTxRPRISx', 'ENTERPRISE')\n",
      "('ONEONTA', 'ONxONTA', 'ONEONTA')\n",
      "('150 GILBREATH DRIVE', '150 GILxREATH DRIVE', '150 GILBREATH DRIVE')\n",
      "('ST VINCENTS BLOUNT', 'ST VINCENTS BxOUNT', 'ST VINCENTS BLOUNT')\n"
     ]
    }
   ],
   "source": [
    "for i in correctly_predicted:\n",
    "    print (i)"
   ]
  },
  {
   "cell_type": "code",
   "execution_count": 84,
   "metadata": {},
   "outputs": [
    {
     "data": {
      "text/plain": [
       "('10086', 'Voluntary non-profit - Private', '10011')"
      ]
     },
     "execution_count": 84,
     "metadata": {},
     "output_type": "execute_result"
    }
   ],
   "source": [
    "falsely_predicted[1]"
   ]
  },
  {
   "cell_type": "code",
   "execution_count": 85,
   "metadata": {},
   "outputs": [
    {
     "data": {
      "text/plain": [
       "[('35957', 0.9885784387588501),\n",
       " ('35968', 0.8877739310264587),\n",
       " ('35976', 0.885722815990448),\n",
       " ('35960', 0.8576430082321167),\n",
       " ('35903', 0.830594539642334),\n",
       " ('35901', 0.8117714524269104),\n",
       " ('35058', 0.6940221190452576),\n",
       " ('35007', 0.6867320537567139),\n",
       " ('35640', 0.627211332321167),\n",
       " ('35653', 0.6189522743225098)]"
      ]
     },
     "execution_count": 85,
     "metadata": {},
     "output_type": "execute_result"
    }
   ],
   "source": [
    "model_hosp.most_similar('3595x')"
   ]
  },
  {
   "cell_type": "code",
   "execution_count": null,
   "metadata": {},
   "outputs": [],
   "source": []
  },
  {
   "cell_type": "code",
   "execution_count": null,
   "metadata": {},
   "outputs": [],
   "source": []
  },
  {
   "cell_type": "code",
   "execution_count": null,
   "metadata": {},
   "outputs": [],
   "source": []
  }
 ],
 "metadata": {
  "kernelspec": {
   "display_name": "Python 3",
   "language": "python",
   "name": "python3"
  },
  "language_info": {
   "codemirror_mode": {
    "name": "ipython",
    "version": 3
   },
   "file_extension": ".py",
   "mimetype": "text/x-python",
   "name": "python",
   "nbconvert_exporter": "python",
   "pygments_lexer": "ipython3",
   "version": "3.6.4"
  },
  "toc": {
   "nav_menu": {},
   "number_sections": true,
   "sideBar": true,
   "skip_h1_title": true,
   "title_cell": "Table of Contents",
   "title_sidebar": "Contents",
   "toc_cell": false,
   "toc_position": {},
   "toc_section_display": true,
   "toc_window_display": false
  }
 },
 "nbformat": 4,
 "nbformat_minor": 2
}
