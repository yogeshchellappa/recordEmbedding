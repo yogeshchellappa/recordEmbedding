{
 "cells": [
  {
   "cell_type": "markdown",
   "metadata": {},
   "source": [
    "Here, we create a multiclass classifier for classifying the various closest vectors returned by the model, as the corresponding attributes."
   ]
  },
  {
   "cell_type": "code",
   "execution_count": 126,
   "metadata": {},
   "outputs": [],
   "source": [
    "import warnings\n",
    "warnings.filterwarnings('ignore')\n",
    "\n",
    "from gensim.models.wrappers import FastText\n",
    "from gensim.models import Word2Vec\n",
    "from gensim.models import KeyedVectors\n",
    "\n",
    "import pandas as pd\n",
    "import numpy as np\n",
    "import h5py\n",
    "import pickle\n",
    "from sklearn.model_selection import train_test_split\n",
    "from sklearn.preprocessing import LabelEncoder\n",
    "\n",
    "from keras.preprocessing import sequence\n",
    "from keras import models\n",
    "from keras import layers\n",
    "from keras import activations\n",
    "from keras import optimizers\n",
    "from keras import losses\n",
    "from keras import metrics\n",
    "from keras.preprocessing.text import Tokenizer\n",
    "from keras.preprocessing.sequence import pad_sequences\n",
    "from keras.utils import to_categorical\n",
    "import keras.preprocessing.text\n",
    "from keras.models import load_model\n",
    "from keras.utils import np_utils\n",
    "\n",
    "import matplotlib.pyplot as plt\n",
    "%matplotlib inline"
   ]
  },
  {
   "cell_type": "markdown",
   "metadata": {},
   "source": [
    "## Prepare Dataset"
   ]
  },
  {
   "cell_type": "code",
   "execution_count": 127,
   "metadata": {},
   "outputs": [],
   "source": [
    "df = pd.read_csv('CleanHospitalDatasetMultiAttributes.csv', encoding='utf8', dtype=object)"
   ]
  },
  {
   "cell_type": "code",
   "execution_count": 128,
   "metadata": {},
   "outputs": [
    {
     "data": {
      "text/html": [
       "<div>\n",
       "<style scoped>\n",
       "    .dataframe tbody tr th:only-of-type {\n",
       "        vertical-align: middle;\n",
       "    }\n",
       "\n",
       "    .dataframe tbody tr th {\n",
       "        vertical-align: top;\n",
       "    }\n",
       "\n",
       "    .dataframe thead th {\n",
       "        text-align: right;\n",
       "    }\n",
       "</style>\n",
       "<table border=\"1\" class=\"dataframe\">\n",
       "  <thead>\n",
       "    <tr style=\"text-align: right;\">\n",
       "      <th></th>\n",
       "      <th>ProviderNumber</th>\n",
       "      <th>HospitalName</th>\n",
       "      <th>Address1</th>\n",
       "      <th>City</th>\n",
       "      <th>ZipCode</th>\n",
       "      <th>CountyName</th>\n",
       "      <th>PhoneNumber</th>\n",
       "      <th>HospitalOwner</th>\n",
       "      <th>Condition</th>\n",
       "      <th>Sample</th>\n",
       "      <th>label</th>\n",
       "    </tr>\n",
       "  </thead>\n",
       "  <tbody>\n",
       "    <tr>\n",
       "      <th>0</th>\n",
       "      <td>10022</td>\n",
       "      <td>CHEROKEE MEDICAL CENTER</td>\n",
       "      <td>400 NORTHWOOD DR</td>\n",
       "      <td>CENTRE</td>\n",
       "      <td>35960</td>\n",
       "      <td>CHEROKEE</td>\n",
       "      <td>2569275531</td>\n",
       "      <td>Voluntary non-profit - Private</td>\n",
       "      <td>Surgical Infection Prevention</td>\n",
       "      <td>2 patients</td>\n",
       "      <td>1.0</td>\n",
       "    </tr>\n",
       "    <tr>\n",
       "      <th>1</th>\n",
       "      <td>10035</td>\n",
       "      <td>CULLMAN REGIONAL MEDICAL CENTER</td>\n",
       "      <td>1912 ALABAMA HIGHWAY 157</td>\n",
       "      <td>CULLMAN</td>\n",
       "      <td>35058</td>\n",
       "      <td>CULLMAN</td>\n",
       "      <td>2567372000</td>\n",
       "      <td>Government - Hospital District or Authority</td>\n",
       "      <td>Pneumonia</td>\n",
       "      <td>138 patients</td>\n",
       "      <td>1.0</td>\n",
       "    </tr>\n",
       "    <tr>\n",
       "      <th>2</th>\n",
       "      <td>10027</td>\n",
       "      <td>ELBA GENERAL HOSPITAL</td>\n",
       "      <td>987 DRAYTON STREET</td>\n",
       "      <td>ELBA</td>\n",
       "      <td>36323</td>\n",
       "      <td>COFFEE</td>\n",
       "      <td>3348972257</td>\n",
       "      <td>Voluntary non-profit - Other</td>\n",
       "      <td>Surgical Infection Prevention</td>\n",
       "      <td>0 patients</td>\n",
       "      <td>1.0</td>\n",
       "    </tr>\n",
       "    <tr>\n",
       "      <th>3</th>\n",
       "      <td>10032</td>\n",
       "      <td>WEDOWEE HOSPITAL</td>\n",
       "      <td>209 NORTH MAIN STREET</td>\n",
       "      <td>WEDOWEE</td>\n",
       "      <td>36278</td>\n",
       "      <td>RANDOLPH</td>\n",
       "      <td>2563572111</td>\n",
       "      <td>Government - Local</td>\n",
       "      <td>Surgical Infection Prevention</td>\n",
       "      <td>0 patients</td>\n",
       "      <td>1.0</td>\n",
       "    </tr>\n",
       "    <tr>\n",
       "      <th>4</th>\n",
       "      <td>10050</td>\n",
       "      <td>ST VINCENTS BLOUNT</td>\n",
       "      <td>150 GILBREATH DRIVE</td>\n",
       "      <td>ONEONTA</td>\n",
       "      <td>35121</td>\n",
       "      <td>BLOUNT</td>\n",
       "      <td>2052743000</td>\n",
       "      <td>Voluntary non-profit - Private</td>\n",
       "      <td>Heart Attack</td>\n",
       "      <td>2 patients</td>\n",
       "      <td>1.0</td>\n",
       "    </tr>\n",
       "  </tbody>\n",
       "</table>\n",
       "</div>"
      ],
      "text/plain": [
       "  ProviderNumber                     HospitalName                  Address1  \\\n",
       "0          10022          CHEROKEE MEDICAL CENTER          400 NORTHWOOD DR   \n",
       "1          10035  CULLMAN REGIONAL MEDICAL CENTER  1912 ALABAMA HIGHWAY 157   \n",
       "2          10027            ELBA GENERAL HOSPITAL        987 DRAYTON STREET   \n",
       "3          10032                 WEDOWEE HOSPITAL     209 NORTH MAIN STREET   \n",
       "4          10050               ST VINCENTS BLOUNT       150 GILBREATH DRIVE   \n",
       "\n",
       "      City ZipCode CountyName PhoneNumber  \\\n",
       "0   CENTRE   35960   CHEROKEE  2569275531   \n",
       "1  CULLMAN   35058    CULLMAN  2567372000   \n",
       "2     ELBA   36323     COFFEE  3348972257   \n",
       "3  WEDOWEE   36278   RANDOLPH  2563572111   \n",
       "4  ONEONTA   35121     BLOUNT  2052743000   \n",
       "\n",
       "                                 HospitalOwner                      Condition  \\\n",
       "0               Voluntary non-profit - Private  Surgical Infection Prevention   \n",
       "1  Government - Hospital District or Authority                      Pneumonia   \n",
       "2                 Voluntary non-profit - Other  Surgical Infection Prevention   \n",
       "3                           Government - Local  Surgical Infection Prevention   \n",
       "4               Voluntary non-profit - Private                   Heart Attack   \n",
       "\n",
       "         Sample label  \n",
       "0    2 patients   1.0  \n",
       "1  138 patients   1.0  \n",
       "2    0 patients   1.0  \n",
       "3    0 patients   1.0  \n",
       "4    2 patients   1.0  "
      ]
     },
     "execution_count": 128,
     "metadata": {},
     "output_type": "execute_result"
    }
   ],
   "source": [
    "df.head()"
   ]
  },
  {
   "cell_type": "code",
   "execution_count": 129,
   "metadata": {},
   "outputs": [
    {
     "data": {
      "text/plain": [
       "1100"
      ]
     },
     "execution_count": 129,
     "metadata": {},
     "output_type": "execute_result"
    }
   ],
   "source": [
    "len(df)"
   ]
  },
  {
   "cell_type": "code",
   "execution_count": 130,
   "metadata": {},
   "outputs": [
    {
     "data": {
      "text/plain": [
       "array(['ProviderNumber', 'HospitalName', 'Address1', 'City', 'ZipCode',\n",
       "       'CountyName', 'PhoneNumber', 'HospitalOwner', 'Condition',\n",
       "       'Sample', 'label'], dtype=object)"
      ]
     },
     "execution_count": 130,
     "metadata": {},
     "output_type": "execute_result"
    }
   ],
   "source": [
    "df.columns.values"
   ]
  },
  {
   "cell_type": "markdown",
   "metadata": {},
   "source": [
    "## Data Cleaning"
   ]
  },
  {
   "cell_type": "code",
   "execution_count": 131,
   "metadata": {},
   "outputs": [
    {
     "data": {
      "text/html": [
       "<div>\n",
       "<style scoped>\n",
       "    .dataframe tbody tr th:only-of-type {\n",
       "        vertical-align: middle;\n",
       "    }\n",
       "\n",
       "    .dataframe tbody tr th {\n",
       "        vertical-align: top;\n",
       "    }\n",
       "\n",
       "    .dataframe thead th {\n",
       "        text-align: right;\n",
       "    }\n",
       "</style>\n",
       "<table border=\"1\" class=\"dataframe\">\n",
       "  <thead>\n",
       "    <tr style=\"text-align: right;\">\n",
       "      <th></th>\n",
       "      <th>ProviderNumber</th>\n",
       "      <th>HospitalName</th>\n",
       "      <th>Address1</th>\n",
       "      <th>City</th>\n",
       "      <th>ZipCode</th>\n",
       "      <th>CountyName</th>\n",
       "      <th>PhoneNumber</th>\n",
       "      <th>HospitalOwner</th>\n",
       "      <th>Condition</th>\n",
       "      <th>Sample</th>\n",
       "      <th>label</th>\n",
       "    </tr>\n",
       "  </thead>\n",
       "  <tbody>\n",
       "    <tr>\n",
       "      <th>0</th>\n",
       "      <td>10022</td>\n",
       "      <td>CHEROKEE MEDICAL CENTER</td>\n",
       "      <td>400 NORTHWOOD DR</td>\n",
       "      <td>CENTRE</td>\n",
       "      <td>35960</td>\n",
       "      <td>CHEROKEE</td>\n",
       "      <td>2569275531</td>\n",
       "      <td>Voluntary non-profit - Private</td>\n",
       "      <td>Surgical Infection Prevention</td>\n",
       "      <td>2 patients</td>\n",
       "      <td>1.0</td>\n",
       "    </tr>\n",
       "    <tr>\n",
       "      <th>1</th>\n",
       "      <td>10035</td>\n",
       "      <td>CULLMAN REGIONAL MEDICAL CENTER</td>\n",
       "      <td>1912 ALABAMA HIGHWAY 157</td>\n",
       "      <td>CULLMAN</td>\n",
       "      <td>35058</td>\n",
       "      <td>CULLMAN</td>\n",
       "      <td>2567372000</td>\n",
       "      <td>Government - Hospital District or Authority</td>\n",
       "      <td>Pneumonia</td>\n",
       "      <td>138 patients</td>\n",
       "      <td>1.0</td>\n",
       "    </tr>\n",
       "  </tbody>\n",
       "</table>\n",
       "</div>"
      ],
      "text/plain": [
       "  ProviderNumber                     HospitalName                  Address1  \\\n",
       "0          10022          CHEROKEE MEDICAL CENTER          400 NORTHWOOD DR   \n",
       "1          10035  CULLMAN REGIONAL MEDICAL CENTER  1912 ALABAMA HIGHWAY 157   \n",
       "\n",
       "      City ZipCode CountyName PhoneNumber  \\\n",
       "0   CENTRE   35960   CHEROKEE  2569275531   \n",
       "1  CULLMAN   35058    CULLMAN  2567372000   \n",
       "\n",
       "                                 HospitalOwner                      Condition  \\\n",
       "0               Voluntary non-profit - Private  Surgical Infection Prevention   \n",
       "1  Government - Hospital District or Authority                      Pneumonia   \n",
       "\n",
       "         Sample label  \n",
       "0    2 patients   1.0  \n",
       "1  138 patients   1.0  "
      ]
     },
     "execution_count": 131,
     "metadata": {},
     "output_type": "execute_result"
    }
   ],
   "source": [
    "df.head(2)"
   ]
  },
  {
   "cell_type": "code",
   "execution_count": 132,
   "metadata": {},
   "outputs": [],
   "source": [
    "df['ProviderNumber'] = df['ProviderNumber'].apply(lambda x: str(int(float(x))))\n",
    "df['ZipCode'] = df['ZipCode'].apply(lambda x: str(int(float(x))))\n",
    "df['PhoneNumber'] = df['PhoneNumber'].apply(lambda x: str(int(float(x))))"
   ]
  },
  {
   "cell_type": "code",
   "execution_count": 133,
   "metadata": {},
   "outputs": [
    {
     "data": {
      "text/html": [
       "<div>\n",
       "<style scoped>\n",
       "    .dataframe tbody tr th:only-of-type {\n",
       "        vertical-align: middle;\n",
       "    }\n",
       "\n",
       "    .dataframe tbody tr th {\n",
       "        vertical-align: top;\n",
       "    }\n",
       "\n",
       "    .dataframe thead th {\n",
       "        text-align: right;\n",
       "    }\n",
       "</style>\n",
       "<table border=\"1\" class=\"dataframe\">\n",
       "  <thead>\n",
       "    <tr style=\"text-align: right;\">\n",
       "      <th></th>\n",
       "      <th>ProviderNumber</th>\n",
       "      <th>HospitalName</th>\n",
       "      <th>Address1</th>\n",
       "      <th>City</th>\n",
       "      <th>ZipCode</th>\n",
       "      <th>CountyName</th>\n",
       "      <th>PhoneNumber</th>\n",
       "      <th>HospitalOwner</th>\n",
       "      <th>Condition</th>\n",
       "      <th>Sample</th>\n",
       "      <th>label</th>\n",
       "    </tr>\n",
       "  </thead>\n",
       "  <tbody>\n",
       "    <tr>\n",
       "      <th>0</th>\n",
       "      <td>10022</td>\n",
       "      <td>CHEROKEE MEDICAL CENTER</td>\n",
       "      <td>400 NORTHWOOD DR</td>\n",
       "      <td>CENTRE</td>\n",
       "      <td>35960</td>\n",
       "      <td>CHEROKEE</td>\n",
       "      <td>2569275531</td>\n",
       "      <td>Voluntary non-profit - Private</td>\n",
       "      <td>Surgical Infection Prevention</td>\n",
       "      <td>2 patients</td>\n",
       "      <td>1.0</td>\n",
       "    </tr>\n",
       "    <tr>\n",
       "      <th>1</th>\n",
       "      <td>10035</td>\n",
       "      <td>CULLMAN REGIONAL MEDICAL CENTER</td>\n",
       "      <td>1912 ALABAMA HIGHWAY 157</td>\n",
       "      <td>CULLMAN</td>\n",
       "      <td>35058</td>\n",
       "      <td>CULLMAN</td>\n",
       "      <td>2567372000</td>\n",
       "      <td>Government - Hospital District or Authority</td>\n",
       "      <td>Pneumonia</td>\n",
       "      <td>138 patients</td>\n",
       "      <td>1.0</td>\n",
       "    </tr>\n",
       "  </tbody>\n",
       "</table>\n",
       "</div>"
      ],
      "text/plain": [
       "  ProviderNumber                     HospitalName                  Address1  \\\n",
       "0          10022          CHEROKEE MEDICAL CENTER          400 NORTHWOOD DR   \n",
       "1          10035  CULLMAN REGIONAL MEDICAL CENTER  1912 ALABAMA HIGHWAY 157   \n",
       "\n",
       "      City ZipCode CountyName PhoneNumber  \\\n",
       "0   CENTRE   35960   CHEROKEE  2569275531   \n",
       "1  CULLMAN   35058    CULLMAN  2567372000   \n",
       "\n",
       "                                 HospitalOwner                      Condition  \\\n",
       "0               Voluntary non-profit - Private  Surgical Infection Prevention   \n",
       "1  Government - Hospital District or Authority                      Pneumonia   \n",
       "\n",
       "         Sample label  \n",
       "0    2 patients   1.0  \n",
       "1  138 patients   1.0  "
      ]
     },
     "execution_count": 133,
     "metadata": {},
     "output_type": "execute_result"
    }
   ],
   "source": [
    "df.head(2)"
   ]
  },
  {
   "cell_type": "code",
   "execution_count": 134,
   "metadata": {},
   "outputs": [],
   "source": [
    "ProviderNumber = df['ProviderNumber'].tolist()\n",
    "HospitalName = df['HospitalName'].tolist()\n",
    "Address1 = df['Address1'].tolist()\n",
    "City = df['City'].tolist()\n",
    "ZipCode = df['ZipCode'].tolist()\n",
    "CountyName = df['CountyName'].tolist()\n",
    "PhoneNumber = df['PhoneNumber'].tolist()\n",
    "Owner = df['HospitalOwner'].tolist()\n",
    "Condition = df['Condition'].tolist()\n",
    "Sample = df['Sample'].tolist()"
   ]
  },
  {
   "cell_type": "code",
   "execution_count": 135,
   "metadata": {},
   "outputs": [],
   "source": [
    "values = [ProviderNumber, HospitalName, Address1, City, ZipCode, CountyName, PhoneNumber, Owner, Condition, Sample]\n",
    "attributes = ['ProviderNumber', 'HospitalName', 'Address1', 'City','ZipCode','CountyName','PhoneNumber', 'HospitalOwner', 'Condition', 'Sample']"
   ]
  },
  {
   "cell_type": "markdown",
   "metadata": {},
   "source": [
    "Create value, attribute-name tuple pairs"
   ]
  },
  {
   "cell_type": "code",
   "execution_count": 136,
   "metadata": {},
   "outputs": [],
   "source": [
    "data = []\n",
    "for i in range(len(values)):\n",
    "    for value in values[i]:\n",
    "        data.append([value, attributes[i]])"
   ]
  },
  {
   "cell_type": "code",
   "execution_count": 137,
   "metadata": {},
   "outputs": [
    {
     "data": {
      "text/plain": [
       "11000"
      ]
     },
     "execution_count": 137,
     "metadata": {},
     "output_type": "execute_result"
    }
   ],
   "source": [
    "len(data)"
   ]
  },
  {
   "cell_type": "code",
   "execution_count": 138,
   "metadata": {},
   "outputs": [
    {
     "data": {
      "text/plain": [
       "[['10022', 'ProviderNumber'],\n",
       " ['10035', 'ProviderNumber'],\n",
       " ['10027', 'ProviderNumber'],\n",
       " ['10032', 'ProviderNumber'],\n",
       " ['10050', 'ProviderNumber'],\n",
       " ['10015', 'ProviderNumber'],\n",
       " ['10001', 'ProviderNumber'],\n",
       " ['10032', 'ProviderNumber'],\n",
       " ['10015', 'ProviderNumber'],\n",
       " ['10001', 'ProviderNumber']]"
      ]
     },
     "execution_count": 138,
     "metadata": {},
     "output_type": "execute_result"
    }
   ],
   "source": [
    "data[:10]"
   ]
  },
  {
   "cell_type": "code",
   "execution_count": 139,
   "metadata": {},
   "outputs": [
    {
     "data": {
      "text/plain": [
       "[['90 patients', 'Sample'],\n",
       " ['0 patients', 'Sample'],\n",
       " ['14 patients', 'Sample'],\n",
       " ['603 patients', 'Sample'],\n",
       " ['14 patients', 'Sample'],\n",
       " ['12 patients', 'Sample'],\n",
       " ['98 patients', 'Sample'],\n",
       " ['0 patients', 'Sample'],\n",
       " ['54 patients', 'Sample'],\n",
       " ['191 patients', 'Sample']]"
      ]
     },
     "execution_count": 139,
     "metadata": {},
     "output_type": "execute_result"
    }
   ],
   "source": [
    "data[-10:]"
   ]
  },
  {
   "cell_type": "code",
   "execution_count": 140,
   "metadata": {},
   "outputs": [],
   "source": [
    "dfData = pd.DataFrame(data, columns=['Value','Label'])"
   ]
  },
  {
   "cell_type": "code",
   "execution_count": 141,
   "metadata": {},
   "outputs": [
    {
     "data": {
      "text/html": [
       "<div>\n",
       "<style scoped>\n",
       "    .dataframe tbody tr th:only-of-type {\n",
       "        vertical-align: middle;\n",
       "    }\n",
       "\n",
       "    .dataframe tbody tr th {\n",
       "        vertical-align: top;\n",
       "    }\n",
       "\n",
       "    .dataframe thead th {\n",
       "        text-align: right;\n",
       "    }\n",
       "</style>\n",
       "<table border=\"1\" class=\"dataframe\">\n",
       "  <thead>\n",
       "    <tr style=\"text-align: right;\">\n",
       "      <th></th>\n",
       "      <th>Value</th>\n",
       "      <th>Label</th>\n",
       "    </tr>\n",
       "  </thead>\n",
       "  <tbody>\n",
       "    <tr>\n",
       "      <th>0</th>\n",
       "      <td>10022</td>\n",
       "      <td>ProviderNumber</td>\n",
       "    </tr>\n",
       "    <tr>\n",
       "      <th>1</th>\n",
       "      <td>10035</td>\n",
       "      <td>ProviderNumber</td>\n",
       "    </tr>\n",
       "  </tbody>\n",
       "</table>\n",
       "</div>"
      ],
      "text/plain": [
       "   Value           Label\n",
       "0  10022  ProviderNumber\n",
       "1  10035  ProviderNumber"
      ]
     },
     "execution_count": 141,
     "metadata": {},
     "output_type": "execute_result"
    }
   ],
   "source": [
    "dfData.head(2)"
   ]
  },
  {
   "cell_type": "code",
   "execution_count": 142,
   "metadata": {},
   "outputs": [
    {
     "data": {
      "text/html": [
       "<div>\n",
       "<style scoped>\n",
       "    .dataframe tbody tr th:only-of-type {\n",
       "        vertical-align: middle;\n",
       "    }\n",
       "\n",
       "    .dataframe tbody tr th {\n",
       "        vertical-align: top;\n",
       "    }\n",
       "\n",
       "    .dataframe thead th {\n",
       "        text-align: right;\n",
       "    }\n",
       "</style>\n",
       "<table border=\"1\" class=\"dataframe\">\n",
       "  <thead>\n",
       "    <tr style=\"text-align: right;\">\n",
       "      <th></th>\n",
       "      <th>Value</th>\n",
       "      <th>Label</th>\n",
       "    </tr>\n",
       "  </thead>\n",
       "  <tbody>\n",
       "    <tr>\n",
       "      <th>10995</th>\n",
       "      <td>12 patients</td>\n",
       "      <td>Sample</td>\n",
       "    </tr>\n",
       "    <tr>\n",
       "      <th>10996</th>\n",
       "      <td>98 patients</td>\n",
       "      <td>Sample</td>\n",
       "    </tr>\n",
       "    <tr>\n",
       "      <th>10997</th>\n",
       "      <td>0 patients</td>\n",
       "      <td>Sample</td>\n",
       "    </tr>\n",
       "    <tr>\n",
       "      <th>10998</th>\n",
       "      <td>54 patients</td>\n",
       "      <td>Sample</td>\n",
       "    </tr>\n",
       "    <tr>\n",
       "      <th>10999</th>\n",
       "      <td>191 patients</td>\n",
       "      <td>Sample</td>\n",
       "    </tr>\n",
       "  </tbody>\n",
       "</table>\n",
       "</div>"
      ],
      "text/plain": [
       "              Value   Label\n",
       "10995   12 patients  Sample\n",
       "10996   98 patients  Sample\n",
       "10997    0 patients  Sample\n",
       "10998   54 patients  Sample\n",
       "10999  191 patients  Sample"
      ]
     },
     "execution_count": 142,
     "metadata": {},
     "output_type": "execute_result"
    }
   ],
   "source": [
    "dfData.tail()"
   ]
  },
  {
   "cell_type": "markdown",
   "metadata": {},
   "source": [
    "Convert labels to categorical attributes"
   ]
  },
  {
   "cell_type": "code",
   "execution_count": 143,
   "metadata": {},
   "outputs": [],
   "source": [
    "dfData['Label'] = dfData['Label'].astype('category')"
   ]
  },
  {
   "cell_type": "code",
   "execution_count": 144,
   "metadata": {},
   "outputs": [],
   "source": [
    "dfData[\"Label_Cat\"] = dfData[\"Label\"].cat.codes"
   ]
  },
  {
   "cell_type": "code",
   "execution_count": 145,
   "metadata": {},
   "outputs": [
    {
     "data": {
      "text/html": [
       "<div>\n",
       "<style scoped>\n",
       "    .dataframe tbody tr th:only-of-type {\n",
       "        vertical-align: middle;\n",
       "    }\n",
       "\n",
       "    .dataframe tbody tr th {\n",
       "        vertical-align: top;\n",
       "    }\n",
       "\n",
       "    .dataframe thead th {\n",
       "        text-align: right;\n",
       "    }\n",
       "</style>\n",
       "<table border=\"1\" class=\"dataframe\">\n",
       "  <thead>\n",
       "    <tr style=\"text-align: right;\">\n",
       "      <th></th>\n",
       "      <th>Value</th>\n",
       "      <th>Label</th>\n",
       "      <th>Label_Cat</th>\n",
       "    </tr>\n",
       "  </thead>\n",
       "  <tbody>\n",
       "    <tr>\n",
       "      <th>10995</th>\n",
       "      <td>12 patients</td>\n",
       "      <td>Sample</td>\n",
       "      <td>8</td>\n",
       "    </tr>\n",
       "    <tr>\n",
       "      <th>10996</th>\n",
       "      <td>98 patients</td>\n",
       "      <td>Sample</td>\n",
       "      <td>8</td>\n",
       "    </tr>\n",
       "    <tr>\n",
       "      <th>10997</th>\n",
       "      <td>0 patients</td>\n",
       "      <td>Sample</td>\n",
       "      <td>8</td>\n",
       "    </tr>\n",
       "    <tr>\n",
       "      <th>10998</th>\n",
       "      <td>54 patients</td>\n",
       "      <td>Sample</td>\n",
       "      <td>8</td>\n",
       "    </tr>\n",
       "    <tr>\n",
       "      <th>10999</th>\n",
       "      <td>191 patients</td>\n",
       "      <td>Sample</td>\n",
       "      <td>8</td>\n",
       "    </tr>\n",
       "  </tbody>\n",
       "</table>\n",
       "</div>"
      ],
      "text/plain": [
       "              Value   Label  Label_Cat\n",
       "10995   12 patients  Sample          8\n",
       "10996   98 patients  Sample          8\n",
       "10997    0 patients  Sample          8\n",
       "10998   54 patients  Sample          8\n",
       "10999  191 patients  Sample          8"
      ]
     },
     "execution_count": 145,
     "metadata": {},
     "output_type": "execute_result"
    }
   ],
   "source": [
    "dfData.tail()"
   ]
  },
  {
   "cell_type": "code",
   "execution_count": 146,
   "metadata": {},
   "outputs": [
    {
     "data": {
      "text/plain": [
       "7    1100\n",
       "6    1100\n",
       "5    1100\n",
       "4    1100\n",
       "3    1100\n",
       "2    1100\n",
       "9    1100\n",
       "1    1100\n",
       "8    1100\n",
       "0    1100\n",
       "Name: Label_Cat, dtype: int64"
      ]
     },
     "execution_count": 146,
     "metadata": {},
     "output_type": "execute_result"
    }
   ],
   "source": [
    "dfData['Label_Cat'].value_counts()"
   ]
  },
  {
   "cell_type": "markdown",
   "metadata": {},
   "source": [
    "Get the mapping"
   ]
  },
  {
   "cell_type": "code",
   "execution_count": 147,
   "metadata": {},
   "outputs": [],
   "source": [
    "mapping = dict(enumerate(dfData['Label'].cat.categories))"
   ]
  },
  {
   "cell_type": "code",
   "execution_count": 148,
   "metadata": {},
   "outputs": [
    {
     "data": {
      "text/plain": [
       "{0: 'Address1',\n",
       " 1: 'City',\n",
       " 2: 'Condition',\n",
       " 3: 'CountyName',\n",
       " 4: 'HospitalName',\n",
       " 5: 'HospitalOwner',\n",
       " 6: 'PhoneNumber',\n",
       " 7: 'ProviderNumber',\n",
       " 8: 'Sample',\n",
       " 9: 'ZipCode'}"
      ]
     },
     "execution_count": 148,
     "metadata": {},
     "output_type": "execute_result"
    }
   ],
   "source": [
    "mapping"
   ]
  },
  {
   "cell_type": "markdown",
   "metadata": {},
   "source": [
    "Drop the Label column"
   ]
  },
  {
   "cell_type": "code",
   "execution_count": 149,
   "metadata": {},
   "outputs": [],
   "source": [
    "dfData.drop(['Label'], axis=1, inplace=True)"
   ]
  },
  {
   "cell_type": "code",
   "execution_count": 150,
   "metadata": {
    "scrolled": true
   },
   "outputs": [
    {
     "data": {
      "text/html": [
       "<div>\n",
       "<style scoped>\n",
       "    .dataframe tbody tr th:only-of-type {\n",
       "        vertical-align: middle;\n",
       "    }\n",
       "\n",
       "    .dataframe tbody tr th {\n",
       "        vertical-align: top;\n",
       "    }\n",
       "\n",
       "    .dataframe thead th {\n",
       "        text-align: right;\n",
       "    }\n",
       "</style>\n",
       "<table border=\"1\" class=\"dataframe\">\n",
       "  <thead>\n",
       "    <tr style=\"text-align: right;\">\n",
       "      <th></th>\n",
       "      <th>Value</th>\n",
       "      <th>Label_Cat</th>\n",
       "    </tr>\n",
       "  </thead>\n",
       "  <tbody>\n",
       "    <tr>\n",
       "      <th>0</th>\n",
       "      <td>10022</td>\n",
       "      <td>7</td>\n",
       "    </tr>\n",
       "    <tr>\n",
       "      <th>1</th>\n",
       "      <td>10035</td>\n",
       "      <td>7</td>\n",
       "    </tr>\n",
       "    <tr>\n",
       "      <th>2</th>\n",
       "      <td>10027</td>\n",
       "      <td>7</td>\n",
       "    </tr>\n",
       "    <tr>\n",
       "      <th>3</th>\n",
       "      <td>10032</td>\n",
       "      <td>7</td>\n",
       "    </tr>\n",
       "    <tr>\n",
       "      <th>4</th>\n",
       "      <td>10050</td>\n",
       "      <td>7</td>\n",
       "    </tr>\n",
       "  </tbody>\n",
       "</table>\n",
       "</div>"
      ],
      "text/plain": [
       "   Value  Label_Cat\n",
       "0  10022          7\n",
       "1  10035          7\n",
       "2  10027          7\n",
       "3  10032          7\n",
       "4  10050          7"
      ]
     },
     "execution_count": 150,
     "metadata": {},
     "output_type": "execute_result"
    }
   ],
   "source": [
    "dfData.head()"
   ]
  },
  {
   "cell_type": "markdown",
   "metadata": {},
   "source": [
    "Shuffle the data"
   ]
  },
  {
   "cell_type": "code",
   "execution_count": 151,
   "metadata": {},
   "outputs": [],
   "source": [
    "dfData = dfData.sample(frac=1).reset_index(drop=True)"
   ]
  },
  {
   "cell_type": "code",
   "execution_count": 152,
   "metadata": {
    "scrolled": true
   },
   "outputs": [
    {
     "data": {
      "text/html": [
       "<div>\n",
       "<style scoped>\n",
       "    .dataframe tbody tr th:only-of-type {\n",
       "        vertical-align: middle;\n",
       "    }\n",
       "\n",
       "    .dataframe tbody tr th {\n",
       "        vertical-align: top;\n",
       "    }\n",
       "\n",
       "    .dataframe thead th {\n",
       "        text-align: right;\n",
       "    }\n",
       "</style>\n",
       "<table border=\"1\" class=\"dataframe\">\n",
       "  <thead>\n",
       "    <tr style=\"text-align: right;\">\n",
       "      <th></th>\n",
       "      <th>Value</th>\n",
       "      <th>Label_Cat</th>\n",
       "    </tr>\n",
       "  </thead>\n",
       "  <tbody>\n",
       "    <tr>\n",
       "      <th>0</th>\n",
       "      <td>Proprietary</td>\n",
       "      <td>5</td>\n",
       "    </tr>\n",
       "    <tr>\n",
       "      <th>1</th>\n",
       "      <td>ELBA GENERAL HOSPITAL</td>\n",
       "      <td>4</td>\n",
       "    </tr>\n",
       "    <tr>\n",
       "      <th>2</th>\n",
       "      <td>3343470584</td>\n",
       "      <td>6</td>\n",
       "    </tr>\n",
       "    <tr>\n",
       "      <th>3</th>\n",
       "      <td>619 SOUTH 19TH STREET</td>\n",
       "      <td>0</td>\n",
       "    </tr>\n",
       "    <tr>\n",
       "      <th>4</th>\n",
       "      <td>1725 PINE STREET</td>\n",
       "      <td>0</td>\n",
       "    </tr>\n",
       "    <tr>\n",
       "      <th>5</th>\n",
       "      <td>10007</td>\n",
       "      <td>7</td>\n",
       "    </tr>\n",
       "    <tr>\n",
       "      <th>6</th>\n",
       "      <td>Proprietary</td>\n",
       "      <td>5</td>\n",
       "    </tr>\n",
       "    <tr>\n",
       "      <th>7</th>\n",
       "      <td>MONTGOMERY</td>\n",
       "      <td>3</td>\n",
       "    </tr>\n",
       "    <tr>\n",
       "      <th>8</th>\n",
       "      <td>10016</td>\n",
       "      <td>7</td>\n",
       "    </tr>\n",
       "    <tr>\n",
       "      <th>9</th>\n",
       "      <td>139 patients</td>\n",
       "      <td>8</td>\n",
       "    </tr>\n",
       "  </tbody>\n",
       "</table>\n",
       "</div>"
      ],
      "text/plain": [
       "                   Value  Label_Cat\n",
       "0            Proprietary          5\n",
       "1  ELBA GENERAL HOSPITAL          4\n",
       "2             3343470584          6\n",
       "3  619 SOUTH 19TH STREET          0\n",
       "4       1725 PINE STREET          0\n",
       "5                  10007          7\n",
       "6            Proprietary          5\n",
       "7             MONTGOMERY          3\n",
       "8                  10016          7\n",
       "9           139 patients          8"
      ]
     },
     "execution_count": 152,
     "metadata": {},
     "output_type": "execute_result"
    }
   ],
   "source": [
    "dfData.head(10)"
   ]
  },
  {
   "cell_type": "markdown",
   "metadata": {},
   "source": [
    "Find the longest string in the value column"
   ]
  },
  {
   "cell_type": "code",
   "execution_count": 153,
   "metadata": {},
   "outputs": [
    {
     "data": {
      "text/plain": [
       "43"
      ]
     },
     "execution_count": 153,
     "metadata": {},
     "output_type": "execute_result"
    }
   ],
   "source": [
    "dfData.Value.map(lambda x: len(str(x))).max()"
   ]
  },
  {
   "cell_type": "code",
   "execution_count": 154,
   "metadata": {},
   "outputs": [],
   "source": [
    "X = dfData['Value'].tolist()\n",
    "y = dfData['Label_Cat'].tolist()"
   ]
  },
  {
   "cell_type": "markdown",
   "metadata": {},
   "source": [
    "## Tokenize and obtain the train, test split"
   ]
  },
  {
   "cell_type": "code",
   "execution_count": 155,
   "metadata": {},
   "outputs": [],
   "source": [
    "batchSize = 32\n",
    "maxSequenceLength = 200\n",
    "maxWords = 5000"
   ]
  },
  {
   "cell_type": "code",
   "execution_count": 156,
   "metadata": {},
   "outputs": [
    {
     "name": "stdout",
     "output_type": "stream",
     "text": [
      "Found 632 unique tokens.\n"
     ]
    }
   ],
   "source": [
    "tokenizer = Tokenizer(num_words=maxWords)\n",
    "tokenizer.fit_on_texts(X)\n",
    "sequences = tokenizer.texts_to_sequences(X)\n",
    "word_index = tokenizer.word_index\n",
    "print('Found %s unique tokens.' % len(word_index))"
   ]
  },
  {
   "cell_type": "code",
   "execution_count": 157,
   "metadata": {},
   "outputs": [],
   "source": [
    "data = pad_sequences(sequences, maxlen=maxSequenceLength)"
   ]
  },
  {
   "cell_type": "code",
   "execution_count": 158,
   "metadata": {},
   "outputs": [],
   "source": [
    "labels = np.asarray(y)"
   ]
  },
  {
   "cell_type": "code",
   "execution_count": 159,
   "metadata": {},
   "outputs": [
    {
     "data": {
      "text/plain": [
       "(11000, 200)"
      ]
     },
     "execution_count": 159,
     "metadata": {},
     "output_type": "execute_result"
    }
   ],
   "source": [
    "data.shape"
   ]
  },
  {
   "cell_type": "code",
   "execution_count": 160,
   "metadata": {},
   "outputs": [
    {
     "data": {
      "text/plain": [
       "(11000,)"
      ]
     },
     "execution_count": 160,
     "metadata": {},
     "output_type": "execute_result"
    }
   ],
   "source": [
    "labels.shape"
   ]
  },
  {
   "cell_type": "code",
   "execution_count": 161,
   "metadata": {},
   "outputs": [],
   "source": [
    "labels = to_categorical(labels)"
   ]
  },
  {
   "cell_type": "code",
   "execution_count": 162,
   "metadata": {},
   "outputs": [
    {
     "data": {
      "text/plain": [
       "(11000, 10)"
      ]
     },
     "execution_count": 162,
     "metadata": {},
     "output_type": "execute_result"
    }
   ],
   "source": [
    "labels.shape"
   ]
  },
  {
   "cell_type": "markdown",
   "metadata": {},
   "source": [
    "Shuffle the dataset"
   ]
  },
  {
   "cell_type": "code",
   "execution_count": 163,
   "metadata": {},
   "outputs": [],
   "source": [
    "indices = np.arange(data.shape[0])\n",
    "np.random.shuffle(indices)"
   ]
  },
  {
   "cell_type": "code",
   "execution_count": 164,
   "metadata": {},
   "outputs": [],
   "source": [
    "data = data[indices]\n",
    "labels = labels[indices]"
   ]
  },
  {
   "cell_type": "markdown",
   "metadata": {},
   "source": [
    "## Train test split"
   ]
  },
  {
   "cell_type": "code",
   "execution_count": 165,
   "metadata": {},
   "outputs": [],
   "source": [
    "X_train, X_test, y_train, y_test = train_test_split(data, labels, test_size=0.2, random_state=22, stratify=labels)"
   ]
  },
  {
   "cell_type": "code",
   "execution_count": 166,
   "metadata": {},
   "outputs": [
    {
     "data": {
      "text/plain": [
       "(8800, 8800)"
      ]
     },
     "execution_count": 166,
     "metadata": {},
     "output_type": "execute_result"
    }
   ],
   "source": [
    "len(X_train), len(y_train)"
   ]
  },
  {
   "cell_type": "code",
   "execution_count": 167,
   "metadata": {},
   "outputs": [
    {
     "data": {
      "text/plain": [
       "(2200, 2200)"
      ]
     },
     "execution_count": 167,
     "metadata": {},
     "output_type": "execute_result"
    }
   ],
   "source": [
    "len(X_test), len(y_test)"
   ]
  },
  {
   "cell_type": "markdown",
   "metadata": {},
   "source": [
    "## Model"
   ]
  },
  {
   "cell_type": "code",
   "execution_count": 168,
   "metadata": {},
   "outputs": [],
   "source": [
    "embeddingDim = 100"
   ]
  },
  {
   "cell_type": "markdown",
   "metadata": {},
   "source": [
    "**Architecture**\n",
    "* 1 embedding layer \n",
    "* 1 dense layer, 32 hidden units and _relu_ activation\n",
    "* 1 dense layer, 64 hidden units and _relu_ activation\n",
    "* Output layer, _softmax_ activation"
   ]
  },
  {
   "cell_type": "code",
   "execution_count": 169,
   "metadata": {},
   "outputs": [],
   "source": [
    "model = models.Sequential()\n",
    "model.add(layers.Embedding(maxWords, embeddingDim, input_length=maxSequenceLength))\n",
    "model.add(layers.Flatten())\n",
    "model.add(layers.Dense(32, activation=activations.relu))\n",
    "model.add(layers.Dense(64, activation=activations.relu))\n",
    "model.add(layers.Dense(10, activation=activations.softmax))\n",
    "\n",
    "model.compile(optimizer=optimizers.Adam(), loss=losses.categorical_crossentropy, metrics=['accuracy'])"
   ]
  },
  {
   "cell_type": "code",
   "execution_count": 170,
   "metadata": {},
   "outputs": [
    {
     "name": "stdout",
     "output_type": "stream",
     "text": [
      "_________________________________________________________________\n",
      "Layer (type)                 Output Shape              Param #   \n",
      "=================================================================\n",
      "embedding_4 (Embedding)      (None, 200, 100)          500000    \n",
      "_________________________________________________________________\n",
      "flatten_4 (Flatten)          (None, 20000)             0         \n",
      "_________________________________________________________________\n",
      "dense_10 (Dense)             (None, 32)                640032    \n",
      "_________________________________________________________________\n",
      "dense_11 (Dense)             (None, 64)                2112      \n",
      "_________________________________________________________________\n",
      "dense_12 (Dense)             (None, 10)                650       \n",
      "=================================================================\n",
      "Total params: 1,142,794\n",
      "Trainable params: 1,142,794\n",
      "Non-trainable params: 0\n",
      "_________________________________________________________________\n"
     ]
    }
   ],
   "source": [
    "model.summary()"
   ]
  },
  {
   "cell_type": "code",
   "execution_count": 171,
   "metadata": {},
   "outputs": [
    {
     "name": "stdout",
     "output_type": "stream",
     "text": [
      "Train on 7040 samples, validate on 1760 samples\n",
      "Epoch 1/5\n",
      "7040/7040 [==============================] - 3s 426us/step - loss: 1.5366 - acc: 0.4788 - val_loss: 0.5614 - val_acc: 0.9006\n",
      "Epoch 2/5\n",
      "7040/7040 [==============================] - 3s 365us/step - loss: 0.3051 - acc: 0.9359 - val_loss: 0.1106 - val_acc: 0.9727\n",
      "Epoch 3/5\n",
      "7040/7040 [==============================] - 3s 369us/step - loss: 0.0690 - acc: 0.9831 - val_loss: 0.0564 - val_acc: 0.9892\n",
      "Epoch 4/5\n",
      "7040/7040 [==============================] - 2s 353us/step - loss: 0.0360 - acc: 0.9855 - val_loss: 0.0238 - val_acc: 0.9898\n",
      "Epoch 5/5\n",
      "7040/7040 [==============================] - 2s 351us/step - loss: 0.0279 - acc: 0.9842 - val_loss: 0.0268 - val_acc: 0.9903\n"
     ]
    }
   ],
   "source": [
    "history = model.fit(X_train, y_train,\n",
    "                    epochs=5,\n",
    "                    batch_size=32, \n",
    "                    validation_split=0.2)"
   ]
  },
  {
   "cell_type": "code",
   "execution_count": 172,
   "metadata": {},
   "outputs": [
    {
     "data": {
      "image/png": "[encoded data removed]",
      "text/plain": [
       "<matplotlib.figure.Figure at 0x1a329ccb70>"
      ]
     },
     "metadata": {},
     "output_type": "display_data"
    },
    {
     "data": {
      "image/png": "[encoded data removed]",
      "text/plain": [
       "<matplotlib.figure.Figure at 0x1a32977b00>"
      ]
     },
     "metadata": {},
     "output_type": "display_data"
    }
   ],
   "source": [
    "acc = history.history['acc']\n",
    "val_acc = history.history['val_acc']\n",
    "\n",
    "loss = history.history['loss']\n",
    "val_loss = history.history['val_loss']\n",
    "\n",
    "epochs = range(1, len(acc) + 1)\n",
    "plt.plot(epochs, acc, 'bo', label='Training acc')\n",
    "plt.plot(epochs, val_acc, 'b', label='Validation acc')\n",
    "plt.title('Training and validation accuracy')\n",
    "plt.xlabel(\"Epochs\")\n",
    "plt.ylabel(\"Accuracy\")\n",
    "plt.legend()\n",
    "\n",
    "plt.figure()\n",
    "\n",
    "plt.plot(epochs, loss, 'bo', label='Training loss')\n",
    "plt.plot(epochs, val_loss, 'b', label='Validation loss')\n",
    "plt.title('Training and validation loss')\n",
    "plt.xlabel(\"Epochs\")\n",
    "plt.ylabel(\"Loss\")\n",
    "plt.legend()\n",
    "plt.show();"
   ]
  },
  {
   "cell_type": "code",
   "execution_count": 173,
   "metadata": {},
   "outputs": [
    {
     "name": "stdout",
     "output_type": "stream",
     "text": [
      "2200/2200 [==============================] - 0s 77us/step\n"
     ]
    }
   ],
   "source": [
    "results = model.evaluate(X_test, y_test)"
   ]
  },
  {
   "cell_type": "code",
   "execution_count": 174,
   "metadata": {},
   "outputs": [],
   "source": [
    "loss = results[0]\n",
    "accuracy = results[1]"
   ]
  },
  {
   "cell_type": "code",
   "execution_count": 175,
   "metadata": {},
   "outputs": [
    {
     "data": {
      "text/plain": [
       "0.03414120212535966"
      ]
     },
     "execution_count": 175,
     "metadata": {},
     "output_type": "execute_result"
    }
   ],
   "source": [
    "loss"
   ]
  },
  {
   "cell_type": "code",
   "execution_count": 176,
   "metadata": {},
   "outputs": [
    {
     "data": {
      "text/plain": [
       "0.9868181818181818"
      ]
     },
     "execution_count": 176,
     "metadata": {},
     "output_type": "execute_result"
    }
   ],
   "source": [
    "accuracy"
   ]
  },
  {
   "cell_type": "markdown",
   "metadata": {},
   "source": [
    "Save the model"
   ]
  },
  {
   "cell_type": "code",
   "execution_count": 177,
   "metadata": {},
   "outputs": [],
   "source": [
    "model.save(\"HospitalMultiAttributeClassifier.h5\")"
   ]
  },
  {
   "cell_type": "markdown",
   "metadata": {},
   "source": [
    "Save the tokenizer"
   ]
  },
  {
   "cell_type": "code",
   "execution_count": 178,
   "metadata": {},
   "outputs": [],
   "source": [
    "with open('HospitalMultiAttributeClassifierTokenizer.pickle', 'wb') as handle:\n",
    "    pickle.dump(tokenizer, handle, protocol=pickle.HIGHEST_PROTOCOL, fix_imports=True)"
   ]
  },
  {
   "cell_type": "markdown",
   "metadata": {},
   "source": [
    "## Make predictions on new data"
   ]
  },
  {
   "cell_type": "code",
   "execution_count": 179,
   "metadata": {},
   "outputs": [],
   "source": [
    "model = load_model('HospitalMultiAttributeClassifier.h5')"
   ]
  },
  {
   "cell_type": "code",
   "execution_count": 180,
   "metadata": {},
   "outputs": [],
   "source": [
    "with open('HospitalMultiAttributeClassifierTokenizer.pickle', 'rb') as handle:\n",
    "    tokenizer = pickle.load(handle)"
   ]
  },
  {
   "cell_type": "code",
   "execution_count": 184,
   "metadata": {},
   "outputs": [],
   "source": [
    "testString = ['36278']"
   ]
  },
  {
   "cell_type": "code",
   "execution_count": 185,
   "metadata": {},
   "outputs": [],
   "source": [
    "sequences = tokenizer.texts_to_sequences(testString)\n",
    "testData = pad_sequences(sequences, maxlen=200)"
   ]
  },
  {
   "cell_type": "code",
   "execution_count": 186,
   "metadata": {},
   "outputs": [],
   "source": [
    "predictions = model.predict(testData)"
   ]
  },
  {
   "cell_type": "code",
   "execution_count": 187,
   "metadata": {},
   "outputs": [
    {
     "data": {
      "text/plain": [
       "'ZipCode'"
      ]
     },
     "execution_count": 187,
     "metadata": {},
     "output_type": "execute_result"
    }
   ],
   "source": [
    "mapping[np.argmax(predictions[0])]"
   ]
  },
  {
   "cell_type": "code",
   "execution_count": null,
   "metadata": {},
   "outputs": [],
   "source": []
  }
 ],
 "metadata": {
  "kernel_info": {
   "name": "python3"
  },
  "kernelspec": {
   "display_name": "Python 3",
   "language": "python",
   "name": "python3"
  },
  "language_info": {
   "codemirror_mode": {
    "name": "ipython",
    "version": 3
   },
   "file_extension": ".py",
   "mimetype": "text/x-python",
   "name": "python",
   "nbconvert_exporter": "python",
   "pygments_lexer": "ipython3",
   "version": "3.6.4"
  },
  "nteract": {
   "version": "0.8.4"
  },
  "toc": {
   "nav_menu": {},
   "number_sections": true,
   "sideBar": true,
   "skip_h1_title": false,
   "title_cell": "Table of Contents",
   "title_sidebar": "Contents",
   "toc_cell": false,
   "toc_position": {},
   "toc_section_display": true,
   "toc_window_display": false
  }
 },
 "nbformat": 4,
 "nbformat_minor": 2
}
