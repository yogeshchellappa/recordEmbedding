{
  "cells": [
    {
      "cell_type": "markdown",
      "source": [
        "# Hospital - Error Detection using LSTMs for 10 attributes\n",
        "This notebook demonstrates how we use record embeddings to perform error detection in tuples. We are using the **Hospital** dataset which has been artificially augmented to contain the following type of errors:\n",
        "1. 17% of the tuples have been shuffled across the columnar axis.\n",
        "2. 16% of the tuples has a cell value assigned to NaN.\n",
        "3. 17% of the tuples has a cell value misspelt.\n",
        "\nBy converting each tuple to a space separated string and feeding it to an LSTM, we see if the network can learn to detect errors in the tuples."
      ],
      "metadata": {}
    },
    {
      "cell_type": "code",
      "source": [
        "import warnings\n",
        "warnings.filterwarnings(\"ignore\")\n",
        "\n",
        "import pandas as pd\n",
        "import numpy as np\n",
        "import h5py\n",
        "import pickle\n",
        "from sklearn.model_selection import train_test_split\n",
        "from numpy.random import seed\n",
        "\n",
        "from keras.preprocessing.text import Tokenizer\n",
        "from keras.preprocessing.sequence import pad_sequences\n",
        "from keras import models\n",
        "from keras import layers\n",
        "from keras import optimizers\n",
        "from keras import activations\n",
        "from keras import losses\n",
        "from keras import metrics\n",
        "from keras.utils import to_categorical\n",
        "from keras.models import load_model\n",
        "\n",
        "import matplotlib.pyplot as plt\n",
        "%matplotlib inline"
      ],
      "outputs": [
        {
          "output_type": "stream",
          "name": "stderr",
          "text": [
            "Using TensorFlow backend.\n"
          ]
        }
      ],
      "execution_count": 2,
      "metadata": {}
    },
    {
      "cell_type": "code",
      "source": [
        "seed(22)"
      ],
      "outputs": [],
      "execution_count": 103,
      "metadata": {}
    },
    {
      "cell_type": "markdown",
      "source": [
        "## Read the data"
      ],
      "metadata": {}
    },
    {
      "cell_type": "code",
      "source": [
        "df = pd.read_csv('2k_tuples_bigger_dataset.csv', encoding='utf8',dtype=object)"
      ],
      "outputs": [],
      "execution_count": 104,
      "metadata": {}
    },
    {
      "cell_type": "code",
      "source": [
        "df.head(3)"
      ],
      "outputs": [
        {
          "output_type": "execute_result",
          "execution_count": 105,
          "data": {
            "text/html": [
              "<div>\n",
              "<style scoped>\n",
              "    .dataframe tbody tr th:only-of-type {\n",
              "        vertical-align: middle;\n",
              "    }\n",
              "\n",
              "    .dataframe tbody tr th {\n",
              "        vertical-align: top;\n",
              "    }\n",
              "\n",
              "    .dataframe thead th {\n",
              "        text-align: right;\n",
              "    }\n",
              "</style>\n",
              "<table border=\"1\" class=\"dataframe\">\n",
              "  <thead>\n",
              "    <tr style=\"text-align: right;\">\n",
              "      <th></th>\n",
              "      <th>ProviderNumber</th>\n",
              "      <th>HospitalName</th>\n",
              "      <th>Address1</th>\n",
              "      <th>City</th>\n",
              "      <th>ZipCode</th>\n",
              "      <th>CountyName</th>\n",
              "      <th>PhoneNumber</th>\n",
              "      <th>HospitalOwner</th>\n",
              "      <th>Condition</th>\n",
              "      <th>Sample</th>\n",
              "      <th>label</th>\n",
              "    </tr>\n",
              "  </thead>\n",
              "  <tbody>\n",
              "    <tr>\n",
              "      <th>0</th>\n",
              "      <td>10046</td>\n",
              "      <td>RIVERVIEW REGIONAL MEDICAL CENTER</td>\n",
              "      <td>600 SOUTH THIRD STREET</td>\n",
              "      <td>GADSDEN</td>\n",
              "      <td>35901</td>\n",
              "      <td>ETOWAH</td>\n",
              "      <td>2565435200</td>\n",
              "      <td>NaN</td>\n",
              "      <td>Heart Failure</td>\n",
              "      <td>268 patients</td>\n",
              "      <td>0.0</td>\n",
              "    </tr>\n",
              "    <tr>\n",
              "      <th>1</th>\n",
              "      <td>10046</td>\n",
              "      <td>RIVERVIEW REGIONAL MEDICAL CENTER</td>\n",
              "      <td>600 SOUTH THYRD STREET</td>\n",
              "      <td>GADSDEN</td>\n",
              "      <td>35901</td>\n",
              "      <td>ETOWAH</td>\n",
              "      <td>2565435200</td>\n",
              "      <td>Proprietary</td>\n",
              "      <td>Surgical Infection Prevention</td>\n",
              "      <td>107 patients</td>\n",
              "      <td>0.0</td>\n",
              "    </tr>\n",
              "    <tr>\n",
              "      <th>2</th>\n",
              "      <td>10008</td>\n",
              "      <td>CRENSHAW COMMUNITY HOSPITAL</td>\n",
              "      <td>101 HOSPITAL CIRCLE</td>\n",
              "      <td>LUVERNE</td>\n",
              "      <td>36049</td>\n",
              "      <td>CRENSHAW</td>\n",
              "      <td>3343353374</td>\n",
              "      <td>NaN</td>\n",
              "      <td>Heart Failure</td>\n",
              "      <td>8 patients</td>\n",
              "      <td>0.0</td>\n",
              "    </tr>\n",
              "  </tbody>\n",
              "</table>\n",
              "</div>"
            ],
            "text/plain": [
              "  ProviderNumber                       HospitalName                Address1  \\\n",
              "0          10046  RIVERVIEW REGIONAL MEDICAL CENTER  600 SOUTH THIRD STREET   \n",
              "1          10046  RIVERVIEW REGIONAL MEDICAL CENTER  600 SOUTH THYRD STREET   \n",
              "2          10008        CRENSHAW COMMUNITY HOSPITAL     101 HOSPITAL CIRCLE   \n",
              "\n",
              "      City ZipCode CountyName PhoneNumber HospitalOwner  \\\n",
              "0  GADSDEN   35901     ETOWAH  2565435200           NaN   \n",
              "1  GADSDEN   35901     ETOWAH  2565435200   Proprietary   \n",
              "2  LUVERNE   36049   CRENSHAW  3343353374           NaN   \n",
              "\n",
              "                       Condition        Sample label  \n",
              "0                  Heart Failure  268 patients   0.0  \n",
              "1  Surgical Infection Prevention  107 patients   0.0  \n",
              "2                  Heart Failure    8 patients   0.0  "
            ]
          },
          "metadata": {}
        }
      ],
      "execution_count": 105,
      "metadata": {}
    },
    {
      "cell_type": "code",
      "source": [
        "len(df)"
      ],
      "outputs": [
        {
          "output_type": "execute_result",
          "execution_count": 106,
          "data": {
            "text/plain": [
              "2000"
            ]
          },
          "metadata": {}
        }
      ],
      "execution_count": 106,
      "metadata": {}
    },
    {
      "cell_type": "code",
      "source": [
        "df['label'].value_counts()"
      ],
      "outputs": [
        {
          "output_type": "execute_result",
          "execution_count": 107,
          "data": {
            "text/plain": [
              "1.0    1100\n",
              "0.0     900\n",
              "Name: label, dtype: int64"
            ]
          },
          "metadata": {}
        }
      ],
      "execution_count": 107,
      "metadata": {}
    },
    {
      "cell_type": "code",
      "source": [
        "df['PhoneNumber'].fillna(0, inplace=True)\n",
        "df['ProviderNumber'].fillna(0, inplace=True)\n",
        "df['ZipCode'].fillna(0, inplace=True)"
      ],
      "outputs": [],
      "execution_count": 108,
      "metadata": {}
    },
    {
      "cell_type": "markdown",
      "source": [
        "### Separate the labels from the training data"
      ],
      "metadata": {}
    },
    {
      "cell_type": "code",
      "source": [
        "df['label'] = df['label'].apply(lambda x: int(float(x)))\n",
        "labels = np.asarray(df['label'].tolist())"
      ],
      "outputs": [],
      "execution_count": 109,
      "metadata": {}
    },
    {
      "cell_type": "code",
      "source": [
        "df.drop(columns=['label'], axis=1, inplace=True)"
      ],
      "outputs": [],
      "execution_count": 110,
      "metadata": {}
    },
    {
      "cell_type": "markdown",
      "source": [
        "### Convert PhoneNumber, ProviderNumber and ZipCode to int"
      ],
      "metadata": {}
    },
    {
      "cell_type": "code",
      "source": [
        "df['ProviderNumber'] = df['ProviderNumber'].apply(lambda x: int(x))\n",
        "df['PhoneNumber'] = df['PhoneNumber'].apply(lambda x: int(x))\n",
        "df['ZipCode'] = df['ZipCode'].apply(lambda x: int(x))"
      ],
      "outputs": [],
      "execution_count": 111,
      "metadata": {}
    },
    {
      "cell_type": "code",
      "source": [
        "df.head(3)"
      ],
      "outputs": [
        {
          "output_type": "execute_result",
          "execution_count": 112,
          "data": {
            "text/html": [
              "<div>\n",
              "<style scoped>\n",
              "    .dataframe tbody tr th:only-of-type {\n",
              "        vertical-align: middle;\n",
              "    }\n",
              "\n",
              "    .dataframe tbody tr th {\n",
              "        vertical-align: top;\n",
              "    }\n",
              "\n",
              "    .dataframe thead th {\n",
              "        text-align: right;\n",
              "    }\n",
              "</style>\n",
              "<table border=\"1\" class=\"dataframe\">\n",
              "  <thead>\n",
              "    <tr style=\"text-align: right;\">\n",
              "      <th></th>\n",
              "      <th>ProviderNumber</th>\n",
              "      <th>HospitalName</th>\n",
              "      <th>Address1</th>\n",
              "      <th>City</th>\n",
              "      <th>ZipCode</th>\n",
              "      <th>CountyName</th>\n",
              "      <th>PhoneNumber</th>\n",
              "      <th>HospitalOwner</th>\n",
              "      <th>Condition</th>\n",
              "      <th>Sample</th>\n",
              "    </tr>\n",
              "  </thead>\n",
              "  <tbody>\n",
              "    <tr>\n",
              "      <th>0</th>\n",
              "      <td>10046</td>\n",
              "      <td>RIVERVIEW REGIONAL MEDICAL CENTER</td>\n",
              "      <td>600 SOUTH THIRD STREET</td>\n",
              "      <td>GADSDEN</td>\n",
              "      <td>35901</td>\n",
              "      <td>ETOWAH</td>\n",
              "      <td>2565435200</td>\n",
              "      <td>NaN</td>\n",
              "      <td>Heart Failure</td>\n",
              "      <td>268 patients</td>\n",
              "    </tr>\n",
              "    <tr>\n",
              "      <th>1</th>\n",
              "      <td>10046</td>\n",
              "      <td>RIVERVIEW REGIONAL MEDICAL CENTER</td>\n",
              "      <td>600 SOUTH THYRD STREET</td>\n",
              "      <td>GADSDEN</td>\n",
              "      <td>35901</td>\n",
              "      <td>ETOWAH</td>\n",
              "      <td>2565435200</td>\n",
              "      <td>Proprietary</td>\n",
              "      <td>Surgical Infection Prevention</td>\n",
              "      <td>107 patients</td>\n",
              "    </tr>\n",
              "    <tr>\n",
              "      <th>2</th>\n",
              "      <td>10008</td>\n",
              "      <td>CRENSHAW COMMUNITY HOSPITAL</td>\n",
              "      <td>101 HOSPITAL CIRCLE</td>\n",
              "      <td>LUVERNE</td>\n",
              "      <td>36049</td>\n",
              "      <td>CRENSHAW</td>\n",
              "      <td>3343353374</td>\n",
              "      <td>NaN</td>\n",
              "      <td>Heart Failure</td>\n",
              "      <td>8 patients</td>\n",
              "    </tr>\n",
              "  </tbody>\n",
              "</table>\n",
              "</div>"
            ],
            "text/plain": [
              "   ProviderNumber                       HospitalName                Address1  \\\n",
              "0           10046  RIVERVIEW REGIONAL MEDICAL CENTER  600 SOUTH THIRD STREET   \n",
              "1           10046  RIVERVIEW REGIONAL MEDICAL CENTER  600 SOUTH THYRD STREET   \n",
              "2           10008        CRENSHAW COMMUNITY HOSPITAL     101 HOSPITAL CIRCLE   \n",
              "\n",
              "      City  ZipCode CountyName  PhoneNumber HospitalOwner  \\\n",
              "0  GADSDEN    35901     ETOWAH   2565435200           NaN   \n",
              "1  GADSDEN    35901     ETOWAH   2565435200   Proprietary   \n",
              "2  LUVERNE    36049   CRENSHAW   3343353374           NaN   \n",
              "\n",
              "                       Condition        Sample  \n",
              "0                  Heart Failure  268 patients  \n",
              "1  Surgical Infection Prevention  107 patients  \n",
              "2                  Heart Failure    8 patients  "
            ]
          },
          "metadata": {}
        }
      ],
      "execution_count": 112,
      "metadata": {}
    },
    {
      "cell_type": "markdown",
      "source": [
        "### Replace 'Empty' in Sample attribute to '0 patients'"
      ],
      "metadata": {}
    },
    {
      "cell_type": "code",
      "source": [
        "df['Sample'] = df['Sample'].replace('Empty','0 patients')"
      ],
      "outputs": [],
      "execution_count": 113,
      "metadata": {}
    },
    {
      "cell_type": "code",
      "source": [
        "df.head(3)"
      ],
      "outputs": [
        {
          "output_type": "execute_result",
          "execution_count": 114,
          "data": {
            "text/html": [
              "<div>\n",
              "<style scoped>\n",
              "    .dataframe tbody tr th:only-of-type {\n",
              "        vertical-align: middle;\n",
              "    }\n",
              "\n",
              "    .dataframe tbody tr th {\n",
              "        vertical-align: top;\n",
              "    }\n",
              "\n",
              "    .dataframe thead th {\n",
              "        text-align: right;\n",
              "    }\n",
              "</style>\n",
              "<table border=\"1\" class=\"dataframe\">\n",
              "  <thead>\n",
              "    <tr style=\"text-align: right;\">\n",
              "      <th></th>\n",
              "      <th>ProviderNumber</th>\n",
              "      <th>HospitalName</th>\n",
              "      <th>Address1</th>\n",
              "      <th>City</th>\n",
              "      <th>ZipCode</th>\n",
              "      <th>CountyName</th>\n",
              "      <th>PhoneNumber</th>\n",
              "      <th>HospitalOwner</th>\n",
              "      <th>Condition</th>\n",
              "      <th>Sample</th>\n",
              "    </tr>\n",
              "  </thead>\n",
              "  <tbody>\n",
              "    <tr>\n",
              "      <th>0</th>\n",
              "      <td>10046</td>\n",
              "      <td>RIVERVIEW REGIONAL MEDICAL CENTER</td>\n",
              "      <td>600 SOUTH THIRD STREET</td>\n",
              "      <td>GADSDEN</td>\n",
              "      <td>35901</td>\n",
              "      <td>ETOWAH</td>\n",
              "      <td>2565435200</td>\n",
              "      <td>NaN</td>\n",
              "      <td>Heart Failure</td>\n",
              "      <td>268 patients</td>\n",
              "    </tr>\n",
              "    <tr>\n",
              "      <th>1</th>\n",
              "      <td>10046</td>\n",
              "      <td>RIVERVIEW REGIONAL MEDICAL CENTER</td>\n",
              "      <td>600 SOUTH THYRD STREET</td>\n",
              "      <td>GADSDEN</td>\n",
              "      <td>35901</td>\n",
              "      <td>ETOWAH</td>\n",
              "      <td>2565435200</td>\n",
              "      <td>Proprietary</td>\n",
              "      <td>Surgical Infection Prevention</td>\n",
              "      <td>107 patients</td>\n",
              "    </tr>\n",
              "    <tr>\n",
              "      <th>2</th>\n",
              "      <td>10008</td>\n",
              "      <td>CRENSHAW COMMUNITY HOSPITAL</td>\n",
              "      <td>101 HOSPITAL CIRCLE</td>\n",
              "      <td>LUVERNE</td>\n",
              "      <td>36049</td>\n",
              "      <td>CRENSHAW</td>\n",
              "      <td>3343353374</td>\n",
              "      <td>NaN</td>\n",
              "      <td>Heart Failure</td>\n",
              "      <td>8 patients</td>\n",
              "    </tr>\n",
              "  </tbody>\n",
              "</table>\n",
              "</div>"
            ],
            "text/plain": [
              "   ProviderNumber                       HospitalName                Address1  \\\n",
              "0           10046  RIVERVIEW REGIONAL MEDICAL CENTER  600 SOUTH THIRD STREET   \n",
              "1           10046  RIVERVIEW REGIONAL MEDICAL CENTER  600 SOUTH THYRD STREET   \n",
              "2           10008        CRENSHAW COMMUNITY HOSPITAL     101 HOSPITAL CIRCLE   \n",
              "\n",
              "      City  ZipCode CountyName  PhoneNumber HospitalOwner  \\\n",
              "0  GADSDEN    35901     ETOWAH   2565435200           NaN   \n",
              "1  GADSDEN    35901     ETOWAH   2565435200   Proprietary   \n",
              "2  LUVERNE    36049   CRENSHAW   3343353374           NaN   \n",
              "\n",
              "                       Condition        Sample  \n",
              "0                  Heart Failure  268 patients  \n",
              "1  Surgical Infection Prevention  107 patients  \n",
              "2                  Heart Failure    8 patients  "
            ]
          },
          "metadata": {}
        }
      ],
      "execution_count": 114,
      "metadata": {}
    },
    {
      "cell_type": "markdown",
      "source": [
        "### Convert each row to a space separated string"
      ],
      "metadata": {}
    },
    {
      "cell_type": "code",
      "source": [
        "dfList = df.values.tolist()"
      ],
      "outputs": [],
      "execution_count": 115,
      "metadata": {}
    },
    {
      "cell_type": "code",
      "source": [
        "rows = []\n",
        "for row in dfList:\n",
        "    combined = ','.join([str(x) for x in row])\n",
        "    rows.append(combined)"
      ],
      "outputs": [],
      "execution_count": 116,
      "metadata": {}
    },
    {
      "cell_type": "code",
      "source": [
        "len(rows)"
      ],
      "outputs": [
        {
          "output_type": "execute_result",
          "execution_count": 117,
          "data": {
            "text/plain": [
              "2000"
            ]
          },
          "metadata": {}
        }
      ],
      "execution_count": 117,
      "metadata": {}
    },
    {
      "cell_type": "code",
      "source": [
        "rows[0]"
      ],
      "outputs": [
        {
          "output_type": "execute_result",
          "execution_count": 118,
          "data": {
            "text/plain": [
              "'10046,RIVERVIEW REGIONAL MEDICAL CENTER,600 SOUTH THIRD STREET,GADSDEN,35901,ETOWAH,2565435200,nan,Heart Failure,268 patients'"
            ]
          },
          "metadata": {}
        }
      ],
      "execution_count": 118,
      "metadata": {}
    },
    {
      "cell_type": "code",
      "source": [
        "max([len(r) for r in rows])"
      ],
      "outputs": [
        {
          "output_type": "execute_result",
          "execution_count": 119,
          "data": {
            "text/plain": [
              "190"
            ]
          },
          "metadata": {}
        }
      ],
      "execution_count": 119,
      "metadata": {}
    },
    {
      "cell_type": "markdown",
      "source": [
        "### Save the dataset"
      ],
      "metadata": {}
    },
    {
      "cell_type": "code",
      "source": [
        "df.to_csv(\"HospitalTrainingDataMultiAttributes.csv\", encoding='utf8', index=False)"
      ],
      "outputs": [],
      "execution_count": 120,
      "metadata": {}
    },
    {
      "cell_type": "markdown",
      "source": [
        "## Tokenize the data"
      ],
      "metadata": {}
    },
    {
      "cell_type": "markdown",
      "source": [
        "Since the max length of a row is 190, we can set the maxSequenceLength as 200"
      ],
      "metadata": {}
    },
    {
      "cell_type": "code",
      "source": [
        "maxSequenceLength = 190\n",
        "maxWords = 2500"
      ],
      "outputs": [],
      "execution_count": 121,
      "metadata": {}
    },
    {
      "cell_type": "code",
      "source": [
        "tokenizer = Tokenizer(num_words=maxWords, split=',')\n",
        "tokenizer.fit_on_texts(rows)\n",
        "sequences = tokenizer.texts_to_sequences(rows)\n",
        "word_index = tokenizer.word_index"
      ],
      "outputs": [],
      "execution_count": 122,
      "metadata": {}
    },
    {
      "cell_type": "code",
      "source": [
        "len(word_index)"
      ],
      "outputs": [
        {
          "output_type": "execute_result",
          "execution_count": 123,
          "data": {
            "text/plain": [
              "915"
            ]
          },
          "metadata": {}
        }
      ],
      "execution_count": 123,
      "metadata": {}
    },
    {
      "cell_type": "code",
      "source": [
        "data = pad_sequences(sequences, maxlen=maxSequenceLength)"
      ],
      "outputs": [],
      "execution_count": 124,
      "metadata": {}
    },
    {
      "cell_type": "code",
      "source": [
        "data.shape"
      ],
      "outputs": [
        {
          "output_type": "execute_result",
          "execution_count": 125,
          "data": {
            "text/plain": [
              "(2000, 190)"
            ]
          },
          "metadata": {}
        }
      ],
      "execution_count": 125,
      "metadata": {}
    },
    {
      "cell_type": "code",
      "source": [
        "labels.shape"
      ],
      "outputs": [
        {
          "output_type": "execute_result",
          "execution_count": 126,
          "data": {
            "text/plain": [
              "(2000,)"
            ]
          },
          "metadata": {}
        }
      ],
      "execution_count": 126,
      "metadata": {}
    },
    {
      "cell_type": "markdown",
      "source": [
        "## Train test split"
      ],
      "metadata": {}
    },
    {
      "cell_type": "markdown",
      "source": [
        "### Shuffle the data"
      ],
      "metadata": {}
    },
    {
      "cell_type": "code",
      "source": [
        "indices = np.arange(data.shape[0])\n",
        "np.random.shuffle(indices)"
      ],
      "outputs": [],
      "execution_count": 127,
      "metadata": {}
    },
    {
      "cell_type": "code",
      "source": [
        "data = data[indices]\n",
        "labels = labels[indices]"
      ],
      "outputs": [],
      "execution_count": 128,
      "metadata": {}
    },
    {
      "cell_type": "code",
      "source": [
        "X_train, X_test, y_train, y_test = train_test_split(data, labels, test_size=0.2, stratify=labels)"
      ],
      "outputs": [],
      "execution_count": 129,
      "metadata": {}
    },
    {
      "cell_type": "code",
      "source": [
        "len(X_train), len(y_train)"
      ],
      "outputs": [
        {
          "output_type": "execute_result",
          "execution_count": 130,
          "data": {
            "text/plain": [
              "(1600, 1600)"
            ]
          },
          "metadata": {}
        }
      ],
      "execution_count": 130,
      "metadata": {}
    },
    {
      "cell_type": "code",
      "source": [
        "len(X_test), len(y_test)"
      ],
      "outputs": [
        {
          "output_type": "execute_result",
          "execution_count": 131,
          "data": {
            "text/plain": [
              "(400, 400)"
            ]
          },
          "metadata": {}
        }
      ],
      "execution_count": 131,
      "metadata": {}
    },
    {
      "cell_type": "markdown",
      "source": [
        "## Model\n",
        "**Architecture**\n",
        "* 1 Embedding layer\n",
        "* 1 Bidirectional LSTM layer\n",
        "* 1 output layer, _sigmoid_ activation\n",
        "* Optimizer: Adam (learning rate = 0.01)\n",
        "* Loss function: Binary crossentropy loss"
      ],
      "metadata": {}
    },
    {
      "cell_type": "code",
      "source": [
        "embeddingDim = 100"
      ],
      "outputs": [],
      "execution_count": 132,
      "metadata": {}
    },
    {
      "cell_type": "code",
      "source": [
        "model = models.Sequential()\n",
        "model.add(layers.Embedding(2500, embeddingDim, input_length=maxSequenceLength))\n",
        "model.add(layers.Bidirectional(layers.LSTM(64)))\n",
        "model.add(layers.BatchNormalization())\n",
        "model.add(layers.Dense(1, activation=activations.sigmoid))\n",
        "model.compile(optimizer=optimizers.Adam(lr=0.01), loss=losses.binary_crossentropy, metrics=[metrics.binary_accuracy])"
      ],
      "outputs": [],
      "execution_count": 133,
      "metadata": {}
    },
    {
      "cell_type": "code",
      "source": [
        "model.summary()"
      ],
      "outputs": [
        {
          "output_type": "stream",
          "name": "stdout",
          "text": [
            "_________________________________________________________________\n",
            "Layer (type)                 Output Shape              Param #   \n",
            "=================================================================\n",
            "embedding_10 (Embedding)     (None, 190, 100)          250000    \n",
            "_________________________________________________________________\n",
            "bidirectional_12 (Bidirectio (None, 128)               84480     \n",
            "_________________________________________________________________\n",
            "batch_normalization_7 (Batch (None, 128)               512       \n",
            "_________________________________________________________________\n",
            "dense_8 (Dense)              (None, 1)                 129       \n",
            "=================================================================\n",
            "Total params: 335,121\n",
            "Trainable params: 334,865\n",
            "Non-trainable params: 256\n",
            "_________________________________________________________________\n"
          ]
        }
      ],
      "execution_count": 134,
      "metadata": {}
    },
    {
      "cell_type": "code",
      "source": [
        "history = model.fit(X_train, y_train,\n",
        "                    epochs=20,\n",
        "                    batch_size=32, \n",
        "                    validation_split=0.2)"
      ],
      "outputs": [
        {
          "output_type": "stream",
          "name": "stdout",
          "text": [
            "Train on 1280 samples, validate on 320 samples\n",
            "Epoch 1/20\n",
            "1280/1280 [==============================] - 28s 22ms/step - loss: 0.7115 - binary_accuracy: 0.5562 - val_loss: 0.7323 - val_binary_accuracy: 0.5781\n",
            "Epoch 2/20\n",
            "1280/1280 [==============================] - 27s 21ms/step - loss: 0.5663 - binary_accuracy: 0.6906 - val_loss: 0.6531 - val_binary_accuracy: 0.6781\n",
            "Epoch 3/20\n",
            "1280/1280 [==============================] - 27s 21ms/step - loss: 0.4652 - binary_accuracy: 0.7781 - val_loss: 0.6931 - val_binary_accuracy: 0.6813\n",
            "Epoch 4/20\n",
            "1280/1280 [==============================] - 25s 20ms/step - loss: 0.3595 - binary_accuracy: 0.8445 - val_loss: 0.6174 - val_binary_accuracy: 0.6687\n",
            "Epoch 5/20\n",
            "1280/1280 [==============================] - 25s 20ms/step - loss: 0.3112 - binary_accuracy: 0.8719 - val_loss: 0.6476 - val_binary_accuracy: 0.6844\n",
            "Epoch 6/20\n",
            "1280/1280 [==============================] - 25s 20ms/step - loss: 0.2677 - binary_accuracy: 0.8844 - val_loss: 0.7165 - val_binary_accuracy: 0.6875\n",
            "Epoch 7/20\n",
            "1280/1280 [==============================] - 25s 20ms/step - loss: 0.2486 - binary_accuracy: 0.8945 - val_loss: 0.7678 - val_binary_accuracy: 0.7344\n",
            "Epoch 8/20\n",
            "1280/1280 [==============================] - 25s 20ms/step - loss: 0.2219 - binary_accuracy: 0.9109 - val_loss: 0.8770 - val_binary_accuracy: 0.7125\n",
            "Epoch 9/20\n",
            "1280/1280 [==============================] - 25s 20ms/step - loss: 0.2151 - binary_accuracy: 0.9164 - val_loss: 0.8363 - val_binary_accuracy: 0.7219\n",
            "Epoch 10/20\n",
            "1280/1280 [==============================] - 27s 21ms/step - loss: 0.1964 - binary_accuracy: 0.9180 - val_loss: 0.8459 - val_binary_accuracy: 0.6937\n",
            "Epoch 11/20\n",
            "1280/1280 [==============================] - 34s 27ms/step - loss: 0.1807 - binary_accuracy: 0.9133 - val_loss: 1.0470 - val_binary_accuracy: 0.7188\n",
            "Epoch 12/20\n",
            "1280/1280 [==============================] - 28s 22ms/step - loss: 0.1531 - binary_accuracy: 0.9367 - val_loss: 0.9278 - val_binary_accuracy: 0.7375\n",
            "Epoch 13/20\n",
            "1280/1280 [==============================] - 37s 29ms/step - loss: 0.1515 - binary_accuracy: 0.9422 - val_loss: 1.1262 - val_binary_accuracy: 0.7125\n",
            "Epoch 14/20\n",
            "1280/1280 [==============================] - 28s 22ms/step - loss: 0.1462 - binary_accuracy: 0.9375 - val_loss: 1.2098 - val_binary_accuracy: 0.7094\n",
            "Epoch 15/20\n",
            "1280/1280 [==============================] - 28s 22ms/step - loss: 0.1510 - binary_accuracy: 0.9398 - val_loss: 1.0333 - val_binary_accuracy: 0.7188\n",
            "Epoch 16/20\n",
            "1280/1280 [==============================] - 26s 20ms/step - loss: 0.1411 - binary_accuracy: 0.9406 - val_loss: 1.0735 - val_binary_accuracy: 0.7188\n",
            "Epoch 17/20\n",
            "1280/1280 [==============================] - 26s 21ms/step - loss: 0.1128 - binary_accuracy: 0.9523 - val_loss: 1.3164 - val_binary_accuracy: 0.7188\n",
            "Epoch 18/20\n",
            "1280/1280 [==============================] - 26s 21ms/step - loss: 0.1100 - binary_accuracy: 0.9570 - val_loss: 1.2966 - val_binary_accuracy: 0.7375\n",
            "Epoch 19/20\n",
            "1280/1280 [==============================] - 25s 20ms/step - loss: 0.1174 - binary_accuracy: 0.9500 - val_loss: 1.3101 - val_binary_accuracy: 0.7188\n",
            "Epoch 20/20\n",
            "1280/1280 [==============================] - 24s 19ms/step - loss: 0.1060 - binary_accuracy: 0.9570 - val_loss: 1.3369 - val_binary_accuracy: 0.7219\n"
          ]
        }
      ],
      "execution_count": 135,
      "metadata": {}
    },
    {
      "cell_type": "code",
      "source": [
        "acc = history.history['binary_accuracy']\n",
        "val_acc = history.history['val_binary_accuracy']\n",
        "\n",
        "loss = history.history['loss']\n",
        "val_loss = history.history['val_loss']\n",
        "\n",
        "epochs = range(1, len(acc) + 1)\n",
        "plt.plot(epochs, acc, 'bo', label='Training acc')\n",
        "plt.plot(epochs, val_acc, 'b', label='Validation acc')\n",
        "plt.title('Training and validation accuracy')\n",
        "plt.xlabel(\"Epochs\")\n",
        "plt.ylabel(\"Accuracy\")\n",
        "plt.legend()\n",
        "\n",
        "plt.figure()\n",
        "\n",
        "plt.plot(epochs, loss, 'bo', label='Training loss')\n",
        "plt.plot(epochs, val_loss, 'b', label='Validation loss')\n",
        "plt.title('Training and validation loss')\n",
        "plt.xlabel(\"Epochs\")\n",
        "plt.ylabel(\"Loss\")\n",
        "plt.legend()\n",
        "plt.show();"
      ],
      "outputs": [
        {
          "output_type": "display_data",
          "data": {
            "image/png": "[encoded data removed]",
            "text/plain": [
              "<matplotlib.figure.Figure at 0x29e3b400588>"
            ]
          },
          "metadata": {}
        },
        {
          "output_type": "display_data",
          "data": {
            "image/png": "[encoded data removed]",
            "text/plain": [
              "<matplotlib.figure.Figure at 0x29e3b3acb00>"
            ]
          },
          "metadata": {}
        }
      ],
      "execution_count": 136,
      "metadata": {}
    },
    {
      "cell_type": "markdown",
      "source": [
        "## Evaluation on test set"
      ],
      "metadata": {}
    },
    {
      "cell_type": "code",
      "source": [
        "results = model.evaluate(X_test, y_test)"
      ],
      "outputs": [
        {
          "output_type": "stream",
          "name": "stdout",
          "text": [
            "400/400 [==============================] - 2s 4ms/step\n"
          ]
        }
      ],
      "execution_count": 137,
      "metadata": {}
    },
    {
      "cell_type": "code",
      "source": [
        "loss = results[0]\n",
        "accuracy = results[1]"
      ],
      "outputs": [],
      "execution_count": 138,
      "metadata": {}
    },
    {
      "cell_type": "code",
      "source": [
        "loss"
      ],
      "outputs": [
        {
          "output_type": "execute_result",
          "execution_count": 139,
          "data": {
            "text/plain": [
              "1.2378065705299377"
            ]
          },
          "metadata": {}
        }
      ],
      "execution_count": 139,
      "metadata": {}
    },
    {
      "cell_type": "code",
      "source": [
        "accuracy"
      ],
      "outputs": [
        {
          "output_type": "execute_result",
          "execution_count": 140,
          "data": {
            "text/plain": [
              "0.74"
            ]
          },
          "metadata": {}
        }
      ],
      "execution_count": 140,
      "metadata": {}
    },
    {
      "cell_type": "markdown",
      "source": [
        "## Save the model and tokenizer"
      ],
      "metadata": {}
    },
    {
      "cell_type": "code",
      "source": [
        "model.save(\"HospitalErrorDetectionMultiAttributeClassifier.h5\")"
      ],
      "outputs": [],
      "execution_count": 141,
      "metadata": {}
    },
    {
      "cell_type": "code",
      "source": [
        "with open('HospitalErrorDetectionMultiAttributeTokenizer.pickle', 'wb') as handle:\n",
        "    pickle.dump(tokenizer, handle, protocol=pickle.HIGHEST_PROTOCOL, fix_imports=True)"
      ],
      "outputs": [],
      "execution_count": 142,
      "metadata": {}
    },
    {
      "cell_type": "markdown",
      "source": [
        "## Run model on the entire dataset"
      ],
      "metadata": {}
    },
    {
      "cell_type": "code",
      "source": [
        "model = load_model('HospitalErrorDetectionMultiAttributeClassifier.h5')"
      ],
      "outputs": [],
      "execution_count": 3,
      "metadata": {}
    },
    {
      "cell_type": "code",
      "source": [
        "with open('HospitalErrorDetectionMultiAttributeTokenizer.pickle', 'rb') as handle:\n",
        "    tokenizer = pickle.load(handle)"
      ],
      "outputs": [],
      "execution_count": 4,
      "metadata": {}
    },
    {
      "cell_type": "code",
      "source": [
        "def classifyTuples(model, tokenizer, value):\n",
        "    value = [value]\n",
        "    sequences = tokenizer.texts_to_sequences(value)\n",
        "    testData = pad_sequences(sequences, maxlen=200)\n",
        "    predictions = model.predict(testData)\n",
        "    return int(predictions[0] >= 0.5)"
      ],
      "outputs": [],
      "execution_count": 5,
      "metadata": {}
    },
    {
      "cell_type": "code",
      "source": [
        "ourLabels = []\n",
        "for row in rows:\n",
        "    label = classifyTuples(model, tokenizer, row)\n",
        "    ourLabels.append(row + ',' + str(label))"
      ],
      "outputs": [],
      "execution_count": 200,
      "metadata": {}
    },
    {
      "cell_type": "code",
      "source": [
        "len(ourLabels)"
      ],
      "outputs": [
        {
          "output_type": "execute_result",
          "execution_count": 204,
          "data": {
            "text/plain": [
              "2000"
            ]
          },
          "metadata": {}
        }
      ],
      "execution_count": 204,
      "metadata": {}
    },
    {
      "cell_type": "code",
      "source": [
        "with open('HospitalDatasetPredictions.pkl', 'wb') as f:\n",
        "    pickle.dump(ourLabels, f)"
      ],
      "outputs": [],
      "execution_count": 205,
      "metadata": {}
    },
    {
      "cell_type": "markdown",
      "source": [
        "## Get only the faulty tuples"
      ],
      "metadata": {}
    },
    {
      "cell_type": "code",
      "source": [
        "with open('HospitalDatasetPredictions.pkl', 'rb') as f:\n",
        "    ourLabels = pickle.load(f)"
      ],
      "outputs": [],
      "execution_count": 7,
      "metadata": {
        "collapsed": false,
        "outputHidden": false,
        "inputHidden": false
      }
    },
    {
      "cell_type": "code",
      "source": [
        "errors = [row for row in ourLabels if row[-1] == '0']"
      ],
      "outputs": [],
      "execution_count": 8,
      "metadata": {}
    },
    {
      "cell_type": "code",
      "source": [
        "len(errors)"
      ],
      "outputs": [
        {
          "output_type": "execute_result",
          "execution_count": 9,
          "data": {
            "text/plain": [
              "742"
            ]
          },
          "metadata": {}
        }
      ],
      "execution_count": 9,
      "metadata": {}
    },
    {
      "cell_type": "code",
      "source": [
        "with open('HospitalDatasetErrors.pkl', 'wb') as f:\n",
        "    pickle.dump(errors, f)"
      ],
      "outputs": [],
      "execution_count": 10,
      "metadata": {}
    },
    {
      "cell_type": "code",
      "source": [],
      "outputs": [],
      "execution_count": null,
      "metadata": {}
    }
  ],
  "metadata": {
    "kernelspec": {
      "name": "python3",
      "language": "python",
      "display_name": "Python 3"
    },
    "language_info": {
      "name": "python",
      "version": "3.5.0",
      "nbconvert_exporter": "python",
      "pygments_lexer": "ipython3",
      "codemirror_mode": {
        "name": "ipython",
        "version": 3
      },
      "file_extension": ".py",
      "mimetype": "text/x-python"
    },
    "toc": {
      "toc_position": {},
      "skip_h1_title": true,
      "number_sections": true,
      "title_cell": "Table of Contents",
      "toc_window_display": false,
      "toc_section_display": true,
      "title_sidebar": "Contents",
      "toc_cell": false,
      "nav_menu": {},
      "sideBar": true
    },
    "kernel_info": {
      "name": "python3"
    },
    "nteract": {
      "version": "0.8.4"
    }
  },
  "nbformat": 4,
  "nbformat_minor": 2
}