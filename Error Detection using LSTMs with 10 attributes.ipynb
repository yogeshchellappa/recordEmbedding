{
 "cells": [
  {
   "cell_type": "markdown",
   "metadata": {},
   "source": [
    "# Hospital - Error Detection using LSTMs for 10 attributes\n",
    "This notebook demonstrates how we use record embeddings to perform error detection in tuples. We are using the **Hospital** dataset which has been artificially augmented to contain the following type of errors:\n",
    "1. 17% of the tuples have been shuffled across the columnar axis.\n",
    "2. 16% of the tuples has a cell value assigned to NaN.\n",
    "3. 17% of the tuples has a cell value misspelt.\n",
    "\n",
    "By converting each tuple to a space separated string and feeding it to an LSTM, we see if the network can learn to detect errors in the tuples."
   ]
  },
  {
   "cell_type": "code",
   "execution_count": 100,
   "metadata": {},
   "outputs": [],
   "source": [
    "import warnings\n",
    "warnings.filterwarnings(\"ignore\")\n",
    "\n",
    "import pandas as pd\n",
    "import numpy as np\n",
    "import h5py\n",
    "import pickle\n",
    "from sklearn.model_selection import train_test_split\n",
    "from numpy.random import seed\n",
    "\n",
    "from keras.preprocessing.text import Tokenizer\n",
    "from keras.preprocessing.sequence import pad_sequences\n",
    "from keras import models\n",
    "from keras import layers\n",
    "from keras import optimizers\n",
    "from keras import activations\n",
    "from keras import losses\n",
    "from keras import metrics\n",
    "from keras.utils import to_categorical\n",
    "\n",
    "import matplotlib.pyplot as plt\n",
    "%matplotlib inline"
   ]
  },
  {
   "cell_type": "code",
   "execution_count": 101,
   "metadata": {},
   "outputs": [],
   "source": [
    "seed(22)"
   ]
  },
  {
   "cell_type": "markdown",
   "metadata": {},
   "source": [
    "## Read the data"
   ]
  },
  {
   "cell_type": "code",
   "execution_count": 2,
   "metadata": {},
   "outputs": [],
   "source": [
    "df = pd.read_csv('2k_tuples_bigger_dataset.csv', encoding='utf8',dtype=object)"
   ]
  },
  {
   "cell_type": "code",
   "execution_count": 3,
   "metadata": {},
   "outputs": [
    {
     "data": {
      "text/html": [
       "<div>\n",
       "<style scoped>\n",
       "    .dataframe tbody tr th:only-of-type {\n",
       "        vertical-align: middle;\n",
       "    }\n",
       "\n",
       "    .dataframe tbody tr th {\n",
       "        vertical-align: top;\n",
       "    }\n",
       "\n",
       "    .dataframe thead th {\n",
       "        text-align: right;\n",
       "    }\n",
       "</style>\n",
       "<table border=\"1\" class=\"dataframe\">\n",
       "  <thead>\n",
       "    <tr style=\"text-align: right;\">\n",
       "      <th></th>\n",
       "      <th>ProviderNumber</th>\n",
       "      <th>HospitalName</th>\n",
       "      <th>Address1</th>\n",
       "      <th>City</th>\n",
       "      <th>ZipCode</th>\n",
       "      <th>CountyName</th>\n",
       "      <th>PhoneNumber</th>\n",
       "      <th>HospitalOwner</th>\n",
       "      <th>Condition</th>\n",
       "      <th>Sample</th>\n",
       "      <th>label</th>\n",
       "    </tr>\n",
       "  </thead>\n",
       "  <tbody>\n",
       "    <tr>\n",
       "      <th>0</th>\n",
       "      <td>10006</td>\n",
       "      <td>ELIZA COFFEE MEMORIAL HOSPITAL</td>\n",
       "      <td>205 MARENGO STREET</td>\n",
       "      <td>FLORENCE</td>\n",
       "      <td>35631</td>\n",
       "      <td>LAUDERDALE</td>\n",
       "      <td>2567688400</td>\n",
       "      <td>Voluntary non-profit - Other</td>\n",
       "      <td>Surgical Infection Prevention</td>\n",
       "      <td>462 patients</td>\n",
       "      <td>1.0</td>\n",
       "    </tr>\n",
       "    <tr>\n",
       "      <th>1</th>\n",
       "      <td>10086</td>\n",
       "      <td>NORTHWEST MEDICAL CENTER</td>\n",
       "      <td>1530 U S HIGHWAY 43</td>\n",
       "      <td>WINFIELD</td>\n",
       "      <td>35594</td>\n",
       "      <td>MARION</td>\n",
       "      <td>2054877736</td>\n",
       "      <td>Proprietary</td>\n",
       "      <td>Heart Attack</td>\n",
       "      <td>8 patients</td>\n",
       "      <td>1.0</td>\n",
       "    </tr>\n",
       "    <tr>\n",
       "      <th>2</th>\n",
       "      <td>10032</td>\n",
       "      <td>WEDOWEE HOSPITAL</td>\n",
       "      <td>209 NORTH MAIN STREET</td>\n",
       "      <td>WEDOWEE</td>\n",
       "      <td>NaN</td>\n",
       "      <td>RANDOLPH</td>\n",
       "      <td>2563572111</td>\n",
       "      <td>Government - Local</td>\n",
       "      <td>Surgical Infection Prevention</td>\n",
       "      <td>Empty</td>\n",
       "      <td>0.0</td>\n",
       "    </tr>\n",
       "  </tbody>\n",
       "</table>\n",
       "</div>"
      ],
      "text/plain": [
       "  ProviderNumber                    HospitalName               Address1  \\\n",
       "0          10006  ELIZA COFFEE MEMORIAL HOSPITAL     205 MARENGO STREET   \n",
       "1          10086        NORTHWEST MEDICAL CENTER    1530 U S HIGHWAY 43   \n",
       "2          10032                WEDOWEE HOSPITAL  209 NORTH MAIN STREET   \n",
       "\n",
       "       City ZipCode  CountyName PhoneNumber                 HospitalOwner  \\\n",
       "0  FLORENCE   35631  LAUDERDALE  2567688400  Voluntary non-profit - Other   \n",
       "1  WINFIELD   35594      MARION  2054877736                   Proprietary   \n",
       "2   WEDOWEE     NaN    RANDOLPH  2563572111            Government - Local   \n",
       "\n",
       "                       Condition        Sample label  \n",
       "0  Surgical Infection Prevention  462 patients   1.0  \n",
       "1                   Heart Attack    8 patients   1.0  \n",
       "2  Surgical Infection Prevention         Empty   0.0  "
      ]
     },
     "execution_count": 3,
     "metadata": {},
     "output_type": "execute_result"
    }
   ],
   "source": [
    "df.head(3)"
   ]
  },
  {
   "cell_type": "code",
   "execution_count": 6,
   "metadata": {},
   "outputs": [
    {
     "data": {
      "text/plain": [
       "2000"
      ]
     },
     "execution_count": 6,
     "metadata": {},
     "output_type": "execute_result"
    }
   ],
   "source": [
    "len(df)"
   ]
  },
  {
   "cell_type": "code",
   "execution_count": 7,
   "metadata": {},
   "outputs": [
    {
     "data": {
      "text/plain": [
       "1.0    1100\n",
       "0.0     900\n",
       "Name: label, dtype: int64"
      ]
     },
     "execution_count": 7,
     "metadata": {},
     "output_type": "execute_result"
    }
   ],
   "source": [
    "df['label'].value_counts()"
   ]
  },
  {
   "cell_type": "code",
   "execution_count": 8,
   "metadata": {},
   "outputs": [],
   "source": [
    "df['PhoneNumber'].fillna(0, inplace=True)\n",
    "df['ProviderNumber'].fillna(0, inplace=True)\n",
    "df['ZipCode'].fillna(0, inplace=True)"
   ]
  },
  {
   "cell_type": "markdown",
   "metadata": {},
   "source": [
    "### Separate the labels from the training data"
   ]
  },
  {
   "cell_type": "code",
   "execution_count": 10,
   "metadata": {},
   "outputs": [],
   "source": [
    "df['label'] = df['label'].apply(lambda x: int(float(x)))\n",
    "labels = np.asarray(df['label'].tolist())"
   ]
  },
  {
   "cell_type": "code",
   "execution_count": 13,
   "metadata": {},
   "outputs": [],
   "source": [
    "df.drop(columns=['label'], axis=1, inplace=True)"
   ]
  },
  {
   "cell_type": "markdown",
   "metadata": {},
   "source": [
    "### Convert PhoneNumber, ProviderNumber and ZipCode to int"
   ]
  },
  {
   "cell_type": "code",
   "execution_count": 14,
   "metadata": {},
   "outputs": [],
   "source": [
    "df['ProviderNumber'] = df['ProviderNumber'].apply(lambda x: int(x))\n",
    "df['PhoneNumber'] = df['PhoneNumber'].apply(lambda x: int(x))\n",
    "df['ZipCode'] = df['ZipCode'].apply(lambda x: int(x))"
   ]
  },
  {
   "cell_type": "code",
   "execution_count": 16,
   "metadata": {},
   "outputs": [
    {
     "data": {
      "text/html": [
       "<div>\n",
       "<style scoped>\n",
       "    .dataframe tbody tr th:only-of-type {\n",
       "        vertical-align: middle;\n",
       "    }\n",
       "\n",
       "    .dataframe tbody tr th {\n",
       "        vertical-align: top;\n",
       "    }\n",
       "\n",
       "    .dataframe thead th {\n",
       "        text-align: right;\n",
       "    }\n",
       "</style>\n",
       "<table border=\"1\" class=\"dataframe\">\n",
       "  <thead>\n",
       "    <tr style=\"text-align: right;\">\n",
       "      <th></th>\n",
       "      <th>ProviderNumber</th>\n",
       "      <th>HospitalName</th>\n",
       "      <th>Address1</th>\n",
       "      <th>City</th>\n",
       "      <th>ZipCode</th>\n",
       "      <th>CountyName</th>\n",
       "      <th>PhoneNumber</th>\n",
       "      <th>HospitalOwner</th>\n",
       "      <th>Condition</th>\n",
       "      <th>Sample</th>\n",
       "    </tr>\n",
       "  </thead>\n",
       "  <tbody>\n",
       "    <tr>\n",
       "      <th>0</th>\n",
       "      <td>10006</td>\n",
       "      <td>ELIZA COFFEE MEMORIAL HOSPITAL</td>\n",
       "      <td>205 MARENGO STREET</td>\n",
       "      <td>FLORENCE</td>\n",
       "      <td>35631</td>\n",
       "      <td>LAUDERDALE</td>\n",
       "      <td>2567688400</td>\n",
       "      <td>Voluntary non-profit - Other</td>\n",
       "      <td>Surgical Infection Prevention</td>\n",
       "      <td>462 patients</td>\n",
       "    </tr>\n",
       "    <tr>\n",
       "      <th>1</th>\n",
       "      <td>10086</td>\n",
       "      <td>NORTHWEST MEDICAL CENTER</td>\n",
       "      <td>1530 U S HIGHWAY 43</td>\n",
       "      <td>WINFIELD</td>\n",
       "      <td>35594</td>\n",
       "      <td>MARION</td>\n",
       "      <td>2054877736</td>\n",
       "      <td>Proprietary</td>\n",
       "      <td>Heart Attack</td>\n",
       "      <td>8 patients</td>\n",
       "    </tr>\n",
       "    <tr>\n",
       "      <th>2</th>\n",
       "      <td>10032</td>\n",
       "      <td>WEDOWEE HOSPITAL</td>\n",
       "      <td>209 NORTH MAIN STREET</td>\n",
       "      <td>WEDOWEE</td>\n",
       "      <td>0</td>\n",
       "      <td>RANDOLPH</td>\n",
       "      <td>2563572111</td>\n",
       "      <td>Government - Local</td>\n",
       "      <td>Surgical Infection Prevention</td>\n",
       "      <td>Empty</td>\n",
       "    </tr>\n",
       "  </tbody>\n",
       "</table>\n",
       "</div>"
      ],
      "text/plain": [
       "   ProviderNumber                    HospitalName               Address1  \\\n",
       "0           10006  ELIZA COFFEE MEMORIAL HOSPITAL     205 MARENGO STREET   \n",
       "1           10086        NORTHWEST MEDICAL CENTER    1530 U S HIGHWAY 43   \n",
       "2           10032                WEDOWEE HOSPITAL  209 NORTH MAIN STREET   \n",
       "\n",
       "       City  ZipCode  CountyName  PhoneNumber                 HospitalOwner  \\\n",
       "0  FLORENCE    35631  LAUDERDALE   2567688400  Voluntary non-profit - Other   \n",
       "1  WINFIELD    35594      MARION   2054877736                   Proprietary   \n",
       "2   WEDOWEE        0    RANDOLPH   2563572111            Government - Local   \n",
       "\n",
       "                       Condition        Sample  \n",
       "0  Surgical Infection Prevention  462 patients  \n",
       "1                   Heart Attack    8 patients  \n",
       "2  Surgical Infection Prevention         Empty  "
      ]
     },
     "execution_count": 16,
     "metadata": {},
     "output_type": "execute_result"
    }
   ],
   "source": [
    "df.head(3)"
   ]
  },
  {
   "cell_type": "markdown",
   "metadata": {},
   "source": [
    "### Replace 'Empty' in Sample attribute to '0 patients'"
   ]
  },
  {
   "cell_type": "code",
   "execution_count": 17,
   "metadata": {},
   "outputs": [],
   "source": [
    "df['Sample'] = df['Sample'].replace('Empty','0 patients')"
   ]
  },
  {
   "cell_type": "code",
   "execution_count": 18,
   "metadata": {},
   "outputs": [
    {
     "data": {
      "text/html": [
       "<div>\n",
       "<style scoped>\n",
       "    .dataframe tbody tr th:only-of-type {\n",
       "        vertical-align: middle;\n",
       "    }\n",
       "\n",
       "    .dataframe tbody tr th {\n",
       "        vertical-align: top;\n",
       "    }\n",
       "\n",
       "    .dataframe thead th {\n",
       "        text-align: right;\n",
       "    }\n",
       "</style>\n",
       "<table border=\"1\" class=\"dataframe\">\n",
       "  <thead>\n",
       "    <tr style=\"text-align: right;\">\n",
       "      <th></th>\n",
       "      <th>ProviderNumber</th>\n",
       "      <th>HospitalName</th>\n",
       "      <th>Address1</th>\n",
       "      <th>City</th>\n",
       "      <th>ZipCode</th>\n",
       "      <th>CountyName</th>\n",
       "      <th>PhoneNumber</th>\n",
       "      <th>HospitalOwner</th>\n",
       "      <th>Condition</th>\n",
       "      <th>Sample</th>\n",
       "    </tr>\n",
       "  </thead>\n",
       "  <tbody>\n",
       "    <tr>\n",
       "      <th>0</th>\n",
       "      <td>10006</td>\n",
       "      <td>ELIZA COFFEE MEMORIAL HOSPITAL</td>\n",
       "      <td>205 MARENGO STREET</td>\n",
       "      <td>FLORENCE</td>\n",
       "      <td>35631</td>\n",
       "      <td>LAUDERDALE</td>\n",
       "      <td>2567688400</td>\n",
       "      <td>Voluntary non-profit - Other</td>\n",
       "      <td>Surgical Infection Prevention</td>\n",
       "      <td>462 patients</td>\n",
       "    </tr>\n",
       "    <tr>\n",
       "      <th>1</th>\n",
       "      <td>10086</td>\n",
       "      <td>NORTHWEST MEDICAL CENTER</td>\n",
       "      <td>1530 U S HIGHWAY 43</td>\n",
       "      <td>WINFIELD</td>\n",
       "      <td>35594</td>\n",
       "      <td>MARION</td>\n",
       "      <td>2054877736</td>\n",
       "      <td>Proprietary</td>\n",
       "      <td>Heart Attack</td>\n",
       "      <td>8 patients</td>\n",
       "    </tr>\n",
       "    <tr>\n",
       "      <th>2</th>\n",
       "      <td>10032</td>\n",
       "      <td>WEDOWEE HOSPITAL</td>\n",
       "      <td>209 NORTH MAIN STREET</td>\n",
       "      <td>WEDOWEE</td>\n",
       "      <td>0</td>\n",
       "      <td>RANDOLPH</td>\n",
       "      <td>2563572111</td>\n",
       "      <td>Government - Local</td>\n",
       "      <td>Surgical Infection Prevention</td>\n",
       "      <td>0 patients</td>\n",
       "    </tr>\n",
       "  </tbody>\n",
       "</table>\n",
       "</div>"
      ],
      "text/plain": [
       "   ProviderNumber                    HospitalName               Address1  \\\n",
       "0           10006  ELIZA COFFEE MEMORIAL HOSPITAL     205 MARENGO STREET   \n",
       "1           10086        NORTHWEST MEDICAL CENTER    1530 U S HIGHWAY 43   \n",
       "2           10032                WEDOWEE HOSPITAL  209 NORTH MAIN STREET   \n",
       "\n",
       "       City  ZipCode  CountyName  PhoneNumber                 HospitalOwner  \\\n",
       "0  FLORENCE    35631  LAUDERDALE   2567688400  Voluntary non-profit - Other   \n",
       "1  WINFIELD    35594      MARION   2054877736                   Proprietary   \n",
       "2   WEDOWEE        0    RANDOLPH   2563572111            Government - Local   \n",
       "\n",
       "                       Condition        Sample  \n",
       "0  Surgical Infection Prevention  462 patients  \n",
       "1                   Heart Attack    8 patients  \n",
       "2  Surgical Infection Prevention    0 patients  "
      ]
     },
     "execution_count": 18,
     "metadata": {},
     "output_type": "execute_result"
    }
   ],
   "source": [
    "df.head(3)"
   ]
  },
  {
   "cell_type": "markdown",
   "metadata": {},
   "source": [
    "### Convert each row to a space separated string"
   ]
  },
  {
   "cell_type": "code",
   "execution_count": 20,
   "metadata": {},
   "outputs": [],
   "source": [
    "dfList = df.values.tolist()"
   ]
  },
  {
   "cell_type": "code",
   "execution_count": 21,
   "metadata": {},
   "outputs": [],
   "source": [
    "rows = []\n",
    "for row in dfList:\n",
    "    combined = ','.join([str(x) for x in row])\n",
    "    rows.append(combined)"
   ]
  },
  {
   "cell_type": "code",
   "execution_count": 22,
   "metadata": {},
   "outputs": [
    {
     "data": {
      "text/plain": [
       "2000"
      ]
     },
     "execution_count": 22,
     "metadata": {},
     "output_type": "execute_result"
    }
   ],
   "source": [
    "len(rows)"
   ]
  },
  {
   "cell_type": "code",
   "execution_count": 23,
   "metadata": {},
   "outputs": [
    {
     "data": {
      "text/plain": [
       "'10006,ELIZA COFFEE MEMORIAL HOSPITAL,205 MARENGO STREET,FLORENCE,35631,LAUDERDALE,2567688400,Voluntary non-profit - Other,Surgical Infection Prevention,462 patients'"
      ]
     },
     "execution_count": 23,
     "metadata": {},
     "output_type": "execute_result"
    }
   ],
   "source": [
    "rows[0]"
   ]
  },
  {
   "cell_type": "code",
   "execution_count": 24,
   "metadata": {},
   "outputs": [
    {
     "data": {
      "text/plain": [
       "189"
      ]
     },
     "execution_count": 24,
     "metadata": {},
     "output_type": "execute_result"
    }
   ],
   "source": [
    "max([len(r) for r in rows])"
   ]
  },
  {
   "cell_type": "markdown",
   "metadata": {},
   "source": [
    "### Save the dataset"
   ]
  },
  {
   "cell_type": "code",
   "execution_count": 25,
   "metadata": {},
   "outputs": [],
   "source": [
    "df.to_csv(\"HospitalTrainingDataMultiAttributes.csv\", encoding='utf8', index=False)"
   ]
  },
  {
   "cell_type": "markdown",
   "metadata": {},
   "source": [
    "## Tokenize the data"
   ]
  },
  {
   "cell_type": "markdown",
   "metadata": {},
   "source": [
    "Since the max length of a row is 189, we can set the maxSequenceLength as 200"
   ]
  },
  {
   "cell_type": "code",
   "execution_count": 27,
   "metadata": {},
   "outputs": [],
   "source": [
    "maxSequenceLength = 200\n",
    "maxWords = 5000"
   ]
  },
  {
   "cell_type": "code",
   "execution_count": 29,
   "metadata": {},
   "outputs": [],
   "source": [
    "tokenizer = Tokenizer(num_words=maxWords, split=',')\n",
    "tokenizer.fit_on_texts(rows)\n",
    "sequences = tokenizer.texts_to_sequences(rows)\n",
    "word_index = tokenizer.word_index"
   ]
  },
  {
   "cell_type": "code",
   "execution_count": 30,
   "metadata": {},
   "outputs": [
    {
     "data": {
      "text/plain": [
       "916"
      ]
     },
     "execution_count": 30,
     "metadata": {},
     "output_type": "execute_result"
    }
   ],
   "source": [
    "len(word_index)"
   ]
  },
  {
   "cell_type": "code",
   "execution_count": 31,
   "metadata": {},
   "outputs": [],
   "source": [
    "data = pad_sequences(sequences, maxlen=maxSequenceLength)"
   ]
  },
  {
   "cell_type": "code",
   "execution_count": 32,
   "metadata": {},
   "outputs": [
    {
     "data": {
      "text/plain": [
       "(2000, 200)"
      ]
     },
     "execution_count": 32,
     "metadata": {},
     "output_type": "execute_result"
    }
   ],
   "source": [
    "data.shape"
   ]
  },
  {
   "cell_type": "code",
   "execution_count": 33,
   "metadata": {},
   "outputs": [
    {
     "data": {
      "text/plain": [
       "(2000,)"
      ]
     },
     "execution_count": 33,
     "metadata": {},
     "output_type": "execute_result"
    }
   ],
   "source": [
    "labels.shape"
   ]
  },
  {
   "cell_type": "markdown",
   "metadata": {},
   "source": [
    "## Train test split"
   ]
  },
  {
   "cell_type": "markdown",
   "metadata": {},
   "source": [
    "### Shuffle the data"
   ]
  },
  {
   "cell_type": "code",
   "execution_count": 34,
   "metadata": {},
   "outputs": [],
   "source": [
    "indices = np.arange(data.shape[0])\n",
    "np.random.shuffle(indices)"
   ]
  },
  {
   "cell_type": "code",
   "execution_count": 35,
   "metadata": {},
   "outputs": [],
   "source": [
    "data = data[indices]\n",
    "labels = labels[indices]"
   ]
  },
  {
   "cell_type": "code",
   "execution_count": 36,
   "metadata": {},
   "outputs": [],
   "source": [
    "X_train, X_test, y_train, y_test = train_test_split(data, labels, test_size=0.2, random_state=22, stratify=labels)"
   ]
  },
  {
   "cell_type": "code",
   "execution_count": 37,
   "metadata": {},
   "outputs": [
    {
     "data": {
      "text/plain": [
       "(1600, 1600)"
      ]
     },
     "execution_count": 37,
     "metadata": {},
     "output_type": "execute_result"
    }
   ],
   "source": [
    "len(X_train), len(y_train)"
   ]
  },
  {
   "cell_type": "code",
   "execution_count": 38,
   "metadata": {},
   "outputs": [
    {
     "data": {
      "text/plain": [
       "(400, 400)"
      ]
     },
     "execution_count": 38,
     "metadata": {},
     "output_type": "execute_result"
    }
   ],
   "source": [
    "len(X_test), len(y_test)"
   ]
  },
  {
   "cell_type": "markdown",
   "metadata": {},
   "source": [
    "## Model\n",
    "**Architecture**\n",
    "* 1 Embedding layer\n",
    "* 1 Bidirectional LSTM layer\n",
    "* 1 output layer, _sigmoid_ activation\n",
    "* Optimizer: Adam (learning rate = 0.01)\n",
    "* Loss function: Binary crossentropy loss"
   ]
  },
  {
   "cell_type": "code",
   "execution_count": 81,
   "metadata": {},
   "outputs": [],
   "source": [
    "embeddingDim = 100"
   ]
  },
  {
   "cell_type": "code",
   "execution_count": 90,
   "metadata": {},
   "outputs": [],
   "source": [
    "model = models.Sequential()\n",
    "model.add(layers.Embedding(2500, embeddingDim, input_length=maxSequenceLength))\n",
    "model.add(layers.Bidirectional(layers.LSTM(64)))\n",
    "model.add(layers.BatchNormalization())\n",
    "model.add(layers.Dense(1, activation=activations.sigmoid))\n",
    "model.compile(optimizer=optimizers.Adam(lr=0.01), loss=losses.binary_crossentropy, metrics=[metrics.binary_accuracy])"
   ]
  },
  {
   "cell_type": "code",
   "execution_count": 91,
   "metadata": {},
   "outputs": [
    {
     "name": "stdout",
     "output_type": "stream",
     "text": [
      "_________________________________________________________________\n",
      "Layer (type)                 Output Shape              Param #   \n",
      "=================================================================\n",
      "embedding_9 (Embedding)      (None, 200, 100)          250000    \n",
      "_________________________________________________________________\n",
      "bidirectional_11 (Bidirectio (None, 128)               84480     \n",
      "_________________________________________________________________\n",
      "batch_normalization_6 (Batch (None, 128)               512       \n",
      "_________________________________________________________________\n",
      "dense_7 (Dense)              (None, 1)                 129       \n",
      "=================================================================\n",
      "Total params: 335,121\n",
      "Trainable params: 334,865\n",
      "Non-trainable params: 256\n",
      "_________________________________________________________________\n"
     ]
    }
   ],
   "source": [
    "model.summary()"
   ]
  },
  {
   "cell_type": "code",
   "execution_count": 92,
   "metadata": {},
   "outputs": [
    {
     "name": "stdout",
     "output_type": "stream",
     "text": [
      "Train on 1280 samples, validate on 320 samples\n",
      "Epoch 1/20\n",
      "1280/1280 [==============================] - 28s 21ms/step - loss: 0.7128 - binary_accuracy: 0.5500 - val_loss: 0.6560 - val_binary_accuracy: 0.5781\n",
      "Epoch 2/20\n",
      "1280/1280 [==============================] - 25s 19ms/step - loss: 0.5702 - binary_accuracy: 0.7016 - val_loss: 1.6316 - val_binary_accuracy: 0.4469\n",
      "Epoch 3/20\n",
      "1280/1280 [==============================] - 24s 19ms/step - loss: 0.4195 - binary_accuracy: 0.8109 - val_loss: 0.8058 - val_binary_accuracy: 0.4938\n",
      "Epoch 4/20\n",
      "1280/1280 [==============================] - 25s 19ms/step - loss: 0.3296 - binary_accuracy: 0.8656 - val_loss: 0.7588 - val_binary_accuracy: 0.6625\n",
      "Epoch 5/20\n",
      "1280/1280 [==============================] - 25s 19ms/step - loss: 0.3088 - binary_accuracy: 0.8625 - val_loss: 0.6355 - val_binary_accuracy: 0.7188\n",
      "Epoch 6/20\n",
      "1280/1280 [==============================] - 25s 19ms/step - loss: 0.2761 - binary_accuracy: 0.8820 - val_loss: 0.7796 - val_binary_accuracy: 0.7031\n",
      "Epoch 7/20\n",
      "1280/1280 [==============================] - 24s 19ms/step - loss: 0.2624 - binary_accuracy: 0.8828 - val_loss: 0.6654 - val_binary_accuracy: 0.7188\n",
      "Epoch 8/20\n",
      "1280/1280 [==============================] - 25s 19ms/step - loss: 0.2176 - binary_accuracy: 0.9086 - val_loss: 0.8472 - val_binary_accuracy: 0.6844\n",
      "Epoch 9/20\n",
      "1280/1280 [==============================] - 25s 20ms/step - loss: 0.2182 - binary_accuracy: 0.9031 - val_loss: 0.7587 - val_binary_accuracy: 0.7250\n",
      "Epoch 10/20\n",
      "1280/1280 [==============================] - 25s 20ms/step - loss: 0.2082 - binary_accuracy: 0.9141 - val_loss: 0.7635 - val_binary_accuracy: 0.7031\n",
      "Epoch 11/20\n",
      "1280/1280 [==============================] - 25s 20ms/step - loss: 0.1897 - binary_accuracy: 0.9219 - val_loss: 0.8950 - val_binary_accuracy: 0.7063\n",
      "Epoch 12/20\n",
      "1280/1280 [==============================] - 26s 20ms/step - loss: 0.1786 - binary_accuracy: 0.9156 - val_loss: 1.0810 - val_binary_accuracy: 0.7031\n",
      "Epoch 13/20\n",
      "1280/1280 [==============================] - 26s 21ms/step - loss: 0.1734 - binary_accuracy: 0.9258 - val_loss: 1.0063 - val_binary_accuracy: 0.7125\n",
      "Epoch 14/20\n",
      "1280/1280 [==============================] - 26s 20ms/step - loss: 0.1542 - binary_accuracy: 0.9289 - val_loss: 1.0277 - val_binary_accuracy: 0.7250\n",
      "Epoch 15/20\n",
      "1280/1280 [==============================] - 28s 22ms/step - loss: 0.1457 - binary_accuracy: 0.9453 - val_loss: 1.0827 - val_binary_accuracy: 0.7344\n",
      "Epoch 16/20\n",
      "1280/1280 [==============================] - 27s 21ms/step - loss: 0.1570 - binary_accuracy: 0.9297 - val_loss: 0.8456 - val_binary_accuracy: 0.7531\n",
      "Epoch 17/20\n",
      "1280/1280 [==============================] - 27s 21ms/step - loss: 0.1338 - binary_accuracy: 0.9523 - val_loss: 1.2685 - val_binary_accuracy: 0.7312\n",
      "Epoch 18/20\n",
      "1280/1280 [==============================] - 27s 21ms/step - loss: 0.1312 - binary_accuracy: 0.9492 - val_loss: 1.2050 - val_binary_accuracy: 0.7438\n",
      "Epoch 19/20\n",
      "1280/1280 [==============================] - 26s 20ms/step - loss: 0.1436 - binary_accuracy: 0.9438 - val_loss: 1.0726 - val_binary_accuracy: 0.7156\n",
      "Epoch 20/20\n",
      "1280/1280 [==============================] - 27s 21ms/step - loss: 0.1344 - binary_accuracy: 0.9453 - val_loss: 1.1470 - val_binary_accuracy: 0.7438\n"
     ]
    }
   ],
   "source": [
    "history = model.fit(X_train, y_train,\n",
    "                    epochs=20,\n",
    "                    batch_size=32, \n",
    "                    validation_split=0.2)"
   ]
  },
  {
   "cell_type": "code",
   "execution_count": 93,
   "metadata": {},
   "outputs": [
    {
     "data": {
      "image/png": "[encoded data removed]",
      "text/plain": [
       "<matplotlib.figure.Figure at 0x29e3b718160>"
      ]
     },
     "metadata": {},
     "output_type": "display_data"
    },
    {
     "data": {
      "image/png": "[encoded data removed]",
      "text/plain": [
       "<matplotlib.figure.Figure at 0x29e3b72bbe0>"
      ]
     },
     "metadata": {},
     "output_type": "display_data"
    }
   ],
   "source": [
    "acc = history.history['binary_accuracy']\n",
    "val_acc = history.history['val_binary_accuracy']\n",
    "\n",
    "loss = history.history['loss']\n",
    "val_loss = history.history['val_loss']\n",
    "\n",
    "epochs = range(1, len(acc) + 1)\n",
    "plt.plot(epochs, acc, 'bo', label='Training acc')\n",
    "plt.plot(epochs, val_acc, 'b', label='Validation acc')\n",
    "plt.title('Training and validation accuracy')\n",
    "plt.xlabel(\"Epochs\")\n",
    "plt.ylabel(\"Accuracy\")\n",
    "plt.legend()\n",
    "\n",
    "plt.figure()\n",
    "\n",
    "plt.plot(epochs, loss, 'bo', label='Training loss')\n",
    "plt.plot(epochs, val_loss, 'b', label='Validation loss')\n",
    "plt.title('Training and validation loss')\n",
    "plt.xlabel(\"Epochs\")\n",
    "plt.ylabel(\"Loss\")\n",
    "plt.legend()\n",
    "plt.show();"
   ]
  },
  {
   "cell_type": "markdown",
   "metadata": {},
   "source": [
    "## Evaluation on test set"
   ]
  },
  {
   "cell_type": "code",
   "execution_count": 94,
   "metadata": {},
   "outputs": [
    {
     "name": "stdout",
     "output_type": "stream",
     "text": [
      "400/400 [==============================] - 2s 5ms/step\n"
     ]
    }
   ],
   "source": [
    "results = model.evaluate(X_test, y_test)"
   ]
  },
  {
   "cell_type": "code",
   "execution_count": 95,
   "metadata": {},
   "outputs": [],
   "source": [
    "loss = results[0]\n",
    "accuracy = results[1]"
   ]
  },
  {
   "cell_type": "code",
   "execution_count": 96,
   "metadata": {},
   "outputs": [
    {
     "data": {
      "text/plain": [
       "1.214014892578125"
      ]
     },
     "execution_count": 96,
     "metadata": {},
     "output_type": "execute_result"
    }
   ],
   "source": [
    "loss"
   ]
  },
  {
   "cell_type": "code",
   "execution_count": 97,
   "metadata": {},
   "outputs": [
    {
     "data": {
      "text/plain": [
       "0.7025"
      ]
     },
     "execution_count": 97,
     "metadata": {},
     "output_type": "execute_result"
    }
   ],
   "source": [
    "accuracy"
   ]
  },
  {
   "cell_type": "markdown",
   "metadata": {},
   "source": [
    "## Save the model and tokenizer"
   ]
  },
  {
   "cell_type": "code",
   "execution_count": 98,
   "metadata": {},
   "outputs": [],
   "source": [
    "model.save(\"HospitalErrorDetectionMultiAttributeClassifier.h5\")"
   ]
  },
  {
   "cell_type": "code",
   "execution_count": 99,
   "metadata": {},
   "outputs": [],
   "source": [
    "with open('HospitalErrorDetectionMultiAttributeTokenizer.pickle', 'wb') as handle:\n",
    "    pickle.dump(tokenizer, handle, protocol=pickle.HIGHEST_PROTOCOL, fix_imports=True)"
   ]
  },
  {
   "cell_type": "code",
   "execution_count": null,
   "metadata": {},
   "outputs": [],
   "source": []
  }
 ],
 "metadata": {
  "kernelspec": {
   "display_name": "Python 3",
   "language": "python",
   "name": "python3"
  },
  "language_info": {
   "codemirror_mode": {
    "name": "ipython",
    "version": 3
   },
   "file_extension": ".py",
   "mimetype": "text/x-python",
   "name": "python",
   "nbconvert_exporter": "python",
   "pygments_lexer": "ipython3",
   "version": "3.5.0"
  },
  "toc": {
   "nav_menu": {},
   "number_sections": true,
   "sideBar": true,
   "skip_h1_title": true,
   "title_cell": "Table of Contents",
   "title_sidebar": "Contents",
   "toc_cell": false,
   "toc_position": {},
   "toc_section_display": true,
   "toc_window_display": false
  }
 },
 "nbformat": 4,
 "nbformat_minor": 2
}
