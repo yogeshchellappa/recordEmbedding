{
 "cells": [
  {
   "cell_type": "code",
   "execution_count": 1,
   "metadata": {},
   "outputs": [
    {
     "name": "stderr",
     "output_type": "stream",
     "text": [
      "Using TensorFlow backend.\n"
     ]
    }
   ],
   "source": [
    "import warnings\n",
    "warnings.filterwarnings('ignore')\n",
    "\n",
    "from gensim.models.wrappers import FastText\n",
    "from gensim.models import Word2Vec\n",
    "from gensim.models import KeyedVectors\n",
    "from keras.models import load_model\n",
    "from keras.preprocessing.text import Tokenizer\n",
    "from keras.preprocessing.sequence import pad_sequences\n",
    "import pickle\n",
    "\n",
    "import pandas as pd\n",
    "import numpy as np\n",
    "from enum import Enum"
   ]
  },
  {
   "cell_type": "code",
   "execution_count": 2,
   "metadata": {},
   "outputs": [],
   "source": [
    "df = pd.read_csv(\"amazonCleaned.csv\")"
   ]
  },
  {
   "cell_type": "code",
   "execution_count": 3,
   "metadata": {},
   "outputs": [
    {
     "data": {
      "text/html": [
       "<div>\n",
       "<style scoped>\n",
       "    .dataframe tbody tr th:only-of-type {\n",
       "        vertical-align: middle;\n",
       "    }\n",
       "\n",
       "    .dataframe tbody tr th {\n",
       "        vertical-align: top;\n",
       "    }\n",
       "\n",
       "    .dataframe thead th {\n",
       "        text-align: right;\n",
       "    }\n",
       "</style>\n",
       "<table border=\"1\" class=\"dataframe\">\n",
       "  <thead>\n",
       "    <tr style=\"text-align: right;\">\n",
       "      <th></th>\n",
       "      <th>Name</th>\n",
       "      <th>Author</th>\n",
       "      <th>Format</th>\n",
       "      <th>Publisher</th>\n",
       "      <th>Publishing Date</th>\n",
       "    </tr>\n",
       "  </thead>\n",
       "  <tbody>\n",
       "    <tr>\n",
       "      <th>0</th>\n",
       "      <td>Age of Myth: Book One of The Legends of the Fi...</td>\n",
       "      <td>Michael J. Sullivan</td>\n",
       "      <td>Paperback</td>\n",
       "      <td>Del Rey</td>\n",
       "      <td>January 31, 2017</td>\n",
       "    </tr>\n",
       "    <tr>\n",
       "      <th>1</th>\n",
       "      <td>Rise of the Dragons (Kings and Sorcerers--Book 1)</td>\n",
       "      <td>Morgan Rice</td>\n",
       "      <td>Hardcover</td>\n",
       "      <td>Morgan Rice</td>\n",
       "      <td>August 4, 2017</td>\n",
       "    </tr>\n",
       "    <tr>\n",
       "      <th>2</th>\n",
       "      <td>The Book of Deacon (Volume 1)</td>\n",
       "      <td>Joseph Lallo</td>\n",
       "      <td>Kindle</td>\n",
       "      <td>CreateSpace Independent Publishing Platform</td>\n",
       "      <td>March 18, 2012</td>\n",
       "    </tr>\n",
       "    <tr>\n",
       "      <th>3</th>\n",
       "      <td>A Quest of Heroes: Book #1 in the Sorcerer's Ring</td>\n",
       "      <td>Morgan Rice</td>\n",
       "      <td>Hardcover</td>\n",
       "      <td>Morgan Rice</td>\n",
       "      <td>December 3, 2012</td>\n",
       "    </tr>\n",
       "    <tr>\n",
       "      <th>4</th>\n",
       "      <td>Fantasia: An Algerian Cavalcade</td>\n",
       "      <td>Dorothy S. Blair</td>\n",
       "      <td>Kindle</td>\n",
       "      <td>Heinemann; 1 edition</td>\n",
       "      <td>March 15, 1993</td>\n",
       "    </tr>\n",
       "  </tbody>\n",
       "</table>\n",
       "</div>"
      ],
      "text/plain": [
       "                                                Name               Author  \\\n",
       "0  Age of Myth: Book One of The Legends of the Fi...  Michael J. Sullivan   \n",
       "1  Rise of the Dragons (Kings and Sorcerers--Book 1)          Morgan Rice   \n",
       "2                      The Book of Deacon (Volume 1)         Joseph Lallo   \n",
       "3  A Quest of Heroes: Book #1 in the Sorcerer's Ring          Morgan Rice   \n",
       "4                    Fantasia: An Algerian Cavalcade     Dorothy S. Blair   \n",
       "\n",
       "      Format                                    Publisher   Publishing Date  \n",
       "0  Paperback                                      Del Rey  January 31, 2017  \n",
       "1  Hardcover                                  Morgan Rice    August 4, 2017  \n",
       "2     Kindle  CreateSpace Independent Publishing Platform    March 18, 2012  \n",
       "3  Hardcover                                  Morgan Rice  December 3, 2012  \n",
       "4     Kindle                         Heinemann; 1 edition    March 15, 1993  "
      ]
     },
     "execution_count": 3,
     "metadata": {},
     "output_type": "execute_result"
    }
   ],
   "source": [
    "df.head()"
   ]
  },
  {
   "cell_type": "code",
   "execution_count": 4,
   "metadata": {},
   "outputs": [],
   "source": [
    "path = 'amazonModelWord2Vec.w2v'\n",
    "word2vecModel = KeyedVectors.load(path)"
   ]
  },
  {
   "cell_type": "code",
   "execution_count": 74,
   "metadata": {},
   "outputs": [
    {
     "data": {
      "text/html": [
       "<div>\n",
       "<style scoped>\n",
       "    .dataframe tbody tr th:only-of-type {\n",
       "        vertical-align: middle;\n",
       "    }\n",
       "\n",
       "    .dataframe tbody tr th {\n",
       "        vertical-align: top;\n",
       "    }\n",
       "\n",
       "    .dataframe thead th {\n",
       "        text-align: right;\n",
       "    }\n",
       "</style>\n",
       "<table border=\"1\" class=\"dataframe\">\n",
       "  <thead>\n",
       "    <tr style=\"text-align: right;\">\n",
       "      <th></th>\n",
       "      <th>Name</th>\n",
       "      <th>Author</th>\n",
       "      <th>Format</th>\n",
       "      <th>Publisher</th>\n",
       "      <th>Publishing Date</th>\n",
       "    </tr>\n",
       "  </thead>\n",
       "  <tbody>\n",
       "    <tr>\n",
       "      <th>254</th>\n",
       "      <td>Harry Potter And The Order Of The Phoenix</td>\n",
       "      <td>J.K. Rowling</td>\n",
       "      <td>Paperback</td>\n",
       "      <td>Scholastic Paperbacks</td>\n",
       "      <td>September 1, 2004</td>\n",
       "    </tr>\n",
       "    <tr>\n",
       "      <th>704</th>\n",
       "      <td>Harry Potter and the Sorcerer's Stone</td>\n",
       "      <td>J.K. Rowling</td>\n",
       "      <td>Hardcover</td>\n",
       "      <td>Scholastic; 1st Edition edition</td>\n",
       "      <td>September 1998</td>\n",
       "    </tr>\n",
       "    <tr>\n",
       "      <th>718</th>\n",
       "      <td>Harry Potter and the Prisoner of Azkaban</td>\n",
       "      <td>J.K. Rowling</td>\n",
       "      <td>Kindle</td>\n",
       "      <td>Scholastic Paperbacks</td>\n",
       "      <td>October 1, 2001</td>\n",
       "    </tr>\n",
       "    <tr>\n",
       "      <th>719</th>\n",
       "      <td>Harry Potter And The Goblet Of Fire</td>\n",
       "      <td>J.K. Rowling</td>\n",
       "      <td>Hardcover</td>\n",
       "      <td>Scholastic Paperbacks</td>\n",
       "      <td>September 1, 2002</td>\n",
       "    </tr>\n",
       "    <tr>\n",
       "      <th>740</th>\n",
       "      <td>Harry Potter and the Half-Blood Prince (Book 6)</td>\n",
       "      <td>J.K. Rowling</td>\n",
       "      <td>Hardcover</td>\n",
       "      <td>Scholastic Paperbacks; Reprint edition</td>\n",
       "      <td>July 25, 2006</td>\n",
       "    </tr>\n",
       "    <tr>\n",
       "      <th>843</th>\n",
       "      <td>Harry Potter and the Cursed Child, Parts One a...</td>\n",
       "      <td>J.K. Rowling</td>\n",
       "      <td>Hardcover</td>\n",
       "      <td>Arthur A. Levine Books</td>\n",
       "      <td>July 25, 2017</td>\n",
       "    </tr>\n",
       "  </tbody>\n",
       "</table>\n",
       "</div>"
      ],
      "text/plain": [
       "                                                  Name        Author  \\\n",
       "254          Harry Potter And The Order Of The Phoenix  J.K. Rowling   \n",
       "704              Harry Potter and the Sorcerer's Stone  J.K. Rowling   \n",
       "718           Harry Potter and the Prisoner of Azkaban  J.K. Rowling   \n",
       "719                Harry Potter And The Goblet Of Fire  J.K. Rowling   \n",
       "740    Harry Potter and the Half-Blood Prince (Book 6)  J.K. Rowling   \n",
       "843  Harry Potter and the Cursed Child, Parts One a...  J.K. Rowling   \n",
       "\n",
       "        Format                               Publisher    Publishing Date  \n",
       "254  Paperback                   Scholastic Paperbacks  September 1, 2004  \n",
       "704  Hardcover         Scholastic; 1st Edition edition     September 1998  \n",
       "718     Kindle                   Scholastic Paperbacks    October 1, 2001  \n",
       "719  Hardcover                   Scholastic Paperbacks  September 1, 2002  \n",
       "740  Hardcover  Scholastic Paperbacks; Reprint edition      July 25, 2006  \n",
       "843  Hardcover                  Arthur A. Levine Books      July 25, 2017  "
      ]
     },
     "execution_count": 74,
     "metadata": {},
     "output_type": "execute_result"
    }
   ],
   "source": [
    "df[df['Author'] == 'J.K. Rowling']"
   ]
  },
  {
   "cell_type": "markdown",
   "metadata": {},
   "source": [
    "Define attributes"
   ]
  },
  {
   "cell_type": "code",
   "execution_count": 7,
   "metadata": {},
   "outputs": [],
   "source": [
    "class Attributes(Enum):\n",
    "    NAME = 1\n",
    "    AUTHOR = 2\n",
    "    FORMAT = 3\n",
    "    PUBLISHER = 4\n",
    "    PUBLISHING_DATE = 5"
   ]
  },
  {
   "cell_type": "code",
   "execution_count": 17,
   "metadata": {},
   "outputs": [],
   "source": [
    "attributeMapping = {}\n",
    "attributeMapping[\"Name\"] = Attributes.NAME\n",
    "attributeMapping[\"Author\"] = Attributes.AUTHOR\n",
    "attributeMapping[\"Format\"] = Attributes.FORMAT\n",
    "attributeMapping[\"Publisher\"] = Attributes.PUBLISHER\n",
    "attributeMapping[\"Publishing Date\"] = Attributes.PUBLISHING_DATE"
   ]
  },
  {
   "cell_type": "code",
   "execution_count": 18,
   "metadata": {},
   "outputs": [
    {
     "data": {
      "text/plain": [
       "{'Author': <Attributes.AUTHOR: 2>,\n",
       " 'Format': <Attributes.FORMAT: 3>,\n",
       " 'Name': <Attributes.NAME: 1>,\n",
       " 'Publisher': <Attributes.PUBLISHER: 4>,\n",
       " 'Publishing Date': <Attributes.PUBLISHING_DATE: 5>}"
      ]
     },
     "execution_count": 18,
     "metadata": {},
     "output_type": "execute_result"
    }
   ],
   "source": [
    "attributeMapping"
   ]
  },
  {
   "cell_type": "code",
   "execution_count": 19,
   "metadata": {},
   "outputs": [],
   "source": [
    "mapping = {0: 'Author', 1: 'Format', 2: 'Name', 3: 'Publisher', 4: 'Publishing Date'}"
   ]
  },
  {
   "cell_type": "markdown",
   "metadata": {},
   "source": [
    "**Load model**"
   ]
  },
  {
   "cell_type": "code",
   "execution_count": 10,
   "metadata": {},
   "outputs": [],
   "source": [
    "model = load_model('AmazonClassifier.h5')"
   ]
  },
  {
   "cell_type": "markdown",
   "metadata": {},
   "source": [
    "**Load Tokenizer**"
   ]
  },
  {
   "cell_type": "code",
   "execution_count": 11,
   "metadata": {},
   "outputs": [],
   "source": [
    "with open('tokenizer.pickle', 'rb') as handle:\n",
    "    tokenizer = pickle.load(handle)"
   ]
  },
  {
   "cell_type": "code",
   "execution_count": 56,
   "metadata": {},
   "outputs": [],
   "source": [
    "def impute(word2vecModel, model, tokenizer, rowWithMissingValue, missingType, topN=15):\n",
    "    \"\"\"\n",
    "    Returns the closest match for the missing attribute value\n",
    "    \"\"\"\n",
    "    output = dict()\n",
    "    for value in rowWithMissingValue:\n",
    "        results = word2vecModel.wv.most_similar(value, topn=topN)\n",
    "        for match, confidence in results:\n",
    "            # Predicted type to be equal to the missing value\n",
    "            if predictAttribute(model, tokenizer, match) == missingType:\n",
    "                if match in output and confidence <= output[match]:\n",
    "                    continue\n",
    "                else:\n",
    "                    output[match] = confidence\n",
    "    return output.items()"
   ]
  },
  {
   "cell_type": "code",
   "execution_count": 80,
   "metadata": {},
   "outputs": [],
   "source": [
    "def predictAttribute(model, tokenizer, value):\n",
    "    \"\"\"\n",
    "    Classifies value parameter as its corresponding attribute\n",
    "    E.g: 'J.K Rowling' -> 'Author'\n",
    "    \"\"\"\n",
    "    value = [value]\n",
    "    sequences = tokenizer.texts_to_sequences(value)\n",
    "    testData = pad_sequences(sequences, maxlen=300)\n",
    "    predictions = model.predict(testData)\n",
    "    return attributeMapping[mapping[np.argmax(predictions[0])]]"
   ]
  },
  {
   "cell_type": "code",
   "execution_count": 81,
   "metadata": {},
   "outputs": [],
   "source": [
    "row = [\"Harry Potter And The Goblet Of Fire\",\n",
    "       \"J.K. Rowling\", \n",
    "       \"Hardcover\", \n",
    "       \"Scholastic Paperbacks\", \n",
    "       \"September 1, 2002\"]"
   ]
  },
  {
   "cell_type": "markdown",
   "metadata": {},
   "source": [
    "**Missing Name**"
   ]
  },
  {
   "cell_type": "code",
   "execution_count": 85,
   "metadata": {},
   "outputs": [
    {
     "name": "stdout",
     "output_type": "stream",
     "text": [
      "('Harry Potter And The Goblet Of Fire', 0.990523099899292)\n",
      "(\"Harry Potter and the Sorcerer's Stone\", 0.9517468810081482)\n",
      "(\"Baby-sitters' Island Adventure\", 0.9098972082138062)\n",
      "(\"Ms. Frizzle's Adventures: Ancient Egypt\", 0.889580488204956)\n",
      "('Over A Spitfire', 0.4875938892364502)\n",
      "('Final Fantasy VII: Ultimate Strategy Guide : Unofficial (The Final Fantasy Series)', 0.4871237874031067)\n"
     ]
    }
   ],
   "source": [
    "missingRow = [\"J.K. Rowling\", \n",
    "               \"Hardcover\", \n",
    "               \"Scholastic Paperbacks\", \n",
    "               \"September 1, 2002\"]\n",
    "\n",
    "results = impute(word2vecModel, model, tokenizer, missingRow, Attributes.NAME, 5)\n",
    "results = sorted(results, key=lambda x: x[1], reverse=True)\n",
    "for i in results:\n",
    "    print(i)"
   ]
  },
  {
   "cell_type": "markdown",
   "metadata": {},
   "source": [
    "<font color='green'>**Name -> Imputation Success**</font>"
   ]
  },
  {
   "cell_type": "markdown",
   "metadata": {},
   "source": [
    "**Missing Author**"
   ]
  },
  {
   "cell_type": "code",
   "execution_count": 89,
   "metadata": {},
   "outputs": [
    {
     "name": "stdout",
     "output_type": "stream",
     "text": [
      "('Ann M. Martin', 0.9006907343864441)\n",
      "('Joanna Cole', 0.8923073410987854)\n",
      "('Ron Wartow', 0.4968920350074768)\n",
      "('Dan Birlrw', 0.4789363741874695)\n"
     ]
    }
   ],
   "source": [
    "missingRow = ['Harry Potter And The Goblet Of Fire',\n",
    "              \"Hardcover\", \n",
    "              \"Scholastic Paperbacks\", \n",
    "              \"September 1, 2002\"]\n",
    "\n",
    "results = impute(word2vecModel, model, tokenizer, missingRow, Attributes.AUTHOR, 5)\n",
    "results = sorted(results, key=lambda x: x[1], reverse=True)\n",
    "for i in results:\n",
    "    print(i)"
   ]
  },
  {
   "cell_type": "markdown",
   "metadata": {},
   "source": [
    "<font color='red'>**Author -> Imputation Failed**</font>"
   ]
  },
  {
   "cell_type": "markdown",
   "metadata": {},
   "source": [
    "**Missing Format**"
   ]
  },
  {
   "cell_type": "code",
   "execution_count": 96,
   "metadata": {},
   "outputs": [],
   "source": [
    "missingRow = ['Harry Potter And The Goblet Of Fire',\n",
    "              \"J.K. Rowling\", \n",
    "              \"Scholastic Paperbacks\", \n",
    "              \"September 1, 2002\"]\n",
    "\n",
    "results = impute(word2vecModel, model, tokenizer, missingRow, Attributes.FORMAT, 5)\n",
    "results = sorted(results, key=lambda x: x[1], reverse=True)\n",
    "for i in results:\n",
    "    print(i)"
   ]
  },
  {
   "cell_type": "markdown",
   "metadata": {},
   "source": [
    "<font color='red'>**Format -> Imputation Failed**</font>"
   ]
  },
  {
   "cell_type": "markdown",
   "metadata": {},
   "source": [
    "**Missing Publisher**"
   ]
  },
  {
   "cell_type": "code",
   "execution_count": 93,
   "metadata": {},
   "outputs": [
    {
     "name": "stdout",
     "output_type": "stream",
     "text": [
      "('Scholastic; 1st Edition edition', 0.9685139060020447)\n",
      "('Sybex Inc', 0.4987725615501404)\n"
     ]
    }
   ],
   "source": [
    "missingRow = ['Harry Potter And The Goblet Of Fire',\n",
    "              \"J.K. Rowling\", \n",
    "              \"Hardcover\",\n",
    "              \"September 1, 2002\"]\n",
    "\n",
    "results = impute(word2vecModel, model, tokenizer, missingRow, Attributes.PUBLISHER, 5)\n",
    "results = sorted(results, key=lambda x: x[1], reverse=True)\n",
    "for i in results:\n",
    "    print(i)"
   ]
  },
  {
   "cell_type": "markdown",
   "metadata": {},
   "source": [
    "<font color='green'>**Publisher -> Imputation Success**</font>"
   ]
  },
  {
   "cell_type": "markdown",
   "metadata": {},
   "source": [
    "**Missing Publishing Date**"
   ]
  },
  {
   "cell_type": "code",
   "execution_count": 95,
   "metadata": {},
   "outputs": [
    {
     "name": "stdout",
     "output_type": "stream",
     "text": [
      "('September 1, 2002', 0.990523099899292)\n",
      "('September 1998', 0.9687081575393677)\n",
      "('September 1, 2004', 0.9233202338218689)\n",
      "('July 01, 1990', 0.9001783728599548)\n"
     ]
    }
   ],
   "source": [
    "missingRow = ['Harry Potter And The Goblet Of Fire',\n",
    "              \"J.K. Rowling\", \n",
    "              \"Hardcover\",\n",
    "              \"Scholastic Paperbacks\"]\n",
    "\n",
    "results = impute(word2vecModel, model, tokenizer, missingRow, Attributes.PUBLISHING_DATE, 5)\n",
    "results = sorted(results, key=lambda x: x[1], reverse=True)\n",
    "for i in results:\n",
    "    print(i)"
   ]
  },
  {
   "cell_type": "markdown",
   "metadata": {},
   "source": [
    "<font color='green'>**Publishing Date -> Imputation Success**</font>"
   ]
  },
  {
   "cell_type": "code",
   "execution_count": null,
   "metadata": {},
   "outputs": [],
   "source": []
  }
 ],
 "metadata": {
  "kernelspec": {
   "display_name": "Python 3",
   "language": "python",
   "name": "python3"
  },
  "language_info": {
   "codemirror_mode": {
    "name": "ipython",
    "version": 3
   },
   "file_extension": ".py",
   "mimetype": "text/x-python",
   "name": "python",
   "nbconvert_exporter": "python",
   "pygments_lexer": "ipython3",
   "version": "3.5.0"
  },
  "toc": {
   "nav_menu": {},
   "number_sections": true,
   "sideBar": true,
   "skip_h1_title": false,
   "title_cell": "Table of Contents",
   "title_sidebar": "Contents",
   "toc_cell": false,
   "toc_position": {},
   "toc_section_display": true,
   "toc_window_display": false
  }
 },
 "nbformat": 4,
 "nbformat_minor": 2
}
