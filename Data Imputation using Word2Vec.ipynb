{
  "cells": [
    {
      "cell_type": "code",
      "source": [
        "import warnings\n",
        "warnings.filterwarnings('ignore')\n",
        "\n",
        "from gensim.models.wrappers import FastText\n",
        "from gensim.models import Word2Vec\n",
        "from gensim.models import KeyedVectors\n",
        "from keras.models import load_model\n",
        "from keras.preprocessing.text import Tokenizer\n",
        "from keras.preprocessing.sequence import pad_sequences\n",
        "import pickle\n",
        "\n",
        "import pandas as pd\n",
        "import numpy as np\n",
        "from enum import Enum"
      ],
      "outputs": [
        {
          "output_type": "stream",
          "name": "stderr",
          "text": [
            "Using TensorFlow backend.\n"
          ]
        }
      ],
      "execution_count": 1,
      "metadata": {}
    },
    {
      "cell_type": "code",
      "source": [
        "df = pd.read_csv(\"amazonCleaned.csv\")"
      ],
      "outputs": [],
      "execution_count": 2,
      "metadata": {}
    },
    {
      "cell_type": "code",
      "source": [
        "df.head()"
      ],
      "outputs": [
        {
          "output_type": "execute_result",
          "execution_count": 3,
          "data": {
            "text/html": [
              "<div>\n",
              "<style scoped>\n",
              "    .dataframe tbody tr th:only-of-type {\n",
              "        vertical-align: middle;\n",
              "    }\n",
              "\n",
              "    .dataframe tbody tr th {\n",
              "        vertical-align: top;\n",
              "    }\n",
              "\n",
              "    .dataframe thead th {\n",
              "        text-align: right;\n",
              "    }\n",
              "</style>\n",
              "<table border=\"1\" class=\"dataframe\">\n",
              "  <thead>\n",
              "    <tr style=\"text-align: right;\">\n",
              "      <th></th>\n",
              "      <th>Name</th>\n",
              "      <th>Author</th>\n",
              "      <th>Format</th>\n",
              "      <th>Publisher</th>\n",
              "      <th>Publishing Date</th>\n",
              "    </tr>\n",
              "  </thead>\n",
              "  <tbody>\n",
              "    <tr>\n",
              "      <th>0</th>\n",
              "      <td>Age of Myth: Book One of The Legends of the Fi...</td>\n",
              "      <td>Michael J. Sullivan</td>\n",
              "      <td>Paperback</td>\n",
              "      <td>Del Rey</td>\n",
              "      <td>January 31, 2017</td>\n",
              "    </tr>\n",
              "    <tr>\n",
              "      <th>1</th>\n",
              "      <td>Rise of the Dragons (Kings and Sorcerers--Book 1)</td>\n",
              "      <td>Morgan Rice</td>\n",
              "      <td>Hardcover</td>\n",
              "      <td>Morgan Rice</td>\n",
              "      <td>August 4, 2017</td>\n",
              "    </tr>\n",
              "    <tr>\n",
              "      <th>2</th>\n",
              "      <td>The Book of Deacon (Volume 1)</td>\n",
              "      <td>Joseph Lallo</td>\n",
              "      <td>Kindle</td>\n",
              "      <td>CreateSpace Independent Publishing Platform</td>\n",
              "      <td>March 18, 2012</td>\n",
              "    </tr>\n",
              "    <tr>\n",
              "      <th>3</th>\n",
              "      <td>A Quest of Heroes: Book #1 in the Sorcerer's Ring</td>\n",
              "      <td>Morgan Rice</td>\n",
              "      <td>Hardcover</td>\n",
              "      <td>Morgan Rice</td>\n",
              "      <td>December 3, 2012</td>\n",
              "    </tr>\n",
              "    <tr>\n",
              "      <th>4</th>\n",
              "      <td>Fantasia: An Algerian Cavalcade</td>\n",
              "      <td>Dorothy S. Blair</td>\n",
              "      <td>Kindle</td>\n",
              "      <td>Heinemann; 1 edition</td>\n",
              "      <td>March 15, 1993</td>\n",
              "    </tr>\n",
              "  </tbody>\n",
              "</table>\n",
              "</div>"
            ],
            "text/plain": [
              "                                                Name               Author  \\\n",
              "0  Age of Myth: Book One of The Legends of the Fi...  Michael J. Sullivan   \n",
              "1  Rise of the Dragons (Kings and Sorcerers--Book 1)          Morgan Rice   \n",
              "2                      The Book of Deacon (Volume 1)         Joseph Lallo   \n",
              "3  A Quest of Heroes: Book #1 in the Sorcerer's Ring          Morgan Rice   \n",
              "4                    Fantasia: An Algerian Cavalcade     Dorothy S. Blair   \n",
              "\n",
              "      Format                                    Publisher   Publishing Date  \n",
              "0  Paperback                                      Del Rey  January 31, 2017  \n",
              "1  Hardcover                                  Morgan Rice    August 4, 2017  \n",
              "2     Kindle  CreateSpace Independent Publishing Platform    March 18, 2012  \n",
              "3  Hardcover                                  Morgan Rice  December 3, 2012  \n",
              "4     Kindle                         Heinemann; 1 edition    March 15, 1993  "
            ]
          },
          "metadata": {}
        }
      ],
      "execution_count": 3,
      "metadata": {}
    },
    {
      "cell_type": "code",
      "source": [
        "path = 'amazonModelWord2Vec.w2v'\n",
        "word2vecModel = KeyedVectors.load(path)"
      ],
      "outputs": [],
      "execution_count": 4,
      "metadata": {}
    },
    {
      "cell_type": "code",
      "source": [
        "df[df['Author'] == 'J.K. Rowling']"
      ],
      "outputs": [
        {
          "output_type": "execute_result",
          "execution_count": 74,
          "data": {
            "text/html": [
              "<div>\n",
              "<style scoped>\n",
              "    .dataframe tbody tr th:only-of-type {\n",
              "        vertical-align: middle;\n",
              "    }\n",
              "\n",
              "    .dataframe tbody tr th {\n",
              "        vertical-align: top;\n",
              "    }\n",
              "\n",
              "    .dataframe thead th {\n",
              "        text-align: right;\n",
              "    }\n",
              "</style>\n",
              "<table border=\"1\" class=\"dataframe\">\n",
              "  <thead>\n",
              "    <tr style=\"text-align: right;\">\n",
              "      <th></th>\n",
              "      <th>Name</th>\n",
              "      <th>Author</th>\n",
              "      <th>Format</th>\n",
              "      <th>Publisher</th>\n",
              "      <th>Publishing Date</th>\n",
              "    </tr>\n",
              "  </thead>\n",
              "  <tbody>\n",
              "    <tr>\n",
              "      <th>254</th>\n",
              "      <td>Harry Potter And The Order Of The Phoenix</td>\n",
              "      <td>J.K. Rowling</td>\n",
              "      <td>Paperback</td>\n",
              "      <td>Scholastic Paperbacks</td>\n",
              "      <td>September 1, 2004</td>\n",
              "    </tr>\n",
              "    <tr>\n",
              "      <th>704</th>\n",
              "      <td>Harry Potter and the Sorcerer's Stone</td>\n",
              "      <td>J.K. Rowling</td>\n",
              "      <td>Hardcover</td>\n",
              "      <td>Scholastic; 1st Edition edition</td>\n",
              "      <td>September 1998</td>\n",
              "    </tr>\n",
              "    <tr>\n",
              "      <th>718</th>\n",
              "      <td>Harry Potter and the Prisoner of Azkaban</td>\n",
              "      <td>J.K. Rowling</td>\n",
              "      <td>Kindle</td>\n",
              "      <td>Scholastic Paperbacks</td>\n",
              "      <td>October 1, 2001</td>\n",
              "    </tr>\n",
              "    <tr>\n",
              "      <th>719</th>\n",
              "      <td>Harry Potter And The Goblet Of Fire</td>\n",
              "      <td>J.K. Rowling</td>\n",
              "      <td>Hardcover</td>\n",
              "      <td>Scholastic Paperbacks</td>\n",
              "      <td>September 1, 2002</td>\n",
              "    </tr>\n",
              "    <tr>\n",
              "      <th>740</th>\n",
              "      <td>Harry Potter and the Half-Blood Prince (Book 6)</td>\n",
              "      <td>J.K. Rowling</td>\n",
              "      <td>Hardcover</td>\n",
              "      <td>Scholastic Paperbacks; Reprint edition</td>\n",
              "      <td>July 25, 2006</td>\n",
              "    </tr>\n",
              "    <tr>\n",
              "      <th>843</th>\n",
              "      <td>Harry Potter and the Cursed Child, Parts One a...</td>\n",
              "      <td>J.K. Rowling</td>\n",
              "      <td>Hardcover</td>\n",
              "      <td>Arthur A. Levine Books</td>\n",
              "      <td>July 25, 2017</td>\n",
              "    </tr>\n",
              "  </tbody>\n",
              "</table>\n",
              "</div>"
            ],
            "text/plain": [
              "                                                  Name        Author  \\\n",
              "254          Harry Potter And The Order Of The Phoenix  J.K. Rowling   \n",
              "704              Harry Potter and the Sorcerer's Stone  J.K. Rowling   \n",
              "718           Harry Potter and the Prisoner of Azkaban  J.K. Rowling   \n",
              "719                Harry Potter And The Goblet Of Fire  J.K. Rowling   \n",
              "740    Harry Potter and the Half-Blood Prince (Book 6)  J.K. Rowling   \n",
              "843  Harry Potter and the Cursed Child, Parts One a...  J.K. Rowling   \n",
              "\n",
              "        Format                               Publisher    Publishing Date  \n",
              "254  Paperback                   Scholastic Paperbacks  September 1, 2004  \n",
              "704  Hardcover         Scholastic; 1st Edition edition     September 1998  \n",
              "718     Kindle                   Scholastic Paperbacks    October 1, 2001  \n",
              "719  Hardcover                   Scholastic Paperbacks  September 1, 2002  \n",
              "740  Hardcover  Scholastic Paperbacks; Reprint edition      July 25, 2006  \n",
              "843  Hardcover                  Arthur A. Levine Books      July 25, 2017  "
            ]
          },
          "metadata": {}
        }
      ],
      "execution_count": 74,
      "metadata": {}
    },
    {
      "cell_type": "markdown",
      "source": [
        "Define attributes"
      ],
      "metadata": {}
    },
    {
      "cell_type": "code",
      "source": [
        "class Attributes(Enum):\n",
        "    NAME = 1\n",
        "    AUTHOR = 2\n",
        "    FORMAT = 3\n",
        "    PUBLISHER = 4\n",
        "    PUBLISHING_DATE = 5"
      ],
      "outputs": [],
      "execution_count": 7,
      "metadata": {}
    },
    {
      "cell_type": "code",
      "source": [
        "attributeMapping = {}\n",
        "attributeMapping[\"Name\"] = Attributes.NAME\n",
        "attributeMapping[\"Author\"] = Attributes.AUTHOR\n",
        "attributeMapping[\"Format\"] = Attributes.FORMAT\n",
        "attributeMapping[\"Publisher\"] = Attributes.PUBLISHER\n",
        "attributeMapping[\"Publishing Date\"] = Attributes.PUBLISHING_DATE"
      ],
      "outputs": [],
      "execution_count": 17,
      "metadata": {}
    },
    {
      "cell_type": "code",
      "source": [
        "attributeMapping"
      ],
      "outputs": [
        {
          "output_type": "execute_result",
          "execution_count": 18,
          "data": {
            "text/plain": [
              "{'Author': <Attributes.AUTHOR: 2>,\n",
              " 'Format': <Attributes.FORMAT: 3>,\n",
              " 'Name': <Attributes.NAME: 1>,\n",
              " 'Publisher': <Attributes.PUBLISHER: 4>,\n",
              " 'Publishing Date': <Attributes.PUBLISHING_DATE: 5>}"
            ]
          },
          "metadata": {}
        }
      ],
      "execution_count": 18,
      "metadata": {}
    },
    {
      "cell_type": "code",
      "source": [
        "mapping = {0: 'Author', 1: 'Format', 2: 'Name', 3: 'Publisher', 4: 'Publishing Date'}"
      ],
      "outputs": [],
      "execution_count": 19,
      "metadata": {}
    },
    {
      "cell_type": "markdown",
      "source": [
        "**Load model**"
      ],
      "metadata": {}
    },
    {
      "cell_type": "code",
      "source": [
        "model = load_model('AmazonClassifier.h5')"
      ],
      "outputs": [],
      "execution_count": 10,
      "metadata": {}
    },
    {
      "cell_type": "markdown",
      "source": [
        "**Load Tokenizer**"
      ],
      "metadata": {}
    },
    {
      "cell_type": "code",
      "source": [
        "with open('tokenizer.pickle', 'rb') as handle:\n",
        "    tokenizer = pickle.load(handle)"
      ],
      "outputs": [],
      "execution_count": 11,
      "metadata": {}
    },
    {
      "cell_type": "code",
      "source": [
        "def impute(word2vecModel, model, tokenizer, rowWithMissingValue, missingType, topN=15):\n",
        "    \"\"\"\n",
        "    Returns the closest match for the missing attribute value\n",
        "    \"\"\"\n",
        "    output = dict()\n",
        "    for value in rowWithMissingValue:\n",
        "        results = word2vecModel.wv.most_similar(value, topn=topN)\n",
        "        for match, confidence in results:\n",
        "            # Predicted type to be equal to the missing value\n",
        "            if predictAttribute(model, tokenizer, match) == missingType:\n",
        "                if match in output and confidence <= output[match]:\n",
        "                    continue\n",
        "                else:\n",
        "                    output[match] = confidence\n",
        "    return output.items()"
      ],
      "outputs": [],
      "execution_count": 56,
      "metadata": {}
    },
    {
      "cell_type": "code",
      "source": [
        "def predictAttribute(model, tokenizer, value):\n",
        "    \"\"\"\n",
        "    Classifies value parameter as its corresponding attribute\n",
        "    E.g: 'J.K Rowling' -> 'Author'\n",
        "    \"\"\"\n",
        "    value = [value]\n",
        "    sequences = tokenizer.texts_to_sequences(value)\n",
        "    testData = pad_sequences(sequences, maxlen=300)\n",
        "    predictions = model.predict(testData)\n",
        "    return attributeMapping[mapping[np.argmax(predictions[0])]]"
      ],
      "outputs": [],
      "execution_count": 80,
      "metadata": {}
    },
    {
      "cell_type": "code",
      "source": [
        "row = [\"Harry Potter And The Goblet Of Fire\",\n",
        "       \"J.K. Rowling\", \n",
        "       \"Hardcover\", \n",
        "       \"Scholastic Paperbacks\", \n",
        "       \"September 1, 2002\"]"
      ],
      "outputs": [],
      "execution_count": 81,
      "metadata": {}
    },
    {
      "cell_type": "markdown",
      "source": [
        "**Missing Name**"
      ],
      "metadata": {}
    },
    {
      "cell_type": "code",
      "source": [
        "missingRow = [\"J.K. Rowling\", \n",
        "               \"Hardcover\", \n",
        "               \"Scholastic Paperbacks\", \n",
        "               \"September 1, 2002\"]\n",
        "\n",
        "results = impute(word2vecModel, model, tokenizer, missingRow, Attributes.NAME, 5)\n",
        "results = sorted(results, key=lambda x: x[1], reverse=True)\n",
        "for i in results:\n",
        "    print(i)"
      ],
      "outputs": [
        {
          "output_type": "stream",
          "name": "stdout",
          "text": [
            "('Harry Potter And The Goblet Of Fire', 0.990523099899292)\n",
            "(\"Harry Potter and the Sorcerer's Stone\", 0.9517468810081482)\n",
            "(\"Baby-sitters' Island Adventure\", 0.9098972082138062)\n",
            "(\"Ms. Frizzle's Adventures: Ancient Egypt\", 0.889580488204956)\n",
            "('Over A Spitfire', 0.4875938892364502)\n",
            "('Final Fantasy VII: Ultimate Strategy Guide : Unofficial (The Final Fantasy Series)', 0.4871237874031067)\n"
          ]
        }
      ],
      "execution_count": 85,
      "metadata": {}
    },
    {
      "cell_type": "markdown",
      "source": [
        "<font color='green'>**Name -> Imputation Success**</font>"
      ],
      "metadata": {}
    },
    {
      "cell_type": "markdown",
      "source": [
        "**Missing Author**"
      ],
      "metadata": {}
    },
    {
      "cell_type": "code",
      "source": [
        "missingRow = ['Harry Potter And The Goblet Of Fire',\n",
        "              \"Hardcover\", \n",
        "              \"Scholastic Paperbacks\", \n",
        "              \"September 1, 2002\"]\n",
        "\n",
        "results = impute(word2vecModel, model, tokenizer, missingRow, Attributes.AUTHOR, 5)\n",
        "results = sorted(results, key=lambda x: x[1], reverse=True)\n",
        "for i in results:\n",
        "    print(i)"
      ],
      "outputs": [
        {
          "output_type": "stream",
          "name": "stdout",
          "text": [
            "('Ann M. Martin', 0.9006907343864441)\n",
            "('Joanna Cole', 0.8923073410987854)\n",
            "('Ron Wartow', 0.4968920350074768)\n",
            "('Dan Birlrw', 0.4789363741874695)\n"
          ]
        }
      ],
      "execution_count": 89,
      "metadata": {}
    },
    {
      "cell_type": "markdown",
      "source": [
        "<font color='red'>**Author -> Imputation Failed**</font>"
      ],
      "metadata": {}
    },
    {
      "cell_type": "markdown",
      "source": [
        "**Missing Format**"
      ],
      "metadata": {}
    },
    {
      "cell_type": "code",
      "source": [
        "missingRow = ['Harry Potter And The Goblet Of Fire',\n",
        "              \"J.K. Rowling\", \n",
        "              \"Scholastic Paperbacks\", \n",
        "              \"September 1, 2002\"]\n",
        "\n",
        "results = impute(word2vecModel, model, tokenizer, missingRow, Attributes.FORMAT, 5)\n",
        "results = sorted(results, key=lambda x: x[1], reverse=True)\n",
        "for i in results:\n",
        "    print(i)"
      ],
      "outputs": [],
      "execution_count": 96,
      "metadata": {}
    },
    {
      "cell_type": "markdown",
      "source": [
        "<font color='red'>**Format -> Imputation Failed**</font>"
      ],
      "metadata": {}
    },
    {
      "cell_type": "markdown",
      "source": [
        "**Missing Publisher**"
      ],
      "metadata": {}
    },
    {
      "cell_type": "code",
      "source": [
        "missingRow = ['Harry Potter And The Goblet Of Fire',\n",
        "              \"J.K. Rowling\", \n",
        "              \"Hardcover\",\n",
        "              \"September 1, 2002\"]\n",
        "\n",
        "results = impute(word2vecModel, model, tokenizer, missingRow, Attributes.PUBLISHER, 5)\n",
        "results = sorted(results, key=lambda x: x[1], reverse=True)\n",
        "for i in results:\n",
        "    print(i)"
      ],
      "outputs": [
        {
          "output_type": "stream",
          "name": "stdout",
          "text": [
            "('Scholastic; 1st Edition edition', 0.9685139060020447)\n",
            "('Sybex Inc', 0.4987725615501404)\n"
          ]
        }
      ],
      "execution_count": 93,
      "metadata": {}
    },
    {
      "cell_type": "markdown",
      "source": [
        "<font color='green'>**Publisher -> Imputation Success**</font>"
      ],
      "metadata": {}
    },
    {
      "cell_type": "markdown",
      "source": [
        "**Missing Publishing Date**"
      ],
      "metadata": {}
    },
    {
      "cell_type": "code",
      "source": [
        "missingRow = ['Harry Potter And The Goblet Of Fire',\n",
        "              \"J.K. Rowling\", \n",
        "              \"Hardcover\",\n",
        "              \"Scholastic Paperbacks\"]\n",
        "\n",
        "results = impute(word2vecModel, model, tokenizer, missingRow, Attributes.PUBLISHING_DATE, 5)\n",
        "results = sorted(results, key=lambda x: x[1], reverse=True)\n",
        "for i in results:\n",
        "    print(i)"
      ],
      "outputs": [
        {
          "output_type": "stream",
          "name": "stdout",
          "text": [
            "('September 1, 2002', 0.990523099899292)\n",
            "('September 1998', 0.9687081575393677)\n",
            "('September 1, 2004', 0.9233202338218689)\n",
            "('July 01, 1990', 0.9001783728599548)\n"
          ]
        }
      ],
      "execution_count": 95,
      "metadata": {}
    },
    {
      "cell_type": "markdown",
      "source": [
        "<font color='green'>**Publishing Date -> Imputation Success**</font>"
      ],
      "metadata": {}
    },
    {
      "cell_type": "code",
      "source": [],
      "outputs": [],
      "execution_count": null,
      "metadata": {}
    }
  ],
  "metadata": {
    "kernelspec": {
      "name": "python3",
      "language": "python",
      "display_name": "Python 3"
    },
    "language_info": {
      "file_extension": ".py",
      "version": "3.5.0",
      "pygments_lexer": "ipython3",
      "nbconvert_exporter": "python",
      "codemirror_mode": {
        "name": "ipython",
        "version": 3
      },
      "mimetype": "text/x-python",
      "name": "python"
    },
    "toc": {
      "toc_position": {},
      "skip_h1_title": false,
      "number_sections": true,
      "title_cell": "Table of Contents",
      "toc_window_display": false,
      "toc_section_display": true,
      "title_sidebar": "Contents",
      "toc_cell": false,
      "nav_menu": {},
      "sideBar": true
    },
    "kernel_info": {
      "name": "python3"
    },
    "nteract": {
      "version": "0.8.4"
    }
  },
  "nbformat": 4,
  "nbformat_minor": 2
}