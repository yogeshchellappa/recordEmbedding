{
 "cells": [
  {
   "cell_type": "code",
   "execution_count": 1,
   "metadata": {},
   "outputs": [],
   "source": [
    "import pandas as pd\n",
    "import numpy as np\n",
    "import os\n",
    "import calendar\n",
    "from sklearn.manifold import TSNE\n",
    "import matplotlib.pyplot as plt\n",
    "%matplotlib inline"
   ]
  },
  {
   "cell_type": "markdown",
   "metadata": {},
   "source": [
    "## Embedding using fastText\n",
    "Details here: https://fasttext.cc/"
   ]
  },
  {
   "cell_type": "code",
   "execution_count": 2,
   "metadata": {},
   "outputs": [],
   "source": [
    "import warnings\n",
    "warnings.filterwarnings('ignore')\n",
    "\n",
    "import gensim\n",
    "from gensim.models import FastText"
   ]
  },
  {
   "cell_type": "code",
   "execution_count": 3,
   "metadata": {},
   "outputs": [],
   "source": [
    "df = pd.read_csv(\"CleanHospitalDatasetMultiAttributes.csv\",dtype=object, encoding='utf8')"
   ]
  },
  {
   "cell_type": "code",
   "execution_count": 5,
   "metadata": {},
   "outputs": [],
   "source": [
    "df['ProviderNumber'] = df['ProviderNumber'].apply(lambda x: str(int(float(x))))\n",
    "df['ZipCode'] = df['ZipCode'].apply(lambda x: str(int(float(x))))\n",
    "df['PhoneNumber'] = df['PhoneNumber'].apply(lambda x: str(int(float(x))))"
   ]
  },
  {
   "cell_type": "code",
   "execution_count": 6,
   "metadata": {},
   "outputs": [],
   "source": [
    "df.drop(columns=['label'], axis=1, inplace=True)"
   ]
  },
  {
   "cell_type": "code",
   "execution_count": 7,
   "metadata": {},
   "outputs": [
    {
     "data": {
      "text/html": [
       "<div>\n",
       "<style scoped>\n",
       "    .dataframe tbody tr th:only-of-type {\n",
       "        vertical-align: middle;\n",
       "    }\n",
       "\n",
       "    .dataframe tbody tr th {\n",
       "        vertical-align: top;\n",
       "    }\n",
       "\n",
       "    .dataframe thead th {\n",
       "        text-align: right;\n",
       "    }\n",
       "</style>\n",
       "<table border=\"1\" class=\"dataframe\">\n",
       "  <thead>\n",
       "    <tr style=\"text-align: right;\">\n",
       "      <th></th>\n",
       "      <th>ProviderNumber</th>\n",
       "      <th>HospitalName</th>\n",
       "      <th>Address1</th>\n",
       "      <th>City</th>\n",
       "      <th>ZipCode</th>\n",
       "      <th>CountyName</th>\n",
       "      <th>PhoneNumber</th>\n",
       "      <th>HospitalOwner</th>\n",
       "      <th>Condition</th>\n",
       "      <th>Sample</th>\n",
       "    </tr>\n",
       "  </thead>\n",
       "  <tbody>\n",
       "    <tr>\n",
       "      <th>0</th>\n",
       "      <td>10022</td>\n",
       "      <td>CHEROKEE MEDICAL CENTER</td>\n",
       "      <td>400 NORTHWOOD DR</td>\n",
       "      <td>CENTRE</td>\n",
       "      <td>35960</td>\n",
       "      <td>CHEROKEE</td>\n",
       "      <td>2569275531</td>\n",
       "      <td>Voluntary non-profit - Private</td>\n",
       "      <td>Surgical Infection Prevention</td>\n",
       "      <td>2 patients</td>\n",
       "    </tr>\n",
       "    <tr>\n",
       "      <th>1</th>\n",
       "      <td>10035</td>\n",
       "      <td>CULLMAN REGIONAL MEDICAL CENTER</td>\n",
       "      <td>1912 ALABAMA HIGHWAY 157</td>\n",
       "      <td>CULLMAN</td>\n",
       "      <td>35058</td>\n",
       "      <td>CULLMAN</td>\n",
       "      <td>2567372000</td>\n",
       "      <td>Government - Hospital District or Authority</td>\n",
       "      <td>Pneumonia</td>\n",
       "      <td>138 patients</td>\n",
       "    </tr>\n",
       "    <tr>\n",
       "      <th>2</th>\n",
       "      <td>10027</td>\n",
       "      <td>ELBA GENERAL HOSPITAL</td>\n",
       "      <td>987 DRAYTON STREET</td>\n",
       "      <td>ELBA</td>\n",
       "      <td>36323</td>\n",
       "      <td>COFFEE</td>\n",
       "      <td>3348972257</td>\n",
       "      <td>Voluntary non-profit - Other</td>\n",
       "      <td>Surgical Infection Prevention</td>\n",
       "      <td>0 patients</td>\n",
       "    </tr>\n",
       "  </tbody>\n",
       "</table>\n",
       "</div>"
      ],
      "text/plain": [
       "  ProviderNumber                     HospitalName                  Address1  \\\n",
       "0          10022          CHEROKEE MEDICAL CENTER          400 NORTHWOOD DR   \n",
       "1          10035  CULLMAN REGIONAL MEDICAL CENTER  1912 ALABAMA HIGHWAY 157   \n",
       "2          10027            ELBA GENERAL HOSPITAL        987 DRAYTON STREET   \n",
       "\n",
       "      City ZipCode CountyName PhoneNumber  \\\n",
       "0   CENTRE   35960   CHEROKEE  2569275531   \n",
       "1  CULLMAN   35058    CULLMAN  2567372000   \n",
       "2     ELBA   36323     COFFEE  3348972257   \n",
       "\n",
       "                                 HospitalOwner                      Condition  \\\n",
       "0               Voluntary non-profit - Private  Surgical Infection Prevention   \n",
       "1  Government - Hospital District or Authority                      Pneumonia   \n",
       "2                 Voluntary non-profit - Other  Surgical Infection Prevention   \n",
       "\n",
       "         Sample  \n",
       "0    2 patients  \n",
       "1  138 patients  \n",
       "2    0 patients  "
      ]
     },
     "execution_count": 7,
     "metadata": {},
     "output_type": "execute_result"
    }
   ],
   "source": [
    "df.head(3)"
   ]
  },
  {
   "cell_type": "code",
   "execution_count": 8,
   "metadata": {},
   "outputs": [],
   "source": [
    "#training the model with truth data.\n",
    "dfList = df.values.tolist()"
   ]
  },
  {
   "cell_type": "code",
   "execution_count": 9,
   "metadata": {},
   "outputs": [],
   "source": [
    "model_hosp = FastText(dfList, min_count=1, workers=8, iter=1000)"
   ]
  },
  {
   "cell_type": "code",
   "execution_count": 10,
   "metadata": {},
   "outputs": [
    {
     "name": "stdout",
     "output_type": "stream",
     "text": [
      "[-4.1966114  -2.4319518   1.7092376  -5.9839697  -0.03772566  2.0534892\n",
      " -1.6816187   1.3848615   1.2530749   2.0208623   2.238276    3.102948\n",
      "  1.8238782   1.8299055  -2.6634853   6.0332036   5.378915   -0.7455809\n",
      "  5.119378   -0.46079344  1.4125528   1.6711291  -1.187764    0.67921877\n",
      "  0.42303795 -5.837818   -2.4238932  -1.1057478  -1.6722821  -6.23472\n",
      "  4.5629597  -4.243671   -1.218912    0.6929756   5.187943   -7.0583463\n",
      "  0.8768907  -1.9054849   2.7461023  -1.9957228  -4.3634853   0.85925347\n",
      "  1.17636    -0.03318165  3.9228919  -2.0000017   1.0201026  -2.078921\n",
      "  6.230023    2.4025798   0.85133123  5.4507775   2.5275004  -3.691124\n",
      " -2.542148   -0.252582    1.1699411   0.3476546   5.474701   -0.52966166\n",
      "  2.207838   -1.4560181   3.3908172   2.8767028  -4.943988   -1.6260308\n",
      " -1.5887598  -0.14509065 -1.2074546   1.0619341   0.4857572   2.6366286\n",
      "  6.363696   -3.143759    0.05552435 -0.9920906  -0.848269    1.0204787\n",
      " -2.5127792  -1.4982994   5.141812    3.8355632   3.4399436   2.7875662\n",
      "  6.82304     0.11647075  5.6272297   4.759159    2.257899    0.83055073\n",
      "  3.3494136  -1.210126    3.9401717   5.347569    5.630795   -5.1762815\n",
      "  2.0837748  -1.6019957  10.494004    5.775507  ]\n"
     ]
    }
   ],
   "source": [
    "print(model_hosp['CHEROKEE'])"
   ]
  },
  {
   "cell_type": "code",
   "execution_count": 18,
   "metadata": {},
   "outputs": [
    {
     "data": {
      "text/plain": [
       "[('Voluntary non-profit - Other', 0.8912283182144165),\n",
       " ('Voluntary non-profit - Church', 0.8846569061279297),\n",
       " ('Voluntary non-profit - Private', 0.821072518825531),\n",
       " ('10023', 0.3956078588962555),\n",
       " ('10024', 0.3904414772987366),\n",
       " ('10027', 0.38923096656799316),\n",
       " ('10025', 0.3583451509475708),\n",
       " ('10045', 0.3575762212276459),\n",
       " ('10022', 0.3545791506767273),\n",
       " ('10043', 0.3523624539375305)]"
      ]
     },
     "execution_count": 18,
     "metadata": {},
     "output_type": "execute_result"
    }
   ],
   "source": [
    "model_hosp.most_similar(\"Voluntary\")"
   ]
  },
  {
   "cell_type": "code",
   "execution_count": 19,
   "metadata": {},
   "outputs": [],
   "source": [
    "model_hosp.save(\"HospitalMultiAttributeFastText.w2v\")"
   ]
  },
  {
   "cell_type": "code",
   "execution_count": null,
   "metadata": {},
   "outputs": [],
   "source": []
  }
 ],
 "metadata": {
  "kernelspec": {
   "display_name": "Python 3",
   "language": "python",
   "name": "python3"
  },
  "language_info": {
   "codemirror_mode": {
    "name": "ipython",
    "version": 3
   },
   "file_extension": ".py",
   "mimetype": "text/x-python",
   "name": "python",
   "nbconvert_exporter": "python",
   "pygments_lexer": "ipython3",
   "version": "3.5.0"
  },
  "toc": {
   "nav_menu": {},
   "number_sections": true,
   "sideBar": true,
   "skip_h1_title": false,
   "title_cell": "Table of Contents",
   "title_sidebar": "Contents",
   "toc_cell": false,
   "toc_position": {},
   "toc_section_display": true,
   "toc_window_display": false
  }
 },
 "nbformat": 4,
 "nbformat_minor": 2
}
