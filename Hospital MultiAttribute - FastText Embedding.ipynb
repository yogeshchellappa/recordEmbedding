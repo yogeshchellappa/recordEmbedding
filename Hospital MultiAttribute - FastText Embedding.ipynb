{
 "cells": [
  {
   "cell_type": "code",
   "execution_count": 1,
   "metadata": {},
   "outputs": [],
   "source": [
    "import warnings\n",
    "warnings.filterwarnings('ignore')\n",
    "import pandas as pd\n",
    "import numpy as np\n",
    "import gensim\n",
    "from gensim.models import FastText"
   ]
  },
  {
   "cell_type": "markdown",
   "metadata": {},
   "source": [
    "## Embedding using fastText\n",
    "Details here: https://fasttext.cc/"
   ]
  },
  {
   "cell_type": "code",
   "execution_count": 2,
   "metadata": {},
   "outputs": [],
   "source": [
    "df = pd.read_csv(\"clean_hosp_dataset.csv\",dtype=object, encoding='utf8')"
   ]
  },
  {
   "cell_type": "code",
   "execution_count": 3,
   "metadata": {},
   "outputs": [
    {
     "data": {
      "text/html": [
       "<div>\n",
       "<style scoped>\n",
       "    .dataframe tbody tr th:only-of-type {\n",
       "        vertical-align: middle;\n",
       "    }\n",
       "\n",
       "    .dataframe tbody tr th {\n",
       "        vertical-align: top;\n",
       "    }\n",
       "\n",
       "    .dataframe thead th {\n",
       "        text-align: right;\n",
       "    }\n",
       "</style>\n",
       "<table border=\"1\" class=\"dataframe\">\n",
       "  <thead>\n",
       "    <tr style=\"text-align: right;\">\n",
       "      <th></th>\n",
       "      <th>ProviderNumber</th>\n",
       "      <th>HospitalName</th>\n",
       "      <th>Address1</th>\n",
       "      <th>City</th>\n",
       "      <th>ZipCode</th>\n",
       "      <th>CountyName</th>\n",
       "      <th>PhoneNumber</th>\n",
       "      <th>HospitalOwner</th>\n",
       "      <th>Condition</th>\n",
       "      <th>Sample</th>\n",
       "    </tr>\n",
       "  </thead>\n",
       "  <tbody>\n",
       "    <tr>\n",
       "      <th>0</th>\n",
       "      <td>10018</td>\n",
       "      <td>CALLAHAN EYE FOUNDATION HOSPITAL</td>\n",
       "      <td>1720 UNIVERSITY BLVD</td>\n",
       "      <td>BIRMINGHAM</td>\n",
       "      <td>35233</td>\n",
       "      <td>JEFFERSON</td>\n",
       "      <td>2053258100</td>\n",
       "      <td>Voluntary non-profit - Private</td>\n",
       "      <td>Surgical Infection Prevention</td>\n",
       "      <td>0 patients</td>\n",
       "    </tr>\n",
       "    <tr>\n",
       "      <th>1</th>\n",
       "      <td>10019</td>\n",
       "      <td>HELEN KELLER MEMORIAL HOSPITAL</td>\n",
       "      <td>1300 SOUTH MONTGOMERY AVENUE</td>\n",
       "      <td>SHEFFIELD</td>\n",
       "      <td>35660</td>\n",
       "      <td>JEFFERSON</td>\n",
       "      <td>2563864556</td>\n",
       "      <td>Government - Hospital District or Authority</td>\n",
       "      <td>Heart Attack</td>\n",
       "      <td>33 patients</td>\n",
       "    </tr>\n",
       "    <tr>\n",
       "      <th>2</th>\n",
       "      <td>10019</td>\n",
       "      <td>HELEN KELLER MEMORIAL HOSPITAL</td>\n",
       "      <td>1300 SOUTH MONTGOMERY AVENUE</td>\n",
       "      <td>SHEFFIELD</td>\n",
       "      <td>35660</td>\n",
       "      <td>JEFFERSON</td>\n",
       "      <td>2563864556</td>\n",
       "      <td>Government - Hospital District or Authority</td>\n",
       "      <td>Heart Attack</td>\n",
       "      <td>13 patients</td>\n",
       "    </tr>\n",
       "  </tbody>\n",
       "</table>\n",
       "</div>"
      ],
      "text/plain": [
       "  ProviderNumber                      HospitalName  \\\n",
       "0          10018  CALLAHAN EYE FOUNDATION HOSPITAL   \n",
       "1          10019    HELEN KELLER MEMORIAL HOSPITAL   \n",
       "2          10019    HELEN KELLER MEMORIAL HOSPITAL   \n",
       "\n",
       "                       Address1        City ZipCode CountyName PhoneNumber  \\\n",
       "0          1720 UNIVERSITY BLVD  BIRMINGHAM   35233  JEFFERSON  2053258100   \n",
       "1  1300 SOUTH MONTGOMERY AVENUE   SHEFFIELD   35660  JEFFERSON  2563864556   \n",
       "2  1300 SOUTH MONTGOMERY AVENUE   SHEFFIELD   35660  JEFFERSON  2563864556   \n",
       "\n",
       "                                 HospitalOwner                      Condition  \\\n",
       "0               Voluntary non-profit - Private  Surgical Infection Prevention   \n",
       "1  Government - Hospital District or Authority                   Heart Attack   \n",
       "2  Government - Hospital District or Authority                   Heart Attack   \n",
       "\n",
       "        Sample  \n",
       "0   0 patients  \n",
       "1  33 patients  \n",
       "2  13 patients  "
      ]
     },
     "execution_count": 3,
     "metadata": {},
     "output_type": "execute_result"
    }
   ],
   "source": [
    "df.head(3)"
   ]
  },
  {
   "cell_type": "code",
   "execution_count": 4,
   "metadata": {},
   "outputs": [],
   "source": [
    "#training the model with truth data.\n",
    "dfList = df.values.tolist()"
   ]
  },
  {
   "cell_type": "code",
   "execution_count": 5,
   "metadata": {},
   "outputs": [],
   "source": [
    "model_hosp = FastText(dfList, min_count=1, workers=8, iter=1000)"
   ]
  },
  {
   "cell_type": "code",
   "execution_count": 6,
   "metadata": {},
   "outputs": [
    {
     "name": "stdout",
     "output_type": "stream",
     "text": [
      "[-3.7788615e+00  1.2427129e+00  3.3795750e+00 -4.2309637e+00\n",
      " -4.5619159e+00  1.1417832e+00  6.6233177e+00 -2.4585654e-01\n",
      "  3.2002995e+00 -8.2969618e-01  3.9741206e+00 -3.1800398e-01\n",
      "  3.0680909e+00  1.7614728e+00 -1.6316071e+00 -6.5747862e+00\n",
      " -2.0215552e+00  4.5065637e+00 -2.6894808e+00 -2.5243952e+00\n",
      " -7.4152571e-01 -4.7639289e-01  2.5183848e-01  7.6507652e-01\n",
      " -6.1005816e+00 -4.3913078e+00 -4.1735272e+00  2.3613188e+00\n",
      " -3.7299588e+00 -3.3637025e+00 -1.0415289e+00  2.5203340e+00\n",
      " -2.5984471e+00  2.9173884e+00  1.0419363e+00 -3.1329594e+00\n",
      " -7.3026684e-03 -2.4416134e+00  2.3568249e+00  1.4349854e+00\n",
      " -2.9711173e+00  3.3809331e-01  1.8908218e-01  4.8265007e-01\n",
      "  4.5497799e+00 -4.0309334e+00  7.9780191e-02  2.7332242e+00\n",
      " -4.5346394e+00  8.9938873e-01 -7.8968892e+00 -5.9851158e-01\n",
      "  2.4920206e+00  3.3978422e+00  5.3353846e-01  2.6858876e+00\n",
      "  4.4570646e+00  4.4075351e+00  4.3530078e+00  1.9270233e+00\n",
      " -3.5694265e+00 -5.1491327e+00 -2.8154120e-01  1.3440174e-01\n",
      "  1.4327854e-01  2.2014301e+00 -5.8767772e-01 -1.2430236e+00\n",
      "  1.7425917e+00 -2.1710899e+00  6.4014661e-01 -5.1765971e+00\n",
      "  4.8615971e+00  6.9431543e-01  1.5951228e+00 -2.3981063e+00\n",
      " -4.8575857e-01 -9.1957080e-01  4.1052852e+00 -1.5680785e+00\n",
      " -5.6504393e-01  5.7341590e+00  6.0816283e+00  2.7130255e-01\n",
      "  5.5997199e-01 -2.4200161e-01  5.2410215e-01  9.6032983e-01\n",
      " -2.4239924e+00  5.3859353e+00  6.2102909e+00  1.2316219e-01\n",
      " -1.5863879e+00  8.1630833e-02 -5.3285968e-01 -2.5159988e+00\n",
      " -2.0289202e+00 -3.2167146e+00 -2.1560831e+00  1.8654586e+00]\n"
     ]
    }
   ],
   "source": [
    "print(model_hosp['CHEROKEE'])"
   ]
  },
  {
   "cell_type": "code",
   "execution_count": 7,
   "metadata": {},
   "outputs": [
    {
     "data": {
      "text/plain": [
       "[('Voluntary non-profit - Other', 0.9102213382720947),\n",
       " ('Voluntary non-profit - Church', 0.8912992477416992),\n",
       " ('Voluntary non-profit - Private', 0.8476778864860535),\n",
       " ('10024', 0.46181946992874146),\n",
       " ('10023', 0.44686153531074524),\n",
       " ('10025', 0.44017988443374634),\n",
       " ('10027', 0.43241751194000244),\n",
       " ('10022', 0.42090147733688354),\n",
       " ('10045', 0.4108460545539856),\n",
       " ('10016', 0.40588608384132385)]"
      ]
     },
     "execution_count": 7,
     "metadata": {},
     "output_type": "execute_result"
    }
   ],
   "source": [
    "model_hosp.most_similar(\"Voluntary\")"
   ]
  },
  {
   "cell_type": "code",
   "execution_count": 8,
   "metadata": {},
   "outputs": [],
   "source": [
    "model_hosp.save(\"HospitalMultiAttributeFastText.w2v\")"
   ]
  },
  {
   "cell_type": "code",
   "execution_count": null,
   "metadata": {},
   "outputs": [],
   "source": []
  }
 ],
 "metadata": {
  "kernelspec": {
   "display_name": "Python 3",
   "language": "python",
   "name": "python3"
  },
  "language_info": {
   "codemirror_mode": {
    "name": "ipython",
    "version": 3
   },
   "file_extension": ".py",
   "mimetype": "text/x-python",
   "name": "python",
   "nbconvert_exporter": "python",
   "pygments_lexer": "ipython3",
   "version": "3.5.0"
  },
  "toc": {
   "nav_menu": {},
   "number_sections": true,
   "sideBar": true,
   "skip_h1_title": false,
   "title_cell": "Table of Contents",
   "title_sidebar": "Contents",
   "toc_cell": false,
   "toc_position": {},
   "toc_section_display": true,
   "toc_window_display": false
  }
 },
 "nbformat": 4,
 "nbformat_minor": 2
}
