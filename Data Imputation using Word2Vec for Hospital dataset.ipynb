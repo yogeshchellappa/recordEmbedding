{
 "cells": [
  {
   "cell_type": "code",
   "execution_count": 123,
   "metadata": {},
   "outputs": [],
   "source": [
    "import warnings\n",
    "warnings.filterwarnings('ignore')\n",
    "\n",
    "from gensim.models.wrappers import FastText\n",
    "from gensim.models import Word2Vec\n",
    "from gensim.models import KeyedVectors\n",
    "from keras.models import load_model\n",
    "from keras.preprocessing.text import Tokenizer\n",
    "from keras.preprocessing.sequence import pad_sequences\n",
    "import pickle\n",
    "\n",
    "import pandas as pd\n",
    "import numpy as np\n",
    "from enum import Enum\n",
    "import itertools"
   ]
  },
  {
   "cell_type": "markdown",
   "metadata": {},
   "source": [
    "## Load the clean and the dirty dataset"
   ]
  },
  {
   "cell_type": "code",
   "execution_count": 91,
   "metadata": {},
   "outputs": [],
   "source": [
    "dfClean = pd.read_csv('A.csv', encoding='utf8', dtype=object)"
   ]
  },
  {
   "cell_type": "code",
   "execution_count": 92,
   "metadata": {},
   "outputs": [
    {
     "data": {
      "text/plain": [
       "315"
      ]
     },
     "execution_count": 92,
     "metadata": {},
     "output_type": "execute_result"
    }
   ],
   "source": [
    "len(dfClean)"
   ]
  },
  {
   "cell_type": "code",
   "execution_count": 93,
   "metadata": {},
   "outputs": [
    {
     "data": {
      "text/html": [
       "<div>\n",
       "<style scoped>\n",
       "    .dataframe tbody tr th:only-of-type {\n",
       "        vertical-align: middle;\n",
       "    }\n",
       "\n",
       "    .dataframe tbody tr th {\n",
       "        vertical-align: top;\n",
       "    }\n",
       "\n",
       "    .dataframe thead th {\n",
       "        text-align: right;\n",
       "    }\n",
       "</style>\n",
       "<table border=\"1\" class=\"dataframe\">\n",
       "  <thead>\n",
       "    <tr style=\"text-align: right;\">\n",
       "      <th></th>\n",
       "      <th>ProviderNumber</th>\n",
       "      <th>HospitalName</th>\n",
       "      <th>Address1</th>\n",
       "      <th>City</th>\n",
       "      <th>ZipCode</th>\n",
       "      <th>CountyName</th>\n",
       "      <th>PhoneNumber</th>\n",
       "    </tr>\n",
       "  </thead>\n",
       "  <tbody>\n",
       "    <tr>\n",
       "      <th>0</th>\n",
       "      <td>10018</td>\n",
       "      <td>CALLAHAN EYE FOUNDATION HOSPITAL</td>\n",
       "      <td>1720 UNIVERSITY BLVD</td>\n",
       "      <td>BIRMINGHAM</td>\n",
       "      <td>35233</td>\n",
       "      <td>JEFFERSON</td>\n",
       "      <td>2053258100</td>\n",
       "    </tr>\n",
       "    <tr>\n",
       "      <th>1</th>\n",
       "      <td>10018</td>\n",
       "      <td>CALLAHAN EYE FOUNDATION HOSPITAL</td>\n",
       "      <td>1720 UNIVERSITY BLVD</td>\n",
       "      <td>BIRMINGHAM</td>\n",
       "      <td>35233</td>\n",
       "      <td>JEFFERSON</td>\n",
       "      <td>2053258100</td>\n",
       "    </tr>\n",
       "    <tr>\n",
       "      <th>2</th>\n",
       "      <td>10018</td>\n",
       "      <td>CALLAHAN EYE FOUNDATION HOSPITAL</td>\n",
       "      <td>1720 UNIVERSITY BLVD</td>\n",
       "      <td>BIRMINGHAM</td>\n",
       "      <td>35233</td>\n",
       "      <td>JEFFERSON</td>\n",
       "      <td>2053258100</td>\n",
       "    </tr>\n",
       "  </tbody>\n",
       "</table>\n",
       "</div>"
      ],
      "text/plain": [
       "  ProviderNumber                      HospitalName              Address1  \\\n",
       "0          10018  CALLAHAN EYE FOUNDATION HOSPITAL  1720 UNIVERSITY BLVD   \n",
       "1          10018  CALLAHAN EYE FOUNDATION HOSPITAL  1720 UNIVERSITY BLVD   \n",
       "2          10018  CALLAHAN EYE FOUNDATION HOSPITAL  1720 UNIVERSITY BLVD   \n",
       "\n",
       "         City ZipCode CountyName PhoneNumber  \n",
       "0  BIRMINGHAM   35233  JEFFERSON  2053258100  \n",
       "1  BIRMINGHAM   35233  JEFFERSON  2053258100  \n",
       "2  BIRMINGHAM   35233  JEFFERSON  2053258100  "
      ]
     },
     "execution_count": 93,
     "metadata": {},
     "output_type": "execute_result"
    }
   ],
   "source": [
    "dfClean.head(3)"
   ]
  },
  {
   "cell_type": "code",
   "execution_count": 94,
   "metadata": {},
   "outputs": [],
   "source": [
    "dfDirty = pd.read_csv('B.csv', encoding='utf8', dtype=object)"
   ]
  },
  {
   "cell_type": "code",
   "execution_count": 95,
   "metadata": {},
   "outputs": [
    {
     "data": {
      "text/plain": [
       "315"
      ]
     },
     "execution_count": 95,
     "metadata": {},
     "output_type": "execute_result"
    }
   ],
   "source": [
    "len(dfDirty)"
   ]
  },
  {
   "cell_type": "code",
   "execution_count": 98,
   "metadata": {},
   "outputs": [
    {
     "data": {
      "text/html": [
       "<div>\n",
       "<style scoped>\n",
       "    .dataframe tbody tr th:only-of-type {\n",
       "        vertical-align: middle;\n",
       "    }\n",
       "\n",
       "    .dataframe tbody tr th {\n",
       "        vertical-align: top;\n",
       "    }\n",
       "\n",
       "    .dataframe thead th {\n",
       "        text-align: right;\n",
       "    }\n",
       "</style>\n",
       "<table border=\"1\" class=\"dataframe\">\n",
       "  <thead>\n",
       "    <tr style=\"text-align: right;\">\n",
       "      <th></th>\n",
       "      <th>ProviderNumber</th>\n",
       "      <th>HospitalName</th>\n",
       "      <th>Address1</th>\n",
       "      <th>City</th>\n",
       "      <th>ZipCode</th>\n",
       "      <th>CountyName</th>\n",
       "      <th>PhoneNumber</th>\n",
       "    </tr>\n",
       "  </thead>\n",
       "  <tbody>\n",
       "    <tr>\n",
       "      <th>0</th>\n",
       "      <td>NaN</td>\n",
       "      <td>CALLAHAN EYE FOUNDATION HOSPITAL</td>\n",
       "      <td>1720 UNIVERSITY BLVD</td>\n",
       "      <td>BIRMINGHAM</td>\n",
       "      <td>35233</td>\n",
       "      <td>JEFFERSON</td>\n",
       "      <td>2053258100</td>\n",
       "    </tr>\n",
       "    <tr>\n",
       "      <th>1</th>\n",
       "      <td>10018</td>\n",
       "      <td>NaN</td>\n",
       "      <td>1720 UNIVERSITY BLVD</td>\n",
       "      <td>BIRMINGHAM</td>\n",
       "      <td>35233</td>\n",
       "      <td>JEFFERSON</td>\n",
       "      <td>2053258100</td>\n",
       "    </tr>\n",
       "    <tr>\n",
       "      <th>2</th>\n",
       "      <td>10018</td>\n",
       "      <td>CALLAHAN EYE FOUNDATION HOSPITAL</td>\n",
       "      <td>NaN</td>\n",
       "      <td>BIRMINGHAM</td>\n",
       "      <td>35233</td>\n",
       "      <td>JEFFERSON</td>\n",
       "      <td>2053258100</td>\n",
       "    </tr>\n",
       "    <tr>\n",
       "      <th>3</th>\n",
       "      <td>10018</td>\n",
       "      <td>CALLAHAN EYE FOUNDATION HOSPITAL</td>\n",
       "      <td>1720 UNIVERSITY BLVD</td>\n",
       "      <td>NaN</td>\n",
       "      <td>35233</td>\n",
       "      <td>JEFFERSON</td>\n",
       "      <td>2053258100</td>\n",
       "    </tr>\n",
       "    <tr>\n",
       "      <th>4</th>\n",
       "      <td>10018</td>\n",
       "      <td>CALLAHAN EYE FOUNDATION HOSPITAL</td>\n",
       "      <td>1720 UNIVERSITY BLVD</td>\n",
       "      <td>BIRMINGHAM</td>\n",
       "      <td>NaN</td>\n",
       "      <td>JEFFERSON</td>\n",
       "      <td>2053258100</td>\n",
       "    </tr>\n",
       "    <tr>\n",
       "      <th>5</th>\n",
       "      <td>10018</td>\n",
       "      <td>CALLAHAN EYE FOUNDATION HOSPITAL</td>\n",
       "      <td>1720 UNIVERSITY BLVD</td>\n",
       "      <td>BIRMINGHAM</td>\n",
       "      <td>35233</td>\n",
       "      <td>NaN</td>\n",
       "      <td>2053258100</td>\n",
       "    </tr>\n",
       "    <tr>\n",
       "      <th>6</th>\n",
       "      <td>10018</td>\n",
       "      <td>CALLAHAN EYE FOUNDATION HOSPITAL</td>\n",
       "      <td>1720 UNIVERSITY BLVD</td>\n",
       "      <td>BIRMINGHAM</td>\n",
       "      <td>35233</td>\n",
       "      <td>JEFFERSON</td>\n",
       "      <td>NaN</td>\n",
       "    </tr>\n",
       "    <tr>\n",
       "      <th>7</th>\n",
       "      <td>NaN</td>\n",
       "      <td>HELEN KELLER MEMORIAL HOSPITAL</td>\n",
       "      <td>1300 SOUTH MONTGOMERY AVENUE</td>\n",
       "      <td>SHEFFIELD</td>\n",
       "      <td>35660</td>\n",
       "      <td>JEFFERSON</td>\n",
       "      <td>2563864556</td>\n",
       "    </tr>\n",
       "  </tbody>\n",
       "</table>\n",
       "</div>"
      ],
      "text/plain": [
       "  ProviderNumber                      HospitalName  \\\n",
       "0            NaN  CALLAHAN EYE FOUNDATION HOSPITAL   \n",
       "1          10018                               NaN   \n",
       "2          10018  CALLAHAN EYE FOUNDATION HOSPITAL   \n",
       "3          10018  CALLAHAN EYE FOUNDATION HOSPITAL   \n",
       "4          10018  CALLAHAN EYE FOUNDATION HOSPITAL   \n",
       "5          10018  CALLAHAN EYE FOUNDATION HOSPITAL   \n",
       "6          10018  CALLAHAN EYE FOUNDATION HOSPITAL   \n",
       "7            NaN    HELEN KELLER MEMORIAL HOSPITAL   \n",
       "\n",
       "                       Address1        City ZipCode CountyName PhoneNumber  \n",
       "0          1720 UNIVERSITY BLVD  BIRMINGHAM   35233  JEFFERSON  2053258100  \n",
       "1          1720 UNIVERSITY BLVD  BIRMINGHAM   35233  JEFFERSON  2053258100  \n",
       "2                           NaN  BIRMINGHAM   35233  JEFFERSON  2053258100  \n",
       "3          1720 UNIVERSITY BLVD         NaN   35233  JEFFERSON  2053258100  \n",
       "4          1720 UNIVERSITY BLVD  BIRMINGHAM     NaN  JEFFERSON  2053258100  \n",
       "5          1720 UNIVERSITY BLVD  BIRMINGHAM   35233        NaN  2053258100  \n",
       "6          1720 UNIVERSITY BLVD  BIRMINGHAM   35233  JEFFERSON         NaN  \n",
       "7  1300 SOUTH MONTGOMERY AVENUE   SHEFFIELD   35660  JEFFERSON  2563864556  "
      ]
     },
     "execution_count": 98,
     "metadata": {},
     "output_type": "execute_result"
    }
   ],
   "source": [
    "dfDirty.head(8)"
   ]
  },
  {
   "cell_type": "markdown",
   "metadata": {},
   "source": [
    "Get number of empty cells"
   ]
  },
  {
   "cell_type": "code",
   "execution_count": 99,
   "metadata": {
    "scrolled": true
   },
   "outputs": [
    {
     "data": {
      "text/plain": [
       "315"
      ]
     },
     "execution_count": 99,
     "metadata": {},
     "output_type": "execute_result"
    }
   ],
   "source": [
    "sum(dfDirty.isnull().values.ravel())"
   ]
  },
  {
   "cell_type": "markdown",
   "metadata": {},
   "source": [
    "Select the rows with empty cells"
   ]
  },
  {
   "cell_type": "code",
   "execution_count": 101,
   "metadata": {},
   "outputs": [],
   "source": [
    "dfEmpty = dfDirty[dfDirty.isnull().any(axis=1)]"
   ]
  },
  {
   "cell_type": "code",
   "execution_count": 102,
   "metadata": {},
   "outputs": [
    {
     "data": {
      "text/plain": [
       "315"
      ]
     },
     "execution_count": 102,
     "metadata": {},
     "output_type": "execute_result"
    }
   ],
   "source": [
    "len(dfEmpty)"
   ]
  },
  {
   "cell_type": "code",
   "execution_count": 103,
   "metadata": {},
   "outputs": [
    {
     "data": {
      "text/html": [
       "<div>\n",
       "<style scoped>\n",
       "    .dataframe tbody tr th:only-of-type {\n",
       "        vertical-align: middle;\n",
       "    }\n",
       "\n",
       "    .dataframe tbody tr th {\n",
       "        vertical-align: top;\n",
       "    }\n",
       "\n",
       "    .dataframe thead th {\n",
       "        text-align: right;\n",
       "    }\n",
       "</style>\n",
       "<table border=\"1\" class=\"dataframe\">\n",
       "  <thead>\n",
       "    <tr style=\"text-align: right;\">\n",
       "      <th></th>\n",
       "      <th>ProviderNumber</th>\n",
       "      <th>HospitalName</th>\n",
       "      <th>Address1</th>\n",
       "      <th>City</th>\n",
       "      <th>ZipCode</th>\n",
       "      <th>CountyName</th>\n",
       "      <th>PhoneNumber</th>\n",
       "    </tr>\n",
       "  </thead>\n",
       "  <tbody>\n",
       "    <tr>\n",
       "      <th>0</th>\n",
       "      <td>NaN</td>\n",
       "      <td>CALLAHAN EYE FOUNDATION HOSPITAL</td>\n",
       "      <td>1720 UNIVERSITY BLVD</td>\n",
       "      <td>BIRMINGHAM</td>\n",
       "      <td>35233</td>\n",
       "      <td>JEFFERSON</td>\n",
       "      <td>2053258100</td>\n",
       "    </tr>\n",
       "    <tr>\n",
       "      <th>1</th>\n",
       "      <td>10018</td>\n",
       "      <td>NaN</td>\n",
       "      <td>1720 UNIVERSITY BLVD</td>\n",
       "      <td>BIRMINGHAM</td>\n",
       "      <td>35233</td>\n",
       "      <td>JEFFERSON</td>\n",
       "      <td>2053258100</td>\n",
       "    </tr>\n",
       "  </tbody>\n",
       "</table>\n",
       "</div>"
      ],
      "text/plain": [
       "  ProviderNumber                      HospitalName              Address1  \\\n",
       "0            NaN  CALLAHAN EYE FOUNDATION HOSPITAL  1720 UNIVERSITY BLVD   \n",
       "1          10018                               NaN  1720 UNIVERSITY BLVD   \n",
       "\n",
       "         City ZipCode CountyName PhoneNumber  \n",
       "0  BIRMINGHAM   35233  JEFFERSON  2053258100  \n",
       "1  BIRMINGHAM   35233  JEFFERSON  2053258100  "
      ]
     },
     "execution_count": 103,
     "metadata": {},
     "output_type": "execute_result"
    }
   ],
   "source": [
    "dfEmpty.head(2)"
   ]
  },
  {
   "cell_type": "markdown",
   "metadata": {},
   "source": [
    "## Word2Vec Model"
   ]
  },
  {
   "cell_type": "code",
   "execution_count": 104,
   "metadata": {},
   "outputs": [],
   "source": [
    "path = 'HospitalWord2Vec.w2v'\n",
    "word2vecModel = KeyedVectors.load(path)"
   ]
  },
  {
   "cell_type": "markdown",
   "metadata": {},
   "source": [
    "Define attributes"
   ]
  },
  {
   "cell_type": "code",
   "execution_count": 105,
   "metadata": {},
   "outputs": [],
   "source": [
    "class Attributes(Enum):\n",
    "    ProviderNumber = 1\n",
    "    HospitalName = 2\n",
    "    Address1 = 3\n",
    "    City = 4\n",
    "    State = 5\n",
    "    ZipCode = 6\n",
    "    CountyName = 7\n",
    "    PhoneNumber = 8"
   ]
  },
  {
   "cell_type": "code",
   "execution_count": 106,
   "metadata": {},
   "outputs": [],
   "source": [
    "attributeMapping = {}\n",
    "attributeMapping[\"ProviderNumber\"] = Attributes.ProviderNumber\n",
    "attributeMapping[\"HospitalName\"] = Attributes.HospitalName\n",
    "attributeMapping[\"Address1\"] = Attributes.Address1\n",
    "attributeMapping[\"City\"] = Attributes.City\n",
    "attributeMapping[\"State\"] = Attributes.State\n",
    "attributeMapping[\"ZipCode\"] = Attributes.ZipCode\n",
    "attributeMapping[\"CountyName\"] = Attributes.CountyName\n",
    "attributeMapping[\"PhoneNumber\"] = Attributes.PhoneNumber"
   ]
  },
  {
   "cell_type": "code",
   "execution_count": 107,
   "metadata": {},
   "outputs": [
    {
     "data": {
      "text/plain": [
       "{'Address1': <Attributes.Address1: 3>,\n",
       " 'City': <Attributes.City: 4>,\n",
       " 'CountyName': <Attributes.CountyName: 7>,\n",
       " 'HospitalName': <Attributes.HospitalName: 2>,\n",
       " 'PhoneNumber': <Attributes.PhoneNumber: 8>,\n",
       " 'ProviderNumber': <Attributes.ProviderNumber: 1>,\n",
       " 'State': <Attributes.State: 5>,\n",
       " 'ZipCode': <Attributes.ZipCode: 6>}"
      ]
     },
     "execution_count": 107,
     "metadata": {},
     "output_type": "execute_result"
    }
   ],
   "source": [
    "attributeMapping"
   ]
  },
  {
   "cell_type": "markdown",
   "metadata": {},
   "source": [
    "Load Model"
   ]
  },
  {
   "cell_type": "code",
   "execution_count": 108,
   "metadata": {},
   "outputs": [],
   "source": [
    "model = load_model('HospitalClassifier.h5')"
   ]
  },
  {
   "cell_type": "markdown",
   "metadata": {},
   "source": [
    "Load tokenizer"
   ]
  },
  {
   "cell_type": "code",
   "execution_count": 109,
   "metadata": {},
   "outputs": [],
   "source": [
    "with open('HospitalAttributeClassifierTokenizer.pickle', 'rb') as handle:\n",
    "    tokenizer = pickle.load(handle)"
   ]
  },
  {
   "cell_type": "code",
   "execution_count": 110,
   "metadata": {},
   "outputs": [],
   "source": [
    "mapping = {0: 'Address1',\n",
    "           1: 'City',\n",
    "           2: 'CountyName',\n",
    "           3: 'HospitalName',\n",
    "           4: 'PhoneNumber',\n",
    "           5: 'ProviderNumber',\n",
    "           6: 'ZipCode'\n",
    "          }"
   ]
  },
  {
   "cell_type": "markdown",
   "metadata": {},
   "source": [
    "## Prediction pipeline"
   ]
  },
  {
   "cell_type": "code",
   "execution_count": 111,
   "metadata": {},
   "outputs": [],
   "source": [
    "def impute(word2vecModel, model, tokenizer, rowWithMissingValue, missingType, topN=10):\n",
    "    \"\"\"\n",
    "    Returns the closest match for the missing attribute value\n",
    "    \"\"\"\n",
    "    output = dict()\n",
    "    for value in rowWithMissingValue:\n",
    "        try:\n",
    "            results = word2vecModel.wv.most_similar(value, topn=topN)\n",
    "            for match, confidence in results:\n",
    "                # Predicted type to be equal to the missing value\n",
    "                if predictAttribute(model, tokenizer, match) == missingType:\n",
    "                    if match in output and confidence <= output[match]:\n",
    "                        continue\n",
    "                    else:\n",
    "                        output[match] = confidence            \n",
    "        except KeyError:\n",
    "            continue\n",
    "    return output.items()"
   ]
  },
  {
   "cell_type": "code",
   "execution_count": 112,
   "metadata": {},
   "outputs": [],
   "source": [
    "def predictAttribute(model, tokenizer, value):\n",
    "    \"\"\"\n",
    "    Classifies value parameter as its corresponding attribute\n",
    "    \"\"\"\n",
    "    value = [value]\n",
    "    sequences = tokenizer.texts_to_sequences(value)\n",
    "    testData = pad_sequences(sequences, maxlen=40)\n",
    "    predictions = model.predict(testData)\n",
    "    return attributeMapping[mapping[np.argmax(predictions[0])]]"
   ]
  },
  {
   "cell_type": "markdown",
   "metadata": {},
   "source": [
    "Convert each row to a list"
   ]
  },
  {
   "cell_type": "code",
   "execution_count": 113,
   "metadata": {},
   "outputs": [],
   "source": [
    "nullRows = dfEmpty.values.tolist()"
   ]
  },
  {
   "cell_type": "markdown",
   "metadata": {},
   "source": [
    "Create a mapping of the form **row: missingAttribute**\n",
    "\n",
    "e.g: ('10018','CALLAHAN EYE FOUNDATION HOSPITAL','1720 UNIVERSITY BLVD','BIRMINGHAM','35233','2053258100'): Attributes.CountyName"
   ]
  },
  {
   "cell_type": "code",
   "execution_count": 114,
   "metadata": {},
   "outputs": [],
   "source": [
    "rows = []\n",
    "columnNames = ['ProviderNumber', 'HospitalName', 'Address1', 'City', 'ZipCode', 'CountyName', 'PhoneNumber']\n",
    "for row in nullRows:\n",
    "    missingAttribute = None\n",
    "    removedNan = []\n",
    "    for i in range(len(row)):\n",
    "        if str(row[i]) != 'nan':\n",
    "            removedNan.append(row[i])\n",
    "        else:\n",
    "            missingAttribute = attributeMapping[columnNames[i]]\n",
    "    rows.append({tuple(removedNan):missingAttribute})"
   ]
  },
  {
   "cell_type": "markdown",
   "metadata": {},
   "source": [
    "## Perform imputation"
   ]
  },
  {
   "cell_type": "code",
   "execution_count": 115,
   "metadata": {},
   "outputs": [],
   "source": [
    "def getImputedValue(missingRow, attributeType):\n",
    "    results = impute(word2vecModel, model, tokenizer, missingRow, attributeType, 10)\n",
    "    return sorted(results, key=lambda x: x[1], reverse=True)[0] if results else None"
   ]
  },
  {
   "cell_type": "markdown",
   "metadata": {},
   "source": [
    "Determine if the predicted values are accurate"
   ]
  },
  {
   "cell_type": "code",
   "execution_count": 127,
   "metadata": {},
   "outputs": [],
   "source": [
    "dfUnique = dfClean.drop_duplicates()"
   ]
  },
  {
   "cell_type": "code",
   "execution_count": 128,
   "metadata": {},
   "outputs": [
    {
     "data": {
      "text/plain": [
       "45"
      ]
     },
     "execution_count": 128,
     "metadata": {},
     "output_type": "execute_result"
    }
   ],
   "source": [
    "len(dfUnique)"
   ]
  },
  {
   "cell_type": "code",
   "execution_count": 129,
   "metadata": {},
   "outputs": [
    {
     "data": {
      "text/html": [
       "<div>\n",
       "<style scoped>\n",
       "    .dataframe tbody tr th:only-of-type {\n",
       "        vertical-align: middle;\n",
       "    }\n",
       "\n",
       "    .dataframe tbody tr th {\n",
       "        vertical-align: top;\n",
       "    }\n",
       "\n",
       "    .dataframe thead th {\n",
       "        text-align: right;\n",
       "    }\n",
       "</style>\n",
       "<table border=\"1\" class=\"dataframe\">\n",
       "  <thead>\n",
       "    <tr style=\"text-align: right;\">\n",
       "      <th></th>\n",
       "      <th>ProviderNumber</th>\n",
       "      <th>HospitalName</th>\n",
       "      <th>Address1</th>\n",
       "      <th>City</th>\n",
       "      <th>ZipCode</th>\n",
       "      <th>CountyName</th>\n",
       "      <th>PhoneNumber</th>\n",
       "    </tr>\n",
       "  </thead>\n",
       "  <tbody>\n",
       "    <tr>\n",
       "      <th>0</th>\n",
       "      <td>10018</td>\n",
       "      <td>CALLAHAN EYE FOUNDATION HOSPITAL</td>\n",
       "      <td>1720 UNIVERSITY BLVD</td>\n",
       "      <td>BIRMINGHAM</td>\n",
       "      <td>35233</td>\n",
       "      <td>JEFFERSON</td>\n",
       "      <td>2053258100</td>\n",
       "    </tr>\n",
       "    <tr>\n",
       "      <th>7</th>\n",
       "      <td>10019</td>\n",
       "      <td>HELEN KELLER MEMORIAL HOSPITAL</td>\n",
       "      <td>1300 SOUTH MONTGOMERY AVENUE</td>\n",
       "      <td>SHEFFIELD</td>\n",
       "      <td>35660</td>\n",
       "      <td>JEFFERSON</td>\n",
       "      <td>2563864556</td>\n",
       "    </tr>\n",
       "    <tr>\n",
       "      <th>14</th>\n",
       "      <td>10001</td>\n",
       "      <td>SOUTHEAST ALABAMA MEDICAL CENTER</td>\n",
       "      <td>1108 ROSS CLARK CIRCLE</td>\n",
       "      <td>DOTHAN</td>\n",
       "      <td>36302</td>\n",
       "      <td>HOUSTON</td>\n",
       "      <td>3347938701</td>\n",
       "    </tr>\n",
       "  </tbody>\n",
       "</table>\n",
       "</div>"
      ],
      "text/plain": [
       "   ProviderNumber                      HospitalName  \\\n",
       "0           10018  CALLAHAN EYE FOUNDATION HOSPITAL   \n",
       "7           10019    HELEN KELLER MEMORIAL HOSPITAL   \n",
       "14          10001  SOUTHEAST ALABAMA MEDICAL CENTER   \n",
       "\n",
       "                        Address1        City ZipCode CountyName PhoneNumber  \n",
       "0           1720 UNIVERSITY BLVD  BIRMINGHAM   35233  JEFFERSON  2053258100  \n",
       "7   1300 SOUTH MONTGOMERY AVENUE   SHEFFIELD   35660  JEFFERSON  2563864556  \n",
       "14        1108 ROSS CLARK CIRCLE      DOTHAN   36302    HOUSTON  3347938701  "
      ]
     },
     "execution_count": 129,
     "metadata": {},
     "output_type": "execute_result"
    }
   ],
   "source": [
    "dfUnique.head(3)"
   ]
  },
  {
   "cell_type": "code",
   "execution_count": 130,
   "metadata": {},
   "outputs": [],
   "source": [
    "truthValues = dfUnique.values.tolist()\n",
    "truthValues = list(itertools.chain.from_iterable(truthValues))"
   ]
  },
  {
   "cell_type": "code",
   "execution_count": 131,
   "metadata": {},
   "outputs": [
    {
     "data": {
      "text/plain": [
       "315"
      ]
     },
     "execution_count": 131,
     "metadata": {},
     "output_type": "execute_result"
    }
   ],
   "source": [
    "len(truthValues)"
   ]
  },
  {
   "cell_type": "markdown",
   "metadata": {},
   "source": [
    "Impute"
   ]
  },
  {
   "cell_type": "code",
   "execution_count": 142,
   "metadata": {},
   "outputs": [],
   "source": [
    "correct = 0\n",
    "inCorrect = 0\n",
    "incorrectPredictions = []\n",
    "truthValuesIter = iter(truthValues)"
   ]
  },
  {
   "cell_type": "code",
   "execution_count": 143,
   "metadata": {},
   "outputs": [],
   "source": [
    "for row in rows:\n",
    "    missingRow = list(row.keys())[0]\n",
    "    attribute = list(row.values())[0]\n",
    "    \n",
    "    predicted = getImputedValue(missingRow, attribute)\n",
    "    actual = next(truthValuesIter)\n",
    "    if predicted and predicted[0] == actual:\n",
    "        correct += 1\n",
    "    else:\n",
    "        inCorrect += 1\n",
    "        incorrectPredictions.append((actual, predicted[0] if predicted else None))\n",
    "        "
   ]
  },
  {
   "cell_type": "code",
   "execution_count": 144,
   "metadata": {},
   "outputs": [
    {
     "data": {
      "text/plain": [
       "304"
      ]
     },
     "execution_count": 144,
     "metadata": {},
     "output_type": "execute_result"
    }
   ],
   "source": [
    "correct"
   ]
  },
  {
   "cell_type": "code",
   "execution_count": 145,
   "metadata": {},
   "outputs": [],
   "source": [
    "accuracy = correct / (correct + inCorrect) * 1.0"
   ]
  },
  {
   "cell_type": "code",
   "execution_count": 146,
   "metadata": {},
   "outputs": [
    {
     "data": {
      "text/plain": [
       "0.9650793650793651"
      ]
     },
     "execution_count": 146,
     "metadata": {},
     "output_type": "execute_result"
    }
   ],
   "source": [
    "accuracy"
   ]
  },
  {
   "cell_type": "code",
   "execution_count": 147,
   "metadata": {},
   "outputs": [
    {
     "data": {
      "text/plain": [
       "[('MOBILE', 'DE KALB'),\n",
       " ('FRANKLIN', None),\n",
       " ('ANCHORAGE', 'HUNTSVILLE'),\n",
       " ('20018', '10085'),\n",
       " ('PO BOX 287', None),\n",
       " ('BETHEL', '20018'),\n",
       " ('BETHEL', 'PO BOX 287'),\n",
       " ('MONTGOMERY', 'ANCHORAGE'),\n",
       " ('MONTGOMERY', None),\n",
       " ('CULLMAN', 'PO BOX 287'),\n",
       " ('FAYETTE', 'CHEROKEE')]"
      ]
     },
     "execution_count": 147,
     "metadata": {},
     "output_type": "execute_result"
    }
   ],
   "source": [
    "incorrectPredictions"
   ]
  },
  {
   "cell_type": "code",
   "execution_count": 148,
   "metadata": {},
   "outputs": [],
   "source": [
    "df = pd.read_csv('truthvalue.csv', encoding='utf8',dtype=object)"
   ]
  },
  {
   "cell_type": "code",
   "execution_count": 149,
   "metadata": {},
   "outputs": [
    {
     "data": {
      "text/plain": [
       "0"
      ]
     },
     "execution_count": 149,
     "metadata": {},
     "output_type": "execute_result"
    }
   ],
   "source": [
    "sum(df.isnull().values.ravel())"
   ]
  },
  {
   "cell_type": "code",
   "execution_count": null,
   "metadata": {},
   "outputs": [],
   "source": []
  }
 ],
 "metadata": {
  "kernelspec": {
   "display_name": "Python 3",
   "language": "python",
   "name": "python3"
  },
  "language_info": {
   "codemirror_mode": {
    "name": "ipython",
    "version": 3
   },
   "file_extension": ".py",
   "mimetype": "text/x-python",
   "name": "python",
   "nbconvert_exporter": "python",
   "pygments_lexer": "ipython3",
   "version": "3.5.0"
  },
  "toc": {
   "nav_menu": {},
   "number_sections": true,
   "sideBar": true,
   "skip_h1_title": false,
   "title_cell": "Table of Contents",
   "title_sidebar": "Contents",
   "toc_cell": false,
   "toc_position": {},
   "toc_section_display": true,
   "toc_window_display": false
  }
 },
 "nbformat": 4,
 "nbformat_minor": 2
}
