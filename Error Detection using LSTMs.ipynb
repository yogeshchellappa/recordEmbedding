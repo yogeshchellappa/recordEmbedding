{
 "cells": [
  {
   "cell_type": "markdown",
   "metadata": {},
   "source": [
    "# Error Detection using LSTMs\n",
    "This notebook demonstrates how we use record embeddings to perform error detection in tuples. We are using the **Hospital** dataset which has been artificially augmented to contain the following type of errors:\n",
    "1. The cell values have been shuffled across the columnar axis.\n",
    "2. 5% of tuples has a cell value assigned to NaN.\n",
    "3. 10% of the tuples has a cell value misspelt.\n",
    "\n",
    "By converting each tuple to a space separated string and feeding it to an LSTM, we see if the network can learn to detect errors in the tuples."
   ]
  },
  {
   "cell_type": "code",
   "execution_count": 209,
   "metadata": {},
   "outputs": [],
   "source": [
    "import warnings\n",
    "warnings.filterwarnings(\"ignore\")\n",
    "\n",
    "import pandas as pd\n",
    "import numpy as np\n",
    "import h5py\n",
    "import pickle\n",
    "from sklearn.model_selection import train_test_split\n",
    "\n",
    "from keras.preprocessing.text import Tokenizer\n",
    "from keras.preprocessing.sequence import pad_sequences\n",
    "from keras import models\n",
    "from keras import layers\n",
    "from keras import optimizers\n",
    "from keras import activations\n",
    "from keras import losses\n",
    "from keras import metrics\n",
    "\n",
    "import matplotlib.pyplot as plt\n",
    "%matplotlib inline"
   ]
  },
  {
   "cell_type": "markdown",
   "metadata": {},
   "source": [
    "## Read the data"
   ]
  },
  {
   "cell_type": "code",
   "execution_count": 210,
   "metadata": {},
   "outputs": [],
   "source": [
    "df = pd.read_csv('DirtyHospitalDataset.csv', encoding='utf8')"
   ]
  },
  {
   "cell_type": "code",
   "execution_count": 211,
   "metadata": {},
   "outputs": [
    {
     "data": {
      "text/html": [
       "<div>\n",
       "<style scoped>\n",
       "    .dataframe tbody tr th:only-of-type {\n",
       "        vertical-align: middle;\n",
       "    }\n",
       "\n",
       "    .dataframe tbody tr th {\n",
       "        vertical-align: top;\n",
       "    }\n",
       "\n",
       "    .dataframe thead th {\n",
       "        text-align: right;\n",
       "    }\n",
       "</style>\n",
       "<table border=\"1\" class=\"dataframe\">\n",
       "  <thead>\n",
       "    <tr style=\"text-align: right;\">\n",
       "      <th></th>\n",
       "      <th>ProviderNumber</th>\n",
       "      <th>HospitalName</th>\n",
       "      <th>Address1</th>\n",
       "      <th>City</th>\n",
       "      <th>State</th>\n",
       "      <th>ZipCode</th>\n",
       "      <th>CountyName</th>\n",
       "      <th>PhoneNumber</th>\n",
       "      <th>HospitalType</th>\n",
       "      <th>label</th>\n",
       "    </tr>\n",
       "  </thead>\n",
       "  <tbody>\n",
       "    <tr>\n",
       "      <th>0</th>\n",
       "      <td>10022.0</td>\n",
       "      <td>CHEROKEE MEDICAL CENTER</td>\n",
       "      <td>400 NORTHWOOD DR</td>\n",
       "      <td>CENTRE</td>\n",
       "      <td>AL</td>\n",
       "      <td>35960.0</td>\n",
       "      <td>CHEROKEE</td>\n",
       "      <td>2.569276e+09</td>\n",
       "      <td>Acute Care Hospitals</td>\n",
       "      <td>0.0</td>\n",
       "    </tr>\n",
       "    <tr>\n",
       "      <th>1</th>\n",
       "      <td>10011.0</td>\n",
       "      <td>ST VINCENT'S EAST</td>\n",
       "      <td>50 MEDICAL PARK EAST DRIVE</td>\n",
       "      <td>BIRMINGHAM</td>\n",
       "      <td>AL</td>\n",
       "      <td>35235.0</td>\n",
       "      <td>JEFFERSON</td>\n",
       "      <td>2.058383e+09</td>\n",
       "      <td>Acute Care Hospitals</td>\n",
       "      <td>1.0</td>\n",
       "    </tr>\n",
       "  </tbody>\n",
       "</table>\n",
       "</div>"
      ],
      "text/plain": [
       "   ProviderNumber             HospitalName                    Address1  \\\n",
       "0         10022.0  CHEROKEE MEDICAL CENTER            400 NORTHWOOD DR   \n",
       "1         10011.0        ST VINCENT'S EAST  50 MEDICAL PARK EAST DRIVE   \n",
       "\n",
       "         City State  ZipCode CountyName   PhoneNumber          HospitalType  \\\n",
       "0      CENTRE    AL  35960.0   CHEROKEE  2.569276e+09  Acute Care Hospitals   \n",
       "1  BIRMINGHAM    AL  35235.0  JEFFERSON  2.058383e+09  Acute Care Hospitals   \n",
       "\n",
       "   label  \n",
       "0    0.0  \n",
       "1    1.0  "
      ]
     },
     "execution_count": 211,
     "metadata": {},
     "output_type": "execute_result"
    }
   ],
   "source": [
    "df.head(2)"
   ]
  },
  {
   "cell_type": "code",
   "execution_count": 212,
   "metadata": {},
   "outputs": [
    {
     "data": {
      "text/plain": [
       "2100"
      ]
     },
     "execution_count": 212,
     "metadata": {},
     "output_type": "execute_result"
    }
   ],
   "source": [
    "len(df)"
   ]
  },
  {
   "cell_type": "code",
   "execution_count": 213,
   "metadata": {
    "scrolled": true
   },
   "outputs": [
    {
     "data": {
      "text/plain": [
       "0.0    1100\n",
       "1.0    1000\n",
       "Name: label, dtype: int64"
      ]
     },
     "execution_count": 213,
     "metadata": {},
     "output_type": "execute_result"
    }
   ],
   "source": [
    "df['label'].value_counts()"
   ]
  },
  {
   "cell_type": "markdown",
   "metadata": {},
   "source": [
    "### Some preprocessing to replace phoneNumber and providerNumber with a 0 instead of NaN"
   ]
  },
  {
   "cell_type": "code",
   "execution_count": 214,
   "metadata": {},
   "outputs": [],
   "source": [
    "df['PhoneNumber'].fillna(0, inplace=True)\n",
    "df['ProviderNumber'].fillna(0, inplace=True)"
   ]
  },
  {
   "cell_type": "code",
   "execution_count": 215,
   "metadata": {},
   "outputs": [
    {
     "data": {
      "text/html": [
       "<div>\n",
       "<style scoped>\n",
       "    .dataframe tbody tr th:only-of-type {\n",
       "        vertical-align: middle;\n",
       "    }\n",
       "\n",
       "    .dataframe tbody tr th {\n",
       "        vertical-align: top;\n",
       "    }\n",
       "\n",
       "    .dataframe thead th {\n",
       "        text-align: right;\n",
       "    }\n",
       "</style>\n",
       "<table border=\"1\" class=\"dataframe\">\n",
       "  <thead>\n",
       "    <tr style=\"text-align: right;\">\n",
       "      <th></th>\n",
       "      <th>ProviderNumber</th>\n",
       "      <th>HospitalName</th>\n",
       "      <th>Address1</th>\n",
       "      <th>City</th>\n",
       "      <th>State</th>\n",
       "      <th>ZipCode</th>\n",
       "      <th>CountyName</th>\n",
       "      <th>PhoneNumber</th>\n",
       "      <th>HospitalType</th>\n",
       "      <th>label</th>\n",
       "    </tr>\n",
       "  </thead>\n",
       "  <tbody>\n",
       "    <tr>\n",
       "      <th>0</th>\n",
       "      <td>10022.0</td>\n",
       "      <td>CHEROKEE MEDICAL CENTER</td>\n",
       "      <td>400 NORTHWOOD DR</td>\n",
       "      <td>CENTRE</td>\n",
       "      <td>AL</td>\n",
       "      <td>35960.0</td>\n",
       "      <td>CHEROKEE</td>\n",
       "      <td>2.569276e+09</td>\n",
       "      <td>Acute Care Hospitals</td>\n",
       "      <td>0.0</td>\n",
       "    </tr>\n",
       "    <tr>\n",
       "      <th>1</th>\n",
       "      <td>10011.0</td>\n",
       "      <td>ST VINCENT'S EAST</td>\n",
       "      <td>50 MEDICAL PARK EAST DRIVE</td>\n",
       "      <td>BIRMINGHAM</td>\n",
       "      <td>AL</td>\n",
       "      <td>35235.0</td>\n",
       "      <td>JEFFERSON</td>\n",
       "      <td>2.058383e+09</td>\n",
       "      <td>Acute Care Hospitals</td>\n",
       "      <td>1.0</td>\n",
       "    </tr>\n",
       "  </tbody>\n",
       "</table>\n",
       "</div>"
      ],
      "text/plain": [
       "   ProviderNumber             HospitalName                    Address1  \\\n",
       "0         10022.0  CHEROKEE MEDICAL CENTER            400 NORTHWOOD DR   \n",
       "1         10011.0        ST VINCENT'S EAST  50 MEDICAL PARK EAST DRIVE   \n",
       "\n",
       "         City State  ZipCode CountyName   PhoneNumber          HospitalType  \\\n",
       "0      CENTRE    AL  35960.0   CHEROKEE  2.569276e+09  Acute Care Hospitals   \n",
       "1  BIRMINGHAM    AL  35235.0  JEFFERSON  2.058383e+09  Acute Care Hospitals   \n",
       "\n",
       "   label  \n",
       "0    0.0  \n",
       "1    1.0  "
      ]
     },
     "execution_count": 215,
     "metadata": {},
     "output_type": "execute_result"
    }
   ],
   "source": [
    "df.head(2)"
   ]
  },
  {
   "cell_type": "markdown",
   "metadata": {},
   "source": [
    "### Separate the labels from the training data"
   ]
  },
  {
   "cell_type": "code",
   "execution_count": 216,
   "metadata": {},
   "outputs": [],
   "source": [
    "labels = np.asarray(df['label'].tolist())"
   ]
  },
  {
   "cell_type": "code",
   "execution_count": 217,
   "metadata": {},
   "outputs": [],
   "source": [
    "df.drop(columns=['label'], axis=1, inplace=True)"
   ]
  },
  {
   "cell_type": "code",
   "execution_count": 218,
   "metadata": {},
   "outputs": [
    {
     "data": {
      "text/html": [
       "<div>\n",
       "<style scoped>\n",
       "    .dataframe tbody tr th:only-of-type {\n",
       "        vertical-align: middle;\n",
       "    }\n",
       "\n",
       "    .dataframe tbody tr th {\n",
       "        vertical-align: top;\n",
       "    }\n",
       "\n",
       "    .dataframe thead th {\n",
       "        text-align: right;\n",
       "    }\n",
       "</style>\n",
       "<table border=\"1\" class=\"dataframe\">\n",
       "  <thead>\n",
       "    <tr style=\"text-align: right;\">\n",
       "      <th></th>\n",
       "      <th>ProviderNumber</th>\n",
       "      <th>HospitalName</th>\n",
       "      <th>Address1</th>\n",
       "      <th>City</th>\n",
       "      <th>State</th>\n",
       "      <th>ZipCode</th>\n",
       "      <th>CountyName</th>\n",
       "      <th>PhoneNumber</th>\n",
       "      <th>HospitalType</th>\n",
       "    </tr>\n",
       "  </thead>\n",
       "  <tbody>\n",
       "    <tr>\n",
       "      <th>0</th>\n",
       "      <td>10022.0</td>\n",
       "      <td>CHEROKEE MEDICAL CENTER</td>\n",
       "      <td>400 NORTHWOOD DR</td>\n",
       "      <td>CENTRE</td>\n",
       "      <td>AL</td>\n",
       "      <td>35960.0</td>\n",
       "      <td>CHEROKEE</td>\n",
       "      <td>2.569276e+09</td>\n",
       "      <td>Acute Care Hospitals</td>\n",
       "    </tr>\n",
       "    <tr>\n",
       "      <th>1</th>\n",
       "      <td>10011.0</td>\n",
       "      <td>ST VINCENT'S EAST</td>\n",
       "      <td>50 MEDICAL PARK EAST DRIVE</td>\n",
       "      <td>BIRMINGHAM</td>\n",
       "      <td>AL</td>\n",
       "      <td>35235.0</td>\n",
       "      <td>JEFFERSON</td>\n",
       "      <td>2.058383e+09</td>\n",
       "      <td>Acute Care Hospitals</td>\n",
       "    </tr>\n",
       "  </tbody>\n",
       "</table>\n",
       "</div>"
      ],
      "text/plain": [
       "   ProviderNumber             HospitalName                    Address1  \\\n",
       "0         10022.0  CHEROKEE MEDICAL CENTER            400 NORTHWOOD DR   \n",
       "1         10011.0        ST VINCENT'S EAST  50 MEDICAL PARK EAST DRIVE   \n",
       "\n",
       "         City State  ZipCode CountyName   PhoneNumber          HospitalType  \n",
       "0      CENTRE    AL  35960.0   CHEROKEE  2.569276e+09  Acute Care Hospitals  \n",
       "1  BIRMINGHAM    AL  35235.0  JEFFERSON  2.058383e+09  Acute Care Hospitals  "
      ]
     },
     "execution_count": 218,
     "metadata": {},
     "output_type": "execute_result"
    }
   ],
   "source": [
    "df.head(2)"
   ]
  },
  {
   "cell_type": "markdown",
   "metadata": {},
   "source": [
    "### Drop the HospitalType as it does not add anything new"
   ]
  },
  {
   "cell_type": "code",
   "execution_count": 219,
   "metadata": {},
   "outputs": [],
   "source": [
    "df.drop(columns=['HospitalType'], axis=1, inplace=True)"
   ]
  },
  {
   "cell_type": "code",
   "execution_count": 220,
   "metadata": {},
   "outputs": [
    {
     "data": {
      "text/html": [
       "<div>\n",
       "<style scoped>\n",
       "    .dataframe tbody tr th:only-of-type {\n",
       "        vertical-align: middle;\n",
       "    }\n",
       "\n",
       "    .dataframe tbody tr th {\n",
       "        vertical-align: top;\n",
       "    }\n",
       "\n",
       "    .dataframe thead th {\n",
       "        text-align: right;\n",
       "    }\n",
       "</style>\n",
       "<table border=\"1\" class=\"dataframe\">\n",
       "  <thead>\n",
       "    <tr style=\"text-align: right;\">\n",
       "      <th></th>\n",
       "      <th>ProviderNumber</th>\n",
       "      <th>HospitalName</th>\n",
       "      <th>Address1</th>\n",
       "      <th>City</th>\n",
       "      <th>State</th>\n",
       "      <th>ZipCode</th>\n",
       "      <th>CountyName</th>\n",
       "      <th>PhoneNumber</th>\n",
       "    </tr>\n",
       "  </thead>\n",
       "  <tbody>\n",
       "    <tr>\n",
       "      <th>0</th>\n",
       "      <td>10022.0</td>\n",
       "      <td>CHEROKEE MEDICAL CENTER</td>\n",
       "      <td>400 NORTHWOOD DR</td>\n",
       "      <td>CENTRE</td>\n",
       "      <td>AL</td>\n",
       "      <td>35960.0</td>\n",
       "      <td>CHEROKEE</td>\n",
       "      <td>2.569276e+09</td>\n",
       "    </tr>\n",
       "    <tr>\n",
       "      <th>1</th>\n",
       "      <td>10011.0</td>\n",
       "      <td>ST VINCENT'S EAST</td>\n",
       "      <td>50 MEDICAL PARK EAST DRIVE</td>\n",
       "      <td>BIRMINGHAM</td>\n",
       "      <td>AL</td>\n",
       "      <td>35235.0</td>\n",
       "      <td>JEFFERSON</td>\n",
       "      <td>2.058383e+09</td>\n",
       "    </tr>\n",
       "  </tbody>\n",
       "</table>\n",
       "</div>"
      ],
      "text/plain": [
       "   ProviderNumber             HospitalName                    Address1  \\\n",
       "0         10022.0  CHEROKEE MEDICAL CENTER            400 NORTHWOOD DR   \n",
       "1         10011.0        ST VINCENT'S EAST  50 MEDICAL PARK EAST DRIVE   \n",
       "\n",
       "         City State  ZipCode CountyName   PhoneNumber  \n",
       "0      CENTRE    AL  35960.0   CHEROKEE  2.569276e+09  \n",
       "1  BIRMINGHAM    AL  35235.0  JEFFERSON  2.058383e+09  "
      ]
     },
     "execution_count": 220,
     "metadata": {},
     "output_type": "execute_result"
    }
   ],
   "source": [
    "df.head(2)"
   ]
  },
  {
   "cell_type": "markdown",
   "metadata": {},
   "source": [
    "### Convert PhoneNumber and ProviderNumber to int"
   ]
  },
  {
   "cell_type": "code",
   "execution_count": 221,
   "metadata": {},
   "outputs": [],
   "source": [
    "df['ProviderNumber'] = df['ProviderNumber'].apply(lambda x: int(x))\n",
    "df['PhoneNumber'] = df['PhoneNumber'].apply(lambda x: int(x))"
   ]
  },
  {
   "cell_type": "code",
   "execution_count": 222,
   "metadata": {},
   "outputs": [
    {
     "data": {
      "text/html": [
       "<div>\n",
       "<style scoped>\n",
       "    .dataframe tbody tr th:only-of-type {\n",
       "        vertical-align: middle;\n",
       "    }\n",
       "\n",
       "    .dataframe tbody tr th {\n",
       "        vertical-align: top;\n",
       "    }\n",
       "\n",
       "    .dataframe thead th {\n",
       "        text-align: right;\n",
       "    }\n",
       "</style>\n",
       "<table border=\"1\" class=\"dataframe\">\n",
       "  <thead>\n",
       "    <tr style=\"text-align: right;\">\n",
       "      <th></th>\n",
       "      <th>ProviderNumber</th>\n",
       "      <th>HospitalName</th>\n",
       "      <th>Address1</th>\n",
       "      <th>City</th>\n",
       "      <th>State</th>\n",
       "      <th>ZipCode</th>\n",
       "      <th>CountyName</th>\n",
       "      <th>PhoneNumber</th>\n",
       "    </tr>\n",
       "  </thead>\n",
       "  <tbody>\n",
       "    <tr>\n",
       "      <th>0</th>\n",
       "      <td>10022</td>\n",
       "      <td>CHEROKEE MEDICAL CENTER</td>\n",
       "      <td>400 NORTHWOOD DR</td>\n",
       "      <td>CENTRE</td>\n",
       "      <td>AL</td>\n",
       "      <td>35960.0</td>\n",
       "      <td>CHEROKEE</td>\n",
       "      <td>2569275531</td>\n",
       "    </tr>\n",
       "    <tr>\n",
       "      <th>1</th>\n",
       "      <td>10011</td>\n",
       "      <td>ST VINCENT'S EAST</td>\n",
       "      <td>50 MEDICAL PARK EAST DRIVE</td>\n",
       "      <td>BIRMINGHAM</td>\n",
       "      <td>AL</td>\n",
       "      <td>35235.0</td>\n",
       "      <td>JEFFERSON</td>\n",
       "      <td>2058383122</td>\n",
       "    </tr>\n",
       "  </tbody>\n",
       "</table>\n",
       "</div>"
      ],
      "text/plain": [
       "   ProviderNumber             HospitalName                    Address1  \\\n",
       "0           10022  CHEROKEE MEDICAL CENTER            400 NORTHWOOD DR   \n",
       "1           10011        ST VINCENT'S EAST  50 MEDICAL PARK EAST DRIVE   \n",
       "\n",
       "         City State  ZipCode CountyName  PhoneNumber  \n",
       "0      CENTRE    AL  35960.0   CHEROKEE   2569275531  \n",
       "1  BIRMINGHAM    AL  35235.0  JEFFERSON   2058383122  "
      ]
     },
     "execution_count": 222,
     "metadata": {},
     "output_type": "execute_result"
    }
   ],
   "source": [
    "df.head(2)"
   ]
  },
  {
   "cell_type": "markdown",
   "metadata": {},
   "source": [
    "### Convert each row to a space separated string"
   ]
  },
  {
   "cell_type": "code",
   "execution_count": 223,
   "metadata": {},
   "outputs": [],
   "source": [
    "dfList = df.values.tolist()"
   ]
  },
  {
   "cell_type": "code",
   "execution_count": 224,
   "metadata": {},
   "outputs": [],
   "source": [
    "rows = []\n",
    "for row in dfList:\n",
    "    combined = ','.join([str(x) for x in row])\n",
    "    rows.append(combined)"
   ]
  },
  {
   "cell_type": "code",
   "execution_count": 225,
   "metadata": {},
   "outputs": [
    {
     "data": {
      "text/plain": [
       "2100"
      ]
     },
     "execution_count": 225,
     "metadata": {},
     "output_type": "execute_result"
    }
   ],
   "source": [
    "len(rows)"
   ]
  },
  {
   "cell_type": "code",
   "execution_count": 226,
   "metadata": {},
   "outputs": [
    {
     "data": {
      "text/plain": [
       "'10022,CHEROKEE MEDICAL CENTER,400 NORTHWOOD DR,CENTRE,AL,35960.0,CHEROKEE,2569275531'"
      ]
     },
     "execution_count": 226,
     "metadata": {},
     "output_type": "execute_result"
    }
   ],
   "source": [
    "rows[0]"
   ]
  },
  {
   "cell_type": "code",
   "execution_count": 227,
   "metadata": {},
   "outputs": [
    {
     "data": {
      "text/plain": [
       "110"
      ]
     },
     "execution_count": 227,
     "metadata": {},
     "output_type": "execute_result"
    }
   ],
   "source": [
    "max([len(r) for r in rows])"
   ]
  },
  {
   "cell_type": "markdown",
   "metadata": {},
   "source": [
    "### Save the dataset"
   ]
  },
  {
   "cell_type": "code",
   "execution_count": 228,
   "metadata": {},
   "outputs": [],
   "source": [
    "df.to_csv(\"HospitalTrainingData.csv\", encoding='utf8', index=False)"
   ]
  },
  {
   "cell_type": "markdown",
   "metadata": {},
   "source": [
    "## Tokenize the data"
   ]
  },
  {
   "cell_type": "markdown",
   "metadata": {},
   "source": [
    "Since the max length of a row is 110, we can set the maxSequenceLength as 110."
   ]
  },
  {
   "cell_type": "code",
   "execution_count": 229,
   "metadata": {},
   "outputs": [],
   "source": [
    "maxSequenceLength = 110\n",
    "maxWords = 2500"
   ]
  },
  {
   "cell_type": "code",
   "execution_count": 230,
   "metadata": {},
   "outputs": [],
   "source": [
    "tokenizer = Tokenizer(num_words=maxWords, split=',')"
   ]
  },
  {
   "cell_type": "code",
   "execution_count": 231,
   "metadata": {},
   "outputs": [],
   "source": [
    "tokenizer.fit_on_texts(rows)\n",
    "sequences = tokenizer.texts_to_sequences(rows)\n",
    "word_index = tokenizer.word_index"
   ]
  },
  {
   "cell_type": "code",
   "execution_count": 232,
   "metadata": {},
   "outputs": [
    {
     "data": {
      "text/plain": [
       "395"
      ]
     },
     "execution_count": 232,
     "metadata": {},
     "output_type": "execute_result"
    }
   ],
   "source": [
    "len(word_index)"
   ]
  },
  {
   "cell_type": "code",
   "execution_count": 233,
   "metadata": {},
   "outputs": [],
   "source": [
    "data = pad_sequences(sequences, maxlen=maxSequenceLength)"
   ]
  },
  {
   "cell_type": "code",
   "execution_count": 234,
   "metadata": {},
   "outputs": [
    {
     "data": {
      "text/plain": [
       "(2100, 110)"
      ]
     },
     "execution_count": 234,
     "metadata": {},
     "output_type": "execute_result"
    }
   ],
   "source": [
    "data.shape"
   ]
  },
  {
   "cell_type": "code",
   "execution_count": 235,
   "metadata": {},
   "outputs": [
    {
     "data": {
      "text/plain": [
       "(2100,)"
      ]
     },
     "execution_count": 235,
     "metadata": {},
     "output_type": "execute_result"
    }
   ],
   "source": [
    "labels.shape"
   ]
  },
  {
   "cell_type": "markdown",
   "metadata": {},
   "source": [
    "## Train test split"
   ]
  },
  {
   "cell_type": "code",
   "execution_count": 236,
   "metadata": {},
   "outputs": [],
   "source": [
    "indices = np.arange(data.shape[0])\n",
    "np.random.shuffle(indices)"
   ]
  },
  {
   "cell_type": "code",
   "execution_count": 237,
   "metadata": {},
   "outputs": [],
   "source": [
    "data = data[indices]\n",
    "labels = labels[indices]"
   ]
  },
  {
   "cell_type": "code",
   "execution_count": 238,
   "metadata": {},
   "outputs": [],
   "source": [
    "X_train, X_test, y_train, y_test = train_test_split(data, labels, test_size=0.2, random_state=22, stratify=labels)"
   ]
  },
  {
   "cell_type": "code",
   "execution_count": 239,
   "metadata": {},
   "outputs": [
    {
     "data": {
      "text/plain": [
       "(1680, 1680)"
      ]
     },
     "execution_count": 239,
     "metadata": {},
     "output_type": "execute_result"
    }
   ],
   "source": [
    "len(X_train), len(y_train)"
   ]
  },
  {
   "cell_type": "code",
   "execution_count": 240,
   "metadata": {},
   "outputs": [
    {
     "data": {
      "text/plain": [
       "(420, 420)"
      ]
     },
     "execution_count": 240,
     "metadata": {},
     "output_type": "execute_result"
    }
   ],
   "source": [
    "len(X_test), len(y_test)"
   ]
  },
  {
   "cell_type": "markdown",
   "metadata": {},
   "source": [
    "## Model\n",
    "**Architecture**\n",
    "* 1 Embedding layer\n",
    "* 1 Bidirectional LSTM layer\n",
    "* 1 output layer, _sigmoid_ activation\n",
    "* Optimizer: Adam (learning rate = 0.01)\n",
    "* Loss function: Binary crossentropy loss"
   ]
  },
  {
   "cell_type": "code",
   "execution_count": 241,
   "metadata": {},
   "outputs": [],
   "source": [
    "embeddingDim = 100"
   ]
  },
  {
   "cell_type": "code",
   "execution_count": 242,
   "metadata": {},
   "outputs": [
    {
     "name": "stdout",
     "output_type": "stream",
     "text": [
      "Train on 1344 samples, validate on 336 samples\n",
      "Epoch 1/35\n",
      "1344/1344 [==============================] - 17s 12ms/step - loss: 0.6995 - binary_accuracy: 0.5089 - val_loss: 0.6931 - val_binary_accuracy: 0.5149\n",
      "Epoch 2/35\n",
      "1344/1344 [==============================] - 14s 10ms/step - loss: 0.6911 - binary_accuracy: 0.5409 - val_loss: 0.6952 - val_binary_accuracy: 0.4851\n",
      "Epoch 3/35\n",
      "1344/1344 [==============================] - 14s 11ms/step - loss: 0.6800 - binary_accuracy: 0.5811 - val_loss: 0.7037 - val_binary_accuracy: 0.5179\n",
      "Epoch 4/35\n",
      "1344/1344 [==============================] - 14s 11ms/step - loss: 0.6452 - binary_accuracy: 0.6362 - val_loss: 0.6617 - val_binary_accuracy: 0.5565\n",
      "Epoch 5/35\n",
      "1344/1344 [==============================] - 14s 10ms/step - loss: 0.5953 - binary_accuracy: 0.6771 - val_loss: 0.6638 - val_binary_accuracy: 0.6399\n",
      "Epoch 6/35\n",
      "1344/1344 [==============================] - 14s 10ms/step - loss: 0.5490 - binary_accuracy: 0.7039 - val_loss: 0.5819 - val_binary_accuracy: 0.6786\n",
      "Epoch 7/35\n",
      "1344/1344 [==============================] - 14s 10ms/step - loss: 0.5192 - binary_accuracy: 0.7262 - val_loss: 0.6557 - val_binary_accuracy: 0.6042\n",
      "Epoch 8/35\n",
      "1344/1344 [==============================] - 14s 11ms/step - loss: 0.4917 - binary_accuracy: 0.7433 - val_loss: 0.5974 - val_binary_accuracy: 0.6637\n",
      "Epoch 9/35\n",
      "1344/1344 [==============================] - 14s 10ms/step - loss: 0.4992 - binary_accuracy: 0.7426 - val_loss: 0.6005 - val_binary_accuracy: 0.6756\n",
      "Epoch 10/35\n",
      "1344/1344 [==============================] - 14s 11ms/step - loss: 0.4933 - binary_accuracy: 0.7485 - val_loss: 0.5918 - val_binary_accuracy: 0.6935\n",
      "Epoch 11/35\n",
      "1344/1344 [==============================] - 14s 11ms/step - loss: 0.4566 - binary_accuracy: 0.7835 - val_loss: 0.5820 - val_binary_accuracy: 0.6964\n",
      "Epoch 12/35\n",
      "1344/1344 [==============================] - 14s 11ms/step - loss: 0.4487 - binary_accuracy: 0.7827 - val_loss: 0.6172 - val_binary_accuracy: 0.6994\n",
      "Epoch 13/35\n",
      "1344/1344 [==============================] - 14s 10ms/step - loss: 0.4307 - binary_accuracy: 0.8028 - val_loss: 0.5862 - val_binary_accuracy: 0.7143\n",
      "Epoch 14/35\n",
      "1344/1344 [==============================] - 14s 10ms/step - loss: 0.4326 - binary_accuracy: 0.7976 - val_loss: 0.6129 - val_binary_accuracy: 0.7054\n",
      "Epoch 15/35\n",
      "1344/1344 [==============================] - 14s 10ms/step - loss: 0.4293 - binary_accuracy: 0.7932 - val_loss: 0.5707 - val_binary_accuracy: 0.7113\n",
      "Epoch 16/35\n",
      "1344/1344 [==============================] - 14s 11ms/step - loss: 0.3966 - binary_accuracy: 0.8028 - val_loss: 0.5842 - val_binary_accuracy: 0.7381\n",
      "Epoch 17/35\n",
      "1344/1344 [==============================] - 14s 10ms/step - loss: 0.3931 - binary_accuracy: 0.8266 - val_loss: 0.5903 - val_binary_accuracy: 0.7321\n",
      "Epoch 18/35\n",
      "1344/1344 [==============================] - 14s 10ms/step - loss: 0.4028 - binary_accuracy: 0.8073 - val_loss: 0.5744 - val_binary_accuracy: 0.7113\n",
      "Epoch 19/35\n",
      "1344/1344 [==============================] - 14s 10ms/step - loss: 0.3825 - binary_accuracy: 0.8244 - val_loss: 0.5947 - val_binary_accuracy: 0.6935\n",
      "Epoch 20/35\n",
      "1344/1344 [==============================] - 14s 11ms/step - loss: 0.3848 - binary_accuracy: 0.8304 - val_loss: 0.5864 - val_binary_accuracy: 0.6994\n",
      "Epoch 21/35\n",
      "1344/1344 [==============================] - 14s 11ms/step - loss: 0.3801 - binary_accuracy: 0.8318 - val_loss: 0.5629 - val_binary_accuracy: 0.7321\n",
      "Epoch 22/35\n",
      "1344/1344 [==============================] - 14s 10ms/step - loss: 0.3673 - binary_accuracy: 0.8400 - val_loss: 0.5974 - val_binary_accuracy: 0.7321\n",
      "Epoch 23/35\n",
      "1344/1344 [==============================] - 14s 10ms/step - loss: 0.3500 - binary_accuracy: 0.8490 - val_loss: 0.5548 - val_binary_accuracy: 0.7470\n",
      "Epoch 24/35\n",
      "1344/1344 [==============================] - 14s 10ms/step - loss: 0.3446 - binary_accuracy: 0.8557 - val_loss: 0.5785 - val_binary_accuracy: 0.7351\n",
      "Epoch 25/35\n",
      "1344/1344 [==============================] - 14s 11ms/step - loss: 0.3293 - binary_accuracy: 0.8631 - val_loss: 0.5744 - val_binary_accuracy: 0.7500\n",
      "Epoch 26/35\n",
      "1344/1344 [==============================] - 14s 10ms/step - loss: 0.3270 - binary_accuracy: 0.8705 - val_loss: 0.5605 - val_binary_accuracy: 0.7440\n",
      "Epoch 27/35\n",
      "1344/1344 [==============================] - 14s 10ms/step - loss: 0.3205 - binary_accuracy: 0.8698 - val_loss: 0.5630 - val_binary_accuracy: 0.7560\n",
      "Epoch 28/35\n",
      "1344/1344 [==============================] - 14s 11ms/step - loss: 0.3151 - binary_accuracy: 0.8728 - val_loss: 0.5783 - val_binary_accuracy: 0.7619\n",
      "Epoch 29/35\n",
      "1344/1344 [==============================] - 14s 11ms/step - loss: 0.3132 - binary_accuracy: 0.8728 - val_loss: 0.5751 - val_binary_accuracy: 0.7500\n",
      "Epoch 30/35\n",
      "1344/1344 [==============================] - 14s 10ms/step - loss: 0.3127 - binary_accuracy: 0.8795 - val_loss: 0.5787 - val_binary_accuracy: 0.7262\n",
      "Epoch 31/35\n",
      "1344/1344 [==============================] - 15s 11ms/step - loss: 0.3058 - binary_accuracy: 0.8743 - val_loss: 0.5934 - val_binary_accuracy: 0.7351\n",
      "Epoch 32/35\n",
      "1344/1344 [==============================] - 14s 10ms/step - loss: 0.3104 - binary_accuracy: 0.8772 - val_loss: 0.5636 - val_binary_accuracy: 0.7500\n",
      "Epoch 33/35\n",
      "1344/1344 [==============================] - 14s 11ms/step - loss: 0.3057 - binary_accuracy: 0.8772 - val_loss: 0.5791 - val_binary_accuracy: 0.7411\n",
      "Epoch 34/35\n",
      "1344/1344 [==============================] - 14s 10ms/step - loss: 0.3028 - binary_accuracy: 0.8810 - val_loss: 0.5651 - val_binary_accuracy: 0.7530\n",
      "Epoch 35/35\n",
      "1344/1344 [==============================] - 14s 10ms/step - loss: 0.3009 - binary_accuracy: 0.8810 - val_loss: 0.5865 - val_binary_accuracy: 0.7470\n"
     ]
    }
   ],
   "source": [
    "model = models.Sequential()\n",
    "model.add(layers.Embedding(2500, embeddingDim, input_length=maxSequenceLength))\n",
    "model.add(layers.Bidirectional(layers.LSTM(32)))\n",
    "model.add(layers.Dense(1, activation=activations.sigmoid))\n",
    "model.compile(optimizer=optimizers.Adam(lr=0.01), loss=losses.binary_crossentropy, metrics=[metrics.binary_accuracy])\n",
    "\n",
    "history = model.fit(X_train, y_train,\n",
    "                    epochs=35,\n",
    "                    batch_size=32, \n",
    "                    validation_split=0.2)"
   ]
  },
  {
   "cell_type": "code",
   "execution_count": 243,
   "metadata": {},
   "outputs": [
    {
     "data": {
      "image/png": "[encoded data removed]",
      "text/plain": [
       "<matplotlib.figure.Figure at 0x1f3b4392390>"
      ]
     },
     "metadata": {},
     "output_type": "display_data"
    },
    {
     "data": {
      "image/png": "[encoded data removed]",
      "text/plain": [
       "<matplotlib.figure.Figure at 0x1f3b4ab0da0>"
      ]
     },
     "metadata": {},
     "output_type": "display_data"
    }
   ],
   "source": [
    "acc = history.history['binary_accuracy']\n",
    "val_acc = history.history['val_binary_accuracy']\n",
    "\n",
    "loss = history.history['loss']\n",
    "val_loss = history.history['val_loss']\n",
    "\n",
    "epochs = range(1, len(acc) + 1)\n",
    "plt.plot(epochs, acc, 'bo', label='Training acc')\n",
    "plt.plot(epochs, val_acc, 'b', label='Validation acc')\n",
    "plt.title('Training and validation accuracy')\n",
    "plt.xlabel(\"Epochs\")\n",
    "plt.ylabel(\"Accuracy\")\n",
    "plt.legend()\n",
    "\n",
    "plt.figure()\n",
    "\n",
    "plt.plot(epochs, loss, 'bo', label='Training loss')\n",
    "plt.plot(epochs, val_loss, 'b', label='Validation loss')\n",
    "plt.title('Training and validation loss')\n",
    "plt.xlabel(\"Epochs\")\n",
    "plt.ylabel(\"Loss\")\n",
    "plt.legend()\n",
    "plt.show();"
   ]
  },
  {
   "cell_type": "markdown",
   "metadata": {},
   "source": [
    "## Evaluation on test set"
   ]
  },
  {
   "cell_type": "code",
   "execution_count": 244,
   "metadata": {},
   "outputs": [
    {
     "name": "stdout",
     "output_type": "stream",
     "text": [
      "420/420 [==============================] - 1s 3ms/step\n"
     ]
    }
   ],
   "source": [
    "results = model.evaluate(X_test, y_test)"
   ]
  },
  {
   "cell_type": "code",
   "execution_count": 245,
   "metadata": {},
   "outputs": [],
   "source": [
    "loss = results[0]\n",
    "accuracy = results[1]"
   ]
  },
  {
   "cell_type": "code",
   "execution_count": 246,
   "metadata": {},
   "outputs": [
    {
     "data": {
      "text/plain": [
       "0.550237827144918"
      ]
     },
     "execution_count": 246,
     "metadata": {},
     "output_type": "execute_result"
    }
   ],
   "source": [
    "loss"
   ]
  },
  {
   "cell_type": "code",
   "execution_count": 247,
   "metadata": {},
   "outputs": [
    {
     "data": {
      "text/plain": [
       "0.7523809523809524"
      ]
     },
     "execution_count": 247,
     "metadata": {},
     "output_type": "execute_result"
    }
   ],
   "source": [
    "accuracy"
   ]
  },
  {
   "cell_type": "markdown",
   "metadata": {},
   "source": [
    "## Save the model and tokenizer"
   ]
  },
  {
   "cell_type": "code",
   "execution_count": 248,
   "metadata": {},
   "outputs": [],
   "source": [
    "model.save(\"HospitalErrorDetectionClassifier.h5\")"
   ]
  },
  {
   "cell_type": "code",
   "execution_count": 249,
   "metadata": {},
   "outputs": [],
   "source": [
    "with open('HospitalErrorDetectionTokenizer.pickle', 'wb') as handle:\n",
    "    pickle.dump(tokenizer, handle, protocol=pickle.HIGHEST_PROTOCOL, fix_imports=True)"
   ]
  },
  {
   "cell_type": "code",
   "execution_count": null,
   "metadata": {},
   "outputs": [],
   "source": []
  }
 ],
 "metadata": {
  "kernelspec": {
   "display_name": "Python 3",
   "language": "python",
   "name": "python3"
  },
  "language_info": {
   "codemirror_mode": {
    "name": "ipython",
    "version": 3
   },
   "file_extension": ".py",
   "mimetype": "text/x-python",
   "name": "python",
   "nbconvert_exporter": "python",
   "pygments_lexer": "ipython3",
   "version": "3.5.0"
  },
  "toc": {
   "nav_menu": {},
   "number_sections": true,
   "sideBar": true,
   "skip_h1_title": true,
   "title_cell": "Table of Contents",
   "title_sidebar": "Contents",
   "toc_cell": false,
   "toc_position": {},
   "toc_section_display": true,
   "toc_window_display": false
  }
 },
 "nbformat": 4,
 "nbformat_minor": 2
}
