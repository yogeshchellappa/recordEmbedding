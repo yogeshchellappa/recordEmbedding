{
  "cells": [
    {
      "cell_type": "markdown",
      "source": [
        "# Error Detection using LSTMs\n",
        "This notebook demonstrates how we use record embeddings to perform error detection in tuples. We are using the **Hospital** dataset which has been artificially augmented to contain the following type of errors:\n",
        "1. The cell values have been shuffled across the columnar axis.\n",
        "2. 5% of tuples has a cell value assigned to NaN.\n",
        "3. 10% of the tuples has a cell value misspelt.\n",
        "\nBy converting each tuple to a space separated string and feeding it to an LSTM, we see if the network can learn to detect errors in the tuples."
      ],
      "metadata": {}
    },
    {
      "cell_type": "code",
      "source": [
        "import warnings\n",
        "warnings.filterwarnings(\"ignore\")\n",
        "\n",
        "import pandas as pd\n",
        "import numpy as np\n",
        "import h5py\n",
        "import pickle\n",
        "from sklearn.model_selection import train_test_split\n",
        "\n",
        "from keras.preprocessing.text import Tokenizer\n",
        "from keras.preprocessing.sequence import pad_sequences\n",
        "from keras import models\n",
        "from keras import layers\n",
        "from keras import optimizers\n",
        "from keras import activations\n",
        "from keras import losses\n",
        "from keras import metrics\n",
        "from keras.utils import to_categorical\n",
        "\n",
        "import matplotlib.pyplot as plt\n",
        "%matplotlib inline"
      ],
      "outputs": [],
      "execution_count": 14,
      "metadata": {}
    },
    {
      "cell_type": "markdown",
      "source": [
        "## Read the data"
      ],
      "metadata": {}
    },
    {
      "cell_type": "code",
      "source": [
        "df = pd.read_csv('DirtyHospitalDataset.csv', encoding='utf8')"
      ],
      "outputs": [],
      "execution_count": 15,
      "metadata": {}
    },
    {
      "cell_type": "code",
      "source": [
        "df.head(2)"
      ],
      "outputs": [
        {
          "output_type": "execute_result",
          "execution_count": 16,
          "data": {
            "text/html": [
              "<div>\n",
              "<style scoped>\n",
              "    .dataframe tbody tr th:only-of-type {\n",
              "        vertical-align: middle;\n",
              "    }\n",
              "\n",
              "    .dataframe tbody tr th {\n",
              "        vertical-align: top;\n",
              "    }\n",
              "\n",
              "    .dataframe thead th {\n",
              "        text-align: right;\n",
              "    }\n",
              "</style>\n",
              "<table border=\"1\" class=\"dataframe\">\n",
              "  <thead>\n",
              "    <tr style=\"text-align: right;\">\n",
              "      <th></th>\n",
              "      <th>ProviderNumber</th>\n",
              "      <th>HospitalName</th>\n",
              "      <th>Address1</th>\n",
              "      <th>City</th>\n",
              "      <th>State</th>\n",
              "      <th>ZipCode</th>\n",
              "      <th>CountyName</th>\n",
              "      <th>PhoneNumber</th>\n",
              "      <th>HospitalType</th>\n",
              "      <th>label</th>\n",
              "    </tr>\n",
              "  </thead>\n",
              "  <tbody>\n",
              "    <tr>\n",
              "      <th>0</th>\n",
              "      <td>10022.0</td>\n",
              "      <td>WEDOWEE HOSPITAL</td>\n",
              "      <td>400 NORTHWOOD DR</td>\n",
              "      <td>CENTRE</td>\n",
              "      <td>AL</td>\n",
              "      <td>35960.0</td>\n",
              "      <td>CHEROKEE</td>\n",
              "      <td>2.569276e+09</td>\n",
              "      <td>Acute Care Hospitals</td>\n",
              "      <td>0.0</td>\n",
              "    </tr>\n",
              "    <tr>\n",
              "      <th>1</th>\n",
              "      <td>20017.0</td>\n",
              "      <td>ALASKA REGIONAL HOSPITAL</td>\n",
              "      <td>2801 DEBARR ROAD</td>\n",
              "      <td>ANCHORAGE</td>\n",
              "      <td>AK</td>\n",
              "      <td>99508.0</td>\n",
              "      <td>ANCHORAGE</td>\n",
              "      <td>9.072761e+09</td>\n",
              "      <td>Acute Care Hospitals</td>\n",
              "      <td>1.0</td>\n",
              "    </tr>\n",
              "  </tbody>\n",
              "</table>\n",
              "</div>"
            ],
            "text/plain": [
              "   ProviderNumber              HospitalName          Address1       City  \\\n",
              "0         10022.0          WEDOWEE HOSPITAL  400 NORTHWOOD DR     CENTRE   \n",
              "1         20017.0  ALASKA REGIONAL HOSPITAL  2801 DEBARR ROAD  ANCHORAGE   \n",
              "\n",
              "  State  ZipCode CountyName   PhoneNumber          HospitalType  label  \n",
              "0    AL  35960.0   CHEROKEE  2.569276e+09  Acute Care Hospitals    0.0  \n",
              "1    AK  99508.0  ANCHORAGE  9.072761e+09  Acute Care Hospitals    1.0  "
            ]
          },
          "metadata": {}
        }
      ],
      "execution_count": 16,
      "metadata": {}
    },
    {
      "cell_type": "code",
      "source": [
        "len(df)"
      ],
      "outputs": [
        {
          "output_type": "execute_result",
          "execution_count": 17,
          "data": {
            "text/plain": [
              "2100"
            ]
          },
          "metadata": {}
        }
      ],
      "execution_count": 17,
      "metadata": {}
    },
    {
      "cell_type": "code",
      "source": [
        "df['label'].value_counts()"
      ],
      "outputs": [
        {
          "output_type": "execute_result",
          "execution_count": 18,
          "data": {
            "text/plain": [
              "0.0    1100\n",
              "1.0    1000\n",
              "Name: label, dtype: int64"
            ]
          },
          "metadata": {}
        }
      ],
      "execution_count": 18,
      "metadata": {
        "scrolled": true
      }
    },
    {
      "cell_type": "markdown",
      "source": [
        "### Some preprocessing to replace phoneNumber and providerNumber with a 0 instead of NaN"
      ],
      "metadata": {}
    },
    {
      "cell_type": "code",
      "source": [
        "df['PhoneNumber'].fillna(0, inplace=True)\n",
        "df['ProviderNumber'].fillna(0, inplace=True)\n",
        "df['ZipCode'].fillna(0, inplace=True)"
      ],
      "outputs": [],
      "execution_count": 19,
      "metadata": {}
    },
    {
      "cell_type": "code",
      "source": [
        "df.head(2)"
      ],
      "outputs": [
        {
          "output_type": "execute_result",
          "execution_count": 20,
          "data": {
            "text/html": [
              "<div>\n",
              "<style scoped>\n",
              "    .dataframe tbody tr th:only-of-type {\n",
              "        vertical-align: middle;\n",
              "    }\n",
              "\n",
              "    .dataframe tbody tr th {\n",
              "        vertical-align: top;\n",
              "    }\n",
              "\n",
              "    .dataframe thead th {\n",
              "        text-align: right;\n",
              "    }\n",
              "</style>\n",
              "<table border=\"1\" class=\"dataframe\">\n",
              "  <thead>\n",
              "    <tr style=\"text-align: right;\">\n",
              "      <th></th>\n",
              "      <th>ProviderNumber</th>\n",
              "      <th>HospitalName</th>\n",
              "      <th>Address1</th>\n",
              "      <th>City</th>\n",
              "      <th>State</th>\n",
              "      <th>ZipCode</th>\n",
              "      <th>CountyName</th>\n",
              "      <th>PhoneNumber</th>\n",
              "      <th>HospitalType</th>\n",
              "      <th>label</th>\n",
              "    </tr>\n",
              "  </thead>\n",
              "  <tbody>\n",
              "    <tr>\n",
              "      <th>0</th>\n",
              "      <td>10022.0</td>\n",
              "      <td>WEDOWEE HOSPITAL</td>\n",
              "      <td>400 NORTHWOOD DR</td>\n",
              "      <td>CENTRE</td>\n",
              "      <td>AL</td>\n",
              "      <td>35960.0</td>\n",
              "      <td>CHEROKEE</td>\n",
              "      <td>2.569276e+09</td>\n",
              "      <td>Acute Care Hospitals</td>\n",
              "      <td>0.0</td>\n",
              "    </tr>\n",
              "    <tr>\n",
              "      <th>1</th>\n",
              "      <td>20017.0</td>\n",
              "      <td>ALASKA REGIONAL HOSPITAL</td>\n",
              "      <td>2801 DEBARR ROAD</td>\n",
              "      <td>ANCHORAGE</td>\n",
              "      <td>AK</td>\n",
              "      <td>99508.0</td>\n",
              "      <td>ANCHORAGE</td>\n",
              "      <td>9.072761e+09</td>\n",
              "      <td>Acute Care Hospitals</td>\n",
              "      <td>1.0</td>\n",
              "    </tr>\n",
              "  </tbody>\n",
              "</table>\n",
              "</div>"
            ],
            "text/plain": [
              "   ProviderNumber              HospitalName          Address1       City  \\\n",
              "0         10022.0          WEDOWEE HOSPITAL  400 NORTHWOOD DR     CENTRE   \n",
              "1         20017.0  ALASKA REGIONAL HOSPITAL  2801 DEBARR ROAD  ANCHORAGE   \n",
              "\n",
              "  State  ZipCode CountyName   PhoneNumber          HospitalType  label  \n",
              "0    AL  35960.0   CHEROKEE  2.569276e+09  Acute Care Hospitals    0.0  \n",
              "1    AK  99508.0  ANCHORAGE  9.072761e+09  Acute Care Hospitals    1.0  "
            ]
          },
          "metadata": {}
        }
      ],
      "execution_count": 20,
      "metadata": {}
    },
    {
      "cell_type": "markdown",
      "source": [
        "### Separate the labels from the training data"
      ],
      "metadata": {}
    },
    {
      "cell_type": "code",
      "source": [
        "labels = np.asarray(df['label'].tolist())"
      ],
      "outputs": [],
      "execution_count": 21,
      "metadata": {}
    },
    {
      "cell_type": "code",
      "source": [
        "df.drop(columns=['label'], axis=1, inplace=True)"
      ],
      "outputs": [],
      "execution_count": 22,
      "metadata": {}
    },
    {
      "cell_type": "code",
      "source": [
        "df.head(2)"
      ],
      "outputs": [
        {
          "output_type": "execute_result",
          "execution_count": 23,
          "data": {
            "text/html": [
              "<div>\n",
              "<style scoped>\n",
              "    .dataframe tbody tr th:only-of-type {\n",
              "        vertical-align: middle;\n",
              "    }\n",
              "\n",
              "    .dataframe tbody tr th {\n",
              "        vertical-align: top;\n",
              "    }\n",
              "\n",
              "    .dataframe thead th {\n",
              "        text-align: right;\n",
              "    }\n",
              "</style>\n",
              "<table border=\"1\" class=\"dataframe\">\n",
              "  <thead>\n",
              "    <tr style=\"text-align: right;\">\n",
              "      <th></th>\n",
              "      <th>ProviderNumber</th>\n",
              "      <th>HospitalName</th>\n",
              "      <th>Address1</th>\n",
              "      <th>City</th>\n",
              "      <th>State</th>\n",
              "      <th>ZipCode</th>\n",
              "      <th>CountyName</th>\n",
              "      <th>PhoneNumber</th>\n",
              "      <th>HospitalType</th>\n",
              "    </tr>\n",
              "  </thead>\n",
              "  <tbody>\n",
              "    <tr>\n",
              "      <th>0</th>\n",
              "      <td>10022.0</td>\n",
              "      <td>WEDOWEE HOSPITAL</td>\n",
              "      <td>400 NORTHWOOD DR</td>\n",
              "      <td>CENTRE</td>\n",
              "      <td>AL</td>\n",
              "      <td>35960.0</td>\n",
              "      <td>CHEROKEE</td>\n",
              "      <td>2.569276e+09</td>\n",
              "      <td>Acute Care Hospitals</td>\n",
              "    </tr>\n",
              "    <tr>\n",
              "      <th>1</th>\n",
              "      <td>20017.0</td>\n",
              "      <td>ALASKA REGIONAL HOSPITAL</td>\n",
              "      <td>2801 DEBARR ROAD</td>\n",
              "      <td>ANCHORAGE</td>\n",
              "      <td>AK</td>\n",
              "      <td>99508.0</td>\n",
              "      <td>ANCHORAGE</td>\n",
              "      <td>9.072761e+09</td>\n",
              "      <td>Acute Care Hospitals</td>\n",
              "    </tr>\n",
              "  </tbody>\n",
              "</table>\n",
              "</div>"
            ],
            "text/plain": [
              "   ProviderNumber              HospitalName          Address1       City  \\\n",
              "0         10022.0          WEDOWEE HOSPITAL  400 NORTHWOOD DR     CENTRE   \n",
              "1         20017.0  ALASKA REGIONAL HOSPITAL  2801 DEBARR ROAD  ANCHORAGE   \n",
              "\n",
              "  State  ZipCode CountyName   PhoneNumber          HospitalType  \n",
              "0    AL  35960.0   CHEROKEE  2.569276e+09  Acute Care Hospitals  \n",
              "1    AK  99508.0  ANCHORAGE  9.072761e+09  Acute Care Hospitals  "
            ]
          },
          "metadata": {}
        }
      ],
      "execution_count": 23,
      "metadata": {}
    },
    {
      "cell_type": "markdown",
      "source": [
        "### Drop the State as it does not add anything new"
      ],
      "metadata": {}
    },
    {
      "cell_type": "code",
      "source": [
        "df.drop(columns=['State','HospitalType'], axis=1, inplace=True)"
      ],
      "outputs": [],
      "execution_count": 24,
      "metadata": {}
    },
    {
      "cell_type": "code",
      "source": [
        "df.head(2)"
      ],
      "outputs": [
        {
          "output_type": "execute_result",
          "execution_count": 25,
          "data": {
            "text/html": [
              "<div>\n",
              "<style scoped>\n",
              "    .dataframe tbody tr th:only-of-type {\n",
              "        vertical-align: middle;\n",
              "    }\n",
              "\n",
              "    .dataframe tbody tr th {\n",
              "        vertical-align: top;\n",
              "    }\n",
              "\n",
              "    .dataframe thead th {\n",
              "        text-align: right;\n",
              "    }\n",
              "</style>\n",
              "<table border=\"1\" class=\"dataframe\">\n",
              "  <thead>\n",
              "    <tr style=\"text-align: right;\">\n",
              "      <th></th>\n",
              "      <th>ProviderNumber</th>\n",
              "      <th>HospitalName</th>\n",
              "      <th>Address1</th>\n",
              "      <th>City</th>\n",
              "      <th>ZipCode</th>\n",
              "      <th>CountyName</th>\n",
              "      <th>PhoneNumber</th>\n",
              "    </tr>\n",
              "  </thead>\n",
              "  <tbody>\n",
              "    <tr>\n",
              "      <th>0</th>\n",
              "      <td>10022.0</td>\n",
              "      <td>WEDOWEE HOSPITAL</td>\n",
              "      <td>400 NORTHWOOD DR</td>\n",
              "      <td>CENTRE</td>\n",
              "      <td>35960.0</td>\n",
              "      <td>CHEROKEE</td>\n",
              "      <td>2.569276e+09</td>\n",
              "    </tr>\n",
              "    <tr>\n",
              "      <th>1</th>\n",
              "      <td>20017.0</td>\n",
              "      <td>ALASKA REGIONAL HOSPITAL</td>\n",
              "      <td>2801 DEBARR ROAD</td>\n",
              "      <td>ANCHORAGE</td>\n",
              "      <td>99508.0</td>\n",
              "      <td>ANCHORAGE</td>\n",
              "      <td>9.072761e+09</td>\n",
              "    </tr>\n",
              "  </tbody>\n",
              "</table>\n",
              "</div>"
            ],
            "text/plain": [
              "   ProviderNumber              HospitalName          Address1       City  \\\n",
              "0         10022.0          WEDOWEE HOSPITAL  400 NORTHWOOD DR     CENTRE   \n",
              "1         20017.0  ALASKA REGIONAL HOSPITAL  2801 DEBARR ROAD  ANCHORAGE   \n",
              "\n",
              "   ZipCode CountyName   PhoneNumber  \n",
              "0  35960.0   CHEROKEE  2.569276e+09  \n",
              "1  99508.0  ANCHORAGE  9.072761e+09  "
            ]
          },
          "metadata": {}
        }
      ],
      "execution_count": 25,
      "metadata": {}
    },
    {
      "cell_type": "markdown",
      "source": [
        "### Convert PhoneNumber and ProviderNumber to int"
      ],
      "metadata": {}
    },
    {
      "cell_type": "code",
      "source": [
        "df['ProviderNumber'] = df['ProviderNumber'].apply(lambda x: int(x))\n",
        "df['PhoneNumber'] = df['PhoneNumber'].apply(lambda x: int(x))\n",
        "df['ZipCode'] = df['ZipCode'].apply(lambda x: int(x))"
      ],
      "outputs": [],
      "execution_count": 26,
      "metadata": {}
    },
    {
      "cell_type": "code",
      "source": [
        "df.head(2)"
      ],
      "outputs": [
        {
          "output_type": "execute_result",
          "execution_count": 27,
          "data": {
            "text/html": [
              "<div>\n",
              "<style scoped>\n",
              "    .dataframe tbody tr th:only-of-type {\n",
              "        vertical-align: middle;\n",
              "    }\n",
              "\n",
              "    .dataframe tbody tr th {\n",
              "        vertical-align: top;\n",
              "    }\n",
              "\n",
              "    .dataframe thead th {\n",
              "        text-align: right;\n",
              "    }\n",
              "</style>\n",
              "<table border=\"1\" class=\"dataframe\">\n",
              "  <thead>\n",
              "    <tr style=\"text-align: right;\">\n",
              "      <th></th>\n",
              "      <th>ProviderNumber</th>\n",
              "      <th>HospitalName</th>\n",
              "      <th>Address1</th>\n",
              "      <th>City</th>\n",
              "      <th>ZipCode</th>\n",
              "      <th>CountyName</th>\n",
              "      <th>PhoneNumber</th>\n",
              "    </tr>\n",
              "  </thead>\n",
              "  <tbody>\n",
              "    <tr>\n",
              "      <th>0</th>\n",
              "      <td>10022</td>\n",
              "      <td>WEDOWEE HOSPITAL</td>\n",
              "      <td>400 NORTHWOOD DR</td>\n",
              "      <td>CENTRE</td>\n",
              "      <td>35960</td>\n",
              "      <td>CHEROKEE</td>\n",
              "      <td>2569275531</td>\n",
              "    </tr>\n",
              "    <tr>\n",
              "      <th>1</th>\n",
              "      <td>20017</td>\n",
              "      <td>ALASKA REGIONAL HOSPITAL</td>\n",
              "      <td>2801 DEBARR ROAD</td>\n",
              "      <td>ANCHORAGE</td>\n",
              "      <td>99508</td>\n",
              "      <td>ANCHORAGE</td>\n",
              "      <td>9072761131</td>\n",
              "    </tr>\n",
              "  </tbody>\n",
              "</table>\n",
              "</div>"
            ],
            "text/plain": [
              "   ProviderNumber              HospitalName          Address1       City  \\\n",
              "0           10022          WEDOWEE HOSPITAL  400 NORTHWOOD DR     CENTRE   \n",
              "1           20017  ALASKA REGIONAL HOSPITAL  2801 DEBARR ROAD  ANCHORAGE   \n",
              "\n",
              "   ZipCode CountyName  PhoneNumber  \n",
              "0    35960   CHEROKEE   2569275531  \n",
              "1    99508  ANCHORAGE   9072761131  "
            ]
          },
          "metadata": {}
        }
      ],
      "execution_count": 27,
      "metadata": {}
    },
    {
      "cell_type": "markdown",
      "source": [
        "### Convert each row to a space separated string"
      ],
      "metadata": {}
    },
    {
      "cell_type": "code",
      "source": [
        "dfList = df.values.tolist()"
      ],
      "outputs": [],
      "execution_count": 28,
      "metadata": {}
    },
    {
      "cell_type": "code",
      "source": [
        "rows = []\n",
        "for row in dfList:\n",
        "    combined = ','.join([str(x) for x in row])\n",
        "    rows.append(combined)"
      ],
      "outputs": [],
      "execution_count": 29,
      "metadata": {}
    },
    {
      "cell_type": "code",
      "source": [
        "len(rows)"
      ],
      "outputs": [
        {
          "output_type": "execute_result",
          "execution_count": 30,
          "data": {
            "text/plain": [
              "2100"
            ]
          },
          "metadata": {}
        }
      ],
      "execution_count": 30,
      "metadata": {}
    },
    {
      "cell_type": "code",
      "source": [
        "rows[0]"
      ],
      "outputs": [
        {
          "output_type": "execute_result",
          "execution_count": 31,
          "data": {
            "text/plain": [
              "'10022,WEDOWEE HOSPITAL,400 NORTHWOOD DR,CENTRE,35960,CHEROKEE,2569275531'"
            ]
          },
          "metadata": {}
        }
      ],
      "execution_count": 31,
      "metadata": {}
    },
    {
      "cell_type": "code",
      "source": [
        "max([len(r) for r in rows])"
      ],
      "outputs": [
        {
          "output_type": "execute_result",
          "execution_count": 32,
          "data": {
            "text/plain": [
              "105"
            ]
          },
          "metadata": {}
        }
      ],
      "execution_count": 32,
      "metadata": {}
    },
    {
      "cell_type": "markdown",
      "source": [
        "### Save the dataset"
      ],
      "metadata": {}
    },
    {
      "cell_type": "code",
      "source": [
        "df.to_csv(\"HospitalTrainingData.csv\", encoding='utf8', index=False)"
      ],
      "outputs": [],
      "execution_count": 33,
      "metadata": {}
    },
    {
      "cell_type": "markdown",
      "source": [
        "## Tokenize the data"
      ],
      "metadata": {}
    },
    {
      "cell_type": "markdown",
      "source": [
        "Since the max length of a row is 110, we can set the maxSequenceLength as 110."
      ],
      "metadata": {}
    },
    {
      "cell_type": "code",
      "source": [
        "maxSequenceLength = 105\n",
        "maxWords = 2500"
      ],
      "outputs": [],
      "execution_count": 34,
      "metadata": {}
    },
    {
      "cell_type": "code",
      "source": [
        "tokenizer = Tokenizer(num_words=maxWords, split=',')"
      ],
      "outputs": [],
      "execution_count": 35,
      "metadata": {}
    },
    {
      "cell_type": "code",
      "source": [
        "tokenizer.fit_on_texts(rows)\n",
        "sequences = tokenizer.texts_to_sequences(rows)\n",
        "word_index = tokenizer.word_index"
      ],
      "outputs": [],
      "execution_count": 36,
      "metadata": {}
    },
    {
      "cell_type": "code",
      "source": [
        "len(word_index)"
      ],
      "outputs": [
        {
          "output_type": "execute_result",
          "execution_count": 37,
          "data": {
            "text/plain": [
              "392"
            ]
          },
          "metadata": {}
        }
      ],
      "execution_count": 37,
      "metadata": {}
    },
    {
      "cell_type": "code",
      "source": [
        "data = pad_sequences(sequences, maxlen=maxSequenceLength)"
      ],
      "outputs": [],
      "execution_count": 38,
      "metadata": {}
    },
    {
      "cell_type": "code",
      "source": [
        "data.shape"
      ],
      "outputs": [
        {
          "output_type": "execute_result",
          "execution_count": 39,
          "data": {
            "text/plain": [
              "(2100, 105)"
            ]
          },
          "metadata": {}
        }
      ],
      "execution_count": 39,
      "metadata": {}
    },
    {
      "cell_type": "code",
      "source": [
        "labels.shape"
      ],
      "outputs": [
        {
          "output_type": "execute_result",
          "execution_count": 40,
          "data": {
            "text/plain": [
              "(2100,)"
            ]
          },
          "metadata": {}
        }
      ],
      "execution_count": 40,
      "metadata": {}
    },
    {
      "cell_type": "markdown",
      "source": [
        "## Train test split"
      ],
      "metadata": {}
    },
    {
      "cell_type": "code",
      "source": [
        "indices = np.arange(data.shape[0])\n",
        "np.random.shuffle(indices)"
      ],
      "outputs": [],
      "execution_count": 41,
      "metadata": {}
    },
    {
      "cell_type": "code",
      "source": [
        "data = data[indices]\n",
        "labels = labels[indices]"
      ],
      "outputs": [],
      "execution_count": 42,
      "metadata": {}
    },
    {
      "cell_type": "code",
      "source": [
        "X_train, X_test, y_train, y_test = train_test_split(data, labels, test_size=0.2, random_state=22, stratify=labels)"
      ],
      "outputs": [],
      "execution_count": 43,
      "metadata": {}
    },
    {
      "cell_type": "code",
      "source": [
        "len(X_train), len(y_train)"
      ],
      "outputs": [
        {
          "output_type": "execute_result",
          "execution_count": 44,
          "data": {
            "text/plain": [
              "(1680, 1680)"
            ]
          },
          "metadata": {}
        }
      ],
      "execution_count": 44,
      "metadata": {}
    },
    {
      "cell_type": "code",
      "source": [
        "len(X_test), len(y_test)"
      ],
      "outputs": [
        {
          "output_type": "execute_result",
          "execution_count": 45,
          "data": {
            "text/plain": [
              "(420, 420)"
            ]
          },
          "metadata": {}
        }
      ],
      "execution_count": 45,
      "metadata": {}
    },
    {
      "cell_type": "markdown",
      "source": [
        "## Model\n",
        "**Architecture**\n",
        "* 1 Embedding layer\n",
        "* 1 Bidirectional LSTM layer\n",
        "* 1 output layer, _sigmoid_ activation\n",
        "* Optimizer: Adam (learning rate = 0.01)\n",
        "* Loss function: Binary crossentropy loss"
      ],
      "metadata": {}
    },
    {
      "cell_type": "code",
      "source": [
        "embeddingDim = 100"
      ],
      "outputs": [],
      "execution_count": 46,
      "metadata": {}
    },
    {
      "cell_type": "code",
      "source": [
        "model = models.Sequential()\n",
        "model.add(layers.Embedding(2500, embeddingDim, input_length=maxSequenceLength))\n",
        "model.add(layers.Bidirectional(layers.LSTM(32)))\n",
        "model.add(layers.Dense(1, activation=activations.sigmoid))\n",
        "model.compile(optimizer=optimizers.Adam(lr=0.01), loss=losses.binary_crossentropy, metrics=[metrics.binary_accuracy])"
      ],
      "outputs": [],
      "execution_count": 48,
      "metadata": {}
    },
    {
      "cell_type": "code",
      "source": [
        "model.summary()"
      ],
      "outputs": [
        {
          "output_type": "stream",
          "name": "stdout",
          "text": [
            "_________________________________________________________________\n",
            "Layer (type)                 Output Shape              Param #   \n",
            "=================================================================\n",
            "embedding_1 (Embedding)      (None, 105, 110)          275000    \n",
            "_________________________________________________________________\n",
            "bidirectional_1 (Bidirection (None, 64)                36608     \n",
            "_________________________________________________________________\n",
            "dense_1 (Dense)              (None, 1)                 65        \n",
            "=================================================================\n",
            "Total params: 311,673\n",
            "Trainable params: 311,673\n",
            "Non-trainable params: 0\n",
            "_________________________________________________________________\n"
          ]
        }
      ],
      "execution_count": 49,
      "metadata": {}
    },
    {
      "cell_type": "code",
      "source": [
        "history = model.fit(X_train, y_train,\n",
        "                    epochs=35,\n",
        "                    batch_size=32, \n",
        "                    validation_split=0.2)"
      ],
      "outputs": [
        {
          "output_type": "stream",
          "name": "stdout",
          "text": [
            "Train on 1344 samples, validate on 336 samples\n",
            "Epoch 1/35\n",
            "1344/1344 [==============================] - 16s 12ms/step - loss: 0.7010 - binary_accuracy: 0.4918 - val_loss: 0.6941 - val_binary_accuracy: 0.5208\n",
            "Epoch 2/35\n",
            "1344/1344 [==============================] - 13s 10ms/step - loss: 0.6889 - binary_accuracy: 0.5588 - val_loss: 0.7058 - val_binary_accuracy: 0.4792\n",
            "Epoch 3/35\n",
            "1344/1344 [==============================] - 13s 10ms/step - loss: 0.6525 - binary_accuracy: 0.6101 - val_loss: 0.6673 - val_binary_accuracy: 0.5625\n",
            "Epoch 4/35\n",
            "1344/1344 [==============================] - 13s 10ms/step - loss: 0.5628 - binary_accuracy: 0.6949 - val_loss: 0.6467 - val_binary_accuracy: 0.6280\n",
            "Epoch 5/35\n",
            "1344/1344 [==============================] - 13s 10ms/step - loss: 0.5359 - binary_accuracy: 0.7158 - val_loss: 0.6672 - val_binary_accuracy: 0.6280\n",
            "Epoch 6/35\n",
            "1344/1344 [==============================] - 14s 10ms/step - loss: 0.4792 - binary_accuracy: 0.7552 - val_loss: 0.6289 - val_binary_accuracy: 0.6548\n",
            "Epoch 7/35\n",
            "1344/1344 [==============================] - 15s 11ms/step - loss: 0.4700 - binary_accuracy: 0.7664 - val_loss: 0.6745 - val_binary_accuracy: 0.6637\n",
            "Epoch 8/35\n",
            "1344/1344 [==============================] - 15s 11ms/step - loss: 0.4480 - binary_accuracy: 0.7768 - val_loss: 0.6205 - val_binary_accuracy: 0.6875\n",
            "Epoch 9/35\n",
            "1344/1344 [==============================] - 15s 11ms/step - loss: 0.4387 - binary_accuracy: 0.7857 - val_loss: 0.6274 - val_binary_accuracy: 0.6875\n",
            "Epoch 10/35\n",
            "1344/1344 [==============================] - 15s 11ms/step - loss: 0.4131 - binary_accuracy: 0.8036 - val_loss: 0.5695 - val_binary_accuracy: 0.6905\n",
            "Epoch 11/35\n",
            "1344/1344 [==============================] - 15s 11ms/step - loss: 0.4346 - binary_accuracy: 0.7991 - val_loss: 0.6584 - val_binary_accuracy: 0.6845\n",
            "Epoch 12/35\n",
            "1344/1344 [==============================] - 15s 11ms/step - loss: 0.4254 - binary_accuracy: 0.8021 - val_loss: 0.6055 - val_binary_accuracy: 0.6815\n",
            "Epoch 13/35\n",
            "1344/1344 [==============================] - 13s 10ms/step - loss: 0.4094 - binary_accuracy: 0.8073 - val_loss: 0.6352 - val_binary_accuracy: 0.7054\n",
            "Epoch 14/35\n",
            "1344/1344 [==============================] - 13s 10ms/step - loss: 0.4051 - binary_accuracy: 0.8140 - val_loss: 0.5935 - val_binary_accuracy: 0.6786\n",
            "Epoch 15/35\n",
            "1344/1344 [==============================] - 13s 10ms/step - loss: 0.3914 - binary_accuracy: 0.8162 - val_loss: 0.5825 - val_binary_accuracy: 0.7083\n",
            "Epoch 16/35\n",
            "1344/1344 [==============================] - 14s 11ms/step - loss: 0.3712 - binary_accuracy: 0.8259 - val_loss: 0.5851 - val_binary_accuracy: 0.7083\n",
            "Epoch 17/35\n",
            "1344/1344 [==============================] - 17s 13ms/step - loss: 0.3695 - binary_accuracy: 0.8423 - val_loss: 0.5773 - val_binary_accuracy: 0.7351\n",
            "Epoch 18/35\n",
            "1344/1344 [==============================] - 15s 11ms/step - loss: 0.3648 - binary_accuracy: 0.8415 - val_loss: 0.6189 - val_binary_accuracy: 0.7262\n",
            "Epoch 19/35\n",
            "1344/1344 [==============================] - 14s 10ms/step - loss: 0.3571 - binary_accuracy: 0.8490 - val_loss: 0.5784 - val_binary_accuracy: 0.7351\n",
            "Epoch 20/35\n",
            "1344/1344 [==============================] - 15s 11ms/step - loss: 0.3570 - binary_accuracy: 0.8467 - val_loss: 0.6155 - val_binary_accuracy: 0.7351\n",
            "Epoch 21/35\n",
            "1344/1344 [==============================] - 17s 12ms/step - loss: 0.3592 - binary_accuracy: 0.8408 - val_loss: 0.6347 - val_binary_accuracy: 0.7232\n",
            "Epoch 22/35\n",
            "1344/1344 [==============================] - 16s 12ms/step - loss: 0.3644 - binary_accuracy: 0.8378 - val_loss: 0.5929 - val_binary_accuracy: 0.7024\n",
            "Epoch 23/35\n",
            "1344/1344 [==============================] - 16s 12ms/step - loss: 0.3541 - binary_accuracy: 0.8490 - val_loss: 0.6038 - val_binary_accuracy: 0.7113\n",
            "Epoch 24/35\n",
            "1344/1344 [==============================] - 15s 11ms/step - loss: 0.3450 - binary_accuracy: 0.8527 - val_loss: 0.6511 - val_binary_accuracy: 0.6964\n",
            "Epoch 25/35\n",
            "1344/1344 [==============================] - 15s 11ms/step - loss: 0.3477 - binary_accuracy: 0.8534 - val_loss: 0.5860 - val_binary_accuracy: 0.7351\n",
            "Epoch 26/35\n",
            "1344/1344 [==============================] - 15s 11ms/step - loss: 0.3368 - binary_accuracy: 0.8579 - val_loss: 0.6049 - val_binary_accuracy: 0.7351\n",
            "Epoch 27/35\n",
            "1344/1344 [==============================] - 15s 11ms/step - loss: 0.3622 - binary_accuracy: 0.8527 - val_loss: 0.5923 - val_binary_accuracy: 0.7292\n",
            "Epoch 28/35\n",
            "1344/1344 [==============================] - 15s 11ms/step - loss: 0.3428 - binary_accuracy: 0.8564 - val_loss: 0.5908 - val_binary_accuracy: 0.7173\n",
            "Epoch 29/35\n",
            "1344/1344 [==============================] - 14s 11ms/step - loss: 0.3358 - binary_accuracy: 0.8519 - val_loss: 0.6085 - val_binary_accuracy: 0.7202\n",
            "Epoch 30/35\n",
            "1344/1344 [==============================] - 15s 11ms/step - loss: 0.3231 - binary_accuracy: 0.8676 - val_loss: 0.5990 - val_binary_accuracy: 0.7202\n",
            "Epoch 31/35\n",
            "1344/1344 [==============================] - 14s 10ms/step - loss: 0.3178 - binary_accuracy: 0.8668 - val_loss: 0.6211 - val_binary_accuracy: 0.7143\n",
            "Epoch 32/35\n",
            "1344/1344 [==============================] - 15s 11ms/step - loss: 0.3150 - binary_accuracy: 0.8705 - val_loss: 0.5678 - val_binary_accuracy: 0.7470\n",
            "Epoch 33/35\n",
            "1344/1344 [==============================] - 13s 10ms/step - loss: 0.3077 - binary_accuracy: 0.8757 - val_loss: 0.5719 - val_binary_accuracy: 0.7321\n",
            "Epoch 34/35\n",
            "1344/1344 [==============================] - 13s 10ms/step - loss: 0.3018 - binary_accuracy: 0.8817 - val_loss: 0.5919 - val_binary_accuracy: 0.7411\n",
            "Epoch 35/35\n",
            "1344/1344 [==============================] - 13s 10ms/step - loss: 0.3047 - binary_accuracy: 0.8750 - val_loss: 0.5736 - val_binary_accuracy: 0.7560\n"
          ]
        }
      ],
      "execution_count": 50,
      "metadata": {}
    },
    {
      "cell_type": "code",
      "source": [
        "acc = history.history['binary_accuracy']\n",
        "val_acc = history.history['val_binary_accuracy']\n",
        "\n",
        "loss = history.history['loss']\n",
        "val_loss = history.history['val_loss']\n",
        "\n",
        "epochs = range(1, len(acc) + 1)\n",
        "plt.plot(epochs, acc, 'bo', label='Training acc')\n",
        "plt.plot(epochs, val_acc, 'b', label='Validation acc')\n",
        "plt.title('Training and validation accuracy')\n",
        "plt.xlabel(\"Epochs\")\n",
        "plt.ylabel(\"Accuracy\")\n",
        "plt.legend()\n",
        "\n",
        "plt.figure()\n",
        "\n",
        "plt.plot(epochs, loss, 'bo', label='Training loss')\n",
        "plt.plot(epochs, val_loss, 'b', label='Validation loss')\n",
        "plt.title('Training and validation loss')\n",
        "plt.xlabel(\"Epochs\")\n",
        "plt.ylabel(\"Loss\")\n",
        "plt.legend()\n",
        "plt.show();"
      ],
      "outputs": [
        {
          "output_type": "display_data",
          "data": {
            "image/png": "[encoded data removed]",
            "text/plain": [
              "<matplotlib.figure.Figure at 0x1c9e072b0b8>"
            ]
          },
          "metadata": {}
        },
        {
          "output_type": "display_data",
          "data": {
            "image/png": "[encoded data removed]",
            "text/plain": [
              "<matplotlib.figure.Figure at 0x1c9df2e4ba8>"
            ]
          },
          "metadata": {}
        }
      ],
      "execution_count": 51,
      "metadata": {}
    },
    {
      "cell_type": "markdown",
      "source": [
        "## Evaluation on test set"
      ],
      "metadata": {}
    },
    {
      "cell_type": "code",
      "source": [
        "results = model.evaluate(X_test, y_test)"
      ],
      "outputs": [
        {
          "output_type": "stream",
          "name": "stdout",
          "text": [
            "420/420 [==============================] - 1s 2ms/step\n"
          ]
        }
      ],
      "execution_count": 52,
      "metadata": {}
    },
    {
      "cell_type": "code",
      "source": [
        "loss = results[0]\n",
        "accuracy = results[1]"
      ],
      "outputs": [],
      "execution_count": 53,
      "metadata": {}
    },
    {
      "cell_type": "code",
      "source": [
        "loss"
      ],
      "outputs": [
        {
          "output_type": "execute_result",
          "execution_count": 54,
          "data": {
            "text/plain": [
              "0.5175001235235305"
            ]
          },
          "metadata": {}
        }
      ],
      "execution_count": 54,
      "metadata": {}
    },
    {
      "cell_type": "code",
      "source": [
        "accuracy"
      ],
      "outputs": [
        {
          "output_type": "execute_result",
          "execution_count": 55,
          "data": {
            "text/plain": [
              "0.7833333333333333"
            ]
          },
          "metadata": {}
        }
      ],
      "execution_count": 55,
      "metadata": {}
    },
    {
      "cell_type": "markdown",
      "source": [
        "## Save the model and tokenizer"
      ],
      "metadata": {}
    },
    {
      "cell_type": "code",
      "source": [
        "model.save(\"HospitalErrorDetectionClassifier.h5\")"
      ],
      "outputs": [],
      "execution_count": 56,
      "metadata": {}
    },
    {
      "cell_type": "code",
      "source": [
        "with open('HospitalErrorDetectionTokenizer.pickle', 'wb') as handle:\n",
        "    pickle.dump(tokenizer, handle, protocol=pickle.HIGHEST_PROTOCOL, fix_imports=True)"
      ],
      "outputs": [],
      "execution_count": 57,
      "metadata": {}
    },
    {
      "cell_type": "code",
      "source": [],
      "outputs": [],
      "execution_count": null,
      "metadata": {}
    }
  ],
  "metadata": {
    "kernelspec": {
      "name": "python3",
      "language": "python",
      "display_name": "Python 3"
    },
    "language_info": {
      "codemirror_mode": {
        "name": "ipython",
        "version": 3
      },
      "mimetype": "text/x-python",
      "nbconvert_exporter": "python",
      "pygments_lexer": "ipython3",
      "name": "python",
      "file_extension": ".py",
      "version": "3.5.0"
    },
    "toc": {
      "toc_position": {},
      "skip_h1_title": true,
      "number_sections": true,
      "title_cell": "Table of Contents",
      "toc_window_display": false,
      "toc_section_display": true,
      "title_sidebar": "Contents",
      "toc_cell": false,
      "nav_menu": {},
      "sideBar": true
    },
    "kernel_info": {
      "name": "python3"
    },
    "nteract": {
      "version": "0.8.4"
    }
  },
  "nbformat": 4,
  "nbformat_minor": 2
}