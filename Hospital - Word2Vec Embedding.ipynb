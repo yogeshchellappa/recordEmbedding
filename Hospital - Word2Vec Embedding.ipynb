{
 "cells": [
  {
   "cell_type": "code",
   "execution_count": 13,
   "metadata": {},
   "outputs": [],
   "source": [
    "import warnings\n",
    "warnings.filterwarnings('ignore')\n",
    "\n",
    "from gensim.models import Word2Vec\n",
    "import gensim\n",
    "import pandas as pd"
   ]
  },
  {
   "cell_type": "markdown",
   "metadata": {},
   "source": [
    "## Read Data\n",
    "Read the hospital dataset"
   ]
  },
  {
   "cell_type": "code",
   "execution_count": 14,
   "metadata": {},
   "outputs": [],
   "source": [
    "df = pd.read_csv(\"CleanHospitalDataset.csv\",dtype=object, encoding='utf8')"
   ]
  },
  {
   "cell_type": "markdown",
   "metadata": {},
   "source": [
    "Drop some columns"
   ]
  },
  {
   "cell_type": "code",
   "execution_count": 15,
   "metadata": {},
   "outputs": [],
   "source": [
    "df.drop(columns=['HospitalType','label','State'], axis=1, inplace=True)"
   ]
  },
  {
   "cell_type": "code",
   "execution_count": 16,
   "metadata": {},
   "outputs": [
    {
     "data": {
      "text/html": [
       "<div>\n",
       "<style scoped>\n",
       "    .dataframe tbody tr th:only-of-type {\n",
       "        vertical-align: middle;\n",
       "    }\n",
       "\n",
       "    .dataframe tbody tr th {\n",
       "        vertical-align: top;\n",
       "    }\n",
       "\n",
       "    .dataframe thead th {\n",
       "        text-align: right;\n",
       "    }\n",
       "</style>\n",
       "<table border=\"1\" class=\"dataframe\">\n",
       "  <thead>\n",
       "    <tr style=\"text-align: right;\">\n",
       "      <th></th>\n",
       "      <th>ProviderNumber</th>\n",
       "      <th>HospitalName</th>\n",
       "      <th>Address1</th>\n",
       "      <th>City</th>\n",
       "      <th>ZipCode</th>\n",
       "      <th>CountyName</th>\n",
       "      <th>PhoneNumber</th>\n",
       "    </tr>\n",
       "  </thead>\n",
       "  <tbody>\n",
       "    <tr>\n",
       "      <th>0</th>\n",
       "      <td>10010.0</td>\n",
       "      <td>MARSHALL MEDICAL CENTER NORTH</td>\n",
       "      <td>8000 ALABAMA HIGHWAY 69</td>\n",
       "      <td>GUNTERSVILLE</td>\n",
       "      <td>35976.0</td>\n",
       "      <td>MARSHALL</td>\n",
       "      <td>2565718000.0</td>\n",
       "    </tr>\n",
       "    <tr>\n",
       "      <th>1</th>\n",
       "      <td>10018.0</td>\n",
       "      <td>CALLAHAN EYE FOUNDATION HOSPITAL</td>\n",
       "      <td>1720 UNIVERSITY BLVD</td>\n",
       "      <td>BIRMINGHAM</td>\n",
       "      <td>35233.0</td>\n",
       "      <td>JEFFERSON</td>\n",
       "      <td>2053258100.0</td>\n",
       "    </tr>\n",
       "    <tr>\n",
       "      <th>2</th>\n",
       "      <td>10005.0</td>\n",
       "      <td>MARSHALL MEDICAL CENTER SOUTH</td>\n",
       "      <td>2505 U S HIGHWAY 431 NORTH</td>\n",
       "      <td>BOAZ</td>\n",
       "      <td>35957.0</td>\n",
       "      <td>MARSHALL</td>\n",
       "      <td>2565938310.0</td>\n",
       "    </tr>\n",
       "  </tbody>\n",
       "</table>\n",
       "</div>"
      ],
      "text/plain": [
       "  ProviderNumber                      HospitalName  \\\n",
       "0        10010.0     MARSHALL MEDICAL CENTER NORTH   \n",
       "1        10018.0  CALLAHAN EYE FOUNDATION HOSPITAL   \n",
       "2        10005.0     MARSHALL MEDICAL CENTER SOUTH   \n",
       "\n",
       "                     Address1          City  ZipCode CountyName   PhoneNumber  \n",
       "0     8000 ALABAMA HIGHWAY 69  GUNTERSVILLE  35976.0   MARSHALL  2565718000.0  \n",
       "1        1720 UNIVERSITY BLVD    BIRMINGHAM  35233.0  JEFFERSON  2053258100.0  \n",
       "2  2505 U S HIGHWAY 431 NORTH          BOAZ  35957.0   MARSHALL  2565938310.0  "
      ]
     },
     "execution_count": 16,
     "metadata": {},
     "output_type": "execute_result"
    }
   ],
   "source": [
    "df.head(3)"
   ]
  },
  {
   "cell_type": "markdown",
   "metadata": {},
   "source": [
    "## Word2Vec Embedding using the Gensim library\n",
    "Details here: https://radimrehurek.com/gensim/"
   ]
  },
  {
   "cell_type": "code",
   "execution_count": 21,
   "metadata": {},
   "outputs": [],
   "source": [
    "dfList = df.values.tolist()"
   ]
  },
  {
   "cell_type": "code",
   "execution_count": 22,
   "metadata": {},
   "outputs": [
    {
     "data": {
      "text/plain": [
       "['10010.0',\n",
       " 'MARSHALL MEDICAL CENTER NORTH',\n",
       " '8000 ALABAMA HIGHWAY 69',\n",
       " 'GUNTERSVILLE',\n",
       " '35976.0',\n",
       " 'MARSHALL',\n",
       " '2565718000.0']"
      ]
     },
     "execution_count": 22,
     "metadata": {},
     "output_type": "execute_result"
    }
   ],
   "source": [
    "dfList[0]"
   ]
  },
  {
   "cell_type": "code",
   "execution_count": 30,
   "metadata": {},
   "outputs": [],
   "source": [
    "model = Word2Vec(dfList, sg=1, min_count=1, workers=8, iter=1000)"
   ]
  },
  {
   "cell_type": "code",
   "execution_count": 31,
   "metadata": {},
   "outputs": [
    {
     "name": "stdout",
     "output_type": "stream",
     "text": [
      "Word2Vec(vocab=290, size=100, alpha=0.025)\n"
     ]
    }
   ],
   "source": [
    "print(model)"
   ]
  },
  {
   "cell_type": "code",
   "execution_count": 32,
   "metadata": {},
   "outputs": [
    {
     "name": "stdout",
     "output_type": "stream",
     "text": [
      "[ 0.28015396  0.67270994  0.05897688  0.3882662   0.15345225 -0.66589093\n",
      " -0.5086573  -0.7307402  -0.3469474   0.33925518  0.4040054  -0.61859894\n",
      "  0.15959984 -0.08647112  0.51934886 -0.09353971 -0.03737626 -0.32796264\n",
      " -0.59462076  0.2501607  -0.16681434  0.01185276  0.05536503 -0.2577797\n",
      "  1.062828   -0.01377765  0.24413258 -1.1415213  -0.68854403  0.36911756\n",
      "  0.74875265  0.7915137   0.22407663  0.38077387 -0.37331286 -0.5106162\n",
      " -0.29592186 -0.01364974 -1.1080453   0.41543797  0.39068523  0.30605334\n",
      " -0.06956508  0.19091946  0.01477787  0.701142   -0.0766533   0.35646576\n",
      " -0.20961696  0.12696981 -0.04368572  0.60663366  0.5938642   0.8339353\n",
      " -0.13936827 -0.46371114  0.16852649 -0.38478106  0.10100531 -0.5005341\n",
      " -0.3102887  -0.5080409   0.11775506 -1.2270261  -0.06652959 -0.33105537\n",
      " -0.7119012  -0.09252274  0.33221057  0.14072865  0.60638607 -0.35021123\n",
      "  0.14298007 -0.6210703   0.1440423  -0.02986334 -1.0767307   0.4080048\n",
      " -0.15553091 -0.22331129 -0.1451298  -0.33230644  0.4629994   0.16210325\n",
      "  0.15451886 -0.23465593 -0.11998988 -0.17877585 -0.41642934  0.00146592\n",
      " -0.30730873 -0.54818714  1.1554277  -0.5634667   0.28677425  0.06960646\n",
      "  0.04944794 -0.4906959   0.1254978  -0.65630364]\n"
     ]
    }
   ],
   "source": [
    "print(model['GUNTERSVILLE'])"
   ]
  },
  {
   "cell_type": "code",
   "execution_count": 33,
   "metadata": {},
   "outputs": [
    {
     "data": {
      "text/plain": [
       "[('2565718000.0', 0.7305489778518677),\n",
       " ('35976.0', 0.7160881757736206),\n",
       " ('MARSHALL MEDICAL CENTER NORTH', 0.7085299491882324),\n",
       " ('10010.0', 0.7072579860687256),\n",
       " ('8000 ALABAMA HIGHWAY 69', 0.697823703289032),\n",
       " ('MARSHALL', 0.5123554468154907),\n",
       " ('2565938310.0', 0.4819216728210449),\n",
       " ('3347935000.0', 0.47281718254089355),\n",
       " ('SYLACAUGA', 0.46726685762405396),\n",
       " ('SHELBY BAPTIST MEDICAL CENTER', 0.4512130320072174)]"
      ]
     },
     "execution_count": 33,
     "metadata": {},
     "output_type": "execute_result"
    }
   ],
   "source": [
    "model.most_similar(\"GUNTERSVILLE\")"
   ]
  },
  {
   "cell_type": "code",
   "execution_count": 34,
   "metadata": {},
   "outputs": [],
   "source": [
    "model.save(\"HospitalWord2Vec.w2v\")"
   ]
  },
  {
   "cell_type": "code",
   "execution_count": null,
   "metadata": {},
   "outputs": [],
   "source": []
  }
 ],
 "metadata": {
  "kernelspec": {
   "display_name": "Python 3",
   "language": "python",
   "name": "python3"
  },
  "language_info": {
   "codemirror_mode": {
    "name": "ipython",
    "version": 3
   },
   "file_extension": ".py",
   "mimetype": "text/x-python",
   "name": "python",
   "nbconvert_exporter": "python",
   "pygments_lexer": "ipython3",
   "version": "3.5.0"
  },
  "toc": {
   "nav_menu": {},
   "number_sections": true,
   "sideBar": true,
   "skip_h1_title": false,
   "title_cell": "Table of Contents",
   "title_sidebar": "Contents",
   "toc_cell": false,
   "toc_position": {},
   "toc_section_display": true,
   "toc_window_display": false
  }
 },
 "nbformat": 4,
 "nbformat_minor": 2
}
