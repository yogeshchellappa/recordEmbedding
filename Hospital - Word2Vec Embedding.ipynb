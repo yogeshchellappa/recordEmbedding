{
 "cells": [
  {
   "cell_type": "code",
   "execution_count": 1,
   "metadata": {},
   "outputs": [],
   "source": [
    "import warnings\n",
    "warnings.filterwarnings('ignore')\n",
    "\n",
    "from gensim.models import Word2Vec\n",
    "import gensim\n",
    "import pandas as pd"
   ]
  },
  {
   "cell_type": "markdown",
   "metadata": {},
   "source": [
    "## Read Data\n",
    "Read the hospital dataset"
   ]
  },
  {
   "cell_type": "code",
   "execution_count": 2,
   "metadata": {},
   "outputs": [],
   "source": [
    "df = pd.read_csv(\"CleanHospitalDataset.csv\",dtype=object, encoding='utf8')"
   ]
  },
  {
   "cell_type": "markdown",
   "metadata": {},
   "source": [
    "Drop some columns"
   ]
  },
  {
   "cell_type": "code",
   "execution_count": 3,
   "metadata": {},
   "outputs": [],
   "source": [
    "df.drop(columns=['HospitalType','label','State'], axis=1, inplace=True)"
   ]
  },
  {
   "cell_type": "code",
   "execution_count": 4,
   "metadata": {},
   "outputs": [],
   "source": [
    "df['ProviderNumber'] = df['ProviderNumber'].apply(lambda x: str(int(float(x))))\n",
    "df['ZipCode'] = df['ZipCode'].apply(lambda x: str(int(float(x))))\n",
    "df['PhoneNumber'] = df['PhoneNumber'].apply(lambda x: str(int(float(x))))"
   ]
  },
  {
   "cell_type": "code",
   "execution_count": 5,
   "metadata": {},
   "outputs": [
    {
     "data": {
      "text/html": [
       "<div>\n",
       "<style scoped>\n",
       "    .dataframe tbody tr th:only-of-type {\n",
       "        vertical-align: middle;\n",
       "    }\n",
       "\n",
       "    .dataframe tbody tr th {\n",
       "        vertical-align: top;\n",
       "    }\n",
       "\n",
       "    .dataframe thead th {\n",
       "        text-align: right;\n",
       "    }\n",
       "</style>\n",
       "<table border=\"1\" class=\"dataframe\">\n",
       "  <thead>\n",
       "    <tr style=\"text-align: right;\">\n",
       "      <th></th>\n",
       "      <th>ProviderNumber</th>\n",
       "      <th>HospitalName</th>\n",
       "      <th>Address1</th>\n",
       "      <th>City</th>\n",
       "      <th>ZipCode</th>\n",
       "      <th>CountyName</th>\n",
       "      <th>PhoneNumber</th>\n",
       "    </tr>\n",
       "  </thead>\n",
       "  <tbody>\n",
       "    <tr>\n",
       "      <th>0</th>\n",
       "      <td>10010</td>\n",
       "      <td>MARSHALL MEDICAL CENTER NORTH</td>\n",
       "      <td>8000 ALABAMA HIGHWAY 69</td>\n",
       "      <td>GUNTERSVILLE</td>\n",
       "      <td>35976</td>\n",
       "      <td>MARSHALL</td>\n",
       "      <td>2565718000</td>\n",
       "    </tr>\n",
       "    <tr>\n",
       "      <th>1</th>\n",
       "      <td>10018</td>\n",
       "      <td>CALLAHAN EYE FOUNDATION HOSPITAL</td>\n",
       "      <td>1720 UNIVERSITY BLVD</td>\n",
       "      <td>BIRMINGHAM</td>\n",
       "      <td>35233</td>\n",
       "      <td>JEFFERSON</td>\n",
       "      <td>2053258100</td>\n",
       "    </tr>\n",
       "    <tr>\n",
       "      <th>2</th>\n",
       "      <td>10005</td>\n",
       "      <td>MARSHALL MEDICAL CENTER SOUTH</td>\n",
       "      <td>2505 U S HIGHWAY 431 NORTH</td>\n",
       "      <td>BOAZ</td>\n",
       "      <td>35957</td>\n",
       "      <td>MARSHALL</td>\n",
       "      <td>2565938310</td>\n",
       "    </tr>\n",
       "  </tbody>\n",
       "</table>\n",
       "</div>"
      ],
      "text/plain": [
       "  ProviderNumber                      HospitalName  \\\n",
       "0          10010     MARSHALL MEDICAL CENTER NORTH   \n",
       "1          10018  CALLAHAN EYE FOUNDATION HOSPITAL   \n",
       "2          10005     MARSHALL MEDICAL CENTER SOUTH   \n",
       "\n",
       "                     Address1          City ZipCode CountyName PhoneNumber  \n",
       "0     8000 ALABAMA HIGHWAY 69  GUNTERSVILLE   35976   MARSHALL  2565718000  \n",
       "1        1720 UNIVERSITY BLVD    BIRMINGHAM   35233  JEFFERSON  2053258100  \n",
       "2  2505 U S HIGHWAY 431 NORTH          BOAZ   35957   MARSHALL  2565938310  "
      ]
     },
     "execution_count": 5,
     "metadata": {},
     "output_type": "execute_result"
    }
   ],
   "source": [
    "df.head(3)"
   ]
  },
  {
   "cell_type": "markdown",
   "metadata": {},
   "source": [
    "## Word2Vec Embedding using the Gensim library\n",
    "Details here: https://radimrehurek.com/gensim/"
   ]
  },
  {
   "cell_type": "code",
   "execution_count": 6,
   "metadata": {},
   "outputs": [],
   "source": [
    "dfList = df.values.tolist()"
   ]
  },
  {
   "cell_type": "code",
   "execution_count": 7,
   "metadata": {},
   "outputs": [
    {
     "data": {
      "text/plain": [
       "['10010',\n",
       " 'MARSHALL MEDICAL CENTER NORTH',\n",
       " '8000 ALABAMA HIGHWAY 69',\n",
       " 'GUNTERSVILLE',\n",
       " '35976',\n",
       " 'MARSHALL',\n",
       " '2565718000']"
      ]
     },
     "execution_count": 7,
     "metadata": {},
     "output_type": "execute_result"
    }
   ],
   "source": [
    "dfList[0]"
   ]
  },
  {
   "cell_type": "code",
   "execution_count": 8,
   "metadata": {},
   "outputs": [],
   "source": [
    "model = Word2Vec(dfList, sg=1, min_count=1, workers=8, iter=1000)"
   ]
  },
  {
   "cell_type": "code",
   "execution_count": 9,
   "metadata": {},
   "outputs": [
    {
     "name": "stdout",
     "output_type": "stream",
     "text": [
      "Word2Vec(vocab=290, size=100, alpha=0.025)\n"
     ]
    }
   ],
   "source": [
    "print(model)"
   ]
  },
  {
   "cell_type": "code",
   "execution_count": 10,
   "metadata": {},
   "outputs": [
    {
     "name": "stdout",
     "output_type": "stream",
     "text": [
      "[-1.18269444e+00 -1.53516695e-01 -6.67893112e-01  1.14078276e-01\n",
      " -1.02166571e-01  2.89578941e-02  7.54176915e-01 -3.15352261e-01\n",
      "  2.04152569e-01 -4.41841722e-01 -1.03706010e-01 -6.33519292e-02\n",
      "  6.62308574e-01  3.35861355e-01 -8.13219547e-01  8.18809509e-01\n",
      "  8.37150991e-01 -9.47367176e-02  5.43013692e-01  6.47345603e-01\n",
      "  3.54598910e-01 -4.27394360e-01 -6.73981309e-02 -2.45719507e-01\n",
      " -3.09367657e-01 -5.78844666e-01  3.89155328e-01  2.72730201e-01\n",
      " -5.49294233e-01  5.01610875e-01 -3.92968595e-01 -8.68390501e-01\n",
      " -8.21652234e-01 -4.46468182e-02 -2.27550447e-01  8.45771313e-01\n",
      "  4.17783469e-01  6.16731882e-01 -1.60720184e-01  3.54099035e-01\n",
      "  6.11704364e-02 -1.48407415e-01  7.03394189e-02 -7.36055598e-02\n",
      " -2.05619141e-01  5.01227006e-02  4.48330104e-01 -5.31771421e-01\n",
      "  9.25755858e-01  3.53202730e-01 -5.14318526e-01  3.74753296e-01\n",
      "  1.97685555e-01 -8.09330404e-01 -1.86507896e-01 -1.43225072e-02\n",
      " -4.27477449e-01  4.82221454e-01 -5.67448996e-02  4.34218347e-01\n",
      "  7.01301396e-01  1.45253971e-01  6.48398325e-03 -2.55543381e-01\n",
      " -4.59455013e-01 -1.90644048e-03  1.13129333e-01 -2.80716550e-02\n",
      " -3.97131480e-02 -3.23186636e-01  3.79996359e-01 -1.22217333e+00\n",
      "  1.04295611e-01  2.28805672e-02  9.38380718e-01  4.46045786e-01\n",
      "  3.71589959e-01  8.87543894e-04  2.21499711e-01  4.33005065e-01\n",
      " -1.95270151e-01  4.49950486e-01 -1.56450972e-01  1.31718516e-01\n",
      " -2.33105551e-02  9.38828588e-02  5.22796690e-01 -4.28763181e-01\n",
      "  7.62452126e-01 -1.83014557e-01  4.15071249e-01 -4.59995955e-01\n",
      " -8.82665738e-02 -1.36045799e-01 -5.85942626e-01 -5.84536970e-01\n",
      " -3.34472954e-01  5.74511528e-01  2.00985242e-02 -1.42646849e-01]\n"
     ]
    }
   ],
   "source": [
    "print(model['GUNTERSVILLE'])"
   ]
  },
  {
   "cell_type": "code",
   "execution_count": 11,
   "metadata": {},
   "outputs": [
    {
     "data": {
      "text/plain": [
       "[('2565718000', 0.7183570861816406),\n",
       " ('35976', 0.7060916423797607),\n",
       " ('MARSHALL MEDICAL CENTER NORTH', 0.7010612487792969),\n",
       " ('10010', 0.6950193643569946),\n",
       " ('8000 ALABAMA HIGHWAY 69', 0.6867413520812988),\n",
       " ('MARSHALL', 0.5171394944190979),\n",
       " ('35007', 0.4418540298938751),\n",
       " ('3347493411', 0.4393554925918579),\n",
       " ('2565938310', 0.4391191601753235),\n",
       " ('10029', 0.430392861366272)]"
      ]
     },
     "execution_count": 11,
     "metadata": {},
     "output_type": "execute_result"
    }
   ],
   "source": [
    "model.most_similar(\"GUNTERSVILLE\")"
   ]
  },
  {
   "cell_type": "code",
   "execution_count": 12,
   "metadata": {},
   "outputs": [],
   "source": [
    "model.save(\"HospitalWord2Vec.w2v\")"
   ]
  },
  {
   "cell_type": "code",
   "execution_count": null,
   "metadata": {},
   "outputs": [],
   "source": []
  }
 ],
 "metadata": {
  "kernelspec": {
   "display_name": "Python 3",
   "language": "python",
   "name": "python3"
  },
  "language_info": {
   "codemirror_mode": {
    "name": "ipython",
    "version": 3
   },
   "file_extension": ".py",
   "mimetype": "text/x-python",
   "name": "python",
   "nbconvert_exporter": "python",
   "pygments_lexer": "ipython3",
   "version": "3.5.0"
  },
  "toc": {
   "nav_menu": {},
   "number_sections": true,
   "sideBar": true,
   "skip_h1_title": false,
   "title_cell": "Table of Contents",
   "title_sidebar": "Contents",
   "toc_cell": false,
   "toc_position": {},
   "toc_section_display": true,
   "toc_window_display": false
  }
 },
 "nbformat": 4,
 "nbformat_minor": 2
}
